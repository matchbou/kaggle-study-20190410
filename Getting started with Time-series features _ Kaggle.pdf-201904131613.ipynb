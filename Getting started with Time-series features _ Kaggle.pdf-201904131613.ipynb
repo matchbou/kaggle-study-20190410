{
  "nbformat": 4,
  "nbformat_minor": 0,
  "metadata": {
    "colab": {
      "name": "Colaboratory へようこそ",
      "version": "0.3.2",
      "provenance": [],
      "collapsed_sections": [],
      "include_colab_link": true
    },
    "kernelspec": {
      "name": "python3",
      "display_name": "Python 3"
    },
    "accelerator": "GPU"
  },
  "cells": [
    {
      "cell_type": "markdown",
      "metadata": {
        "id": "view-in-github",
        "colab_type": "text"
      },
      "source": [
        "<a href=\"https://colab.research.google.com/github/matchbou/kaggle-study-20190410/blob/master/Getting%20started%20with%20Time-series%20features%20_%20Kaggle.pdf-201904131613.ipynb\" target=\"_parent\"><img src=\"https://colab.research.google.com/assets/colab-badge.svg\" alt=\"Open In Colab\"/></a>"
      ]
    },
    {
      "metadata": {
        "id": "Z023-HUhB2cN",
        "colab_type": "code",
        "colab": {}
      },
      "cell_type": "code",
      "source": [
        "# https://www.kaggle.com/danofer/getting-started-with-time-series-features\n",
        "\n",
        "# Getting started with Time-series features _ Kaggle"
      ],
      "execution_count": 0,
      "outputs": []
    },
    {
      "metadata": {
        "id": "ZEwLQPLDBIEp",
        "colab_type": "code",
        "outputId": "b41efa29-5b04-407e-8894-ae4eaf570716",
        "colab": {
          "resources": {
            "http://localhost:8080/nbextensions/google.colab/files.js": {
              "data": "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",
              "ok": true,
              "headers": [
                [
                  "content-type",
                  "application/javascript"
                ]
              ],
              "status": 200,
              "status_text": ""
            }
          },
          "base_uri": "https://localhost:8080/",
          "height": 93
        }
      },
      "cell_type": "code",
      "source": [
        "from google.colab import files\n",
        "files.upload()"
      ],
      "execution_count": 2,
      "outputs": [
        {
          "output_type": "display_data",
          "data": {
            "text/html": [
              "\n",
              "     <input type=\"file\" id=\"files-4e5ec288-f474-425a-b3ad-78ca8d6c0b1d\" name=\"files[]\" multiple disabled />\n",
              "     <output id=\"result-4e5ec288-f474-425a-b3ad-78ca8d6c0b1d\">\n",
              "      Upload widget is only available when the cell has been executed in the\n",
              "      current browser session. Please rerun this cell to enable.\n",
              "      </output>\n",
              "      <script src=\"/nbextensions/google.colab/files.js\"></script> "
            ],
            "text/plain": [
              "<IPython.core.display.HTML object>"
            ]
          },
          "metadata": {
            "tags": []
          }
        },
        {
          "output_type": "stream",
          "text": [
            "Saving kaggle.json to kaggle.json\n"
          ],
          "name": "stdout"
        },
        {
          "output_type": "execute_result",
          "data": {
            "text/plain": [
              "{'kaggle.json': b'{\"username\":\"matchbou\",\"key\":\"b332de8173f61d7f1a987ce8d0178075\"}'}"
            ]
          },
          "metadata": {
            "tags": []
          },
          "execution_count": 2
        }
      ]
    },
    {
      "metadata": {
        "id": "Yml_BXJWB40d",
        "colab_type": "code",
        "colab": {}
      },
      "cell_type": "code",
      "source": [
        "!mkdir -p ~/.kaggle\n",
        "!cp kaggle.json ~/.kaggle/"
      ],
      "execution_count": 0,
      "outputs": []
    },
    {
      "metadata": {
        "id": "ZZASHTT4CBEV",
        "colab_type": "code",
        "outputId": "3b823014-4b86-4060-f7eb-d3be2b425caf",
        "colab": {
          "base_uri": "https://localhost:8080/",
          "height": 216
        }
      },
      "cell_type": "code",
      "source": [
        "!pip install kaggle"
      ],
      "execution_count": 4,
      "outputs": [
        {
          "output_type": "stream",
          "text": [
            "Requirement already satisfied: kaggle in /usr/local/lib/python3.6/dist-packages (1.5.3)\n",
            "Requirement already satisfied: urllib3<1.25,>=1.21.1 in /usr/local/lib/python3.6/dist-packages (from kaggle) (1.22)\n",
            "Requirement already satisfied: six>=1.10 in /usr/local/lib/python3.6/dist-packages (from kaggle) (1.11.0)\n",
            "Requirement already satisfied: certifi in /usr/local/lib/python3.6/dist-packages (from kaggle) (2019.3.9)\n",
            "Requirement already satisfied: python-dateutil in /usr/local/lib/python3.6/dist-packages (from kaggle) (2.5.3)\n",
            "Requirement already satisfied: requests in /usr/local/lib/python3.6/dist-packages (from kaggle) (2.18.4)\n",
            "Requirement already satisfied: tqdm in /usr/local/lib/python3.6/dist-packages (from kaggle) (4.28.1)\n",
            "Requirement already satisfied: python-slugify in /usr/local/lib/python3.6/dist-packages (from kaggle) (3.0.2)\n",
            "Requirement already satisfied: idna<2.7,>=2.5 in /usr/local/lib/python3.6/dist-packages (from requests->kaggle) (2.6)\n",
            "Requirement already satisfied: chardet<3.1.0,>=3.0.2 in /usr/local/lib/python3.6/dist-packages (from requests->kaggle) (3.0.4)\n",
            "Requirement already satisfied: text-unidecode==1.2 in /usr/local/lib/python3.6/dist-packages (from python-slugify->kaggle) (1.2)\n"
          ],
          "name": "stdout"
        }
      ]
    },
    {
      "metadata": {
        "id": "L3206XInCDO1",
        "colab_type": "code",
        "colab": {}
      },
      "cell_type": "code",
      "source": [
        "!chmod 600 /root/.kaggle/kaggle.json"
      ],
      "execution_count": 0,
      "outputs": []
    },
    {
      "metadata": {
        "id": "5EGQWTZXqCI8",
        "colab_type": "code",
        "colab": {}
      },
      "cell_type": "code",
      "source": [
        "# kaggleデータ置き場とjupyernoteのカレントディレクトリフォルダを作成\n",
        "\n",
        "!mkdir ./input\n",
        "!mkdir ./notebook"
      ],
      "execution_count": 0,
      "outputs": []
    },
    {
      "metadata": {
        "id": "ZkpuriyVCYfV",
        "colab_type": "code",
        "colab": {}
      },
      "cell_type": "code",
      "source": [
        "#osライブラリ読込してinputに移動⇒kaggleデータもダウンロード　⇒ notebookフォルダに移動\n",
        "import os\n",
        "os.chdir('input')\n",
        "\n"
      ],
      "execution_count": 0,
      "outputs": []
    },
    {
      "metadata": {
        "id": "kST5vn2BPMpw",
        "colab_type": "code",
        "outputId": "4fa5b055-66c9-4c6d-9c8c-0722fa100ad2",
        "colab": {
          "base_uri": "https://localhost:8080/",
          "height": 163
        }
      },
      "cell_type": "code",
      "source": [
        "#https://www.kaggle.com/c/titanic/data\n",
        "!kaggle competitions download -c demand-forecasting-kernels-only"
      ],
      "execution_count": 8,
      "outputs": [
        {
          "output_type": "stream",
          "text": [
            "Downloading sample_submission.csv.zip to /content/input\n",
            "\r  0% 0.00/101k [00:00<?, ?B/s]\n",
            "100% 101k/101k [00:00<00:00, 60.3MB/s]\n",
            "Downloading test.csv.zip to /content/input\n",
            "  0% 0.00/135k [00:00<?, ?B/s]\n",
            "100% 135k/135k [00:00<00:00, 39.0MB/s]\n",
            "Downloading train.csv.zip to /content/input\n",
            "  0% 0.00/3.08M [00:00<?, ?B/s]\n",
            "100% 3.08M/3.08M [00:00<00:00, 101MB/s]\n"
          ],
          "name": "stdout"
        }
      ]
    },
    {
      "metadata": {
        "id": "5ql7TrzFPWlQ",
        "colab_type": "code",
        "outputId": "59408f20-bc79-44da-fe6b-43db9b3b01e4",
        "colab": {
          "base_uri": "https://localhost:8080/",
          "height": 50
        }
      },
      "cell_type": "code",
      "source": [
        "!pwd\n",
        "!ls -a"
      ],
      "execution_count": 9,
      "outputs": [
        {
          "output_type": "stream",
          "text": [
            "/content/input\n",
            ".  ..  sample_submission.csv.zip  test.csv.zip\ttrain.csv.zip\n"
          ],
          "name": "stdout"
        }
      ]
    },
    {
      "metadata": {
        "id": "xyoIl8RwPcTx",
        "colab_type": "code",
        "outputId": "a835c657-b0e2-40df-addf-4b040006cf5b",
        "colab": {
          "base_uri": "https://localhost:8080/",
          "height": 115
        }
      },
      "cell_type": "code",
      "source": [
        "!unzip sample_submission.csv.zip -d ./\n",
        "!unzip test.csv.zip -d ./\n",
        "!unzip train.csv.zip -d ./"
      ],
      "execution_count": 10,
      "outputs": [
        {
          "output_type": "stream",
          "text": [
            "Archive:  sample_submission.csv.zip\n",
            "  inflating: ./sample_submission.csv  \n",
            "Archive:  test.csv.zip\n",
            "  inflating: ./test.csv              \n",
            "Archive:  train.csv.zip\n",
            "  inflating: ./train.csv             \n"
          ],
          "name": "stdout"
        }
      ]
    },
    {
      "metadata": {
        "id": "CUAxFiTPPRRI",
        "colab_type": "code",
        "colab": {}
      },
      "cell_type": "code",
      "source": [
        "os.chdir('../notebook')"
      ],
      "execution_count": 0,
      "outputs": []
    },
    {
      "metadata": {
        "id": "Z-QhitXHCQ-N",
        "colab_type": "code",
        "outputId": "67a8becb-b700-47cb-c895-4d0a2af03245",
        "colab": {
          "base_uri": "https://localhost:8080/",
          "height": 66
        }
      },
      "cell_type": "code",
      "source": [
        "#上記操作の結果以下のディレクトリ配置となる\n",
        "\n",
        "# /content/notebook このipynbのカレントディレクトリ\n",
        "# /content/input カグルからダウンロードしたcsvファイルの置き場所\n",
        "\n",
        "!pwd\n",
        "!ls -a ../input\n"
      ],
      "execution_count": 12,
      "outputs": [
        {
          "output_type": "stream",
          "text": [
            "/content/notebook\n",
            ".   sample_submission.csv      test.csv      train.csv\n",
            "..  sample_submission.csv.zip  test.csv.zip  train.csv.zip\n"
          ],
          "name": "stdout"
        }
      ]
    },
    {
      "metadata": {
        "id": "3Iv2BEn4Dh_M",
        "colab_type": "code",
        "colab": {}
      },
      "cell_type": "code",
      "source": [
        "#ここからカーネルの内容に踏み込む"
      ],
      "execution_count": 0,
      "outputs": []
    },
    {
      "metadata": {
        "id": "31UPaWh_FtHf",
        "colab_type": "code",
        "colab": {
          "base_uri": "https://localhost:8080/",
          "height": 53
        },
        "outputId": "aa5d5fe1-0251-4421-aa72-d9148285a0ca"
      },
      "cell_type": "code",
      "source": [
        "import pandas as pd\n",
        "import datetime\n",
        "import xgboost as xgb\n",
        "from sklearn.model_selection import train_test_split, TimeSeriesSplit\n",
        "\n",
        "# Input data files are available in the \"../input/\" directory.\n",
        "# For example, running this (by clicking run or pressing Shift+Enter) will list the files in the input directory\n",
        "\n",
        "import os\n",
        "print(os.listdir(\"../input\"))\n",
        "# Any results you write to the current directory are saved as output.\n",
        "\n",
        "train = pd.read_csv('../input/train.csv')\n",
        "test = pd.read_csv('../input/test.csv')\n",
        "sample = pd.read_csv('../input/sample_submission.csv')"
      ],
      "execution_count": 14,
      "outputs": [
        {
          "output_type": "stream",
          "text": [
            "['train.csv', 'sample_submission.csv', 'test.csv.zip', 'test.csv', 'train.csv.zip', 'sample_submission.csv.zip']\n"
          ],
          "name": "stdout"
        }
      ]
    },
    {
      "metadata": {
        "id": "ai7-mqtCdeLb",
        "colab_type": "code",
        "colab": {
          "base_uri": "https://localhost:8080/",
          "height": 33
        },
        "outputId": "0addb714-9e1a-460a-d948-959a14dee5dd"
      },
      "cell_type": "code",
      "source": [
        "#merge train and test for easier feature engineering.\n",
        "\n",
        "train.columns"
      ],
      "execution_count": 15,
      "outputs": [
        {
          "output_type": "execute_result",
          "data": {
            "text/plain": [
              "Index(['date', 'store', 'item', 'sales'], dtype='object')"
            ]
          },
          "metadata": {
            "tags": []
          },
          "execution_count": 15
        }
      ]
    },
    {
      "metadata": {
        "id": "EF3179T6dhnp",
        "colab_type": "code",
        "colab": {
          "base_uri": "https://localhost:8080/",
          "height": 33
        },
        "outputId": "8ec6990e-b07a-4abd-e142-6ebdf7f36a41"
      },
      "cell_type": "code",
      "source": [
        "test.columns"
      ],
      "execution_count": 16,
      "outputs": [
        {
          "output_type": "execute_result",
          "data": {
            "text/plain": [
              "Index(['id', 'date', 'store', 'item'], dtype='object')"
            ]
          },
          "metadata": {
            "tags": []
          },
          "execution_count": 16
        }
      ]
    },
    {
      "metadata": {
        "id": "KZtEcT-odk7p",
        "colab_type": "code",
        "colab": {
          "base_uri": "https://localhost:8080/",
          "height": 390
        },
        "outputId": "5704e3b9-a54c-44a0-a8fe-d6d3959eaa77"
      },
      "cell_type": "code",
      "source": [
        "print(\"train shape:\", train.shape)\n",
        "print(\"Test shape:\", test.shape)\n",
        "df = pd.concat([train,test])\n",
        "print(df.shape)\n",
        "df.head()"
      ],
      "execution_count": 17,
      "outputs": [
        {
          "output_type": "stream",
          "text": [
            "train shape: (913000, 4)\n",
            "Test shape: (45000, 4)\n",
            "(958000, 5)\n"
          ],
          "name": "stdout"
        },
        {
          "output_type": "stream",
          "text": [
            "/usr/local/lib/python3.6/dist-packages/ipykernel_launcher.py:3: FutureWarning: Sorting because non-concatenation axis is not aligned. A future version\n",
            "of pandas will change to not sort by default.\n",
            "\n",
            "To accept the future behavior, pass 'sort=False'.\n",
            "\n",
            "To retain the current behavior and silence the warning, pass 'sort=True'.\n",
            "\n",
            "  This is separate from the ipykernel package so we can avoid doing imports until\n"
          ],
          "name": "stderr"
        },
        {
          "output_type": "execute_result",
          "data": {
            "text/html": [
              "<div>\n",
              "<style scoped>\n",
              "    .dataframe tbody tr th:only-of-type {\n",
              "        vertical-align: middle;\n",
              "    }\n",
              "\n",
              "    .dataframe tbody tr th {\n",
              "        vertical-align: top;\n",
              "    }\n",
              "\n",
              "    .dataframe thead th {\n",
              "        text-align: right;\n",
              "    }\n",
              "</style>\n",
              "<table border=\"1\" class=\"dataframe\">\n",
              "  <thead>\n",
              "    <tr style=\"text-align: right;\">\n",
              "      <th></th>\n",
              "      <th>date</th>\n",
              "      <th>id</th>\n",
              "      <th>item</th>\n",
              "      <th>sales</th>\n",
              "      <th>store</th>\n",
              "    </tr>\n",
              "  </thead>\n",
              "  <tbody>\n",
              "    <tr>\n",
              "      <th>0</th>\n",
              "      <td>2013-01-01</td>\n",
              "      <td>NaN</td>\n",
              "      <td>1</td>\n",
              "      <td>13.0</td>\n",
              "      <td>1</td>\n",
              "    </tr>\n",
              "    <tr>\n",
              "      <th>1</th>\n",
              "      <td>2013-01-02</td>\n",
              "      <td>NaN</td>\n",
              "      <td>1</td>\n",
              "      <td>11.0</td>\n",
              "      <td>1</td>\n",
              "    </tr>\n",
              "    <tr>\n",
              "      <th>2</th>\n",
              "      <td>2013-01-03</td>\n",
              "      <td>NaN</td>\n",
              "      <td>1</td>\n",
              "      <td>14.0</td>\n",
              "      <td>1</td>\n",
              "    </tr>\n",
              "    <tr>\n",
              "      <th>3</th>\n",
              "      <td>2013-01-04</td>\n",
              "      <td>NaN</td>\n",
              "      <td>1</td>\n",
              "      <td>13.0</td>\n",
              "      <td>1</td>\n",
              "    </tr>\n",
              "    <tr>\n",
              "      <th>4</th>\n",
              "      <td>2013-01-05</td>\n",
              "      <td>NaN</td>\n",
              "      <td>1</td>\n",
              "      <td>10.0</td>\n",
              "      <td>1</td>\n",
              "    </tr>\n",
              "  </tbody>\n",
              "</table>\n",
              "</div>"
            ],
            "text/plain": [
              "         date  id  item  sales  store\n",
              "0  2013-01-01 NaN     1   13.0      1\n",
              "1  2013-01-02 NaN     1   11.0      1\n",
              "2  2013-01-03 NaN     1   14.0      1\n",
              "3  2013-01-04 NaN     1   13.0      1\n",
              "4  2013-01-05 NaN     1   10.0      1"
            ]
          },
          "metadata": {
            "tags": []
          },
          "execution_count": 17
        }
      ]
    },
    {
      "metadata": {
        "id": "aoYJrrqwdsZV",
        "colab_type": "code",
        "colab": {}
      },
      "cell_type": "code",
      "source": [
        "#naive datetime features:\n",
        "\n",
        "df['date'] = pd.to_datetime(df['date'],infer_datetime_format=True)\n",
        "\n",
        "\n",
        "df['month'] = df['date'].dt.month\n",
        "df['weekday'] = df['date'].dt.dayofweek\n",
        "df['year'] = df['date'].dt.year\n",
        "# df['date'].dt.\n",
        "df['week_of_year']  = df.date.dt.weekofyear\n"
      ],
      "execution_count": 0,
      "outputs": []
    },
    {
      "metadata": {
        "id": "5ZKofxK0dw4W",
        "colab_type": "code",
        "colab": {}
      },
      "cell_type": "code",
      "source": [
        "df.set_index(\"date\",inplace=True)\n"
      ],
      "execution_count": 0,
      "outputs": []
    },
    {
      "metadata": {
        "id": "8x34qTsJd4Q7",
        "colab_type": "code",
        "colab": {}
      },
      "cell_type": "code",
      "source": [
        "#Add historical / seasonal features\n",
        "\n",
        "\n",
        "df[\"median-store_item-month\"] = df.groupby(['month',\"item\",\"store\"])[\"sales\"].transform(\"median\")\n",
        "df[\"mean-store_item-week\"] = df.groupby(['week_of_year',\"item\",\"store\"])[\"sales\"].transform(\"mean\")\n",
        "df[\"item-month-sum\"] = df.groupby(['month',\"item\"])[\"sales\"].transform(\"sum\") # total sales of that item  for all stores\n",
        "df[\"store-month-sum\"] = df.groupby(['month',\"store\"])[\"sales\"].transform(\"sum\") # total sales of that store  for all items"
      ],
      "execution_count": 0,
      "outputs": []
    },
    {
      "metadata": {
        "id": "G1hVjRL_d81f",
        "colab_type": "code",
        "colab": {}
      },
      "cell_type": "code",
      "source": [
        "# get shifted features for grouped data. Note need to sort first! \n",
        "df['store_item_shifted-90'] = df.groupby([\"item\",\"store\"])['sales'].transform(lambda x:x.shift(90)) # sales for that item 90 days = 3 months ago\n",
        "df['store_item_shifted-180'] = df.groupby([\"item\",\"store\"])['sales'].transform(lambda x:x.shift(180)) # sales for that item 180 days = 3 months ago\n",
        "df['store_item_shifted-365'] = df.groupby([\"item\",\"store\"])['sales'].transform(lambda x:x.shift(365)) # sales for that 1 year  ago\n",
        "\n",
        "df[\"item-week_shifted-90\"] = df.groupby(['week_of_year',\"item\"])[\"sales\"].transform(lambda x:x.shift(12).sum()) # shifted total sales for that item 12 weeks (3 months) ago\n",
        "df[\"store-week_shifted-90\"] = df.groupby(['week_of_year',\"store\"])[\"sales\"].transform(lambda x:x.shift(12).sum()) # shifted total sales for that store 12 weeks (3 months) ago\n",
        "df[\"item-week_shifted-90\"] = df.groupby(['week_of_year',\"item\"])[\"sales\"].transform(lambda x:x.shift(12).mean()) # shifted mean sales for that item 12 weeks (3 months) ago\n",
        "df[\"store-week_shifted-90\"] = df.groupby(['week_of_year',\"store\"])[\"sales\"].transform(lambda x:x.shift(12).mean()) # shifted mean sales for that store 12 weeks (3 months) ago"
      ],
      "execution_count": 0,
      "outputs": []
    },
    {
      "metadata": {
        "id": "sqzCD9mweBnG",
        "colab_type": "code",
        "colab": {
          "base_uri": "https://localhost:8080/",
          "height": 353
        },
        "outputId": "8caa54bf-8b14-434d-bcaf-4c80c75b80c8"
      },
      "cell_type": "code",
      "source": [
        "df.tail()"
      ],
      "execution_count": 22,
      "outputs": [
        {
          "output_type": "execute_result",
          "data": {
            "text/html": [
              "<div>\n",
              "<style scoped>\n",
              "    .dataframe tbody tr th:only-of-type {\n",
              "        vertical-align: middle;\n",
              "    }\n",
              "\n",
              "    .dataframe tbody tr th {\n",
              "        vertical-align: top;\n",
              "    }\n",
              "\n",
              "    .dataframe thead th {\n",
              "        text-align: right;\n",
              "    }\n",
              "</style>\n",
              "<table border=\"1\" class=\"dataframe\">\n",
              "  <thead>\n",
              "    <tr style=\"text-align: right;\">\n",
              "      <th></th>\n",
              "      <th>id</th>\n",
              "      <th>item</th>\n",
              "      <th>sales</th>\n",
              "      <th>store</th>\n",
              "      <th>month</th>\n",
              "      <th>weekday</th>\n",
              "      <th>year</th>\n",
              "      <th>week_of_year</th>\n",
              "      <th>median-store_item-month</th>\n",
              "      <th>mean-store_item-week</th>\n",
              "      <th>item-month-sum</th>\n",
              "      <th>store-month-sum</th>\n",
              "      <th>store_item_shifted-90</th>\n",
              "      <th>store_item_shifted-180</th>\n",
              "      <th>store_item_shifted-365</th>\n",
              "      <th>item-week_shifted-90</th>\n",
              "      <th>store-week_shifted-90</th>\n",
              "    </tr>\n",
              "    <tr>\n",
              "      <th>date</th>\n",
              "      <th></th>\n",
              "      <th></th>\n",
              "      <th></th>\n",
              "      <th></th>\n",
              "      <th></th>\n",
              "      <th></th>\n",
              "      <th></th>\n",
              "      <th></th>\n",
              "      <th></th>\n",
              "      <th></th>\n",
              "      <th></th>\n",
              "      <th></th>\n",
              "      <th></th>\n",
              "      <th></th>\n",
              "      <th></th>\n",
              "      <th></th>\n",
              "      <th></th>\n",
              "    </tr>\n",
              "  </thead>\n",
              "  <tbody>\n",
              "    <tr>\n",
              "      <th>2018-03-27</th>\n",
              "      <td>44995.0</td>\n",
              "      <td>50</td>\n",
              "      <td>NaN</td>\n",
              "      <td>10</td>\n",
              "      <td>3</td>\n",
              "      <td>1</td>\n",
              "      <td>2018</td>\n",
              "      <td>13</td>\n",
              "      <td>67.0</td>\n",
              "      <td>68.771429</td>\n",
              "      <td>92609.0</td>\n",
              "      <td>411975.0</td>\n",
              "      <td>63.0</td>\n",
              "      <td>82.0</td>\n",
              "      <td>66.0</td>\n",
              "      <td>61.417143</td>\n",
              "      <td>54.788571</td>\n",
              "    </tr>\n",
              "    <tr>\n",
              "      <th>2018-03-28</th>\n",
              "      <td>44996.0</td>\n",
              "      <td>50</td>\n",
              "      <td>NaN</td>\n",
              "      <td>10</td>\n",
              "      <td>3</td>\n",
              "      <td>2</td>\n",
              "      <td>2018</td>\n",
              "      <td>13</td>\n",
              "      <td>67.0</td>\n",
              "      <td>68.771429</td>\n",
              "      <td>92609.0</td>\n",
              "      <td>411975.0</td>\n",
              "      <td>59.0</td>\n",
              "      <td>90.0</td>\n",
              "      <td>60.0</td>\n",
              "      <td>61.417143</td>\n",
              "      <td>54.788571</td>\n",
              "    </tr>\n",
              "    <tr>\n",
              "      <th>2018-03-29</th>\n",
              "      <td>44997.0</td>\n",
              "      <td>50</td>\n",
              "      <td>NaN</td>\n",
              "      <td>10</td>\n",
              "      <td>3</td>\n",
              "      <td>3</td>\n",
              "      <td>2018</td>\n",
              "      <td>13</td>\n",
              "      <td>67.0</td>\n",
              "      <td>68.771429</td>\n",
              "      <td>92609.0</td>\n",
              "      <td>411975.0</td>\n",
              "      <td>74.0</td>\n",
              "      <td>103.0</td>\n",
              "      <td>73.0</td>\n",
              "      <td>61.417143</td>\n",
              "      <td>54.788571</td>\n",
              "    </tr>\n",
              "    <tr>\n",
              "      <th>2018-03-30</th>\n",
              "      <td>44998.0</td>\n",
              "      <td>50</td>\n",
              "      <td>NaN</td>\n",
              "      <td>10</td>\n",
              "      <td>3</td>\n",
              "      <td>4</td>\n",
              "      <td>2018</td>\n",
              "      <td>13</td>\n",
              "      <td>67.0</td>\n",
              "      <td>68.771429</td>\n",
              "      <td>92609.0</td>\n",
              "      <td>411975.0</td>\n",
              "      <td>62.0</td>\n",
              "      <td>99.0</td>\n",
              "      <td>68.0</td>\n",
              "      <td>61.417143</td>\n",
              "      <td>54.788571</td>\n",
              "    </tr>\n",
              "    <tr>\n",
              "      <th>2018-03-31</th>\n",
              "      <td>44999.0</td>\n",
              "      <td>50</td>\n",
              "      <td>NaN</td>\n",
              "      <td>10</td>\n",
              "      <td>3</td>\n",
              "      <td>5</td>\n",
              "      <td>2018</td>\n",
              "      <td>13</td>\n",
              "      <td>67.0</td>\n",
              "      <td>68.771429</td>\n",
              "      <td>92609.0</td>\n",
              "      <td>411975.0</td>\n",
              "      <td>82.0</td>\n",
              "      <td>71.0</td>\n",
              "      <td>69.0</td>\n",
              "      <td>61.417143</td>\n",
              "      <td>54.788571</td>\n",
              "    </tr>\n",
              "  </tbody>\n",
              "</table>\n",
              "</div>"
            ],
            "text/plain": [
              "                 id  item  sales  store  month  weekday  year  week_of_year  \\\n",
              "date                                                                          \n",
              "2018-03-27  44995.0    50    NaN     10      3        1  2018            13   \n",
              "2018-03-28  44996.0    50    NaN     10      3        2  2018            13   \n",
              "2018-03-29  44997.0    50    NaN     10      3        3  2018            13   \n",
              "2018-03-30  44998.0    50    NaN     10      3        4  2018            13   \n",
              "2018-03-31  44999.0    50    NaN     10      3        5  2018            13   \n",
              "\n",
              "            median-store_item-month  mean-store_item-week  item-month-sum  \\\n",
              "date                                                                        \n",
              "2018-03-27                     67.0             68.771429         92609.0   \n",
              "2018-03-28                     67.0             68.771429         92609.0   \n",
              "2018-03-29                     67.0             68.771429         92609.0   \n",
              "2018-03-30                     67.0             68.771429         92609.0   \n",
              "2018-03-31                     67.0             68.771429         92609.0   \n",
              "\n",
              "            store-month-sum  store_item_shifted-90  store_item_shifted-180  \\\n",
              "date                                                                         \n",
              "2018-03-27         411975.0                   63.0                    82.0   \n",
              "2018-03-28         411975.0                   59.0                    90.0   \n",
              "2018-03-29         411975.0                   74.0                   103.0   \n",
              "2018-03-30         411975.0                   62.0                    99.0   \n",
              "2018-03-31         411975.0                   82.0                    71.0   \n",
              "\n",
              "            store_item_shifted-365  item-week_shifted-90  \\\n",
              "date                                                       \n",
              "2018-03-27                    66.0             61.417143   \n",
              "2018-03-28                    60.0             61.417143   \n",
              "2018-03-29                    73.0             61.417143   \n",
              "2018-03-30                    68.0             61.417143   \n",
              "2018-03-31                    69.0             61.417143   \n",
              "\n",
              "            store-week_shifted-90  \n",
              "date                               \n",
              "2018-03-27              54.788571  \n",
              "2018-03-28              54.788571  \n",
              "2018-03-29              54.788571  \n",
              "2018-03-30              54.788571  \n",
              "2018-03-31              54.788571  "
            ]
          },
          "metadata": {
            "tags": []
          },
          "execution_count": 22
        }
      ]
    },
    {
      "metadata": {
        "id": "oC9QXBQIeL4r",
        "colab_type": "code",
        "colab": {}
      },
      "cell_type": "code",
      "source": [
        "#We should do one hot encoding at this point on the store and ite mIDs to avoid silly range based features.\n",
        "\n",
        "#split our data for modelling\n",
        "\n",
        "col = [i for i in df.columns if i not in ['date','id']]\n",
        "y = 'sales'"
      ],
      "execution_count": 0,
      "outputs": []
    },
    {
      "metadata": {
        "id": "if4ACuBdedV9",
        "colab_type": "code",
        "colab": {
          "base_uri": "https://localhost:8080/",
          "height": 33
        },
        "outputId": "0095393f-13e0-4159-86b0-ba816cb5497d"
      },
      "cell_type": "code",
      "source": [
        "train.columns"
      ],
      "execution_count": 24,
      "outputs": [
        {
          "output_type": "execute_result",
          "data": {
            "text/plain": [
              "Index(['date', 'store', 'item', 'sales'], dtype='object')"
            ]
          },
          "metadata": {
            "tags": []
          },
          "execution_count": 24
        }
      ]
    },
    {
      "metadata": {
        "id": "j0_lRGNke0Rj",
        "colab_type": "code",
        "colab": {
          "base_uri": "https://localhost:8080/",
          "height": 50
        },
        "outputId": "b7cbfdb0-5686-46ef-b762-96aaa7284094"
      },
      "cell_type": "code",
      "source": [
        "train = df.loc[~df.sales.isna()]\n",
        "print(\"new train\",train.shape)\n",
        "test = df.loc[df.sales.isna()]\n",
        "print(\"new test\",test.shape)"
      ],
      "execution_count": 25,
      "outputs": [
        {
          "output_type": "stream",
          "text": [
            "new train (913000, 17)\n",
            "new test (45000, 17)\n"
          ],
          "name": "stdout"
        }
      ]
    },
    {
      "metadata": {
        "id": "qX2-DQ2ffOT_",
        "colab_type": "code",
        "colab": {}
      },
      "cell_type": "code",
      "source": [
        "#Evaluation should use temporal train test split or temporal CV\n",
        "\n",
        "train_x, train_cv, y, y_cv = train_test_split(train[col],train[y], test_size=0.15, random_state=42)\n",
        "# train_x, train_cv, y, y_cv = TimeSeriesSplit(train[col],train[y], test_size=0.1, random_state=42)\n",
        "\n"
      ],
      "execution_count": 0,
      "outputs": []
    },
    {
      "metadata": {
        "id": "gezz7mSyfXrx",
        "colab_type": "code",
        "colab": {}
      },
      "cell_type": "code",
      "source": [
        "def XGB_regressor(train_X, train_y, test_X, test_y, feature_names=None, seed_val=2017, num_rounds=500):\n",
        "    param = {}\n",
        "    param['objective'] = 'reg:linear'\n",
        "    param['eta'] = 0.1\n",
        "    param['max_depth'] = 6\n",
        "    param['silent'] = 1\n",
        "    param['eval_metric'] = 'mae'\n",
        "    param['min_child_weight'] = 1\n",
        "    param['subsample'] = 0.8\n",
        "    param['colsample_bytree'] = 0.8\n",
        "    param['seed'] = seed_val\n",
        "    num_rounds = num_rounds\n",
        "\n",
        "    plst = list(param.items())\n",
        "\n",
        "    xgtrain = xgb.DMatrix(train_X, label=train_y)\n",
        "\n",
        "    if test_y is not None:\n",
        "        xgtest = xgb.DMatrix(test_X, label=test_y)\n",
        "        watchlist = [ (xgtrain,'train'), (xgtest, 'test') ]\n",
        "        model = xgb.train(plst, xgtrain, num_rounds, watchlist, early_stopping_rounds=20)\n",
        "    else:\n",
        "        xgtest = xgb.DMatrix(test_X)\n",
        "        model = xgb.train(plst, xgtrain, num_rounds)\n",
        "        \n",
        "    return model    "
      ],
      "execution_count": 0,
      "outputs": []
    },
    {
      "metadata": {
        "id": "SHVsBH7CfcWd",
        "colab_type": "code",
        "colab": {
          "base_uri": "https://localhost:8080/",
          "height": 8243
        },
        "outputId": "cb2d01b0-910a-4ed2-c644-f7349937d992"
      },
      "cell_type": "code",
      "source": [
        "model = XGB_regressor(train_X = train_x, train_y = y, test_X = train_cv, test_y = y_cv)\n",
        "y_test = model.predict(xgb.DMatrix(test[col]), ntree_limit = model.best_ntree_limit)"
      ],
      "execution_count": 28,
      "outputs": [
        {
          "output_type": "stream",
          "text": [
            "/usr/local/lib/python3.6/dist-packages/xgboost/core.py:587: FutureWarning: Series.base is deprecated and will be removed in a future version\n",
            "  if getattr(data, 'base', None) is not None and \\\n"
          ],
          "name": "stderr"
        },
        {
          "output_type": "stream",
          "text": [
            "[0]\ttrain-mae:46.5709\ttest-mae:46.6042\n",
            "Multiple eval metrics have been passed: 'test-mae' will be used for early stopping.\n",
            "\n",
            "Will train until test-mae hasn't improved in 20 rounds.\n",
            "[1]\ttrain-mae:41.9145\ttest-mae:41.9444\n",
            "[2]\ttrain-mae:37.7236\ttest-mae:37.7475\n",
            "[3]\ttrain-mae:33.9518\ttest-mae:33.973\n",
            "[4]\ttrain-mae:30.5571\ttest-mae:30.5759\n",
            "[5]\ttrain-mae:27.5019\ttest-mae:27.5188\n",
            "[6]\ttrain-mae:24.7527\ttest-mae:24.7659\n",
            "[7]\ttrain-mae:22.278\ttest-mae:22.2899\n",
            "[8]\ttrain-mae:20.0505\ttest-mae:20.0606\n",
            "[9]\ttrain-mae:18.0459\ttest-mae:18.0546\n",
            "[10]\ttrain-mae:16.2416\ttest-mae:16.2493\n",
            "[11]\ttrain-mae:14.6187\ttest-mae:14.6242\n",
            "[12]\ttrain-mae:13.1572\ttest-mae:13.162\n",
            "[13]\ttrain-mae:11.8419\ttest-mae:11.8458\n",
            "[14]\ttrain-mae:10.6581\ttest-mae:10.6613\n",
            "[15]\ttrain-mae:9.5928\ttest-mae:9.59569\n",
            "[16]\ttrain-mae:8.63406\ttest-mae:8.63654\n",
            "[17]\ttrain-mae:7.77105\ttest-mae:7.77293\n",
            "[18]\ttrain-mae:6.99453\ttest-mae:6.99617\n",
            "[19]\ttrain-mae:6.29563\ttest-mae:6.29698\n",
            "[20]\ttrain-mae:5.6668\ttest-mae:5.66798\n",
            "[21]\ttrain-mae:5.10097\ttest-mae:5.10203\n",
            "[22]\ttrain-mae:4.59362\ttest-mae:4.59399\n",
            "[23]\ttrain-mae:4.13564\ttest-mae:4.13559\n",
            "[24]\ttrain-mae:3.7238\ttest-mae:3.72356\n",
            "[25]\ttrain-mae:3.35328\ttest-mae:3.35287\n",
            "[26]\ttrain-mae:3.0205\ttest-mae:3.0199\n",
            "[27]\ttrain-mae:2.72117\ttest-mae:2.72051\n",
            "[28]\ttrain-mae:2.45228\ttest-mae:2.45155\n",
            "[29]\ttrain-mae:2.21091\ttest-mae:2.21018\n",
            "[30]\ttrain-mae:1.99974\ttest-mae:1.99897\n",
            "[31]\ttrain-mae:1.80571\ttest-mae:1.80511\n",
            "[32]\ttrain-mae:1.63234\ttest-mae:1.63171\n",
            "[33]\ttrain-mae:1.4774\ttest-mae:1.47653\n",
            "[34]\ttrain-mae:1.34759\ttest-mae:1.34661\n",
            "[35]\ttrain-mae:1.22455\ttest-mae:1.22372\n",
            "[36]\ttrain-mae:1.11544\ttest-mae:1.11461\n",
            "[37]\ttrain-mae:1.02866\ttest-mae:1.02788\n",
            "[38]\ttrain-mae:0.943466\ttest-mae:0.942911\n",
            "[39]\ttrain-mae:0.867303\ttest-mae:0.86684\n",
            "[40]\ttrain-mae:0.799731\ttest-mae:0.799515\n",
            "[41]\ttrain-mae:0.740686\ttest-mae:0.74068\n",
            "[42]\ttrain-mae:0.699013\ttest-mae:0.699093\n",
            "[43]\ttrain-mae:0.664226\ttest-mae:0.66445\n",
            "[44]\ttrain-mae:0.623661\ttest-mae:0.624176\n",
            "[45]\ttrain-mae:0.598703\ttest-mae:0.599429\n",
            "[46]\ttrain-mae:0.565117\ttest-mae:0.56606\n",
            "[47]\ttrain-mae:0.535937\ttest-mae:0.537029\n",
            "[48]\ttrain-mae:0.52037\ttest-mae:0.521536\n",
            "[49]\ttrain-mae:0.507556\ttest-mae:0.508833\n",
            "[50]\ttrain-mae:0.497034\ttest-mae:0.498441\n",
            "[51]\ttrain-mae:0.479867\ttest-mae:0.481484\n",
            "[52]\ttrain-mae:0.46251\ttest-mae:0.464282\n",
            "[53]\ttrain-mae:0.445858\ttest-mae:0.447636\n",
            "[54]\ttrain-mae:0.43132\ttest-mae:0.433133\n",
            "[55]\ttrain-mae:0.419601\ttest-mae:0.421466\n",
            "[56]\ttrain-mae:0.408985\ttest-mae:0.410957\n",
            "[57]\ttrain-mae:0.399141\ttest-mae:0.401142\n",
            "[58]\ttrain-mae:0.394196\ttest-mae:0.396231\n",
            "[59]\ttrain-mae:0.382852\ttest-mae:0.385016\n",
            "[60]\ttrain-mae:0.372252\ttest-mae:0.374576\n",
            "[61]\ttrain-mae:0.361791\ttest-mae:0.364169\n",
            "[62]\ttrain-mae:0.353077\ttest-mae:0.355525\n",
            "[63]\ttrain-mae:0.344362\ttest-mae:0.346783\n",
            "[64]\ttrain-mae:0.336756\ttest-mae:0.339238\n",
            "[65]\ttrain-mae:0.329839\ttest-mae:0.332306\n",
            "[66]\ttrain-mae:0.327605\ttest-mae:0.33009\n",
            "[67]\ttrain-mae:0.325347\ttest-mae:0.327838\n",
            "[68]\ttrain-mae:0.319846\ttest-mae:0.322344\n",
            "[69]\ttrain-mae:0.314808\ttest-mae:0.31728\n",
            "[70]\ttrain-mae:0.310395\ttest-mae:0.312884\n",
            "[71]\ttrain-mae:0.308537\ttest-mae:0.311035\n",
            "[72]\ttrain-mae:0.306975\ttest-mae:0.309453\n",
            "[73]\ttrain-mae:0.305378\ttest-mae:0.307886\n",
            "[74]\ttrain-mae:0.29976\ttest-mae:0.302208\n",
            "[75]\ttrain-mae:0.294252\ttest-mae:0.296693\n",
            "[76]\ttrain-mae:0.293009\ttest-mae:0.295432\n",
            "[77]\ttrain-mae:0.287069\ttest-mae:0.289515\n",
            "[78]\ttrain-mae:0.282164\ttest-mae:0.284565\n",
            "[79]\ttrain-mae:0.280521\ttest-mae:0.282947\n",
            "[80]\ttrain-mae:0.279232\ttest-mae:0.281671\n",
            "[81]\ttrain-mae:0.274589\ttest-mae:0.277086\n",
            "[82]\ttrain-mae:0.269592\ttest-mae:0.272111\n",
            "[83]\ttrain-mae:0.264332\ttest-mae:0.266892\n",
            "[84]\ttrain-mae:0.258972\ttest-mae:0.261458\n",
            "[85]\ttrain-mae:0.257741\ttest-mae:0.260234\n",
            "[86]\ttrain-mae:0.253517\ttest-mae:0.255999\n",
            "[87]\ttrain-mae:0.249249\ttest-mae:0.25175\n",
            "[88]\ttrain-mae:0.248233\ttest-mae:0.25075\n",
            "[89]\ttrain-mae:0.24563\ttest-mae:0.248167\n",
            "[90]\ttrain-mae:0.241166\ttest-mae:0.243764\n",
            "[91]\ttrain-mae:0.240073\ttest-mae:0.242685\n",
            "[92]\ttrain-mae:0.236656\ttest-mae:0.239243\n",
            "[93]\ttrain-mae:0.235541\ttest-mae:0.238119\n",
            "[94]\ttrain-mae:0.231462\ttest-mae:0.234093\n",
            "[95]\ttrain-mae:0.228003\ttest-mae:0.230623\n",
            "[96]\ttrain-mae:0.225994\ttest-mae:0.228609\n",
            "[97]\ttrain-mae:0.224851\ttest-mae:0.227461\n",
            "[98]\ttrain-mae:0.223915\ttest-mae:0.226508\n",
            "[99]\ttrain-mae:0.221846\ttest-mae:0.224433\n",
            "[100]\ttrain-mae:0.219628\ttest-mae:0.222237\n",
            "[101]\ttrain-mae:0.216873\ttest-mae:0.219488\n",
            "[102]\ttrain-mae:0.21417\ttest-mae:0.216784\n",
            "[103]\ttrain-mae:0.212333\ttest-mae:0.214959\n",
            "[104]\ttrain-mae:0.210165\ttest-mae:0.212787\n",
            "[105]\ttrain-mae:0.209201\ttest-mae:0.211826\n",
            "[106]\ttrain-mae:0.20692\ttest-mae:0.209523\n",
            "[107]\ttrain-mae:0.205145\ttest-mae:0.207745\n",
            "[108]\ttrain-mae:0.20239\ttest-mae:0.204971\n",
            "[109]\ttrain-mae:0.19962\ttest-mae:0.202215\n",
            "[110]\ttrain-mae:0.198905\ttest-mae:0.201498\n",
            "[111]\ttrain-mae:0.197495\ttest-mae:0.200049\n",
            "[112]\ttrain-mae:0.196682\ttest-mae:0.199245\n",
            "[113]\ttrain-mae:0.193722\ttest-mae:0.1963\n",
            "[114]\ttrain-mae:0.193275\ttest-mae:0.195853\n",
            "[115]\ttrain-mae:0.192696\ttest-mae:0.195279\n",
            "[116]\ttrain-mae:0.190783\ttest-mae:0.193376\n",
            "[117]\ttrain-mae:0.189092\ttest-mae:0.191684\n",
            "[118]\ttrain-mae:0.187308\ttest-mae:0.189884\n",
            "[119]\ttrain-mae:0.186708\ttest-mae:0.18929\n",
            "[120]\ttrain-mae:0.186014\ttest-mae:0.188611\n",
            "[121]\ttrain-mae:0.183649\ttest-mae:0.186244\n",
            "[122]\ttrain-mae:0.182017\ttest-mae:0.184584\n",
            "[123]\ttrain-mae:0.180587\ttest-mae:0.183132\n",
            "[124]\ttrain-mae:0.180194\ttest-mae:0.182746\n",
            "[125]\ttrain-mae:0.178623\ttest-mae:0.181151\n",
            "[126]\ttrain-mae:0.17657\ttest-mae:0.179094\n",
            "[127]\ttrain-mae:0.175953\ttest-mae:0.178474\n",
            "[128]\ttrain-mae:0.174642\ttest-mae:0.177149\n",
            "[129]\ttrain-mae:0.173125\ttest-mae:0.175625\n",
            "[130]\ttrain-mae:0.171812\ttest-mae:0.174294\n",
            "[131]\ttrain-mae:0.170324\ttest-mae:0.172777\n",
            "[132]\ttrain-mae:0.168858\ttest-mae:0.171295\n",
            "[133]\ttrain-mae:0.167194\ttest-mae:0.169614\n",
            "[134]\ttrain-mae:0.165689\ttest-mae:0.168093\n",
            "[135]\ttrain-mae:0.164031\ttest-mae:0.166396\n",
            "[136]\ttrain-mae:0.162833\ttest-mae:0.165186\n",
            "[137]\ttrain-mae:0.162362\ttest-mae:0.164714\n",
            "[138]\ttrain-mae:0.160806\ttest-mae:0.163132\n",
            "[139]\ttrain-mae:0.159561\ttest-mae:0.161875\n",
            "[140]\ttrain-mae:0.158116\ttest-mae:0.16042\n",
            "[141]\ttrain-mae:0.157128\ttest-mae:0.159434\n",
            "[142]\ttrain-mae:0.155723\ttest-mae:0.158027\n",
            "[143]\ttrain-mae:0.15469\ttest-mae:0.156972\n",
            "[144]\ttrain-mae:0.153576\ttest-mae:0.155841\n",
            "[145]\ttrain-mae:0.15228\ttest-mae:0.154526\n",
            "[146]\ttrain-mae:0.150291\ttest-mae:0.152529\n",
            "[147]\ttrain-mae:0.149234\ttest-mae:0.151483\n",
            "[148]\ttrain-mae:0.148483\ttest-mae:0.150722\n",
            "[149]\ttrain-mae:0.147114\ttest-mae:0.149329\n",
            "[150]\ttrain-mae:0.146262\ttest-mae:0.148485\n",
            "[151]\ttrain-mae:0.145149\ttest-mae:0.147361\n",
            "[152]\ttrain-mae:0.144141\ttest-mae:0.146332\n",
            "[153]\ttrain-mae:0.143296\ttest-mae:0.145475\n",
            "[154]\ttrain-mae:0.14262\ttest-mae:0.144804\n",
            "[155]\ttrain-mae:0.141875\ttest-mae:0.14407\n",
            "[156]\ttrain-mae:0.140875\ttest-mae:0.143054\n",
            "[157]\ttrain-mae:0.140332\ttest-mae:0.142521\n",
            "[158]\ttrain-mae:0.13974\ttest-mae:0.141927\n",
            "[159]\ttrain-mae:0.139057\ttest-mae:0.141239\n",
            "[160]\ttrain-mae:0.138236\ttest-mae:0.14041\n",
            "[161]\ttrain-mae:0.137283\ttest-mae:0.139453\n",
            "[162]\ttrain-mae:0.136633\ttest-mae:0.138787\n",
            "[163]\ttrain-mae:0.135693\ttest-mae:0.137818\n",
            "[164]\ttrain-mae:0.135341\ttest-mae:0.137461\n",
            "[165]\ttrain-mae:0.134653\ttest-mae:0.136761\n",
            "[166]\ttrain-mae:0.133505\ttest-mae:0.135611\n",
            "[167]\ttrain-mae:0.13277\ttest-mae:0.134873\n",
            "[168]\ttrain-mae:0.132039\ttest-mae:0.134115\n",
            "[169]\ttrain-mae:0.131511\ttest-mae:0.133586\n",
            "[170]\ttrain-mae:0.130942\ttest-mae:0.132978\n",
            "[171]\ttrain-mae:0.130136\ttest-mae:0.132171\n",
            "[172]\ttrain-mae:0.129468\ttest-mae:0.131508\n",
            "[173]\ttrain-mae:0.128999\ttest-mae:0.131039\n",
            "[174]\ttrain-mae:0.128352\ttest-mae:0.130377\n",
            "[175]\ttrain-mae:0.127854\ttest-mae:0.129882\n",
            "[176]\ttrain-mae:0.127083\ttest-mae:0.129085\n",
            "[177]\ttrain-mae:0.126679\ttest-mae:0.128683\n",
            "[178]\ttrain-mae:0.1261\ttest-mae:0.128097\n",
            "[179]\ttrain-mae:0.125552\ttest-mae:0.127562\n",
            "[180]\ttrain-mae:0.124819\ttest-mae:0.126805\n",
            "[181]\ttrain-mae:0.124226\ttest-mae:0.126191\n",
            "[182]\ttrain-mae:0.123484\ttest-mae:0.125438\n",
            "[183]\ttrain-mae:0.123136\ttest-mae:0.125075\n",
            "[184]\ttrain-mae:0.122713\ttest-mae:0.124652\n",
            "[185]\ttrain-mae:0.122294\ttest-mae:0.124215\n",
            "[186]\ttrain-mae:0.121746\ttest-mae:0.123669\n",
            "[187]\ttrain-mae:0.121315\ttest-mae:0.12324\n",
            "[188]\ttrain-mae:0.120988\ttest-mae:0.122898\n",
            "[189]\ttrain-mae:0.120313\ttest-mae:0.122217\n",
            "[190]\ttrain-mae:0.119608\ttest-mae:0.121505\n",
            "[191]\ttrain-mae:0.119352\ttest-mae:0.121249\n",
            "[192]\ttrain-mae:0.119116\ttest-mae:0.121009\n",
            "[193]\ttrain-mae:0.118738\ttest-mae:0.120617\n",
            "[194]\ttrain-mae:0.118345\ttest-mae:0.120217\n",
            "[195]\ttrain-mae:0.117842\ttest-mae:0.119721\n",
            "[196]\ttrain-mae:0.117675\ttest-mae:0.119565\n",
            "[197]\ttrain-mae:0.117231\ttest-mae:0.119123\n",
            "[198]\ttrain-mae:0.116731\ttest-mae:0.118603\n",
            "[199]\ttrain-mae:0.115962\ttest-mae:0.117846\n",
            "[200]\ttrain-mae:0.115644\ttest-mae:0.117525\n",
            "[201]\ttrain-mae:0.115235\ttest-mae:0.117112\n",
            "[202]\ttrain-mae:0.114896\ttest-mae:0.116778\n",
            "[203]\ttrain-mae:0.114664\ttest-mae:0.116555\n",
            "[204]\ttrain-mae:0.114208\ttest-mae:0.116096\n",
            "[205]\ttrain-mae:0.113967\ttest-mae:0.115861\n",
            "[206]\ttrain-mae:0.113435\ttest-mae:0.115327\n",
            "[207]\ttrain-mae:0.112977\ttest-mae:0.114861\n",
            "[208]\ttrain-mae:0.112729\ttest-mae:0.114613\n",
            "[209]\ttrain-mae:0.112526\ttest-mae:0.114413\n",
            "[210]\ttrain-mae:0.112101\ttest-mae:0.113983\n",
            "[211]\ttrain-mae:0.111577\ttest-mae:0.113458\n",
            "[212]\ttrain-mae:0.111352\ttest-mae:0.113238\n",
            "[213]\ttrain-mae:0.111011\ttest-mae:0.11289\n",
            "[214]\ttrain-mae:0.110713\ttest-mae:0.112609\n",
            "[215]\ttrain-mae:0.110423\ttest-mae:0.11231\n",
            "[216]\ttrain-mae:0.110028\ttest-mae:0.111905\n",
            "[217]\ttrain-mae:0.109763\ttest-mae:0.111627\n",
            "[218]\ttrain-mae:0.109533\ttest-mae:0.111403\n",
            "[219]\ttrain-mae:0.109295\ttest-mae:0.111165\n",
            "[220]\ttrain-mae:0.108927\ttest-mae:0.1108\n",
            "[221]\ttrain-mae:0.108724\ttest-mae:0.110592\n",
            "[222]\ttrain-mae:0.108228\ttest-mae:0.110097\n",
            "[223]\ttrain-mae:0.107768\ttest-mae:0.109654\n",
            "[224]\ttrain-mae:0.107434\ttest-mae:0.109324\n",
            "[225]\ttrain-mae:0.107286\ttest-mae:0.109183\n",
            "[226]\ttrain-mae:0.106978\ttest-mae:0.10886\n",
            "[227]\ttrain-mae:0.10663\ttest-mae:0.108506\n",
            "[228]\ttrain-mae:0.106119\ttest-mae:0.107992\n",
            "[229]\ttrain-mae:0.105875\ttest-mae:0.107758\n",
            "[230]\ttrain-mae:0.105385\ttest-mae:0.107249\n",
            "[231]\ttrain-mae:0.105212\ttest-mae:0.107073\n",
            "[232]\ttrain-mae:0.104953\ttest-mae:0.106809\n",
            "[233]\ttrain-mae:0.104557\ttest-mae:0.106422\n",
            "[234]\ttrain-mae:0.104199\ttest-mae:0.106057\n",
            "[235]\ttrain-mae:0.10404\ttest-mae:0.105895\n",
            "[236]\ttrain-mae:0.103768\ttest-mae:0.105632\n",
            "[237]\ttrain-mae:0.103544\ttest-mae:0.105412\n",
            "[238]\ttrain-mae:0.103296\ttest-mae:0.105166\n",
            "[239]\ttrain-mae:0.103\ttest-mae:0.104874\n",
            "[240]\ttrain-mae:0.102841\ttest-mae:0.104715\n",
            "[241]\ttrain-mae:0.102591\ttest-mae:0.104478\n",
            "[242]\ttrain-mae:0.102279\ttest-mae:0.104171\n",
            "[243]\ttrain-mae:0.10203\ttest-mae:0.103916\n",
            "[244]\ttrain-mae:0.101816\ttest-mae:0.103708\n",
            "[245]\ttrain-mae:0.101683\ttest-mae:0.103583\n",
            "[246]\ttrain-mae:0.10155\ttest-mae:0.103443\n",
            "[247]\ttrain-mae:0.101242\ttest-mae:0.103134\n",
            "[248]\ttrain-mae:0.101089\ttest-mae:0.102982\n",
            "[249]\ttrain-mae:0.10076\ttest-mae:0.102654\n",
            "[250]\ttrain-mae:0.100643\ttest-mae:0.10254\n",
            "[251]\ttrain-mae:0.100376\ttest-mae:0.102273\n",
            "[252]\ttrain-mae:0.100114\ttest-mae:0.102008\n",
            "[253]\ttrain-mae:0.09984\ttest-mae:0.101726\n",
            "[254]\ttrain-mae:0.099502\ttest-mae:0.101383\n",
            "[255]\ttrain-mae:0.09927\ttest-mae:0.101159\n",
            "[256]\ttrain-mae:0.099078\ttest-mae:0.100964\n",
            "[257]\ttrain-mae:0.098889\ttest-mae:0.100779\n",
            "[258]\ttrain-mae:0.098723\ttest-mae:0.100608\n",
            "[259]\ttrain-mae:0.098235\ttest-mae:0.100121\n",
            "[260]\ttrain-mae:0.098042\ttest-mae:0.099926\n",
            "[261]\ttrain-mae:0.097912\ttest-mae:0.099794\n",
            "[262]\ttrain-mae:0.097739\ttest-mae:0.099616\n",
            "[263]\ttrain-mae:0.097555\ttest-mae:0.099426\n",
            "[264]\ttrain-mae:0.097261\ttest-mae:0.099114\n",
            "[265]\ttrain-mae:0.097066\ttest-mae:0.098919\n",
            "[266]\ttrain-mae:0.096617\ttest-mae:0.098468\n",
            "[267]\ttrain-mae:0.096487\ttest-mae:0.098331\n",
            "[268]\ttrain-mae:0.096424\ttest-mae:0.09827\n",
            "[269]\ttrain-mae:0.096272\ttest-mae:0.098117\n",
            "[270]\ttrain-mae:0.096054\ttest-mae:0.097905\n",
            "[271]\ttrain-mae:0.09601\ttest-mae:0.097867\n",
            "[272]\ttrain-mae:0.095803\ttest-mae:0.097668\n",
            "[273]\ttrain-mae:0.09564\ttest-mae:0.097508\n",
            "[274]\ttrain-mae:0.095476\ttest-mae:0.097341\n",
            "[275]\ttrain-mae:0.095343\ttest-mae:0.097206\n",
            "[276]\ttrain-mae:0.095197\ttest-mae:0.09706\n",
            "[277]\ttrain-mae:0.095121\ttest-mae:0.096986\n",
            "[278]\ttrain-mae:0.094861\ttest-mae:0.096737\n",
            "[279]\ttrain-mae:0.094707\ttest-mae:0.09659\n",
            "[280]\ttrain-mae:0.094572\ttest-mae:0.096458\n",
            "[281]\ttrain-mae:0.094394\ttest-mae:0.096285\n",
            "[282]\ttrain-mae:0.094149\ttest-mae:0.09604\n",
            "[283]\ttrain-mae:0.094073\ttest-mae:0.095968\n",
            "[284]\ttrain-mae:0.093762\ttest-mae:0.095666\n",
            "[285]\ttrain-mae:0.093674\ttest-mae:0.095581\n",
            "[286]\ttrain-mae:0.093471\ttest-mae:0.095377\n",
            "[287]\ttrain-mae:0.093234\ttest-mae:0.095151\n",
            "[288]\ttrain-mae:0.092924\ttest-mae:0.094855\n",
            "[289]\ttrain-mae:0.092791\ttest-mae:0.094717\n",
            "[290]\ttrain-mae:0.092613\ttest-mae:0.094553\n",
            "[291]\ttrain-mae:0.092344\ttest-mae:0.094273\n",
            "[292]\ttrain-mae:0.092235\ttest-mae:0.09416\n",
            "[293]\ttrain-mae:0.092092\ttest-mae:0.094016\n",
            "[294]\ttrain-mae:0.091962\ttest-mae:0.0939\n",
            "[295]\ttrain-mae:0.091825\ttest-mae:0.093762\n",
            "[296]\ttrain-mae:0.09166\ttest-mae:0.093607\n",
            "[297]\ttrain-mae:0.0915\ttest-mae:0.093449\n",
            "[298]\ttrain-mae:0.091415\ttest-mae:0.093369\n",
            "[299]\ttrain-mae:0.091357\ttest-mae:0.093312\n",
            "[300]\ttrain-mae:0.091282\ttest-mae:0.093238\n",
            "[301]\ttrain-mae:0.091224\ttest-mae:0.093176\n",
            "[302]\ttrain-mae:0.091006\ttest-mae:0.092966\n",
            "[303]\ttrain-mae:0.090808\ttest-mae:0.092756\n",
            "[304]\ttrain-mae:0.090649\ttest-mae:0.092593\n",
            "[305]\ttrain-mae:0.090494\ttest-mae:0.092435\n",
            "[306]\ttrain-mae:0.090358\ttest-mae:0.092305\n",
            "[307]\ttrain-mae:0.090282\ttest-mae:0.092234\n",
            "[308]\ttrain-mae:0.09003\ttest-mae:0.091987\n",
            "[309]\ttrain-mae:0.089885\ttest-mae:0.091846\n",
            "[310]\ttrain-mae:0.089749\ttest-mae:0.091704\n",
            "[311]\ttrain-mae:0.089689\ttest-mae:0.091648\n",
            "[312]\ttrain-mae:0.089465\ttest-mae:0.09142\n",
            "[313]\ttrain-mae:0.089316\ttest-mae:0.091272\n",
            "[314]\ttrain-mae:0.089043\ttest-mae:0.090986\n",
            "[315]\ttrain-mae:0.088964\ttest-mae:0.090902\n",
            "[316]\ttrain-mae:0.088861\ttest-mae:0.090801\n",
            "[317]\ttrain-mae:0.088763\ttest-mae:0.090698\n",
            "[318]\ttrain-mae:0.088661\ttest-mae:0.090594\n",
            "[319]\ttrain-mae:0.088539\ttest-mae:0.090475\n",
            "[320]\ttrain-mae:0.088351\ttest-mae:0.090294\n",
            "[321]\ttrain-mae:0.088208\ttest-mae:0.090153\n",
            "[322]\ttrain-mae:0.08813\ttest-mae:0.090077\n",
            "[323]\ttrain-mae:0.088021\ttest-mae:0.089962\n",
            "[324]\ttrain-mae:0.087914\ttest-mae:0.089848\n",
            "[325]\ttrain-mae:0.087784\ttest-mae:0.089726\n",
            "[326]\ttrain-mae:0.087714\ttest-mae:0.089659\n",
            "[327]\ttrain-mae:0.087483\ttest-mae:0.089425\n",
            "[328]\ttrain-mae:0.087415\ttest-mae:0.089366\n",
            "[329]\ttrain-mae:0.087315\ttest-mae:0.089262\n",
            "[330]\ttrain-mae:0.08707\ttest-mae:0.089005\n",
            "[331]\ttrain-mae:0.086981\ttest-mae:0.088919\n",
            "[332]\ttrain-mae:0.086861\ttest-mae:0.08879\n",
            "[333]\ttrain-mae:0.086736\ttest-mae:0.088658\n",
            "[334]\ttrain-mae:0.086641\ttest-mae:0.088557\n",
            "[335]\ttrain-mae:0.086463\ttest-mae:0.088376\n",
            "[336]\ttrain-mae:0.08639\ttest-mae:0.088307\n",
            "[337]\ttrain-mae:0.086321\ttest-mae:0.088238\n",
            "[338]\ttrain-mae:0.086244\ttest-mae:0.088158\n",
            "[339]\ttrain-mae:0.086171\ttest-mae:0.088087\n",
            "[340]\ttrain-mae:0.085966\ttest-mae:0.087886\n",
            "[341]\ttrain-mae:0.085792\ttest-mae:0.087709\n",
            "[342]\ttrain-mae:0.085707\ttest-mae:0.087621\n",
            "[343]\ttrain-mae:0.085664\ttest-mae:0.087581\n",
            "[344]\ttrain-mae:0.08552\ttest-mae:0.087441\n",
            "[345]\ttrain-mae:0.085479\ttest-mae:0.087401\n",
            "[346]\ttrain-mae:0.085443\ttest-mae:0.087365\n",
            "[347]\ttrain-mae:0.085381\ttest-mae:0.087299\n",
            "[348]\ttrain-mae:0.085274\ttest-mae:0.087197\n",
            "[349]\ttrain-mae:0.08515\ttest-mae:0.087069\n",
            "[350]\ttrain-mae:0.085053\ttest-mae:0.086978\n",
            "[351]\ttrain-mae:0.084929\ttest-mae:0.086854\n",
            "[352]\ttrain-mae:0.084773\ttest-mae:0.086699\n",
            "[353]\ttrain-mae:0.08466\ttest-mae:0.086584\n",
            "[354]\ttrain-mae:0.084585\ttest-mae:0.086512\n",
            "[355]\ttrain-mae:0.084433\ttest-mae:0.086357\n",
            "[356]\ttrain-mae:0.084348\ttest-mae:0.08627\n",
            "[357]\ttrain-mae:0.084289\ttest-mae:0.086217\n",
            "[358]\ttrain-mae:0.08424\ttest-mae:0.086169\n",
            "[359]\ttrain-mae:0.084203\ttest-mae:0.086132\n",
            "[360]\ttrain-mae:0.08412\ttest-mae:0.08605\n",
            "[361]\ttrain-mae:0.084044\ttest-mae:0.085974\n",
            "[362]\ttrain-mae:0.083956\ttest-mae:0.085883\n",
            "[363]\ttrain-mae:0.083909\ttest-mae:0.085839\n",
            "[364]\ttrain-mae:0.083808\ttest-mae:0.085743\n",
            "[365]\ttrain-mae:0.083702\ttest-mae:0.085644\n",
            "[366]\ttrain-mae:0.083561\ttest-mae:0.085513\n",
            "[367]\ttrain-mae:0.083461\ttest-mae:0.085411\n",
            "[368]\ttrain-mae:0.083228\ttest-mae:0.085175\n",
            "[369]\ttrain-mae:0.083207\ttest-mae:0.085157\n",
            "[370]\ttrain-mae:0.083036\ttest-mae:0.084981\n",
            "[371]\ttrain-mae:0.082859\ttest-mae:0.0848\n",
            "[372]\ttrain-mae:0.082744\ttest-mae:0.084681\n",
            "[373]\ttrain-mae:0.08268\ttest-mae:0.084619\n",
            "[374]\ttrain-mae:0.08239\ttest-mae:0.084319\n",
            "[375]\ttrain-mae:0.08236\ttest-mae:0.084289\n",
            "[376]\ttrain-mae:0.082291\ttest-mae:0.084221\n",
            "[377]\ttrain-mae:0.082246\ttest-mae:0.084178\n",
            "[378]\ttrain-mae:0.082184\ttest-mae:0.084116\n",
            "[379]\ttrain-mae:0.082075\ttest-mae:0.084001\n",
            "[380]\ttrain-mae:0.081975\ttest-mae:0.083899\n",
            "[381]\ttrain-mae:0.081878\ttest-mae:0.083805\n",
            "[382]\ttrain-mae:0.081745\ttest-mae:0.083673\n",
            "[383]\ttrain-mae:0.081557\ttest-mae:0.083481\n",
            "[384]\ttrain-mae:0.081427\ttest-mae:0.083354\n",
            "[385]\ttrain-mae:0.081404\ttest-mae:0.083333\n",
            "[386]\ttrain-mae:0.081301\ttest-mae:0.083229\n",
            "[387]\ttrain-mae:0.081176\ttest-mae:0.083103\n",
            "[388]\ttrain-mae:0.080909\ttest-mae:0.082826\n",
            "[389]\ttrain-mae:0.080854\ttest-mae:0.082773\n",
            "[390]\ttrain-mae:0.080706\ttest-mae:0.082625\n",
            "[391]\ttrain-mae:0.080673\ttest-mae:0.082591\n",
            "[392]\ttrain-mae:0.080565\ttest-mae:0.082474\n",
            "[393]\ttrain-mae:0.080526\ttest-mae:0.082435\n",
            "[394]\ttrain-mae:0.080476\ttest-mae:0.082384\n",
            "[395]\ttrain-mae:0.080377\ttest-mae:0.082293\n",
            "[396]\ttrain-mae:0.080246\ttest-mae:0.082161\n",
            "[397]\ttrain-mae:0.080184\ttest-mae:0.0821\n",
            "[398]\ttrain-mae:0.080052\ttest-mae:0.081964\n",
            "[399]\ttrain-mae:0.079861\ttest-mae:0.081776\n",
            "[400]\ttrain-mae:0.079785\ttest-mae:0.081693\n",
            "[401]\ttrain-mae:0.079756\ttest-mae:0.081671\n",
            "[402]\ttrain-mae:0.079685\ttest-mae:0.081594\n",
            "[403]\ttrain-mae:0.079571\ttest-mae:0.081486\n",
            "[404]\ttrain-mae:0.079517\ttest-mae:0.081435\n",
            "[405]\ttrain-mae:0.079366\ttest-mae:0.08129\n",
            "[406]\ttrain-mae:0.079249\ttest-mae:0.081177\n",
            "[407]\ttrain-mae:0.079177\ttest-mae:0.081104\n",
            "[408]\ttrain-mae:0.079165\ttest-mae:0.081094\n",
            "[409]\ttrain-mae:0.07908\ttest-mae:0.081004\n",
            "[410]\ttrain-mae:0.079058\ttest-mae:0.080987\n",
            "[411]\ttrain-mae:0.079052\ttest-mae:0.080982\n",
            "[412]\ttrain-mae:0.079012\ttest-mae:0.080946\n",
            "[413]\ttrain-mae:0.078991\ttest-mae:0.080929\n",
            "[414]\ttrain-mae:0.078963\ttest-mae:0.080901\n",
            "[415]\ttrain-mae:0.078895\ttest-mae:0.080833\n",
            "[416]\ttrain-mae:0.078793\ttest-mae:0.080729\n",
            "[417]\ttrain-mae:0.078698\ttest-mae:0.080637\n",
            "[418]\ttrain-mae:0.078641\ttest-mae:0.080582\n",
            "[419]\ttrain-mae:0.078582\ttest-mae:0.080519\n",
            "[420]\ttrain-mae:0.07846\ttest-mae:0.080399\n",
            "[421]\ttrain-mae:0.078354\ttest-mae:0.080296\n",
            "[422]\ttrain-mae:0.078276\ttest-mae:0.080222\n",
            "[423]\ttrain-mae:0.078193\ttest-mae:0.080136\n",
            "[424]\ttrain-mae:0.078168\ttest-mae:0.08011\n",
            "[425]\ttrain-mae:0.078055\ttest-mae:0.079993\n",
            "[426]\ttrain-mae:0.078009\ttest-mae:0.079948\n",
            "[427]\ttrain-mae:0.077847\ttest-mae:0.079786\n",
            "[428]\ttrain-mae:0.077804\ttest-mae:0.079748\n",
            "[429]\ttrain-mae:0.077715\ttest-mae:0.079659\n",
            "[430]\ttrain-mae:0.077692\ttest-mae:0.079637\n",
            "[431]\ttrain-mae:0.077629\ttest-mae:0.079573\n",
            "[432]\ttrain-mae:0.077557\ttest-mae:0.0795\n",
            "[433]\ttrain-mae:0.077547\ttest-mae:0.079489\n",
            "[434]\ttrain-mae:0.077503\ttest-mae:0.079445\n",
            "[435]\ttrain-mae:0.077434\ttest-mae:0.079377\n",
            "[436]\ttrain-mae:0.077377\ttest-mae:0.079323\n",
            "[437]\ttrain-mae:0.077301\ttest-mae:0.079246\n",
            "[438]\ttrain-mae:0.077196\ttest-mae:0.079141\n",
            "[439]\ttrain-mae:0.07708\ttest-mae:0.079028\n",
            "[440]\ttrain-mae:0.077001\ttest-mae:0.078958\n",
            "[441]\ttrain-mae:0.07667\ttest-mae:0.078625\n",
            "[442]\ttrain-mae:0.076616\ttest-mae:0.078573\n",
            "[443]\ttrain-mae:0.07649\ttest-mae:0.078452\n",
            "[444]\ttrain-mae:0.076447\ttest-mae:0.078408\n",
            "[445]\ttrain-mae:0.076354\ttest-mae:0.078314\n",
            "[446]\ttrain-mae:0.076304\ttest-mae:0.078268\n",
            "[447]\ttrain-mae:0.07621\ttest-mae:0.078169\n",
            "[448]\ttrain-mae:0.076191\ttest-mae:0.078152\n",
            "[449]\ttrain-mae:0.076159\ttest-mae:0.078127\n",
            "[450]\ttrain-mae:0.076097\ttest-mae:0.078065\n",
            "[451]\ttrain-mae:0.076059\ttest-mae:0.078027\n",
            "[452]\ttrain-mae:0.076047\ttest-mae:0.078017\n",
            "[453]\ttrain-mae:0.076029\ttest-mae:0.078002\n",
            "[454]\ttrain-mae:0.07586\ttest-mae:0.077828\n",
            "[455]\ttrain-mae:0.075816\ttest-mae:0.077786\n",
            "[456]\ttrain-mae:0.075754\ttest-mae:0.077726\n",
            "[457]\ttrain-mae:0.075734\ttest-mae:0.077706\n",
            "[458]\ttrain-mae:0.075661\ttest-mae:0.07763\n",
            "[459]\ttrain-mae:0.07551\ttest-mae:0.077485\n",
            "[460]\ttrain-mae:0.075466\ttest-mae:0.077442\n",
            "[461]\ttrain-mae:0.075434\ttest-mae:0.077409\n",
            "[462]\ttrain-mae:0.075393\ttest-mae:0.077369\n",
            "[463]\ttrain-mae:0.075308\ttest-mae:0.077288\n",
            "[464]\ttrain-mae:0.075278\ttest-mae:0.077258\n",
            "[465]\ttrain-mae:0.07523\ttest-mae:0.07721\n",
            "[466]\ttrain-mae:0.075116\ttest-mae:0.077098\n",
            "[467]\ttrain-mae:0.075\ttest-mae:0.076984\n",
            "[468]\ttrain-mae:0.074903\ttest-mae:0.076885\n",
            "[469]\ttrain-mae:0.074897\ttest-mae:0.076878\n",
            "[470]\ttrain-mae:0.074865\ttest-mae:0.076843\n",
            "[471]\ttrain-mae:0.074809\ttest-mae:0.076791\n",
            "[472]\ttrain-mae:0.074753\ttest-mae:0.076738\n",
            "[473]\ttrain-mae:0.074664\ttest-mae:0.076654\n",
            "[474]\ttrain-mae:0.074652\ttest-mae:0.076641\n",
            "[475]\ttrain-mae:0.074597\ttest-mae:0.076587\n",
            "[476]\ttrain-mae:0.074536\ttest-mae:0.076529\n",
            "[477]\ttrain-mae:0.074474\ttest-mae:0.076469\n",
            "[478]\ttrain-mae:0.074418\ttest-mae:0.076416\n",
            "[479]\ttrain-mae:0.074307\ttest-mae:0.076299\n",
            "[480]\ttrain-mae:0.074244\ttest-mae:0.07624\n",
            "[481]\ttrain-mae:0.074146\ttest-mae:0.07614\n",
            "[482]\ttrain-mae:0.074093\ttest-mae:0.07609\n",
            "[483]\ttrain-mae:0.074047\ttest-mae:0.07605\n",
            "[484]\ttrain-mae:0.073995\ttest-mae:0.076\n",
            "[485]\ttrain-mae:0.073917\ttest-mae:0.075921\n",
            "[486]\ttrain-mae:0.073905\ttest-mae:0.075911\n",
            "[487]\ttrain-mae:0.073877\ttest-mae:0.075882\n",
            "[488]\ttrain-mae:0.073858\ttest-mae:0.075867\n",
            "[489]\ttrain-mae:0.07383\ttest-mae:0.075838\n",
            "[490]\ttrain-mae:0.073824\ttest-mae:0.07583\n",
            "[491]\ttrain-mae:0.073806\ttest-mae:0.075814\n",
            "[492]\ttrain-mae:0.073606\ttest-mae:0.075613\n",
            "[493]\ttrain-mae:0.073506\ttest-mae:0.075508\n",
            "[494]\ttrain-mae:0.073424\ttest-mae:0.075425\n",
            "[495]\ttrain-mae:0.073315\ttest-mae:0.075318\n",
            "[496]\ttrain-mae:0.073178\ttest-mae:0.075187\n",
            "[497]\ttrain-mae:0.073173\ttest-mae:0.075182\n",
            "[498]\ttrain-mae:0.073122\ttest-mae:0.075127\n",
            "[499]\ttrain-mae:0.073063\ttest-mae:0.075067\n"
          ],
          "name": "stdout"
        }
      ]
    },
    {
      "metadata": {
        "id": "G3o_Ii2DhmJZ",
        "colab_type": "code",
        "colab": {}
      },
      "cell_type": "code",
      "source": [
        "sample['sales'] = y_test\n",
        "sample.to_csv('simple_starter.csv', index=False)"
      ],
      "execution_count": 0,
      "outputs": []
    },
    {
      "metadata": {
        "id": "lTAy7VF1hrb_",
        "colab_type": "code",
        "colab": {}
      },
      "cell_type": "code",
      "source": [
        "from google.colab import files\n",
        "files.download(\"simple_starter.csv\") # 作成したファイルをダウンロード"
      ],
      "execution_count": 0,
      "outputs": []
    }
  ]
}