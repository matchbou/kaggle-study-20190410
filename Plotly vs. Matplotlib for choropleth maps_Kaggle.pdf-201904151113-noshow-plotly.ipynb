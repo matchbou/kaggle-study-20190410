{
  "nbformat": 4,
  "nbformat_minor": 0,
  "metadata": {
    "colab": {
      "name": "Colaboratory へようこそ",
      "version": "0.3.2",
      "provenance": [],
      "collapsed_sections": [],
      "include_colab_link": true
    },
    "kernelspec": {
      "name": "python3",
      "display_name": "Python 3"
    },
    "accelerator": "GPU"
  },
  "cells": [
    {
      "cell_type": "markdown",
      "metadata": {
        "id": "view-in-github",
        "colab_type": "text"
      },
      "source": [
        "<a href=\"https://colab.research.google.com/github/matchbou/kaggle-study-20190410/blob/master/Plotly%20vs.%20Matplotlib%20for%20choropleth%20maps_Kaggle.pdf-201904151113-noshow-plotly.ipynb\" target=\"_parent\"><img src=\"https://colab.research.google.com/assets/colab-badge.svg\" alt=\"Open In Colab\"/></a>"
      ]
    },
    {
      "metadata": {
        "id": "Z023-HUhB2cN",
        "colab_type": "code",
        "colab": {}
      },
      "cell_type": "code",
      "source": [
        "# https://www.kaggle.com/ievgenvp/plotly-vs-matplotlib-for-choropleth-maps\n",
        "\n",
        "# Plotly vs. Matplotlib for choropleth maps."
      ],
      "execution_count": 0,
      "outputs": []
    },
    {
      "metadata": {
        "id": "I3M7Gxgq5lCr",
        "colab_type": "code",
        "colab": {
          "base_uri": "https://localhost:8080/",
          "height": 44
        },
        "outputId": "c4438994-7b0b-49ba-fe69-8397041f5469"
      },
      "cell_type": "code",
      "source": [
        "import plotly\n",
        "plotly.__version__"
      ],
      "execution_count": 1,
      "outputs": [
        {
          "output_type": "execute_result",
          "data": {
            "text/plain": [
              "'2.7.0'"
            ]
          },
          "metadata": {
            "tags": []
          },
          "execution_count": 1
        }
      ]
    },
    {
      "metadata": {
        "id": "OmCQUiwH5EGx",
        "colab_type": "code",
        "colab": {
          "base_uri": "https://localhost:8080/",
          "height": 356
        },
        "outputId": "876cf542-7e15-4bdd-8134-98c4c311d58b"
      },
      "cell_type": "code",
      "source": [
        "# plotly 2.7.0にダウングレード\n",
        "#!pip uninstall plotly\n",
        "#!pip3 install plotly==2.7.0"
      ],
      "execution_count": 32,
      "outputs": [
        {
          "output_type": "stream",
          "text": [
            "Uninstalling plotly-3.6.1:\n",
            "  Would remove:\n",
            "    /usr/local/etc/jupyter/nbconfig/notebook.d/plotlywidget.json\n",
            "    /usr/local/lib/python3.6/dist-packages/_plotly_utils/*\n",
            "    /usr/local/lib/python3.6/dist-packages/plotly-3.6.1.dist-info/*\n",
            "    /usr/local/lib/python3.6/dist-packages/plotly/*\n",
            "    /usr/local/lib/python3.6/dist-packages/plotlywidget/*\n",
            "    /usr/local/share/jupyter/nbextensions/plotlywidget/extension.js\n",
            "    /usr/local/share/jupyter/nbextensions/plotlywidget/index.js\n",
            "    /usr/local/share/jupyter/nbextensions/plotlywidget/index.js.map\n",
            "Proceed (y/n)? y\n",
            "y\n",
            "  Successfully uninstalled plotly-3.6.1\n"
          ],
          "name": "stdout"
        }
      ]
    },
    {
      "metadata": {
        "id": "YpYVR8TS47MZ",
        "colab_type": "code",
        "colab": {
          "base_uri": "https://localhost:8080/",
          "height": 44
        },
        "outputId": "8ebfbf8f-ab34-482d-cdeb-0863b0e5c9aa"
      },
      "cell_type": "code",
      "source": [
        "import plotly\n",
        "plotly.__version__"
      ],
      "execution_count": 2,
      "outputs": [
        {
          "output_type": "execute_result",
          "data": {
            "text/plain": [
              "'2.7.0'"
            ]
          },
          "metadata": {
            "tags": []
          },
          "execution_count": 2
        }
      ]
    },
    {
      "metadata": {
        "id": "ZEwLQPLDBIEp",
        "colab_type": "code",
        "outputId": "9e656375-50e3-4145-b1fe-8dd900006f43",
        "colab": {
          "resources": {
            "http://localhost:8080/nbextensions/google.colab/files.js": {
              "data": "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",
              "ok": true,
              "headers": [
                [
                  "content-length",
                  "5492"
                ],
                [
                  "content-type",
                  "application/javascript"
                ]
              ],
              "status": 200,
              "status_text": "OK"
            }
          },
          "base_uri": "https://localhost:8080/",
          "height": 132
        }
      },
      "cell_type": "code",
      "source": [
        "from google.colab import files\n",
        "files.upload()"
      ],
      "execution_count": 3,
      "outputs": [
        {
          "output_type": "display_data",
          "data": {
            "text/html": [
              "\n",
              "     <input type=\"file\" id=\"files-fe80ddc7-693f-428a-8853-1923d616c01a\" name=\"files[]\" multiple disabled />\n",
              "     <output id=\"result-fe80ddc7-693f-428a-8853-1923d616c01a\">\n",
              "      Upload widget is only available when the cell has been executed in the\n",
              "      current browser session. Please rerun this cell to enable.\n",
              "      </output>\n",
              "      <script src=\"/nbextensions/google.colab/files.js\"></script> "
            ],
            "text/plain": [
              "<IPython.core.display.HTML object>"
            ]
          },
          "metadata": {
            "tags": []
          }
        },
        {
          "output_type": "stream",
          "text": [
            "Saving kaggle.json to kaggle (2).json\n"
          ],
          "name": "stdout"
        },
        {
          "output_type": "execute_result",
          "data": {
            "text/plain": [
              "{'kaggle.json': b'{\"username\":\"matchbou\",\"key\":\"fb2093338e9cd630d62e0949908398dc\"}'}"
            ]
          },
          "metadata": {
            "tags": []
          },
          "execution_count": 3
        }
      ]
    },
    {
      "metadata": {
        "id": "Yml_BXJWB40d",
        "colab_type": "code",
        "colab": {}
      },
      "cell_type": "code",
      "source": [
        "!mkdir -p ~/.kaggle\n",
        "!cp kaggle.json ~/.kaggle/"
      ],
      "execution_count": 0,
      "outputs": []
    },
    {
      "metadata": {
        "id": "ZZASHTT4CBEV",
        "colab_type": "code",
        "outputId": "f1b05500-9b44-4431-f837-4998ec8d4230",
        "colab": {
          "base_uri": "https://localhost:8080/",
          "height": 304
        }
      },
      "cell_type": "code",
      "source": [
        "!pip install kaggle"
      ],
      "execution_count": 5,
      "outputs": [
        {
          "output_type": "stream",
          "text": [
            "Requirement already satisfied: kaggle in /usr/local/lib/python3.6/dist-packages (1.5.3)\n",
            "Requirement already satisfied: urllib3<1.25,>=1.21.1 in /usr/local/lib/python3.6/dist-packages (from kaggle) (1.22)\n",
            "Requirement already satisfied: six>=1.10 in /usr/local/lib/python3.6/dist-packages (from kaggle) (1.11.0)\n",
            "Requirement already satisfied: certifi in /usr/local/lib/python3.6/dist-packages (from kaggle) (2019.3.9)\n",
            "Requirement already satisfied: python-dateutil in /usr/local/lib/python3.6/dist-packages (from kaggle) (2.5.3)\n",
            "Requirement already satisfied: requests in /usr/local/lib/python3.6/dist-packages (from kaggle) (2.18.4)\n",
            "Requirement already satisfied: tqdm in /usr/local/lib/python3.6/dist-packages (from kaggle) (4.28.1)\n",
            "Requirement already satisfied: python-slugify in /usr/local/lib/python3.6/dist-packages (from kaggle) (3.0.2)\n",
            "Requirement already satisfied: idna<2.7,>=2.5 in /usr/local/lib/python3.6/dist-packages (from requests->kaggle) (2.6)\n",
            "Requirement already satisfied: chardet<3.1.0,>=3.0.2 in /usr/local/lib/python3.6/dist-packages (from requests->kaggle) (3.0.4)\n",
            "Requirement already satisfied: text-unidecode==1.2 in /usr/local/lib/python3.6/dist-packages (from python-slugify->kaggle) (1.2)\n"
          ],
          "name": "stdout"
        }
      ]
    },
    {
      "metadata": {
        "id": "L3206XInCDO1",
        "colab_type": "code",
        "colab": {}
      },
      "cell_type": "code",
      "source": [
        "!chmod 600 /root/.kaggle/kaggle.json"
      ],
      "execution_count": 0,
      "outputs": []
    },
    {
      "metadata": {
        "id": "5EGQWTZXqCI8",
        "colab_type": "code",
        "colab": {
          "base_uri": "https://localhost:8080/",
          "height": 70
        },
        "outputId": "4b23face-318d-4948-9761-1455103174b5"
      },
      "cell_type": "code",
      "source": [
        "# kaggleデータ置き場とjupyernoteのカレントディレクトリフォルダを作成\n",
        "\n",
        "!mkdir ./input\n",
        "!mkdir ./notebook"
      ],
      "execution_count": 7,
      "outputs": [
        {
          "output_type": "stream",
          "text": [
            "mkdir: cannot create directory ‘./input’: File exists\n",
            "mkdir: cannot create directory ‘./notebook’: File exists\n"
          ],
          "name": "stdout"
        }
      ]
    },
    {
      "metadata": {
        "id": "ZkpuriyVCYfV",
        "colab_type": "code",
        "colab": {}
      },
      "cell_type": "code",
      "source": [
        "#osライブラリ読込してinputに移動⇒kaggleデータもダウンロード　⇒ notebookフォルダに移動\n",
        "import os\n",
        "os.chdir('input')\n",
        "\n"
      ],
      "execution_count": 0,
      "outputs": []
    },
    {
      "metadata": {
        "id": "6DAckYaLvf38",
        "colab_type": "code",
        "colab": {
          "base_uri": "https://localhost:8080/",
          "height": 148
        },
        "outputId": "7bcaffbb-ea4f-466c-89d4-6deb192300c5"
      },
      "cell_type": "code",
      "source": [
        "!pwd\n",
        "!ls -a"
      ],
      "execution_count": 9,
      "outputs": [
        {
          "output_type": "stream",
          "text": [
            "/content/input\n",
            " .\t\t\t     FAF4_Regional.csv\n",
            " ..\t\t\t    'FAF4 User Guide.pdf'\n",
            " CFS_AREA_shapefile_010215   freight-analysis-framework.zip\n",
            " FAF4.4_State.csv\n"
          ],
          "name": "stdout"
        }
      ]
    },
    {
      "metadata": {
        "id": "kST5vn2BPMpw",
        "colab_type": "code",
        "outputId": "4263520f-f486-44d0-bd7d-b5bc3c237235",
        "colab": {
          "base_uri": "https://localhost:8080/",
          "height": 44
        }
      },
      "cell_type": "code",
      "source": [
        "#https://www.kaggle.com/c/titanic/data\n",
        "!kaggle datasets download -d usdot/freight-analysis-framework"
      ],
      "execution_count": 8,
      "outputs": [
        {
          "output_type": "stream",
          "text": [
            "freight-analysis-framework.zip: Skipping, found more recently modified local copy (use --force to force download)\n"
          ],
          "name": "stdout"
        }
      ]
    },
    {
      "metadata": {
        "id": "xyoIl8RwPcTx",
        "colab_type": "code",
        "colab": {}
      },
      "cell_type": "code",
      "source": [
        "#!unzip freight-analysis-framework.zip -d ./"
      ],
      "execution_count": 0,
      "outputs": []
    },
    {
      "metadata": {
        "id": "5ql7TrzFPWlQ",
        "colab_type": "code",
        "outputId": "8f7ee3c5-81fd-4702-d25a-e9ebdff3f562",
        "colab": {
          "base_uri": "https://localhost:8080/",
          "height": 148
        }
      },
      "cell_type": "code",
      "source": [
        "!pwd\n",
        "!ls -a"
      ],
      "execution_count": 10,
      "outputs": [
        {
          "output_type": "stream",
          "text": [
            "/content/input\n",
            " .\t\t\t     FAF4_Regional.csv\n",
            " ..\t\t\t    'FAF4 User Guide.pdf'\n",
            " CFS_AREA_shapefile_010215   freight-analysis-framework.zip\n",
            " FAF4.4_State.csv\n"
          ],
          "name": "stdout"
        }
      ]
    },
    {
      "metadata": {
        "id": "Z-QhitXHCQ-N",
        "colab_type": "code",
        "outputId": "7981ad47-2299-4041-98c2-572e2c4e5c21",
        "colab": {
          "base_uri": "https://localhost:8080/",
          "height": 148
        }
      },
      "cell_type": "code",
      "source": [
        "#上記操作の結果以下のディレクトリ配置となる\n",
        "\n",
        "# /content/notebook このipynbのカレントディレクトリ\n",
        "# /content/input カグルからダウンロードしたcsvファイルの置き場所\n",
        "\n",
        "!pwd\n",
        "!ls -a ../input\n"
      ],
      "execution_count": 11,
      "outputs": [
        {
          "output_type": "stream",
          "text": [
            "/content/input\n",
            " .\t\t\t     FAF4_Regional.csv\n",
            " ..\t\t\t    'FAF4 User Guide.pdf'\n",
            " CFS_AREA_shapefile_010215   freight-analysis-framework.zip\n",
            " FAF4.4_State.csv\n"
          ],
          "name": "stdout"
        }
      ]
    },
    {
      "metadata": {
        "id": "3Iv2BEn4Dh_M",
        "colab_type": "code",
        "colab": {}
      },
      "cell_type": "code",
      "source": [
        "#ここからカーネルの内容に踏み込む"
      ],
      "execution_count": 0,
      "outputs": []
    },
    {
      "metadata": {
        "id": "rG7gfWM11jB0",
        "colab_type": "code",
        "colab": {
          "base_uri": "https://localhost:8080/",
          "height": 18
        },
        "outputId": "be742dc5-f6c9-47a0-9556-8a18b0b9021f"
      },
      "cell_type": "code",
      "source": [
        "import numpy as np\n",
        "import pandas as pd\n",
        "import plotly.graph_objs as go\n",
        "\n",
        "from IPython.display import HTML\n",
        "from plotly import __version__\n",
        "from plotly.offline import download_plotlyjs, init_notebook_mode, plot, iplot\n",
        "\n",
        "init_notebook_mode(connected=True)"
      ],
      "execution_count": 13,
      "outputs": [
        {
          "output_type": "display_data",
          "data": {
            "text/vnd.plotly.v1+html": "<script>requirejs.config({paths: { 'plotly': ['https://cdn.plot.ly/plotly-latest.min']},});if(!window.Plotly) {{require(['plotly'],function(plotly) {window.Plotly=plotly;});}}</script>",
            "text/html": [
              "<script>requirejs.config({paths: { 'plotly': ['https://cdn.plot.ly/plotly-latest.min']},});if(!window.Plotly) {{require(['plotly'],function(plotly) {window.Plotly=plotly;});}}</script>"
            ]
          },
          "metadata": {
            "tags": []
          }
        }
      ]
    },
    {
      "metadata": {
        "id": "e02EEnsw2X35",
        "colab_type": "code",
        "colab": {}
      },
      "cell_type": "code",
      "source": [
        "states_dict = {'01': \"AL\", '02': \"AK\", \"04\": \"AZ\", \"05\": \"AR\",\n",
        "              \"06\": \"CA\", \"08\": \"CO\", \"09\": \"CT\", \"10\": \"DE\",\n",
        "              \"11\": \"DC\", \"12\": \"FL\", \"13\": \"GA\", \"15\": \"HI\",\n",
        "              \"16\": \"ID\", \"17\": \"IL\", \"18\": \"IN\", \"19\": \"IA\",\n",
        "              \"20\": \"KS\", \"21\": \"KY\", \"22\": \"LA\", \"23\": \"ME\",\n",
        "              \"24\": \"MD\", \"25\": \"MA\", \"26\": \"MI\", \"27\": \"MN\",\n",
        "              \"28\": \"MS\", \"29\": \"MO\", \"30\": \"MT\", \"31\": \"NE\",\n",
        "              \"32\": \"NV\", \"33\": \"NH\", \"34\": \"NJ\", \"35\": \"NM\",\n",
        "              \"36\": \"NY\", \"37\": \"NC\", \"38\": \"ND\", \"39\": \"OH\",\n",
        "              \"40\": \"OK\", \"41\": \"OR\", \"42\": \"PA\", \"44\": \"RI\",\n",
        "              \"45\": \"SC\", \"46\": \"SD\", \"47\": \"TN\", \"48\": \"TX\",\n",
        "              \"49\": \"UT\", \"50\": \"VT\", \"51\": \"VA\", \"53\": \"WA\",\n",
        "              \"54\": \"WV\", \"55\": \"WI\", \"56\": \"WY\"}\n",
        "\n",
        "years = ['2012', '2013', '2014','2015','2020',\n",
        "         '2025', '2030', '2035', '2040', '2045']"
      ],
      "execution_count": 0,
      "outputs": []
    },
    {
      "metadata": {
        "id": "PaR2hE572aZ3",
        "colab_type": "code",
        "colab": {}
      },
      "cell_type": "code",
      "source": [
        "states_df = pd.read_csv('../input/FAF4.4_State.csv',\n",
        "                         dtype = {'dms_orig': str, 'dms_dest': str})\n"
      ],
      "execution_count": 0,
      "outputs": []
    },
    {
      "metadata": {
        "id": "nkEZw1ve2dZA",
        "colab_type": "code",
        "colab": {}
      },
      "cell_type": "code",
      "source": [
        "states_df['dms_orig'].replace(states_dict, inplace = True)\n",
        "states_df['dms_dest'].replace(states_dict, inplace = True)"
      ],
      "execution_count": 0,
      "outputs": []
    },
    {
      "metadata": {
        "id": "0w1ah44u2gYv",
        "colab_type": "code",
        "colab": {}
      },
      "cell_type": "code",
      "source": [
        "# domestic origin by value 2012-2045 \n",
        "dom_origin_df = states_df.loc[pd.isnull(states_df['fr_orig'])]\n",
        "\n",
        "# domestic destination by value 2012-2045 \n",
        "dom_dest_df = states_df.loc[pd.isnull(states_df['fr_dest'])]\n",
        "\n",
        "# dataframe for freight balance (outflow from regoin minus inflow to region)\n",
        "dom_origin_bal_df = dom_origin_df[['dms_orig','value_2012',\n",
        "                                'value_2013', 'value_2014',\n",
        "                                'value_2015', 'value_2020',\n",
        "                                'value_2025', 'value_2030',\n",
        "                                'value_2035', 'value_2040',\n",
        "                                'value_2045']].groupby('dms_orig', as_index = True).sum()\n",
        "\n",
        "dom_dest_bal_df = dom_dest_df[['dms_dest','value_2012',\n",
        "                                'value_2013', 'value_2014',\n",
        "                                'value_2015', 'value_2020',\n",
        "                                'value_2025', 'value_2030',\n",
        "                                'value_2035', 'value_2040',\n",
        "                                'value_2045']].groupby('dms_dest', as_index = True).sum()\n",
        "\n",
        "dom_dest_bal_df = dom_dest_bal_df.apply(lambda x: x*(-1))\n",
        "\n",
        "balance_df = dom_origin_bal_df.add(dom_dest_bal_df, fill_value = 0.0)\n",
        "balance_df.reset_index(inplace = True)\n",
        "balance_df.columns = ['state']+years"
      ],
      "execution_count": 0,
      "outputs": []
    },
    {
      "metadata": {
        "id": "jpqouFuo2jrf",
        "colab_type": "code",
        "colab": {}
      },
      "cell_type": "code",
      "source": [
        "scl = [[0.0, 'rgb(84,39,143)'], [0.1, 'rgb(117,107,177)'], [0.2, 'rgb(158,154,200)'],\n",
        "       [0.3, 'rgb(188,189,220)'], [0.4, '218,218,235)'], [0.5, 'rgb(240,240,240)'],\n",
        "       [0.6, 'rgb(255,214,151)'],[0.8, 'rgb(250,195,104)'], [0.9, 'rgb(250,177,58)'],\n",
        "       [1.0, 'rgb(252,153,6)']]\n",
        "\n",
        "data_bal = []\n",
        "\n",
        "data_2012 = [dict(type='choropleth',\n",
        "                colorscale = scl,\n",
        "                autocolorscale = False,\n",
        "                locations = balance_df['state'],\n",
        "                z = balance_df['2012'].astype(float)/1000,\n",
        "                locationmode = 'USA-states',\n",
        "                text = balance_df['state'],\n",
        "                marker = dict(line = dict(color = 'rgb(255,255,255)',\n",
        "                                          width = 2)),\n",
        "                visible = True,\n",
        "                colorbar = dict(title = \"Billions USD\"))]\n",
        "    \n",
        "data_bal.extend(data_2012)\n",
        "\n",
        "for i in years[1:]:\n",
        "    data_upd = [dict(type='choropleth',\n",
        "                      colorscale = scl,\n",
        "                      autocolorscale = False,\n",
        "                      locations = balance_df['state'],\n",
        "                      z = balance_df[i].astype(float)/1000,\n",
        "                      locationmode = 'USA-states',\n",
        "                      text = balance_df['state'],\n",
        "                      marker = dict(line = dict(color = 'rgb(255,255,255)',\n",
        "                                                width = 2)),\n",
        "                      visible = False,\n",
        "                      colorbar = dict(title = \"Billions USD\"))]\n",
        "    \n",
        "    data_bal.extend(data_upd)\n",
        "\n",
        "# set menues inside the plot\n",
        "steps = []\n",
        "yr = 0\n",
        "\n",
        "\n",
        "for i in range(0,len(data_bal)):\n",
        "    step = dict(method = \"restyle\",\n",
        "                args = [\"visible\", [False]*len(data_bal)],\n",
        "                label = years[yr]) \n",
        "    step['args'][1][i] = True\n",
        "    steps.append(step)\n",
        "    yr += 1\n",
        "\n",
        "sliders = [dict(active = 10,\n",
        "                currentvalue = {\"prefix\": \"Year: \"},\n",
        "                pad = {\"t\": 50},\n",
        "                steps = steps)]    \n",
        "\n",
        "layout = dict(title = 'Production / consumption balance per state',\n",
        "              geo = dict(scope='usa',\n",
        "                         projection=dict( type='albers usa' ),\n",
        "                         showlakes = True,\n",
        "                         lakecolor = 'rgb(255, 255, 255)'),\n",
        "              sliders = sliders)\n",
        "\n",
        "\n",
        "fig = dict(data=data_bal, layout=layout)\n"
      ],
      "execution_count": 0,
      "outputs": []
    },
    {
      "metadata": {
        "id": "oMPAgVHA3FEI",
        "colab_type": "code",
        "colab": {
          "base_uri": "https://localhost:8080/",
          "height": 542
        },
        "outputId": "b4489126-260f-4c03-c49f-4712f45af6cb"
      },
      "cell_type": "code",
      "source": [
        "iplot( fig, filename='d3-cloropleth-map')"
      ],
      "execution_count": 19,
      "outputs": [
        {
          "output_type": "display_data",
          "data": {
            "text/vnd.plotly.v1+html": "<div id=\"b5d1d17c-1aa5-46a0-ad23-9e9b2a21b004\" style=\"height: 525px; width: 100%;\" class=\"plotly-graph-div\"></div><script type=\"text/javascript\">require([\"plotly\"], function(Plotly) { window.PLOTLYENV=window.PLOTLYENV || {};window.PLOTLYENV.BASE_URL=\"https://plot.ly\";Plotly.newPlot(\"b5d1d17c-1aa5-46a0-ad23-9e9b2a21b004\", [{\"type\": \"choropleth\", \"colorscale\": [[0.0, \"rgb(84,39,143)\"], [0.1, \"rgb(117,107,177)\"], [0.2, \"rgb(158,154,200)\"], [0.3, \"rgb(188,189,220)\"], [0.4, \"218,218,235)\"], [0.5, \"rgb(240,240,240)\"], [0.6, \"rgb(255,214,151)\"], [0.8, \"rgb(250,195,104)\"], [0.9, \"rgb(250,177,58)\"], [1.0, \"rgb(252,153,6)\"]], \"autocolorscale\": false, \"locations\": [\"AK\", \"AL\", \"AR\", \"AZ\", \"CA\", \"CO\", \"CT\", \"DC\", \"DE\", \"FL\", \"GA\", \"HI\", \"IA\", \"ID\", \"IL\", \"IN\", \"KS\", \"KY\", \"LA\", \"MA\", \"MD\", \"ME\", \"MI\", \"MN\", \"MO\", \"MS\", \"MT\", \"NC\", \"ND\", \"NE\", \"NH\", \"NJ\", \"NM\", \"NV\", \"NY\", \"OH\", \"OK\", \"OR\", \"PA\", \"RI\", \"SC\", \"SD\", \"TN\", \"TX\", \"UT\", \"VA\", \"VT\", \"WA\", \"WI\", \"WV\", \"WY\"], \"z\": [13.911494269210424, -20.61273994303422, -15.514676024931017, -44.678151448001444, -80.76871541160648, -10.915472182695988, 30.1690263109784, -7.696241502149736, -13.158112672137838, -120.2600868355676, -32.5233822594111, -13.903022238178524, 16.145662787984357, -8.17822935175783, 63.85807906637888, -14.366839046948007, 18.26803124118771, -3.665733245040581, -14.700051798330794, -34.674750576293704, -30.264989327756076, -5.9284557842309225, -57.58305046198401, 2.14086162016436, -22.510718721985526, -3.941279044367635, -12.722245440063881, 21.444698845308448, 19.238893882863746, -0.4058760736801778, -25.565389802626342, 2.827113980416034, -7.374069228387409, -14.515944332856117, -70.47667812877754, -25.25697694724577, -5.069083758760593, -14.901875444920675, -31.34550955577672, 0.051610052779527904, -32.009818706050574, -0.037555445989550205, -5.5969898367469435, -52.66462495749025, -3.933916157693078, -38.38577210427058, -1.3003536322619038, 14.735612945169619, 17.88681766157225, 2.5219969930478694, 6.156469930933708], \"locationmode\": \"USA-states\", \"text\": [\"AK\", \"AL\", \"AR\", \"AZ\", \"CA\", \"CO\", \"CT\", \"DC\", \"DE\", \"FL\", \"GA\", \"HI\", \"IA\", \"ID\", \"IL\", \"IN\", \"KS\", \"KY\", \"LA\", \"MA\", \"MD\", \"ME\", \"MI\", \"MN\", \"MO\", \"MS\", \"MT\", \"NC\", \"ND\", \"NE\", \"NH\", \"NJ\", \"NM\", \"NV\", \"NY\", \"OH\", \"OK\", \"OR\", \"PA\", \"RI\", \"SC\", \"SD\", \"TN\", \"TX\", \"UT\", \"VA\", \"VT\", \"WA\", \"WI\", \"WV\", \"WY\"], \"marker\": {\"line\": {\"color\": \"rgb(255,255,255)\", \"width\": 2}}, \"visible\": true, \"colorbar\": {\"title\": \"Billions USD\"}}, {\"type\": \"choropleth\", \"colorscale\": [[0.0, \"rgb(84,39,143)\"], [0.1, \"rgb(117,107,177)\"], [0.2, \"rgb(158,154,200)\"], [0.3, \"rgb(188,189,220)\"], [0.4, \"218,218,235)\"], [0.5, \"rgb(240,240,240)\"], [0.6, \"rgb(255,214,151)\"], [0.8, \"rgb(250,195,104)\"], [0.9, \"rgb(250,177,58)\"], [1.0, \"rgb(252,153,6)\"]], \"autocolorscale\": false, \"locations\": [\"AK\", \"AL\", \"AR\", \"AZ\", \"CA\", \"CO\", \"CT\", \"DC\", \"DE\", \"FL\", \"GA\", \"HI\", \"IA\", \"ID\", \"IL\", \"IN\", \"KS\", \"KY\", \"LA\", \"MA\", \"MD\", \"ME\", \"MI\", \"MN\", \"MO\", \"MS\", \"MT\", \"NC\", \"ND\", \"NE\", \"NH\", \"NJ\", \"NM\", \"NV\", \"NY\", \"OH\", \"OK\", \"OR\", \"PA\", \"RI\", \"SC\", \"SD\", \"TN\", \"TX\", \"UT\", \"VA\", \"VT\", \"WA\", \"WI\", \"WV\", \"WY\"], \"z\": [18.39983961823521, -21.243231460641955, -12.733159729274687, -44.64551086240663, -61.48686257565953, -13.670225518117018, 28.801394591112242, -13.030822462452019, -11.708150084068134, -118.06826325366245, -36.44368924547796, -13.741039164904175, 22.159059502053918, -2.6448403324319223, 54.90184373480431, -7.951197059775412, 19.710739834788313, -0.6683103357405052, -12.551437382810109, -37.13384439833375, -40.278645123702795, -10.50601360629379, -7.212811174832226, -4.71686950637697, -30.792584882270777, -3.6560455527917073, -14.562913699134093, 27.1771591667037, 28.78566069894332, -1.5182489802112977, -26.71331693643539, 0.9949215146493516, -7.5318325067497645, -16.228821068391042, -78.40494318157492, -27.88129001950065, 0.46290981365658807, -30.213065162802494, -28.63611116935045, -0.4581582850950217, -29.11256799966481, -1.5324874877139592, -5.147956755535851, -19.506260554102717, -0.9849758749534667, -45.436541985727615, -0.998455043820246, 27.43354281160125, 15.570144090214919, -1.9189396912667727, 4.865463693215293], \"locationmode\": \"USA-states\", \"text\": [\"AK\", \"AL\", \"AR\", \"AZ\", \"CA\", \"CO\", \"CT\", \"DC\", \"DE\", \"FL\", \"GA\", \"HI\", \"IA\", \"ID\", \"IL\", \"IN\", \"KS\", \"KY\", \"LA\", \"MA\", \"MD\", \"ME\", \"MI\", \"MN\", \"MO\", \"MS\", \"MT\", \"NC\", \"ND\", \"NE\", \"NH\", \"NJ\", \"NM\", \"NV\", \"NY\", \"OH\", \"OK\", \"OR\", \"PA\", \"RI\", \"SC\", \"SD\", \"TN\", \"TX\", \"UT\", \"VA\", \"VT\", \"WA\", \"WI\", \"WV\", \"WY\"], \"marker\": {\"line\": {\"color\": \"rgb(255,255,255)\", \"width\": 2}}, \"visible\": false, \"colorbar\": {\"title\": \"Billions USD\"}}, {\"type\": \"choropleth\", \"colorscale\": [[0.0, \"rgb(84,39,143)\"], [0.1, \"rgb(117,107,177)\"], [0.2, \"rgb(158,154,200)\"], [0.3, \"rgb(188,189,220)\"], [0.4, \"218,218,235)\"], [0.5, \"rgb(240,240,240)\"], [0.6, \"rgb(255,214,151)\"], [0.8, \"rgb(250,195,104)\"], [0.9, \"rgb(250,177,58)\"], [1.0, \"rgb(252,153,6)\"]], \"autocolorscale\": false, \"locations\": [\"AK\", \"AL\", \"AR\", \"AZ\", \"CA\", \"CO\", \"CT\", \"DC\", \"DE\", \"FL\", \"GA\", \"HI\", \"IA\", \"ID\", \"IL\", \"IN\", \"KS\", \"KY\", \"LA\", \"MA\", \"MD\", \"ME\", \"MI\", \"MN\", \"MO\", \"MS\", \"MT\", \"NC\", \"ND\", \"NE\", \"NH\", \"NJ\", \"NM\", \"NV\", \"NY\", \"OH\", \"OK\", \"OR\", \"PA\", \"RI\", \"SC\", \"SD\", \"TN\", \"TX\", \"UT\", \"VA\", \"VT\", \"WA\", \"WI\", \"WV\", \"WY\"], \"z\": [21.45189627089724, -22.3248762513797, -15.348710750320256, -46.444720622880794, -61.104518793947996, -9.957123454387911, -8.38587799782175, -13.020879305041555, -11.205731123490274, -122.28879643184173, -35.756607245463705, -13.006058806836093, 24.441238623555634, -3.007809192740766, 43.094755889313646, -5.29566133006342, 15.266367695252178, 0.37467963670165044, 5.339017784860742, -34.71971932506503, -49.84881188215717, -8.269657528614625, -83.11620229070867, -7.4472868031481045, -25.853394753260538, -1.1569683397183252, -15.672997377053806, 18.89158712469408, 37.95479801677779, -1.9656088415134583, -26.094919703188985, -6.760671547590405, -8.891576225275479, -19.626739615855126, -86.72852212960774, -29.875328308342375, -3.6537844614847854, -18.65674469705674, -23.074825795929414, -0.01848443475134263, -30.47476472647398, -0.05163939038309764, -5.278724447685469, 13.712944298451767, -2.89636232429542, -44.327613909784006, -1.5050023087245572, 34.2446479785635, 12.241472331609636, 0.7864798190548027, 4.681552313071421], \"locationmode\": \"USA-states\", \"text\": [\"AK\", \"AL\", \"AR\", \"AZ\", \"CA\", \"CO\", \"CT\", \"DC\", \"DE\", \"FL\", \"GA\", \"HI\", \"IA\", \"ID\", \"IL\", \"IN\", \"KS\", \"KY\", \"LA\", \"MA\", \"MD\", \"ME\", \"MI\", \"MN\", \"MO\", \"MS\", \"MT\", \"NC\", \"ND\", \"NE\", \"NH\", \"NJ\", \"NM\", \"NV\", \"NY\", \"OH\", \"OK\", \"OR\", \"PA\", \"RI\", \"SC\", \"SD\", \"TN\", \"TX\", \"UT\", \"VA\", \"VT\", \"WA\", \"WI\", \"WV\", \"WY\"], \"marker\": {\"line\": {\"color\": \"rgb(255,255,255)\", \"width\": 2}}, \"visible\": false, \"colorbar\": {\"title\": \"Billions USD\"}}, {\"type\": \"choropleth\", \"colorscale\": [[0.0, \"rgb(84,39,143)\"], [0.1, \"rgb(117,107,177)\"], [0.2, \"rgb(158,154,200)\"], [0.3, \"rgb(188,189,220)\"], [0.4, \"218,218,235)\"], [0.5, \"rgb(240,240,240)\"], [0.6, \"rgb(255,214,151)\"], [0.8, \"rgb(250,195,104)\"], [0.9, \"rgb(250,177,58)\"], [1.0, \"rgb(252,153,6)\"]], \"autocolorscale\": false, \"locations\": [\"AK\", \"AL\", \"AR\", \"AZ\", \"CA\", \"CO\", \"CT\", \"DC\", \"DE\", \"FL\", \"GA\", \"HI\", \"IA\", \"ID\", \"IL\", \"IN\", \"KS\", \"KY\", \"LA\", \"MA\", \"MD\", \"ME\", \"MI\", \"MN\", \"MO\", \"MS\", \"MT\", \"NC\", \"ND\", \"NE\", \"NH\", \"NJ\", \"NM\", \"NV\", \"NY\", \"OH\", \"OK\", \"OR\", \"PA\", \"RI\", \"SC\", \"SD\", \"TN\", \"TX\", \"UT\", \"VA\", \"VT\", \"WA\", \"WI\", \"WV\", \"WY\"], \"z\": [21.81372020632492, -25.5247116977229, -17.51038196045492, -49.1485151868902, -69.43252283983956, -5.513119791271776, -11.17636518050154, -13.138082932930022, -10.355125626317218, -120.41063870556536, -36.007465387056754, -13.4089688051554, 22.72458180770735, -3.9626146267064324, 46.89344834725268, -1.3098465848923662, 14.059326301213005, -6.8065836342853725, 7.55714188866393, -34.46037139793468, -51.24410561792093, -9.125522106416087, -88.41871815401409, -3.9445354331350537, -28.773885247312485, -1.1847193247465475, -15.853883422078194, 22.151883053774945, 40.46165824482738, -4.447297359581629, -28.16494870443266, -29.13542157021712, -10.328593669015172, -22.418733341716027, -99.49850415537902, -36.32961592721683, -7.330613904345403, -16.00209430227344, -26.517144216118382, -1.2322956409764447, -31.24557447847078, 0.5526922304209584, -15.275504720530996, 40.72441992728785, -2.012505429494311, -51.94955507721886, -2.5936194156977073, 29.342535143675168, 7.817968732815585, -9.47407170795143, 4.529948416504798], \"locationmode\": \"USA-states\", \"text\": [\"AK\", \"AL\", \"AR\", \"AZ\", \"CA\", \"CO\", \"CT\", \"DC\", \"DE\", \"FL\", \"GA\", \"HI\", \"IA\", \"ID\", \"IL\", \"IN\", \"KS\", \"KY\", \"LA\", \"MA\", \"MD\", \"ME\", \"MI\", \"MN\", \"MO\", \"MS\", \"MT\", \"NC\", \"ND\", \"NE\", \"NH\", \"NJ\", \"NM\", \"NV\", \"NY\", \"OH\", \"OK\", \"OR\", \"PA\", \"RI\", \"SC\", \"SD\", \"TN\", \"TX\", \"UT\", \"VA\", \"VT\", \"WA\", \"WI\", \"WV\", \"WY\"], \"marker\": {\"line\": {\"color\": \"rgb(255,255,255)\", \"width\": 2}}, \"visible\": false, \"colorbar\": {\"title\": \"Billions USD\"}}, {\"type\": \"choropleth\", \"colorscale\": [[0.0, \"rgb(84,39,143)\"], [0.1, \"rgb(117,107,177)\"], [0.2, \"rgb(158,154,200)\"], [0.3, \"rgb(188,189,220)\"], [0.4, \"218,218,235)\"], [0.5, \"rgb(240,240,240)\"], [0.6, \"rgb(255,214,151)\"], [0.8, \"rgb(250,195,104)\"], [0.9, \"rgb(250,177,58)\"], [1.0, \"rgb(252,153,6)\"]], \"autocolorscale\": false, \"locations\": [\"AK\", \"AL\", \"AR\", \"AZ\", \"CA\", \"CO\", \"CT\", \"DC\", \"DE\", \"FL\", \"GA\", \"HI\", \"IA\", \"ID\", \"IL\", \"IN\", \"KS\", \"KY\", \"LA\", \"MA\", \"MD\", \"ME\", \"MI\", \"MN\", \"MO\", \"MS\", \"MT\", \"NC\", \"ND\", \"NE\", \"NH\", \"NJ\", \"NM\", \"NV\", \"NY\", \"OH\", \"OK\", \"OR\", \"PA\", \"RI\", \"SC\", \"SD\", \"TN\", \"TX\", \"UT\", \"VA\", \"VT\", \"WA\", \"WI\", \"WV\", \"WY\"], \"z\": [21.096923791655325, -28.856647497227705, -21.19501485749768, -50.719211763314725, -49.325539940869206, -3.4662554915043873, -18.579605732488155, -16.326371702895543, -9.573107441995678, -116.55577170150016, -50.26573294534674, -14.495140771034759, 26.02789908746845, -2.055593946969908, 37.25311309504637, -0.4503022859704215, 9.262121731017018, -22.15095256709156, 63.62958312359295, -39.23034205511422, -60.94130717149496, -10.537456153422085, -126.11030302136706, -3.2411418344434932, -36.65514656351169, 4.153364726660308, -18.1407863103329, 22.318388945973652, 60.264063154707834, -4.2537796555396055, -30.29309669103267, -28.381628759226647, -10.493113876158706, -23.695422631760056, -115.47180373333767, -39.337841189892615, -8.375903011075774, -8.626504877065338, -27.06588699660194, -2.9190677955346764, -37.065551629521416, 2.5056595155258985, -23.492389579740934, 325.07926175528576, 1.301265903464955, -52.81026372380694, -2.3812387134802084, 46.43555349394464, 2.5281698282003053, -15.338501235461546, 4.613195175970875], \"locationmode\": \"USA-states\", \"text\": [\"AK\", \"AL\", \"AR\", \"AZ\", \"CA\", \"CO\", \"CT\", \"DC\", \"DE\", \"FL\", \"GA\", \"HI\", \"IA\", \"ID\", \"IL\", \"IN\", \"KS\", \"KY\", \"LA\", \"MA\", \"MD\", \"ME\", \"MI\", \"MN\", \"MO\", \"MS\", \"MT\", \"NC\", \"ND\", \"NE\", \"NH\", \"NJ\", \"NM\", \"NV\", \"NY\", \"OH\", \"OK\", \"OR\", \"PA\", \"RI\", \"SC\", \"SD\", \"TN\", \"TX\", \"UT\", \"VA\", \"VT\", \"WA\", \"WI\", \"WV\", \"WY\"], \"marker\": {\"line\": {\"color\": \"rgb(255,255,255)\", \"width\": 2}}, \"visible\": false, \"colorbar\": {\"title\": \"Billions USD\"}}, {\"type\": \"choropleth\", \"colorscale\": [[0.0, \"rgb(84,39,143)\"], [0.1, \"rgb(117,107,177)\"], [0.2, \"rgb(158,154,200)\"], [0.3, \"rgb(188,189,220)\"], [0.4, \"218,218,235)\"], [0.5, \"rgb(240,240,240)\"], [0.6, \"rgb(255,214,151)\"], [0.8, \"rgb(250,195,104)\"], [0.9, \"rgb(250,177,58)\"], [1.0, \"rgb(252,153,6)\"]], \"autocolorscale\": false, \"locations\": [\"AK\", \"AL\", \"AR\", \"AZ\", \"CA\", \"CO\", \"CT\", \"DC\", \"DE\", \"FL\", \"GA\", \"HI\", \"IA\", \"ID\", \"IL\", \"IN\", \"KS\", \"KY\", \"LA\", \"MA\", \"MD\", \"ME\", \"MI\", \"MN\", \"MO\", \"MS\", \"MT\", \"NC\", \"ND\", \"NE\", \"NH\", \"NJ\", \"NM\", \"NV\", \"NY\", \"OH\", \"OK\", \"OR\", \"PA\", \"RI\", \"SC\", \"SD\", \"TN\", \"TX\", \"UT\", \"VA\", \"VT\", \"WA\", \"WI\", \"WV\", \"WY\"], \"z\": [23.310117476561288, -30.646971809083187, -26.780125479182285, -48.40711918322084, -15.793088005054742, -0.3946559388253954, -26.513806746758114, -19.25407929343381, -7.931710633967436, -105.6338168957727, -62.18598185173329, -15.509828048472878, 34.78694073406834, 0.2521295212082478, 35.551325658914635, -0.5939736730902223, 7.916112286658375, -31.6063181017015, 105.81418643034698, -37.23014388100023, -70.83059379511536, -12.304156428998146, -163.92483892555268, 0.8780877286661999, -43.66549373855203, 9.64386385711204, -20.10824592728486, 23.9352132090666, 62.06732919348063, -2.8115313808855134, -30.35973797122012, -35.61842575036187, -9.515858246567047, -25.718749466274662, -122.65641268753994, -44.76935772173386, -8.626660519476282, -5.039318235214247, -34.64558143780311, -4.612955157487267, -41.009428911720285, 4.4315700965172145, -31.125653282630257, 576.1965808803346, 8.714384630917891, -53.84124510829814, -0.9742732737871993, 67.24416122848011, 6.218265281003027, -24.40574221560957, 5.55339351055809], \"locationmode\": \"USA-states\", \"text\": [\"AK\", \"AL\", \"AR\", \"AZ\", \"CA\", \"CO\", \"CT\", \"DC\", \"DE\", \"FL\", \"GA\", \"HI\", \"IA\", \"ID\", \"IL\", \"IN\", \"KS\", \"KY\", \"LA\", \"MA\", \"MD\", \"ME\", \"MI\", \"MN\", \"MO\", \"MS\", \"MT\", \"NC\", \"ND\", \"NE\", \"NH\", \"NJ\", \"NM\", \"NV\", \"NY\", \"OH\", \"OK\", \"OR\", \"PA\", \"RI\", \"SC\", \"SD\", \"TN\", \"TX\", \"UT\", \"VA\", \"VT\", \"WA\", \"WI\", \"WV\", \"WY\"], \"marker\": {\"line\": {\"color\": \"rgb(255,255,255)\", \"width\": 2}}, \"visible\": false, \"colorbar\": {\"title\": \"Billions USD\"}}, {\"type\": \"choropleth\", \"colorscale\": [[0.0, \"rgb(84,39,143)\"], [0.1, \"rgb(117,107,177)\"], [0.2, \"rgb(158,154,200)\"], [0.3, \"rgb(188,189,220)\"], [0.4, \"218,218,235)\"], [0.5, \"rgb(240,240,240)\"], [0.6, \"rgb(255,214,151)\"], [0.8, \"rgb(250,195,104)\"], [0.9, \"rgb(250,177,58)\"], [1.0, \"rgb(252,153,6)\"]], \"autocolorscale\": false, \"locations\": [\"AK\", \"AL\", \"AR\", \"AZ\", \"CA\", \"CO\", \"CT\", \"DC\", \"DE\", \"FL\", \"GA\", \"HI\", \"IA\", \"ID\", \"IL\", \"IN\", \"KS\", \"KY\", \"LA\", \"MA\", \"MD\", \"ME\", \"MI\", \"MN\", \"MO\", \"MS\", \"MT\", \"NC\", \"ND\", \"NE\", \"NH\", \"NJ\", \"NM\", \"NV\", \"NY\", \"OH\", \"OK\", \"OR\", \"PA\", \"RI\", \"SC\", \"SD\", \"TN\", \"TX\", \"UT\", \"VA\", \"VT\", \"WA\", \"WI\", \"WV\", \"WY\"], \"z\": [22.564674824679017, -32.13650135839061, -32.8570063115033, -45.75937238327821, -12.939436758879106, -2.6713513525032324, -39.65487329574034, -22.98106582422818, -7.142283902382754, -96.55890803748113, -77.68417416367214, -16.730809505476824, 44.80789654569473, 1.3754159206565673, 27.04679957960802, -1.4081931766718625, 6.485379743287631, -42.61728471435275, 102.94830454872013, -36.53990417154459, -86.32544301989465, -14.494453739589408, -213.76870891802687, 3.316334175798285, -52.02160667970992, 7.882839670780842, -22.073318227695847, 23.575020386036254, 53.948130950640724, -0.5541109444109025, -30.914549966747973, -51.71527085717861, -8.847137549200081, -28.828829753463157, -145.66366567809123, -61.843019330977114, -10.05598320865468, -1.1546128360590955, -58.05630074203329, -5.966301438654125, -46.93247733593764, 6.22679362857902, -40.8879095939179, 609.8507030696636, 15.079551208502846, -61.475636758074806, 0.11662268767117348, 81.310362586079, 9.542217336956819, -37.11616742742491, 6.513283841208497], \"locationmode\": \"USA-states\", \"text\": [\"AK\", \"AL\", \"AR\", \"AZ\", \"CA\", \"CO\", \"CT\", \"DC\", \"DE\", \"FL\", \"GA\", \"HI\", \"IA\", \"ID\", \"IL\", \"IN\", \"KS\", \"KY\", \"LA\", \"MA\", \"MD\", \"ME\", \"MI\", \"MN\", \"MO\", \"MS\", \"MT\", \"NC\", \"ND\", \"NE\", \"NH\", \"NJ\", \"NM\", \"NV\", \"NY\", \"OH\", \"OK\", \"OR\", \"PA\", \"RI\", \"SC\", \"SD\", \"TN\", \"TX\", \"UT\", \"VA\", \"VT\", \"WA\", \"WI\", \"WV\", \"WY\"], \"marker\": {\"line\": {\"color\": \"rgb(255,255,255)\", \"width\": 2}}, \"visible\": false, \"colorbar\": {\"title\": \"Billions USD\"}}, {\"type\": \"choropleth\", \"colorscale\": [[0.0, \"rgb(84,39,143)\"], [0.1, \"rgb(117,107,177)\"], [0.2, \"rgb(158,154,200)\"], [0.3, \"rgb(188,189,220)\"], [0.4, \"218,218,235)\"], [0.5, \"rgb(240,240,240)\"], [0.6, \"rgb(255,214,151)\"], [0.8, \"rgb(250,195,104)\"], [0.9, \"rgb(250,177,58)\"], [1.0, \"rgb(252,153,6)\"]], \"autocolorscale\": false, \"locations\": [\"AK\", \"AL\", \"AR\", \"AZ\", \"CA\", \"CO\", \"CT\", \"DC\", \"DE\", \"FL\", \"GA\", \"HI\", \"IA\", \"ID\", \"IL\", \"IN\", \"KS\", \"KY\", \"LA\", \"MA\", \"MD\", \"ME\", \"MI\", \"MN\", \"MO\", \"MS\", \"MT\", \"NC\", \"ND\", \"NE\", \"NH\", \"NJ\", \"NM\", \"NV\", \"NY\", \"OH\", \"OK\", \"OR\", \"PA\", \"RI\", \"SC\", \"SD\", \"TN\", \"TX\", \"UT\", \"VA\", \"VT\", \"WA\", \"WI\", \"WV\", \"WY\"], \"z\": [138.61784270063998, -32.49048399607808, -38.68088565409931, -38.99435450680845, -2.256166531442199, -5.836698139234563, -54.79610821243352, -27.513688855788203, -8.134766583354343, -83.68205545422796, -96.77154342616896, -18.20409357783929, 56.74860949510202, 2.392699574991813, 13.347808808018685, 0.512794630723889, 6.891914719783992, -54.091499838223044, 98.76555097800097, -33.85797013051424, -101.98491027652868, -16.87681929488812, -274.10690048972447, 6.384539567045926, -62.0866746616271, 5.355934063341061, -23.67635824809861, 24.316071255213696, 39.360886207705235, 4.553744451839418, -31.224566489382152, -75.680359764267, -6.494674036691285, -31.51350996475971, -168.42339290326612, -84.901992515928, -9.48621301790647, -0.8944788674881274, -81.78165409065132, -7.5106236060785525, -53.830006031877765, 8.201137077130202, -54.6547644308781, 622.3954581499077, 24.493104526302805, -69.02438763060258, 1.7020815297164518, 97.63154347218469, 15.359231325769448, -47.333429262038464, 7.554283271184409], \"locationmode\": \"USA-states\", \"text\": [\"AK\", \"AL\", \"AR\", \"AZ\", \"CA\", \"CO\", \"CT\", \"DC\", \"DE\", \"FL\", \"GA\", \"HI\", \"IA\", \"ID\", \"IL\", \"IN\", \"KS\", \"KY\", \"LA\", \"MA\", \"MD\", \"ME\", \"MI\", \"MN\", \"MO\", \"MS\", \"MT\", \"NC\", \"ND\", \"NE\", \"NH\", \"NJ\", \"NM\", \"NV\", \"NY\", \"OH\", \"OK\", \"OR\", \"PA\", \"RI\", \"SC\", \"SD\", \"TN\", \"TX\", \"UT\", \"VA\", \"VT\", \"WA\", \"WI\", \"WV\", \"WY\"], \"marker\": {\"line\": {\"color\": \"rgb(255,255,255)\", \"width\": 2}}, \"visible\": false, \"colorbar\": {\"title\": \"Billions USD\"}}, {\"type\": \"choropleth\", \"colorscale\": [[0.0, \"rgb(84,39,143)\"], [0.1, \"rgb(117,107,177)\"], [0.2, \"rgb(158,154,200)\"], [0.3, \"rgb(188,189,220)\"], [0.4, \"218,218,235)\"], [0.5, \"rgb(240,240,240)\"], [0.6, \"rgb(255,214,151)\"], [0.8, \"rgb(250,195,104)\"], [0.9, \"rgb(250,177,58)\"], [1.0, \"rgb(252,153,6)\"]], \"autocolorscale\": false, \"locations\": [\"AK\", \"AL\", \"AR\", \"AZ\", \"CA\", \"CO\", \"CT\", \"DC\", \"DE\", \"FL\", \"GA\", \"HI\", \"IA\", \"ID\", \"IL\", \"IN\", \"KS\", \"KY\", \"LA\", \"MA\", \"MD\", \"ME\", \"MI\", \"MN\", \"MO\", \"MS\", \"MT\", \"NC\", \"ND\", \"NE\", \"NH\", \"NJ\", \"NM\", \"NV\", \"NY\", \"OH\", \"OK\", \"OR\", \"PA\", \"RI\", \"SC\", \"SD\", \"TN\", \"TX\", \"UT\", \"VA\", \"VT\", \"WA\", \"WI\", \"WV\", \"WY\"], \"z\": [156.9489290667955, -32.96436727425776, -43.44076116443082, -24.853562603125873, 49.39797064831946, -9.290893195433716, -71.62251302269381, -32.08370133625991, -9.84417226692874, -52.54548120140401, -112.5500655218321, -19.713690158056306, 71.84299162686914, 5.13663074172876, -10.747136117925635, 7.856965695676277, 10.093270680730813, -67.4497617514318, 108.54356962639535, -21.29061360453692, -116.3772614820624, -18.785141533038914, -349.0316356491068, 19.301342410983228, -73.44979113256599, 4.489147522775573, -25.676426689921232, 31.746002698061755, 21.586345760677023, 10.890039762881585, -31.58400354815411, -104.69976969796838, -2.941547178036111, -31.680301944416833, -173.60714390375466, -107.706539216161, -7.56322774961224, 6.567311962045263, -102.61791600656346, -8.992858380713601, -59.73154194681853, 10.618642576524827, -73.0910275513354, 689.7577487705215, 41.19928313449249, -71.86159071274783, 4.389857228429777, 120.20667602930625, 27.80872600477864, -55.80419604667154, 8.574190105860238], \"locationmode\": \"USA-states\", \"text\": [\"AK\", \"AL\", \"AR\", \"AZ\", \"CA\", \"CO\", \"CT\", \"DC\", \"DE\", \"FL\", \"GA\", \"HI\", \"IA\", \"ID\", \"IL\", \"IN\", \"KS\", \"KY\", \"LA\", \"MA\", \"MD\", \"ME\", \"MI\", \"MN\", \"MO\", \"MS\", \"MT\", \"NC\", \"ND\", \"NE\", \"NH\", \"NJ\", \"NM\", \"NV\", \"NY\", \"OH\", \"OK\", \"OR\", \"PA\", \"RI\", \"SC\", \"SD\", \"TN\", \"TX\", \"UT\", \"VA\", \"VT\", \"WA\", \"WI\", \"WV\", \"WY\"], \"marker\": {\"line\": {\"color\": \"rgb(255,255,255)\", \"width\": 2}}, \"visible\": false, \"colorbar\": {\"title\": \"Billions USD\"}}, {\"type\": \"choropleth\", \"colorscale\": [[0.0, \"rgb(84,39,143)\"], [0.1, \"rgb(117,107,177)\"], [0.2, \"rgb(158,154,200)\"], [0.3, \"rgb(188,189,220)\"], [0.4, \"218,218,235)\"], [0.5, \"rgb(240,240,240)\"], [0.6, \"rgb(255,214,151)\"], [0.8, \"rgb(250,195,104)\"], [0.9, \"rgb(250,177,58)\"], [1.0, \"rgb(252,153,6)\"]], \"autocolorscale\": false, \"locations\": [\"AK\", \"AL\", \"AR\", \"AZ\", \"CA\", \"CO\", \"CT\", \"DC\", \"DE\", \"FL\", \"GA\", \"HI\", \"IA\", \"ID\", \"IL\", \"IN\", \"KS\", \"KY\", \"LA\", \"MA\", \"MD\", \"ME\", \"MI\", \"MN\", \"MO\", \"MS\", \"MT\", \"NC\", \"ND\", \"NE\", \"NH\", \"NJ\", \"NM\", \"NV\", \"NY\", \"OH\", \"OK\", \"OR\", \"PA\", \"RI\", \"SC\", \"SD\", \"TN\", \"TX\", \"UT\", \"VA\", \"VT\", \"WA\", \"WI\", \"WV\", \"WY\"], \"z\": [179.15585769680953, -32.81248710175796, -46.81432788770491, -8.523530114108173, 9.889760351639707, -11.3871786340893, -93.12364071116066, -39.97052472954372, -10.819372411458243, -41.824946995299776, -135.97117762031465, -22.20982658279511, 84.02910798683128, 6.956957536883972, -37.18342911525373, 9.829703004533425, 13.472734171129064, -84.85745773824276, 120.41794690916826, -23.105848740960237, -135.13086901897972, -21.20317918678213, -410.5851949346452, 26.848798771113156, -83.90766921773034, -2.763855864848825, -28.055092973363323, 32.75206762851228, 11.879607703491594, 15.725567682982161, -34.5351314701204, -133.14580791223457, 2.091293775946775, -34.69945563693391, -201.9638536643621, -118.57932435671589, -6.7525752283904, 7.846986175348051, -124.97003312195302, -12.574719545267785, -70.78629733018397, 12.603194049761063, -94.33274605434842, 758.963752211858, 54.26335865127709, -79.67308523825538, 6.9823158789900335, 145.3855148074202, 34.973158698203044, -60.47820467220738, 7.434001308704363], \"locationmode\": \"USA-states\", \"text\": [\"AK\", \"AL\", \"AR\", \"AZ\", \"CA\", \"CO\", \"CT\", \"DC\", \"DE\", \"FL\", \"GA\", \"HI\", \"IA\", \"ID\", \"IL\", \"IN\", \"KS\", \"KY\", \"LA\", \"MA\", \"MD\", \"ME\", \"MI\", \"MN\", \"MO\", \"MS\", \"MT\", \"NC\", \"ND\", \"NE\", \"NH\", \"NJ\", \"NM\", \"NV\", \"NY\", \"OH\", \"OK\", \"OR\", \"PA\", \"RI\", \"SC\", \"SD\", \"TN\", \"TX\", \"UT\", \"VA\", \"VT\", \"WA\", \"WI\", \"WV\", \"WY\"], \"marker\": {\"line\": {\"color\": \"rgb(255,255,255)\", \"width\": 2}}, \"visible\": false, \"colorbar\": {\"title\": \"Billions USD\"}}], {\"title\": \"Production / consumption balance per state\", \"geo\": {\"scope\": \"usa\", \"projection\": {\"type\": \"albers usa\"}, \"showlakes\": true, \"lakecolor\": \"rgb(255, 255, 255)\"}, \"sliders\": [{\"active\": 10, \"currentvalue\": {\"prefix\": \"Year: \"}, \"pad\": {\"t\": 50}, \"steps\": [{\"method\": \"restyle\", \"args\": [\"visible\", [true, false, false, false, false, false, false, false, false, false]], \"label\": \"2012\"}, {\"method\": \"restyle\", \"args\": [\"visible\", [false, true, false, false, false, false, false, false, false, false]], \"label\": \"2013\"}, {\"method\": \"restyle\", \"args\": [\"visible\", [false, false, true, false, false, false, false, false, false, false]], \"label\": \"2014\"}, {\"method\": \"restyle\", \"args\": [\"visible\", [false, false, false, true, false, false, false, false, false, false]], \"label\": \"2015\"}, {\"method\": \"restyle\", \"args\": [\"visible\", [false, false, false, false, true, false, false, false, false, false]], \"label\": \"2020\"}, {\"method\": \"restyle\", \"args\": [\"visible\", [false, false, false, false, false, true, false, false, false, false]], \"label\": \"2025\"}, {\"method\": \"restyle\", \"args\": [\"visible\", [false, false, false, false, false, false, true, false, false, false]], \"label\": \"2030\"}, {\"method\": \"restyle\", \"args\": [\"visible\", [false, false, false, false, false, false, false, true, false, false]], \"label\": \"2035\"}, {\"method\": \"restyle\", \"args\": [\"visible\", [false, false, false, false, false, false, false, false, true, false]], \"label\": \"2040\"}, {\"method\": \"restyle\", \"args\": [\"visible\", [false, false, false, false, false, false, false, false, false, true]], \"label\": \"2045\"}]}]}, {\"showLink\": true, \"linkText\": \"Export to plot.ly\"})});</script>",
            "text/html": [
              "<div id=\"b5d1d17c-1aa5-46a0-ad23-9e9b2a21b004\" style=\"height: 525px; width: 100%;\" class=\"plotly-graph-div\"></div><script type=\"text/javascript\">require([\"plotly\"], function(Plotly) { window.PLOTLYENV=window.PLOTLYENV || {};window.PLOTLYENV.BASE_URL=\"https://plot.ly\";Plotly.newPlot(\"b5d1d17c-1aa5-46a0-ad23-9e9b2a21b004\", [{\"type\": \"choropleth\", \"colorscale\": [[0.0, \"rgb(84,39,143)\"], [0.1, \"rgb(117,107,177)\"], [0.2, \"rgb(158,154,200)\"], [0.3, \"rgb(188,189,220)\"], [0.4, \"218,218,235)\"], [0.5, \"rgb(240,240,240)\"], [0.6, \"rgb(255,214,151)\"], [0.8, \"rgb(250,195,104)\"], [0.9, \"rgb(250,177,58)\"], [1.0, \"rgb(252,153,6)\"]], \"autocolorscale\": false, \"locations\": [\"AK\", \"AL\", \"AR\", \"AZ\", \"CA\", \"CO\", \"CT\", \"DC\", \"DE\", \"FL\", \"GA\", \"HI\", \"IA\", \"ID\", \"IL\", \"IN\", \"KS\", \"KY\", \"LA\", \"MA\", \"MD\", \"ME\", \"MI\", \"MN\", \"MO\", \"MS\", \"MT\", \"NC\", \"ND\", \"NE\", \"NH\", \"NJ\", \"NM\", \"NV\", \"NY\", \"OH\", \"OK\", \"OR\", \"PA\", \"RI\", \"SC\", \"SD\", \"TN\", \"TX\", \"UT\", \"VA\", \"VT\", \"WA\", \"WI\", \"WV\", \"WY\"], \"z\": [13.911494269210424, -20.61273994303422, -15.514676024931017, -44.678151448001444, -80.76871541160648, -10.915472182695988, 30.1690263109784, -7.696241502149736, -13.158112672137838, -120.2600868355676, -32.5233822594111, -13.903022238178524, 16.145662787984357, -8.17822935175783, 63.85807906637888, -14.366839046948007, 18.26803124118771, -3.665733245040581, -14.700051798330794, -34.674750576293704, -30.264989327756076, -5.9284557842309225, -57.58305046198401, 2.14086162016436, -22.510718721985526, -3.941279044367635, -12.722245440063881, 21.444698845308448, 19.238893882863746, -0.4058760736801778, -25.565389802626342, 2.827113980416034, -7.374069228387409, -14.515944332856117, -70.47667812877754, -25.25697694724577, -5.069083758760593, -14.901875444920675, -31.34550955577672, 0.051610052779527904, -32.009818706050574, -0.037555445989550205, -5.5969898367469435, -52.66462495749025, -3.933916157693078, -38.38577210427058, -1.3003536322619038, 14.735612945169619, 17.88681766157225, 2.5219969930478694, 6.156469930933708], \"locationmode\": \"USA-states\", \"text\": [\"AK\", \"AL\", \"AR\", \"AZ\", \"CA\", \"CO\", \"CT\", \"DC\", \"DE\", \"FL\", \"GA\", \"HI\", \"IA\", \"ID\", \"IL\", \"IN\", \"KS\", \"KY\", \"LA\", \"MA\", \"MD\", \"ME\", \"MI\", \"MN\", \"MO\", \"MS\", \"MT\", \"NC\", \"ND\", \"NE\", \"NH\", \"NJ\", \"NM\", \"NV\", \"NY\", \"OH\", \"OK\", \"OR\", \"PA\", \"RI\", \"SC\", \"SD\", \"TN\", \"TX\", \"UT\", \"VA\", \"VT\", \"WA\", \"WI\", \"WV\", \"WY\"], \"marker\": {\"line\": {\"color\": \"rgb(255,255,255)\", \"width\": 2}}, \"visible\": true, \"colorbar\": {\"title\": \"Billions USD\"}}, {\"type\": \"choropleth\", \"colorscale\": [[0.0, \"rgb(84,39,143)\"], [0.1, \"rgb(117,107,177)\"], [0.2, \"rgb(158,154,200)\"], [0.3, \"rgb(188,189,220)\"], [0.4, \"218,218,235)\"], [0.5, \"rgb(240,240,240)\"], [0.6, \"rgb(255,214,151)\"], [0.8, \"rgb(250,195,104)\"], [0.9, \"rgb(250,177,58)\"], [1.0, \"rgb(252,153,6)\"]], \"autocolorscale\": false, \"locations\": [\"AK\", \"AL\", \"AR\", \"AZ\", \"CA\", \"CO\", \"CT\", \"DC\", \"DE\", \"FL\", \"GA\", \"HI\", \"IA\", \"ID\", \"IL\", \"IN\", \"KS\", \"KY\", \"LA\", \"MA\", \"MD\", \"ME\", \"MI\", \"MN\", \"MO\", \"MS\", \"MT\", \"NC\", \"ND\", \"NE\", \"NH\", \"NJ\", \"NM\", \"NV\", \"NY\", \"OH\", \"OK\", \"OR\", \"PA\", \"RI\", \"SC\", \"SD\", \"TN\", \"TX\", \"UT\", \"VA\", \"VT\", \"WA\", \"WI\", \"WV\", \"WY\"], \"z\": [18.39983961823521, -21.243231460641955, -12.733159729274687, -44.64551086240663, -61.48686257565953, -13.670225518117018, 28.801394591112242, -13.030822462452019, -11.708150084068134, -118.06826325366245, -36.44368924547796, -13.741039164904175, 22.159059502053918, -2.6448403324319223, 54.90184373480431, -7.951197059775412, 19.710739834788313, -0.6683103357405052, -12.551437382810109, -37.13384439833375, -40.278645123702795, -10.50601360629379, -7.212811174832226, -4.71686950637697, -30.792584882270777, -3.6560455527917073, -14.562913699134093, 27.1771591667037, 28.78566069894332, -1.5182489802112977, -26.71331693643539, 0.9949215146493516, -7.5318325067497645, -16.228821068391042, -78.40494318157492, -27.88129001950065, 0.46290981365658807, -30.213065162802494, -28.63611116935045, -0.4581582850950217, -29.11256799966481, -1.5324874877139592, -5.147956755535851, -19.506260554102717, -0.9849758749534667, -45.436541985727615, -0.998455043820246, 27.43354281160125, 15.570144090214919, -1.9189396912667727, 4.865463693215293], \"locationmode\": \"USA-states\", \"text\": [\"AK\", \"AL\", \"AR\", \"AZ\", \"CA\", \"CO\", \"CT\", \"DC\", \"DE\", \"FL\", \"GA\", \"HI\", \"IA\", \"ID\", \"IL\", \"IN\", \"KS\", \"KY\", \"LA\", \"MA\", \"MD\", \"ME\", \"MI\", \"MN\", \"MO\", \"MS\", \"MT\", \"NC\", \"ND\", \"NE\", \"NH\", \"NJ\", \"NM\", \"NV\", \"NY\", \"OH\", \"OK\", \"OR\", \"PA\", \"RI\", \"SC\", \"SD\", \"TN\", \"TX\", \"UT\", \"VA\", \"VT\", \"WA\", \"WI\", \"WV\", \"WY\"], \"marker\": {\"line\": {\"color\": \"rgb(255,255,255)\", \"width\": 2}}, \"visible\": false, \"colorbar\": {\"title\": \"Billions USD\"}}, {\"type\": \"choropleth\", \"colorscale\": [[0.0, \"rgb(84,39,143)\"], [0.1, \"rgb(117,107,177)\"], [0.2, \"rgb(158,154,200)\"], [0.3, \"rgb(188,189,220)\"], [0.4, \"218,218,235)\"], [0.5, \"rgb(240,240,240)\"], [0.6, \"rgb(255,214,151)\"], [0.8, \"rgb(250,195,104)\"], [0.9, \"rgb(250,177,58)\"], [1.0, \"rgb(252,153,6)\"]], \"autocolorscale\": false, \"locations\": [\"AK\", \"AL\", \"AR\", \"AZ\", \"CA\", \"CO\", \"CT\", \"DC\", \"DE\", \"FL\", \"GA\", \"HI\", \"IA\", \"ID\", \"IL\", \"IN\", \"KS\", \"KY\", \"LA\", \"MA\", \"MD\", \"ME\", \"MI\", \"MN\", \"MO\", \"MS\", \"MT\", \"NC\", \"ND\", \"NE\", \"NH\", \"NJ\", \"NM\", \"NV\", \"NY\", \"OH\", \"OK\", \"OR\", \"PA\", \"RI\", \"SC\", \"SD\", \"TN\", \"TX\", \"UT\", \"VA\", \"VT\", \"WA\", \"WI\", \"WV\", \"WY\"], \"z\": [21.45189627089724, -22.3248762513797, -15.348710750320256, -46.444720622880794, -61.104518793947996, -9.957123454387911, -8.38587799782175, -13.020879305041555, -11.205731123490274, -122.28879643184173, -35.756607245463705, -13.006058806836093, 24.441238623555634, -3.007809192740766, 43.094755889313646, -5.29566133006342, 15.266367695252178, 0.37467963670165044, 5.339017784860742, -34.71971932506503, -49.84881188215717, -8.269657528614625, -83.11620229070867, -7.4472868031481045, -25.853394753260538, -1.1569683397183252, -15.672997377053806, 18.89158712469408, 37.95479801677779, -1.9656088415134583, -26.094919703188985, -6.760671547590405, -8.891576225275479, -19.626739615855126, -86.72852212960774, -29.875328308342375, -3.6537844614847854, -18.65674469705674, -23.074825795929414, -0.01848443475134263, -30.47476472647398, -0.05163939038309764, -5.278724447685469, 13.712944298451767, -2.89636232429542, -44.327613909784006, -1.5050023087245572, 34.2446479785635, 12.241472331609636, 0.7864798190548027, 4.681552313071421], \"locationmode\": \"USA-states\", \"text\": [\"AK\", \"AL\", \"AR\", \"AZ\", \"CA\", \"CO\", \"CT\", \"DC\", \"DE\", \"FL\", \"GA\", \"HI\", \"IA\", \"ID\", \"IL\", \"IN\", \"KS\", \"KY\", \"LA\", \"MA\", \"MD\", \"ME\", \"MI\", \"MN\", \"MO\", \"MS\", \"MT\", \"NC\", \"ND\", \"NE\", \"NH\", \"NJ\", \"NM\", \"NV\", \"NY\", \"OH\", \"OK\", \"OR\", \"PA\", \"RI\", \"SC\", \"SD\", \"TN\", \"TX\", \"UT\", \"VA\", \"VT\", \"WA\", \"WI\", \"WV\", \"WY\"], \"marker\": {\"line\": {\"color\": \"rgb(255,255,255)\", \"width\": 2}}, \"visible\": false, \"colorbar\": {\"title\": \"Billions USD\"}}, {\"type\": \"choropleth\", \"colorscale\": [[0.0, \"rgb(84,39,143)\"], [0.1, \"rgb(117,107,177)\"], [0.2, \"rgb(158,154,200)\"], [0.3, \"rgb(188,189,220)\"], [0.4, \"218,218,235)\"], [0.5, \"rgb(240,240,240)\"], [0.6, \"rgb(255,214,151)\"], [0.8, \"rgb(250,195,104)\"], [0.9, \"rgb(250,177,58)\"], [1.0, \"rgb(252,153,6)\"]], \"autocolorscale\": false, \"locations\": [\"AK\", \"AL\", \"AR\", \"AZ\", \"CA\", \"CO\", \"CT\", \"DC\", \"DE\", \"FL\", \"GA\", \"HI\", \"IA\", \"ID\", \"IL\", \"IN\", \"KS\", \"KY\", \"LA\", \"MA\", \"MD\", \"ME\", \"MI\", \"MN\", \"MO\", \"MS\", \"MT\", \"NC\", \"ND\", \"NE\", \"NH\", \"NJ\", \"NM\", \"NV\", \"NY\", \"OH\", \"OK\", \"OR\", \"PA\", \"RI\", \"SC\", \"SD\", \"TN\", \"TX\", \"UT\", \"VA\", \"VT\", \"WA\", \"WI\", \"WV\", \"WY\"], \"z\": [21.81372020632492, -25.5247116977229, -17.51038196045492, -49.1485151868902, -69.43252283983956, -5.513119791271776, -11.17636518050154, -13.138082932930022, -10.355125626317218, -120.41063870556536, -36.007465387056754, -13.4089688051554, 22.72458180770735, -3.9626146267064324, 46.89344834725268, -1.3098465848923662, 14.059326301213005, -6.8065836342853725, 7.55714188866393, -34.46037139793468, -51.24410561792093, -9.125522106416087, -88.41871815401409, -3.9445354331350537, -28.773885247312485, -1.1847193247465475, -15.853883422078194, 22.151883053774945, 40.46165824482738, -4.447297359581629, -28.16494870443266, -29.13542157021712, -10.328593669015172, -22.418733341716027, -99.49850415537902, -36.32961592721683, -7.330613904345403, -16.00209430227344, -26.517144216118382, -1.2322956409764447, -31.24557447847078, 0.5526922304209584, -15.275504720530996, 40.72441992728785, -2.012505429494311, -51.94955507721886, -2.5936194156977073, 29.342535143675168, 7.817968732815585, -9.47407170795143, 4.529948416504798], \"locationmode\": \"USA-states\", \"text\": [\"AK\", \"AL\", \"AR\", \"AZ\", \"CA\", \"CO\", \"CT\", \"DC\", \"DE\", \"FL\", \"GA\", \"HI\", \"IA\", \"ID\", \"IL\", \"IN\", \"KS\", \"KY\", \"LA\", \"MA\", \"MD\", \"ME\", \"MI\", \"MN\", \"MO\", \"MS\", \"MT\", \"NC\", \"ND\", \"NE\", \"NH\", \"NJ\", \"NM\", \"NV\", \"NY\", \"OH\", \"OK\", \"OR\", \"PA\", \"RI\", \"SC\", \"SD\", \"TN\", \"TX\", \"UT\", \"VA\", \"VT\", \"WA\", \"WI\", \"WV\", \"WY\"], \"marker\": {\"line\": {\"color\": \"rgb(255,255,255)\", \"width\": 2}}, \"visible\": false, \"colorbar\": {\"title\": \"Billions USD\"}}, {\"type\": \"choropleth\", \"colorscale\": [[0.0, \"rgb(84,39,143)\"], [0.1, \"rgb(117,107,177)\"], [0.2, \"rgb(158,154,200)\"], [0.3, \"rgb(188,189,220)\"], [0.4, \"218,218,235)\"], [0.5, \"rgb(240,240,240)\"], [0.6, \"rgb(255,214,151)\"], [0.8, \"rgb(250,195,104)\"], [0.9, \"rgb(250,177,58)\"], [1.0, \"rgb(252,153,6)\"]], \"autocolorscale\": false, \"locations\": [\"AK\", \"AL\", \"AR\", \"AZ\", \"CA\", \"CO\", \"CT\", \"DC\", \"DE\", \"FL\", \"GA\", \"HI\", \"IA\", \"ID\", \"IL\", \"IN\", \"KS\", \"KY\", \"LA\", \"MA\", \"MD\", \"ME\", \"MI\", \"MN\", \"MO\", \"MS\", \"MT\", \"NC\", \"ND\", \"NE\", \"NH\", \"NJ\", \"NM\", \"NV\", \"NY\", \"OH\", \"OK\", \"OR\", \"PA\", \"RI\", \"SC\", \"SD\", \"TN\", \"TX\", \"UT\", \"VA\", \"VT\", \"WA\", \"WI\", \"WV\", \"WY\"], \"z\": [21.096923791655325, -28.856647497227705, -21.19501485749768, -50.719211763314725, -49.325539940869206, -3.4662554915043873, -18.579605732488155, -16.326371702895543, -9.573107441995678, -116.55577170150016, -50.26573294534674, -14.495140771034759, 26.02789908746845, -2.055593946969908, 37.25311309504637, -0.4503022859704215, 9.262121731017018, -22.15095256709156, 63.62958312359295, -39.23034205511422, -60.94130717149496, -10.537456153422085, -126.11030302136706, -3.2411418344434932, -36.65514656351169, 4.153364726660308, -18.1407863103329, 22.318388945973652, 60.264063154707834, -4.2537796555396055, -30.29309669103267, -28.381628759226647, -10.493113876158706, -23.695422631760056, -115.47180373333767, -39.337841189892615, -8.375903011075774, -8.626504877065338, -27.06588699660194, -2.9190677955346764, -37.065551629521416, 2.5056595155258985, -23.492389579740934, 325.07926175528576, 1.301265903464955, -52.81026372380694, -2.3812387134802084, 46.43555349394464, 2.5281698282003053, -15.338501235461546, 4.613195175970875], \"locationmode\": \"USA-states\", \"text\": [\"AK\", \"AL\", \"AR\", \"AZ\", \"CA\", \"CO\", \"CT\", \"DC\", \"DE\", \"FL\", \"GA\", \"HI\", \"IA\", \"ID\", \"IL\", \"IN\", \"KS\", \"KY\", \"LA\", \"MA\", \"MD\", \"ME\", \"MI\", \"MN\", \"MO\", \"MS\", \"MT\", \"NC\", \"ND\", \"NE\", \"NH\", \"NJ\", \"NM\", \"NV\", \"NY\", \"OH\", \"OK\", \"OR\", \"PA\", \"RI\", \"SC\", \"SD\", \"TN\", \"TX\", \"UT\", \"VA\", \"VT\", \"WA\", \"WI\", \"WV\", \"WY\"], \"marker\": {\"line\": {\"color\": \"rgb(255,255,255)\", \"width\": 2}}, \"visible\": false, \"colorbar\": {\"title\": \"Billions USD\"}}, {\"type\": \"choropleth\", \"colorscale\": [[0.0, \"rgb(84,39,143)\"], [0.1, \"rgb(117,107,177)\"], [0.2, \"rgb(158,154,200)\"], [0.3, \"rgb(188,189,220)\"], [0.4, \"218,218,235)\"], [0.5, \"rgb(240,240,240)\"], [0.6, \"rgb(255,214,151)\"], [0.8, \"rgb(250,195,104)\"], [0.9, \"rgb(250,177,58)\"], [1.0, \"rgb(252,153,6)\"]], \"autocolorscale\": false, \"locations\": [\"AK\", \"AL\", \"AR\", \"AZ\", \"CA\", \"CO\", \"CT\", \"DC\", \"DE\", \"FL\", \"GA\", \"HI\", \"IA\", \"ID\", \"IL\", \"IN\", \"KS\", \"KY\", \"LA\", \"MA\", \"MD\", \"ME\", \"MI\", \"MN\", \"MO\", \"MS\", \"MT\", \"NC\", \"ND\", \"NE\", \"NH\", \"NJ\", \"NM\", \"NV\", \"NY\", \"OH\", \"OK\", \"OR\", \"PA\", \"RI\", \"SC\", \"SD\", \"TN\", \"TX\", \"UT\", \"VA\", \"VT\", \"WA\", \"WI\", \"WV\", \"WY\"], \"z\": [23.310117476561288, -30.646971809083187, -26.780125479182285, -48.40711918322084, -15.793088005054742, -0.3946559388253954, -26.513806746758114, -19.25407929343381, -7.931710633967436, -105.6338168957727, -62.18598185173329, -15.509828048472878, 34.78694073406834, 0.2521295212082478, 35.551325658914635, -0.5939736730902223, 7.916112286658375, -31.6063181017015, 105.81418643034698, -37.23014388100023, -70.83059379511536, -12.304156428998146, -163.92483892555268, 0.8780877286661999, -43.66549373855203, 9.64386385711204, -20.10824592728486, 23.9352132090666, 62.06732919348063, -2.8115313808855134, -30.35973797122012, -35.61842575036187, -9.515858246567047, -25.718749466274662, -122.65641268753994, -44.76935772173386, -8.626660519476282, -5.039318235214247, -34.64558143780311, -4.612955157487267, -41.009428911720285, 4.4315700965172145, -31.125653282630257, 576.1965808803346, 8.714384630917891, -53.84124510829814, -0.9742732737871993, 67.24416122848011, 6.218265281003027, -24.40574221560957, 5.55339351055809], \"locationmode\": \"USA-states\", \"text\": [\"AK\", \"AL\", \"AR\", \"AZ\", \"CA\", \"CO\", \"CT\", \"DC\", \"DE\", \"FL\", \"GA\", \"HI\", \"IA\", \"ID\", \"IL\", \"IN\", \"KS\", \"KY\", \"LA\", \"MA\", \"MD\", \"ME\", \"MI\", \"MN\", \"MO\", \"MS\", \"MT\", \"NC\", \"ND\", \"NE\", \"NH\", \"NJ\", \"NM\", \"NV\", \"NY\", \"OH\", \"OK\", \"OR\", \"PA\", \"RI\", \"SC\", \"SD\", \"TN\", \"TX\", \"UT\", \"VA\", \"VT\", \"WA\", \"WI\", \"WV\", \"WY\"], \"marker\": {\"line\": {\"color\": \"rgb(255,255,255)\", \"width\": 2}}, \"visible\": false, \"colorbar\": {\"title\": \"Billions USD\"}}, {\"type\": \"choropleth\", \"colorscale\": [[0.0, \"rgb(84,39,143)\"], [0.1, \"rgb(117,107,177)\"], [0.2, \"rgb(158,154,200)\"], [0.3, \"rgb(188,189,220)\"], [0.4, \"218,218,235)\"], [0.5, \"rgb(240,240,240)\"], [0.6, \"rgb(255,214,151)\"], [0.8, \"rgb(250,195,104)\"], [0.9, \"rgb(250,177,58)\"], [1.0, \"rgb(252,153,6)\"]], \"autocolorscale\": false, \"locations\": [\"AK\", \"AL\", \"AR\", \"AZ\", \"CA\", \"CO\", \"CT\", \"DC\", \"DE\", \"FL\", \"GA\", \"HI\", \"IA\", \"ID\", \"IL\", \"IN\", \"KS\", \"KY\", \"LA\", \"MA\", \"MD\", \"ME\", \"MI\", \"MN\", \"MO\", \"MS\", \"MT\", \"NC\", \"ND\", \"NE\", \"NH\", \"NJ\", \"NM\", \"NV\", \"NY\", \"OH\", \"OK\", \"OR\", \"PA\", \"RI\", \"SC\", \"SD\", \"TN\", \"TX\", \"UT\", \"VA\", \"VT\", \"WA\", \"WI\", \"WV\", \"WY\"], \"z\": [22.564674824679017, -32.13650135839061, -32.8570063115033, -45.75937238327821, -12.939436758879106, -2.6713513525032324, -39.65487329574034, -22.98106582422818, -7.142283902382754, -96.55890803748113, -77.68417416367214, -16.730809505476824, 44.80789654569473, 1.3754159206565673, 27.04679957960802, -1.4081931766718625, 6.485379743287631, -42.61728471435275, 102.94830454872013, -36.53990417154459, -86.32544301989465, -14.494453739589408, -213.76870891802687, 3.316334175798285, -52.02160667970992, 7.882839670780842, -22.073318227695847, 23.575020386036254, 53.948130950640724, -0.5541109444109025, -30.914549966747973, -51.71527085717861, -8.847137549200081, -28.828829753463157, -145.66366567809123, -61.843019330977114, -10.05598320865468, -1.1546128360590955, -58.05630074203329, -5.966301438654125, -46.93247733593764, 6.22679362857902, -40.8879095939179, 609.8507030696636, 15.079551208502846, -61.475636758074806, 0.11662268767117348, 81.310362586079, 9.542217336956819, -37.11616742742491, 6.513283841208497], \"locationmode\": \"USA-states\", \"text\": [\"AK\", \"AL\", \"AR\", \"AZ\", \"CA\", \"CO\", \"CT\", \"DC\", \"DE\", \"FL\", \"GA\", \"HI\", \"IA\", \"ID\", \"IL\", \"IN\", \"KS\", \"KY\", \"LA\", \"MA\", \"MD\", \"ME\", \"MI\", \"MN\", \"MO\", \"MS\", \"MT\", \"NC\", \"ND\", \"NE\", \"NH\", \"NJ\", \"NM\", \"NV\", \"NY\", \"OH\", \"OK\", \"OR\", \"PA\", \"RI\", \"SC\", \"SD\", \"TN\", \"TX\", \"UT\", \"VA\", \"VT\", \"WA\", \"WI\", \"WV\", \"WY\"], \"marker\": {\"line\": {\"color\": \"rgb(255,255,255)\", \"width\": 2}}, \"visible\": false, \"colorbar\": {\"title\": \"Billions USD\"}}, {\"type\": \"choropleth\", \"colorscale\": [[0.0, \"rgb(84,39,143)\"], [0.1, \"rgb(117,107,177)\"], [0.2, \"rgb(158,154,200)\"], [0.3, \"rgb(188,189,220)\"], [0.4, \"218,218,235)\"], [0.5, \"rgb(240,240,240)\"], [0.6, \"rgb(255,214,151)\"], [0.8, \"rgb(250,195,104)\"], [0.9, \"rgb(250,177,58)\"], [1.0, \"rgb(252,153,6)\"]], \"autocolorscale\": false, \"locations\": [\"AK\", \"AL\", \"AR\", \"AZ\", \"CA\", \"CO\", \"CT\", \"DC\", \"DE\", \"FL\", \"GA\", \"HI\", \"IA\", \"ID\", \"IL\", \"IN\", \"KS\", \"KY\", \"LA\", \"MA\", \"MD\", \"ME\", \"MI\", \"MN\", \"MO\", \"MS\", \"MT\", \"NC\", \"ND\", \"NE\", \"NH\", \"NJ\", \"NM\", \"NV\", \"NY\", \"OH\", \"OK\", \"OR\", \"PA\", \"RI\", \"SC\", \"SD\", \"TN\", \"TX\", \"UT\", \"VA\", \"VT\", \"WA\", \"WI\", \"WV\", \"WY\"], \"z\": [138.61784270063998, -32.49048399607808, -38.68088565409931, -38.99435450680845, -2.256166531442199, -5.836698139234563, -54.79610821243352, -27.513688855788203, -8.134766583354343, -83.68205545422796, -96.77154342616896, -18.20409357783929, 56.74860949510202, 2.392699574991813, 13.347808808018685, 0.512794630723889, 6.891914719783992, -54.091499838223044, 98.76555097800097, -33.85797013051424, -101.98491027652868, -16.87681929488812, -274.10690048972447, 6.384539567045926, -62.0866746616271, 5.355934063341061, -23.67635824809861, 24.316071255213696, 39.360886207705235, 4.553744451839418, -31.224566489382152, -75.680359764267, -6.494674036691285, -31.51350996475971, -168.42339290326612, -84.901992515928, -9.48621301790647, -0.8944788674881274, -81.78165409065132, -7.5106236060785525, -53.830006031877765, 8.201137077130202, -54.6547644308781, 622.3954581499077, 24.493104526302805, -69.02438763060258, 1.7020815297164518, 97.63154347218469, 15.359231325769448, -47.333429262038464, 7.554283271184409], \"locationmode\": \"USA-states\", \"text\": [\"AK\", \"AL\", \"AR\", \"AZ\", \"CA\", \"CO\", \"CT\", \"DC\", \"DE\", \"FL\", \"GA\", \"HI\", \"IA\", \"ID\", \"IL\", \"IN\", \"KS\", \"KY\", \"LA\", \"MA\", \"MD\", \"ME\", \"MI\", \"MN\", \"MO\", \"MS\", \"MT\", \"NC\", \"ND\", \"NE\", \"NH\", \"NJ\", \"NM\", \"NV\", \"NY\", \"OH\", \"OK\", \"OR\", \"PA\", \"RI\", \"SC\", \"SD\", \"TN\", \"TX\", \"UT\", \"VA\", \"VT\", \"WA\", \"WI\", \"WV\", \"WY\"], \"marker\": {\"line\": {\"color\": \"rgb(255,255,255)\", \"width\": 2}}, \"visible\": false, \"colorbar\": {\"title\": \"Billions USD\"}}, {\"type\": \"choropleth\", \"colorscale\": [[0.0, \"rgb(84,39,143)\"], [0.1, \"rgb(117,107,177)\"], [0.2, \"rgb(158,154,200)\"], [0.3, \"rgb(188,189,220)\"], [0.4, \"218,218,235)\"], [0.5, \"rgb(240,240,240)\"], [0.6, \"rgb(255,214,151)\"], [0.8, \"rgb(250,195,104)\"], [0.9, \"rgb(250,177,58)\"], [1.0, \"rgb(252,153,6)\"]], \"autocolorscale\": false, \"locations\": [\"AK\", \"AL\", \"AR\", \"AZ\", \"CA\", \"CO\", \"CT\", \"DC\", \"DE\", \"FL\", \"GA\", \"HI\", \"IA\", \"ID\", \"IL\", \"IN\", \"KS\", \"KY\", \"LA\", \"MA\", \"MD\", \"ME\", \"MI\", \"MN\", \"MO\", \"MS\", \"MT\", \"NC\", \"ND\", \"NE\", \"NH\", \"NJ\", \"NM\", \"NV\", \"NY\", \"OH\", \"OK\", \"OR\", \"PA\", \"RI\", \"SC\", \"SD\", \"TN\", \"TX\", \"UT\", \"VA\", \"VT\", \"WA\", \"WI\", \"WV\", \"WY\"], \"z\": [156.9489290667955, -32.96436727425776, -43.44076116443082, -24.853562603125873, 49.39797064831946, -9.290893195433716, -71.62251302269381, -32.08370133625991, -9.84417226692874, -52.54548120140401, -112.5500655218321, -19.713690158056306, 71.84299162686914, 5.13663074172876, -10.747136117925635, 7.856965695676277, 10.093270680730813, -67.4497617514318, 108.54356962639535, -21.29061360453692, -116.3772614820624, -18.785141533038914, -349.0316356491068, 19.301342410983228, -73.44979113256599, 4.489147522775573, -25.676426689921232, 31.746002698061755, 21.586345760677023, 10.890039762881585, -31.58400354815411, -104.69976969796838, -2.941547178036111, -31.680301944416833, -173.60714390375466, -107.706539216161, -7.56322774961224, 6.567311962045263, -102.61791600656346, -8.992858380713601, -59.73154194681853, 10.618642576524827, -73.0910275513354, 689.7577487705215, 41.19928313449249, -71.86159071274783, 4.389857228429777, 120.20667602930625, 27.80872600477864, -55.80419604667154, 8.574190105860238], \"locationmode\": \"USA-states\", \"text\": [\"AK\", \"AL\", \"AR\", \"AZ\", \"CA\", \"CO\", \"CT\", \"DC\", \"DE\", \"FL\", \"GA\", \"HI\", \"IA\", \"ID\", \"IL\", \"IN\", \"KS\", \"KY\", \"LA\", \"MA\", \"MD\", \"ME\", \"MI\", \"MN\", \"MO\", \"MS\", \"MT\", \"NC\", \"ND\", \"NE\", \"NH\", \"NJ\", \"NM\", \"NV\", \"NY\", \"OH\", \"OK\", \"OR\", \"PA\", \"RI\", \"SC\", \"SD\", \"TN\", \"TX\", \"UT\", \"VA\", \"VT\", \"WA\", \"WI\", \"WV\", \"WY\"], \"marker\": {\"line\": {\"color\": \"rgb(255,255,255)\", \"width\": 2}}, \"visible\": false, \"colorbar\": {\"title\": \"Billions USD\"}}, {\"type\": \"choropleth\", \"colorscale\": [[0.0, \"rgb(84,39,143)\"], [0.1, \"rgb(117,107,177)\"], [0.2, \"rgb(158,154,200)\"], [0.3, \"rgb(188,189,220)\"], [0.4, \"218,218,235)\"], [0.5, \"rgb(240,240,240)\"], [0.6, \"rgb(255,214,151)\"], [0.8, \"rgb(250,195,104)\"], [0.9, \"rgb(250,177,58)\"], [1.0, \"rgb(252,153,6)\"]], \"autocolorscale\": false, \"locations\": [\"AK\", \"AL\", \"AR\", \"AZ\", \"CA\", \"CO\", \"CT\", \"DC\", \"DE\", \"FL\", \"GA\", \"HI\", \"IA\", \"ID\", \"IL\", \"IN\", \"KS\", \"KY\", \"LA\", \"MA\", \"MD\", \"ME\", \"MI\", \"MN\", \"MO\", \"MS\", \"MT\", \"NC\", \"ND\", \"NE\", \"NH\", \"NJ\", \"NM\", \"NV\", \"NY\", \"OH\", \"OK\", \"OR\", \"PA\", \"RI\", \"SC\", \"SD\", \"TN\", \"TX\", \"UT\", \"VA\", \"VT\", \"WA\", \"WI\", \"WV\", \"WY\"], \"z\": [179.15585769680953, -32.81248710175796, -46.81432788770491, -8.523530114108173, 9.889760351639707, -11.3871786340893, -93.12364071116066, -39.97052472954372, -10.819372411458243, -41.824946995299776, -135.97117762031465, -22.20982658279511, 84.02910798683128, 6.956957536883972, -37.18342911525373, 9.829703004533425, 13.472734171129064, -84.85745773824276, 120.41794690916826, -23.105848740960237, -135.13086901897972, -21.20317918678213, -410.5851949346452, 26.848798771113156, -83.90766921773034, -2.763855864848825, -28.055092973363323, 32.75206762851228, 11.879607703491594, 15.725567682982161, -34.5351314701204, -133.14580791223457, 2.091293775946775, -34.69945563693391, -201.9638536643621, -118.57932435671589, -6.7525752283904, 7.846986175348051, -124.97003312195302, -12.574719545267785, -70.78629733018397, 12.603194049761063, -94.33274605434842, 758.963752211858, 54.26335865127709, -79.67308523825538, 6.9823158789900335, 145.3855148074202, 34.973158698203044, -60.47820467220738, 7.434001308704363], \"locationmode\": \"USA-states\", \"text\": [\"AK\", \"AL\", \"AR\", \"AZ\", \"CA\", \"CO\", \"CT\", \"DC\", \"DE\", \"FL\", \"GA\", \"HI\", \"IA\", \"ID\", \"IL\", \"IN\", \"KS\", \"KY\", \"LA\", \"MA\", \"MD\", \"ME\", \"MI\", \"MN\", \"MO\", \"MS\", \"MT\", \"NC\", \"ND\", \"NE\", \"NH\", \"NJ\", \"NM\", \"NV\", \"NY\", \"OH\", \"OK\", \"OR\", \"PA\", \"RI\", \"SC\", \"SD\", \"TN\", \"TX\", \"UT\", \"VA\", \"VT\", \"WA\", \"WI\", \"WV\", \"WY\"], \"marker\": {\"line\": {\"color\": \"rgb(255,255,255)\", \"width\": 2}}, \"visible\": false, \"colorbar\": {\"title\": \"Billions USD\"}}], {\"title\": \"Production / consumption balance per state\", \"geo\": {\"scope\": \"usa\", \"projection\": {\"type\": \"albers usa\"}, \"showlakes\": true, \"lakecolor\": \"rgb(255, 255, 255)\"}, \"sliders\": [{\"active\": 10, \"currentvalue\": {\"prefix\": \"Year: \"}, \"pad\": {\"t\": 50}, \"steps\": [{\"method\": \"restyle\", \"args\": [\"visible\", [true, false, false, false, false, false, false, false, false, false]], \"label\": \"2012\"}, {\"method\": \"restyle\", \"args\": [\"visible\", [false, true, false, false, false, false, false, false, false, false]], \"label\": \"2013\"}, {\"method\": \"restyle\", \"args\": [\"visible\", [false, false, true, false, false, false, false, false, false, false]], \"label\": \"2014\"}, {\"method\": \"restyle\", \"args\": [\"visible\", [false, false, false, true, false, false, false, false, false, false]], \"label\": \"2015\"}, {\"method\": \"restyle\", \"args\": [\"visible\", [false, false, false, false, true, false, false, false, false, false]], \"label\": \"2020\"}, {\"method\": \"restyle\", \"args\": [\"visible\", [false, false, false, false, false, true, false, false, false, false]], \"label\": \"2025\"}, {\"method\": \"restyle\", \"args\": [\"visible\", [false, false, false, false, false, false, true, false, false, false]], \"label\": \"2030\"}, {\"method\": \"restyle\", \"args\": [\"visible\", [false, false, false, false, false, false, false, true, false, false]], \"label\": \"2035\"}, {\"method\": \"restyle\", \"args\": [\"visible\", [false, false, false, false, false, false, false, false, true, false]], \"label\": \"2040\"}, {\"method\": \"restyle\", \"args\": [\"visible\", [false, false, false, false, false, false, false, false, false, true]], \"label\": \"2045\"}]}]}, {\"showLink\": true, \"linkText\": \"Export to plot.ly\"})});</script>"
            ],
            "application/vnd.plotly.v1+json": {
              "layout": {
                "sliders": [
                  {
                    "active": 10,
                    "steps": [
                      {
                        "args": [
                          "visible",
                          [
                            true,
                            false,
                            false,
                            false,
                            false,
                            false,
                            false,
                            false,
                            false,
                            false
                          ]
                        ],
                        "method": "restyle",
                        "label": "2012"
                      },
                      {
                        "args": [
                          "visible",
                          [
                            false,
                            true,
                            false,
                            false,
                            false,
                            false,
                            false,
                            false,
                            false,
                            false
                          ]
                        ],
                        "method": "restyle",
                        "label": "2013"
                      },
                      {
                        "args": [
                          "visible",
                          [
                            false,
                            false,
                            true,
                            false,
                            false,
                            false,
                            false,
                            false,
                            false,
                            false
                          ]
                        ],
                        "method": "restyle",
                        "label": "2014"
                      },
                      {
                        "args": [
                          "visible",
                          [
                            false,
                            false,
                            false,
                            true,
                            false,
                            false,
                            false,
                            false,
                            false,
                            false
                          ]
                        ],
                        "method": "restyle",
                        "label": "2015"
                      },
                      {
                        "args": [
                          "visible",
                          [
                            false,
                            false,
                            false,
                            false,
                            true,
                            false,
                            false,
                            false,
                            false,
                            false
                          ]
                        ],
                        "method": "restyle",
                        "label": "2020"
                      },
                      {
                        "args": [
                          "visible",
                          [
                            false,
                            false,
                            false,
                            false,
                            false,
                            true,
                            false,
                            false,
                            false,
                            false
                          ]
                        ],
                        "method": "restyle",
                        "label": "2025"
                      },
                      {
                        "args": [
                          "visible",
                          [
                            false,
                            false,
                            false,
                            false,
                            false,
                            false,
                            true,
                            false,
                            false,
                            false
                          ]
                        ],
                        "method": "restyle",
                        "label": "2030"
                      },
                      {
                        "args": [
                          "visible",
                          [
                            false,
                            false,
                            false,
                            false,
                            false,
                            false,
                            false,
                            true,
                            false,
                            false
                          ]
                        ],
                        "method": "restyle",
                        "label": "2035"
                      },
                      {
                        "args": [
                          "visible",
                          [
                            false,
                            false,
                            false,
                            false,
                            false,
                            false,
                            false,
                            false,
                            true,
                            false
                          ]
                        ],
                        "method": "restyle",
                        "label": "2040"
                      },
                      {
                        "args": [
                          "visible",
                          [
                            false,
                            false,
                            false,
                            false,
                            false,
                            false,
                            false,
                            false,
                            false,
                            true
                          ]
                        ],
                        "method": "restyle",
                        "label": "2045"
                      }
                    ],
                    "currentvalue": {
                      "prefix": "Year: "
                    },
                    "pad": {
                      "t": 50
                    }
                  }
                ],
                "geo": {
                  "showlakes": true,
                  "scope": "usa",
                  "projection": {
                    "type": "albers usa"
                  },
                  "lakecolor": "rgb(255, 255, 255)"
                },
                "title": "Production / consumption balance per state"
              },
              "data": [
                {
                  "autocolorscale": false,
                  "colorscale": [
                    [
                      0,
                      "rgb(84,39,143)"
                    ],
                    [
                      0.1,
                      "rgb(117,107,177)"
                    ],
                    [
                      0.2,
                      "rgb(158,154,200)"
                    ],
                    [
                      0.3,
                      "rgb(188,189,220)"
                    ],
                    [
                      0.4,
                      "218,218,235)"
                    ],
                    [
                      0.5,
                      "rgb(240,240,240)"
                    ],
                    [
                      0.6,
                      "rgb(255,214,151)"
                    ],
                    [
                      0.8,
                      "rgb(250,195,104)"
                    ],
                    [
                      0.9,
                      "rgb(250,177,58)"
                    ],
                    [
                      1,
                      "rgb(252,153,6)"
                    ]
                  ],
                  "type": "choropleth",
                  "locations": [
                    "AK",
                    "AL",
                    "AR",
                    "AZ",
                    "CA",
                    "CO",
                    "CT",
                    "DC",
                    "DE",
                    "FL",
                    "GA",
                    "HI",
                    "IA",
                    "ID",
                    "IL",
                    "IN",
                    "KS",
                    "KY",
                    "LA",
                    "MA",
                    "MD",
                    "ME",
                    "MI",
                    "MN",
                    "MO",
                    "MS",
                    "MT",
                    "NC",
                    "ND",
                    "NE",
                    "NH",
                    "NJ",
                    "NM",
                    "NV",
                    "NY",
                    "OH",
                    "OK",
                    "OR",
                    "PA",
                    "RI",
                    "SC",
                    "SD",
                    "TN",
                    "TX",
                    "UT",
                    "VA",
                    "VT",
                    "WA",
                    "WI",
                    "WV",
                    "WY"
                  ],
                  "colorbar": {
                    "title": "Billions USD"
                  },
                  "visible": true,
                  "text": [
                    "AK",
                    "AL",
                    "AR",
                    "AZ",
                    "CA",
                    "CO",
                    "CT",
                    "DC",
                    "DE",
                    "FL",
                    "GA",
                    "HI",
                    "IA",
                    "ID",
                    "IL",
                    "IN",
                    "KS",
                    "KY",
                    "LA",
                    "MA",
                    "MD",
                    "ME",
                    "MI",
                    "MN",
                    "MO",
                    "MS",
                    "MT",
                    "NC",
                    "ND",
                    "NE",
                    "NH",
                    "NJ",
                    "NM",
                    "NV",
                    "NY",
                    "OH",
                    "OK",
                    "OR",
                    "PA",
                    "RI",
                    "SC",
                    "SD",
                    "TN",
                    "TX",
                    "UT",
                    "VA",
                    "VT",
                    "WA",
                    "WI",
                    "WV",
                    "WY"
                  ],
                  "marker": {
                    "line": {
                      "color": "rgb(255,255,255)",
                      "width": 2
                    }
                  },
                  "z": [
                    13.911494269210424,
                    -20.61273994303422,
                    -15.514676024931017,
                    -44.678151448001444,
                    -80.76871541160648,
                    -10.915472182695988,
                    30.1690263109784,
                    -7.696241502149736,
                    -13.158112672137838,
                    -120.2600868355676,
                    -32.5233822594111,
                    -13.903022238178524,
                    16.145662787984357,
                    -8.17822935175783,
                    63.85807906637888,
                    -14.366839046948007,
                    18.26803124118771,
                    -3.665733245040581,
                    -14.700051798330794,
                    -34.674750576293704,
                    -30.264989327756076,
                    -5.9284557842309225,
                    -57.58305046198401,
                    2.14086162016436,
                    -22.510718721985526,
                    -3.941279044367635,
                    -12.722245440063881,
                    21.444698845308448,
                    19.238893882863746,
                    -0.4058760736801778,
                    -25.565389802626342,
                    2.827113980416034,
                    -7.374069228387409,
                    -14.515944332856117,
                    -70.47667812877754,
                    -25.25697694724577,
                    -5.069083758760593,
                    -14.901875444920675,
                    -31.34550955577672,
                    0.051610052779527904,
                    -32.009818706050574,
                    -0.037555445989550205,
                    -5.5969898367469435,
                    -52.66462495749025,
                    -3.933916157693078,
                    -38.38577210427058,
                    -1.3003536322619038,
                    14.735612945169619,
                    17.88681766157225,
                    2.5219969930478694,
                    6.156469930933708
                  ],
                  "locationmode": "USA-states"
                },
                {
                  "autocolorscale": false,
                  "colorscale": [
                    [
                      0,
                      "rgb(84,39,143)"
                    ],
                    [
                      0.1,
                      "rgb(117,107,177)"
                    ],
                    [
                      0.2,
                      "rgb(158,154,200)"
                    ],
                    [
                      0.3,
                      "rgb(188,189,220)"
                    ],
                    [
                      0.4,
                      "218,218,235)"
                    ],
                    [
                      0.5,
                      "rgb(240,240,240)"
                    ],
                    [
                      0.6,
                      "rgb(255,214,151)"
                    ],
                    [
                      0.8,
                      "rgb(250,195,104)"
                    ],
                    [
                      0.9,
                      "rgb(250,177,58)"
                    ],
                    [
                      1,
                      "rgb(252,153,6)"
                    ]
                  ],
                  "type": "choropleth",
                  "locations": [
                    "AK",
                    "AL",
                    "AR",
                    "AZ",
                    "CA",
                    "CO",
                    "CT",
                    "DC",
                    "DE",
                    "FL",
                    "GA",
                    "HI",
                    "IA",
                    "ID",
                    "IL",
                    "IN",
                    "KS",
                    "KY",
                    "LA",
                    "MA",
                    "MD",
                    "ME",
                    "MI",
                    "MN",
                    "MO",
                    "MS",
                    "MT",
                    "NC",
                    "ND",
                    "NE",
                    "NH",
                    "NJ",
                    "NM",
                    "NV",
                    "NY",
                    "OH",
                    "OK",
                    "OR",
                    "PA",
                    "RI",
                    "SC",
                    "SD",
                    "TN",
                    "TX",
                    "UT",
                    "VA",
                    "VT",
                    "WA",
                    "WI",
                    "WV",
                    "WY"
                  ],
                  "colorbar": {
                    "title": "Billions USD"
                  },
                  "visible": false,
                  "text": [
                    "AK",
                    "AL",
                    "AR",
                    "AZ",
                    "CA",
                    "CO",
                    "CT",
                    "DC",
                    "DE",
                    "FL",
                    "GA",
                    "HI",
                    "IA",
                    "ID",
                    "IL",
                    "IN",
                    "KS",
                    "KY",
                    "LA",
                    "MA",
                    "MD",
                    "ME",
                    "MI",
                    "MN",
                    "MO",
                    "MS",
                    "MT",
                    "NC",
                    "ND",
                    "NE",
                    "NH",
                    "NJ",
                    "NM",
                    "NV",
                    "NY",
                    "OH",
                    "OK",
                    "OR",
                    "PA",
                    "RI",
                    "SC",
                    "SD",
                    "TN",
                    "TX",
                    "UT",
                    "VA",
                    "VT",
                    "WA",
                    "WI",
                    "WV",
                    "WY"
                  ],
                  "marker": {
                    "line": {
                      "color": "rgb(255,255,255)",
                      "width": 2
                    }
                  },
                  "z": [
                    18.39983961823521,
                    -21.243231460641955,
                    -12.733159729274687,
                    -44.64551086240663,
                    -61.48686257565953,
                    -13.670225518117018,
                    28.801394591112242,
                    -13.030822462452019,
                    -11.708150084068134,
                    -118.06826325366245,
                    -36.44368924547796,
                    -13.741039164904175,
                    22.159059502053918,
                    -2.6448403324319223,
                    54.90184373480431,
                    -7.951197059775412,
                    19.710739834788313,
                    -0.6683103357405052,
                    -12.551437382810109,
                    -37.13384439833375,
                    -40.278645123702795,
                    -10.50601360629379,
                    -7.212811174832226,
                    -4.71686950637697,
                    -30.792584882270777,
                    -3.6560455527917073,
                    -14.562913699134093,
                    27.1771591667037,
                    28.78566069894332,
                    -1.5182489802112977,
                    -26.71331693643539,
                    0.9949215146493516,
                    -7.5318325067497645,
                    -16.228821068391042,
                    -78.40494318157492,
                    -27.88129001950065,
                    0.46290981365658807,
                    -30.213065162802494,
                    -28.63611116935045,
                    -0.4581582850950217,
                    -29.11256799966481,
                    -1.5324874877139592,
                    -5.147956755535851,
                    -19.506260554102717,
                    -0.9849758749534667,
                    -45.436541985727615,
                    -0.998455043820246,
                    27.43354281160125,
                    15.570144090214919,
                    -1.9189396912667727,
                    4.865463693215293
                  ],
                  "locationmode": "USA-states"
                },
                {
                  "autocolorscale": false,
                  "colorscale": [
                    [
                      0,
                      "rgb(84,39,143)"
                    ],
                    [
                      0.1,
                      "rgb(117,107,177)"
                    ],
                    [
                      0.2,
                      "rgb(158,154,200)"
                    ],
                    [
                      0.3,
                      "rgb(188,189,220)"
                    ],
                    [
                      0.4,
                      "218,218,235)"
                    ],
                    [
                      0.5,
                      "rgb(240,240,240)"
                    ],
                    [
                      0.6,
                      "rgb(255,214,151)"
                    ],
                    [
                      0.8,
                      "rgb(250,195,104)"
                    ],
                    [
                      0.9,
                      "rgb(250,177,58)"
                    ],
                    [
                      1,
                      "rgb(252,153,6)"
                    ]
                  ],
                  "type": "choropleth",
                  "locations": [
                    "AK",
                    "AL",
                    "AR",
                    "AZ",
                    "CA",
                    "CO",
                    "CT",
                    "DC",
                    "DE",
                    "FL",
                    "GA",
                    "HI",
                    "IA",
                    "ID",
                    "IL",
                    "IN",
                    "KS",
                    "KY",
                    "LA",
                    "MA",
                    "MD",
                    "ME",
                    "MI",
                    "MN",
                    "MO",
                    "MS",
                    "MT",
                    "NC",
                    "ND",
                    "NE",
                    "NH",
                    "NJ",
                    "NM",
                    "NV",
                    "NY",
                    "OH",
                    "OK",
                    "OR",
                    "PA",
                    "RI",
                    "SC",
                    "SD",
                    "TN",
                    "TX",
                    "UT",
                    "VA",
                    "VT",
                    "WA",
                    "WI",
                    "WV",
                    "WY"
                  ],
                  "colorbar": {
                    "title": "Billions USD"
                  },
                  "visible": false,
                  "text": [
                    "AK",
                    "AL",
                    "AR",
                    "AZ",
                    "CA",
                    "CO",
                    "CT",
                    "DC",
                    "DE",
                    "FL",
                    "GA",
                    "HI",
                    "IA",
                    "ID",
                    "IL",
                    "IN",
                    "KS",
                    "KY",
                    "LA",
                    "MA",
                    "MD",
                    "ME",
                    "MI",
                    "MN",
                    "MO",
                    "MS",
                    "MT",
                    "NC",
                    "ND",
                    "NE",
                    "NH",
                    "NJ",
                    "NM",
                    "NV",
                    "NY",
                    "OH",
                    "OK",
                    "OR",
                    "PA",
                    "RI",
                    "SC",
                    "SD",
                    "TN",
                    "TX",
                    "UT",
                    "VA",
                    "VT",
                    "WA",
                    "WI",
                    "WV",
                    "WY"
                  ],
                  "marker": {
                    "line": {
                      "color": "rgb(255,255,255)",
                      "width": 2
                    }
                  },
                  "z": [
                    21.45189627089724,
                    -22.3248762513797,
                    -15.348710750320256,
                    -46.444720622880794,
                    -61.104518793947996,
                    -9.957123454387911,
                    -8.38587799782175,
                    -13.020879305041555,
                    -11.205731123490274,
                    -122.28879643184173,
                    -35.756607245463705,
                    -13.006058806836093,
                    24.441238623555634,
                    -3.007809192740766,
                    43.094755889313646,
                    -5.29566133006342,
                    15.266367695252178,
                    0.37467963670165044,
                    5.339017784860742,
                    -34.71971932506503,
                    -49.84881188215717,
                    -8.269657528614625,
                    -83.11620229070867,
                    -7.4472868031481045,
                    -25.853394753260538,
                    -1.1569683397183252,
                    -15.672997377053806,
                    18.89158712469408,
                    37.95479801677779,
                    -1.9656088415134583,
                    -26.094919703188985,
                    -6.760671547590405,
                    -8.891576225275479,
                    -19.626739615855126,
                    -86.72852212960774,
                    -29.875328308342375,
                    -3.6537844614847854,
                    -18.65674469705674,
                    -23.074825795929414,
                    -0.01848443475134263,
                    -30.47476472647398,
                    -0.05163939038309764,
                    -5.278724447685469,
                    13.712944298451767,
                    -2.89636232429542,
                    -44.327613909784006,
                    -1.5050023087245572,
                    34.2446479785635,
                    12.241472331609636,
                    0.7864798190548027,
                    4.681552313071421
                  ],
                  "locationmode": "USA-states"
                },
                {
                  "autocolorscale": false,
                  "colorscale": [
                    [
                      0,
                      "rgb(84,39,143)"
                    ],
                    [
                      0.1,
                      "rgb(117,107,177)"
                    ],
                    [
                      0.2,
                      "rgb(158,154,200)"
                    ],
                    [
                      0.3,
                      "rgb(188,189,220)"
                    ],
                    [
                      0.4,
                      "218,218,235)"
                    ],
                    [
                      0.5,
                      "rgb(240,240,240)"
                    ],
                    [
                      0.6,
                      "rgb(255,214,151)"
                    ],
                    [
                      0.8,
                      "rgb(250,195,104)"
                    ],
                    [
                      0.9,
                      "rgb(250,177,58)"
                    ],
                    [
                      1,
                      "rgb(252,153,6)"
                    ]
                  ],
                  "type": "choropleth",
                  "locations": [
                    "AK",
                    "AL",
                    "AR",
                    "AZ",
                    "CA",
                    "CO",
                    "CT",
                    "DC",
                    "DE",
                    "FL",
                    "GA",
                    "HI",
                    "IA",
                    "ID",
                    "IL",
                    "IN",
                    "KS",
                    "KY",
                    "LA",
                    "MA",
                    "MD",
                    "ME",
                    "MI",
                    "MN",
                    "MO",
                    "MS",
                    "MT",
                    "NC",
                    "ND",
                    "NE",
                    "NH",
                    "NJ",
                    "NM",
                    "NV",
                    "NY",
                    "OH",
                    "OK",
                    "OR",
                    "PA",
                    "RI",
                    "SC",
                    "SD",
                    "TN",
                    "TX",
                    "UT",
                    "VA",
                    "VT",
                    "WA",
                    "WI",
                    "WV",
                    "WY"
                  ],
                  "colorbar": {
                    "title": "Billions USD"
                  },
                  "visible": false,
                  "text": [
                    "AK",
                    "AL",
                    "AR",
                    "AZ",
                    "CA",
                    "CO",
                    "CT",
                    "DC",
                    "DE",
                    "FL",
                    "GA",
                    "HI",
                    "IA",
                    "ID",
                    "IL",
                    "IN",
                    "KS",
                    "KY",
                    "LA",
                    "MA",
                    "MD",
                    "ME",
                    "MI",
                    "MN",
                    "MO",
                    "MS",
                    "MT",
                    "NC",
                    "ND",
                    "NE",
                    "NH",
                    "NJ",
                    "NM",
                    "NV",
                    "NY",
                    "OH",
                    "OK",
                    "OR",
                    "PA",
                    "RI",
                    "SC",
                    "SD",
                    "TN",
                    "TX",
                    "UT",
                    "VA",
                    "VT",
                    "WA",
                    "WI",
                    "WV",
                    "WY"
                  ],
                  "marker": {
                    "line": {
                      "color": "rgb(255,255,255)",
                      "width": 2
                    }
                  },
                  "z": [
                    21.81372020632492,
                    -25.5247116977229,
                    -17.51038196045492,
                    -49.1485151868902,
                    -69.43252283983956,
                    -5.513119791271776,
                    -11.17636518050154,
                    -13.138082932930022,
                    -10.355125626317218,
                    -120.41063870556536,
                    -36.007465387056754,
                    -13.4089688051554,
                    22.72458180770735,
                    -3.9626146267064324,
                    46.89344834725268,
                    -1.3098465848923662,
                    14.059326301213005,
                    -6.8065836342853725,
                    7.55714188866393,
                    -34.46037139793468,
                    -51.24410561792093,
                    -9.125522106416087,
                    -88.41871815401409,
                    -3.9445354331350537,
                    -28.773885247312485,
                    -1.1847193247465475,
                    -15.853883422078194,
                    22.151883053774945,
                    40.46165824482738,
                    -4.447297359581629,
                    -28.16494870443266,
                    -29.13542157021712,
                    -10.328593669015172,
                    -22.418733341716027,
                    -99.49850415537902,
                    -36.32961592721683,
                    -7.330613904345403,
                    -16.00209430227344,
                    -26.517144216118382,
                    -1.2322956409764447,
                    -31.24557447847078,
                    0.5526922304209584,
                    -15.275504720530996,
                    40.72441992728785,
                    -2.012505429494311,
                    -51.94955507721886,
                    -2.5936194156977073,
                    29.342535143675168,
                    7.817968732815585,
                    -9.47407170795143,
                    4.529948416504798
                  ],
                  "locationmode": "USA-states"
                },
                {
                  "autocolorscale": false,
                  "colorscale": [
                    [
                      0,
                      "rgb(84,39,143)"
                    ],
                    [
                      0.1,
                      "rgb(117,107,177)"
                    ],
                    [
                      0.2,
                      "rgb(158,154,200)"
                    ],
                    [
                      0.3,
                      "rgb(188,189,220)"
                    ],
                    [
                      0.4,
                      "218,218,235)"
                    ],
                    [
                      0.5,
                      "rgb(240,240,240)"
                    ],
                    [
                      0.6,
                      "rgb(255,214,151)"
                    ],
                    [
                      0.8,
                      "rgb(250,195,104)"
                    ],
                    [
                      0.9,
                      "rgb(250,177,58)"
                    ],
                    [
                      1,
                      "rgb(252,153,6)"
                    ]
                  ],
                  "type": "choropleth",
                  "locations": [
                    "AK",
                    "AL",
                    "AR",
                    "AZ",
                    "CA",
                    "CO",
                    "CT",
                    "DC",
                    "DE",
                    "FL",
                    "GA",
                    "HI",
                    "IA",
                    "ID",
                    "IL",
                    "IN",
                    "KS",
                    "KY",
                    "LA",
                    "MA",
                    "MD",
                    "ME",
                    "MI",
                    "MN",
                    "MO",
                    "MS",
                    "MT",
                    "NC",
                    "ND",
                    "NE",
                    "NH",
                    "NJ",
                    "NM",
                    "NV",
                    "NY",
                    "OH",
                    "OK",
                    "OR",
                    "PA",
                    "RI",
                    "SC",
                    "SD",
                    "TN",
                    "TX",
                    "UT",
                    "VA",
                    "VT",
                    "WA",
                    "WI",
                    "WV",
                    "WY"
                  ],
                  "colorbar": {
                    "title": "Billions USD"
                  },
                  "visible": false,
                  "text": [
                    "AK",
                    "AL",
                    "AR",
                    "AZ",
                    "CA",
                    "CO",
                    "CT",
                    "DC",
                    "DE",
                    "FL",
                    "GA",
                    "HI",
                    "IA",
                    "ID",
                    "IL",
                    "IN",
                    "KS",
                    "KY",
                    "LA",
                    "MA",
                    "MD",
                    "ME",
                    "MI",
                    "MN",
                    "MO",
                    "MS",
                    "MT",
                    "NC",
                    "ND",
                    "NE",
                    "NH",
                    "NJ",
                    "NM",
                    "NV",
                    "NY",
                    "OH",
                    "OK",
                    "OR",
                    "PA",
                    "RI",
                    "SC",
                    "SD",
                    "TN",
                    "TX",
                    "UT",
                    "VA",
                    "VT",
                    "WA",
                    "WI",
                    "WV",
                    "WY"
                  ],
                  "marker": {
                    "line": {
                      "color": "rgb(255,255,255)",
                      "width": 2
                    }
                  },
                  "z": [
                    21.096923791655325,
                    -28.856647497227705,
                    -21.19501485749768,
                    -50.719211763314725,
                    -49.325539940869206,
                    -3.4662554915043873,
                    -18.579605732488155,
                    -16.326371702895543,
                    -9.573107441995678,
                    -116.55577170150016,
                    -50.26573294534674,
                    -14.495140771034759,
                    26.02789908746845,
                    -2.055593946969908,
                    37.25311309504637,
                    -0.4503022859704215,
                    9.262121731017018,
                    -22.15095256709156,
                    63.62958312359295,
                    -39.23034205511422,
                    -60.94130717149496,
                    -10.537456153422085,
                    -126.11030302136706,
                    -3.2411418344434932,
                    -36.65514656351169,
                    4.153364726660308,
                    -18.1407863103329,
                    22.318388945973652,
                    60.264063154707834,
                    -4.2537796555396055,
                    -30.29309669103267,
                    -28.381628759226647,
                    -10.493113876158706,
                    -23.695422631760056,
                    -115.47180373333767,
                    -39.337841189892615,
                    -8.375903011075774,
                    -8.626504877065338,
                    -27.06588699660194,
                    -2.9190677955346764,
                    -37.065551629521416,
                    2.5056595155258985,
                    -23.492389579740934,
                    325.07926175528576,
                    1.301265903464955,
                    -52.81026372380694,
                    -2.3812387134802084,
                    46.43555349394464,
                    2.5281698282003053,
                    -15.338501235461546,
                    4.613195175970875
                  ],
                  "locationmode": "USA-states"
                },
                {
                  "autocolorscale": false,
                  "colorscale": [
                    [
                      0,
                      "rgb(84,39,143)"
                    ],
                    [
                      0.1,
                      "rgb(117,107,177)"
                    ],
                    [
                      0.2,
                      "rgb(158,154,200)"
                    ],
                    [
                      0.3,
                      "rgb(188,189,220)"
                    ],
                    [
                      0.4,
                      "218,218,235)"
                    ],
                    [
                      0.5,
                      "rgb(240,240,240)"
                    ],
                    [
                      0.6,
                      "rgb(255,214,151)"
                    ],
                    [
                      0.8,
                      "rgb(250,195,104)"
                    ],
                    [
                      0.9,
                      "rgb(250,177,58)"
                    ],
                    [
                      1,
                      "rgb(252,153,6)"
                    ]
                  ],
                  "type": "choropleth",
                  "locations": [
                    "AK",
                    "AL",
                    "AR",
                    "AZ",
                    "CA",
                    "CO",
                    "CT",
                    "DC",
                    "DE",
                    "FL",
                    "GA",
                    "HI",
                    "IA",
                    "ID",
                    "IL",
                    "IN",
                    "KS",
                    "KY",
                    "LA",
                    "MA",
                    "MD",
                    "ME",
                    "MI",
                    "MN",
                    "MO",
                    "MS",
                    "MT",
                    "NC",
                    "ND",
                    "NE",
                    "NH",
                    "NJ",
                    "NM",
                    "NV",
                    "NY",
                    "OH",
                    "OK",
                    "OR",
                    "PA",
                    "RI",
                    "SC",
                    "SD",
                    "TN",
                    "TX",
                    "UT",
                    "VA",
                    "VT",
                    "WA",
                    "WI",
                    "WV",
                    "WY"
                  ],
                  "colorbar": {
                    "title": "Billions USD"
                  },
                  "visible": false,
                  "text": [
                    "AK",
                    "AL",
                    "AR",
                    "AZ",
                    "CA",
                    "CO",
                    "CT",
                    "DC",
                    "DE",
                    "FL",
                    "GA",
                    "HI",
                    "IA",
                    "ID",
                    "IL",
                    "IN",
                    "KS",
                    "KY",
                    "LA",
                    "MA",
                    "MD",
                    "ME",
                    "MI",
                    "MN",
                    "MO",
                    "MS",
                    "MT",
                    "NC",
                    "ND",
                    "NE",
                    "NH",
                    "NJ",
                    "NM",
                    "NV",
                    "NY",
                    "OH",
                    "OK",
                    "OR",
                    "PA",
                    "RI",
                    "SC",
                    "SD",
                    "TN",
                    "TX",
                    "UT",
                    "VA",
                    "VT",
                    "WA",
                    "WI",
                    "WV",
                    "WY"
                  ],
                  "marker": {
                    "line": {
                      "color": "rgb(255,255,255)",
                      "width": 2
                    }
                  },
                  "z": [
                    23.310117476561288,
                    -30.646971809083187,
                    -26.780125479182285,
                    -48.40711918322084,
                    -15.793088005054742,
                    -0.3946559388253954,
                    -26.513806746758114,
                    -19.25407929343381,
                    -7.931710633967436,
                    -105.6338168957727,
                    -62.18598185173329,
                    -15.509828048472878,
                    34.78694073406834,
                    0.2521295212082478,
                    35.551325658914635,
                    -0.5939736730902223,
                    7.916112286658375,
                    -31.6063181017015,
                    105.81418643034698,
                    -37.23014388100023,
                    -70.83059379511536,
                    -12.304156428998146,
                    -163.92483892555268,
                    0.8780877286661999,
                    -43.66549373855203,
                    9.64386385711204,
                    -20.10824592728486,
                    23.9352132090666,
                    62.06732919348063,
                    -2.8115313808855134,
                    -30.35973797122012,
                    -35.61842575036187,
                    -9.515858246567047,
                    -25.718749466274662,
                    -122.65641268753994,
                    -44.76935772173386,
                    -8.626660519476282,
                    -5.039318235214247,
                    -34.64558143780311,
                    -4.612955157487267,
                    -41.009428911720285,
                    4.4315700965172145,
                    -31.125653282630257,
                    576.1965808803346,
                    8.714384630917891,
                    -53.84124510829814,
                    -0.9742732737871993,
                    67.24416122848011,
                    6.218265281003027,
                    -24.40574221560957,
                    5.55339351055809
                  ],
                  "locationmode": "USA-states"
                },
                {
                  "autocolorscale": false,
                  "colorscale": [
                    [
                      0,
                      "rgb(84,39,143)"
                    ],
                    [
                      0.1,
                      "rgb(117,107,177)"
                    ],
                    [
                      0.2,
                      "rgb(158,154,200)"
                    ],
                    [
                      0.3,
                      "rgb(188,189,220)"
                    ],
                    [
                      0.4,
                      "218,218,235)"
                    ],
                    [
                      0.5,
                      "rgb(240,240,240)"
                    ],
                    [
                      0.6,
                      "rgb(255,214,151)"
                    ],
                    [
                      0.8,
                      "rgb(250,195,104)"
                    ],
                    [
                      0.9,
                      "rgb(250,177,58)"
                    ],
                    [
                      1,
                      "rgb(252,153,6)"
                    ]
                  ],
                  "type": "choropleth",
                  "locations": [
                    "AK",
                    "AL",
                    "AR",
                    "AZ",
                    "CA",
                    "CO",
                    "CT",
                    "DC",
                    "DE",
                    "FL",
                    "GA",
                    "HI",
                    "IA",
                    "ID",
                    "IL",
                    "IN",
                    "KS",
                    "KY",
                    "LA",
                    "MA",
                    "MD",
                    "ME",
                    "MI",
                    "MN",
                    "MO",
                    "MS",
                    "MT",
                    "NC",
                    "ND",
                    "NE",
                    "NH",
                    "NJ",
                    "NM",
                    "NV",
                    "NY",
                    "OH",
                    "OK",
                    "OR",
                    "PA",
                    "RI",
                    "SC",
                    "SD",
                    "TN",
                    "TX",
                    "UT",
                    "VA",
                    "VT",
                    "WA",
                    "WI",
                    "WV",
                    "WY"
                  ],
                  "colorbar": {
                    "title": "Billions USD"
                  },
                  "visible": false,
                  "text": [
                    "AK",
                    "AL",
                    "AR",
                    "AZ",
                    "CA",
                    "CO",
                    "CT",
                    "DC",
                    "DE",
                    "FL",
                    "GA",
                    "HI",
                    "IA",
                    "ID",
                    "IL",
                    "IN",
                    "KS",
                    "KY",
                    "LA",
                    "MA",
                    "MD",
                    "ME",
                    "MI",
                    "MN",
                    "MO",
                    "MS",
                    "MT",
                    "NC",
                    "ND",
                    "NE",
                    "NH",
                    "NJ",
                    "NM",
                    "NV",
                    "NY",
                    "OH",
                    "OK",
                    "OR",
                    "PA",
                    "RI",
                    "SC",
                    "SD",
                    "TN",
                    "TX",
                    "UT",
                    "VA",
                    "VT",
                    "WA",
                    "WI",
                    "WV",
                    "WY"
                  ],
                  "marker": {
                    "line": {
                      "color": "rgb(255,255,255)",
                      "width": 2
                    }
                  },
                  "z": [
                    22.564674824679017,
                    -32.13650135839061,
                    -32.8570063115033,
                    -45.75937238327821,
                    -12.939436758879106,
                    -2.6713513525032324,
                    -39.65487329574034,
                    -22.98106582422818,
                    -7.142283902382754,
                    -96.55890803748113,
                    -77.68417416367214,
                    -16.730809505476824,
                    44.80789654569473,
                    1.3754159206565673,
                    27.04679957960802,
                    -1.4081931766718625,
                    6.485379743287631,
                    -42.61728471435275,
                    102.94830454872013,
                    -36.53990417154459,
                    -86.32544301989465,
                    -14.494453739589408,
                    -213.76870891802687,
                    3.316334175798285,
                    -52.02160667970992,
                    7.882839670780842,
                    -22.073318227695847,
                    23.575020386036254,
                    53.948130950640724,
                    -0.5541109444109025,
                    -30.914549966747973,
                    -51.71527085717861,
                    -8.847137549200081,
                    -28.828829753463157,
                    -145.66366567809123,
                    -61.843019330977114,
                    -10.05598320865468,
                    -1.1546128360590955,
                    -58.05630074203329,
                    -5.966301438654125,
                    -46.93247733593764,
                    6.22679362857902,
                    -40.8879095939179,
                    609.8507030696636,
                    15.079551208502846,
                    -61.475636758074806,
                    0.11662268767117348,
                    81.310362586079,
                    9.542217336956819,
                    -37.11616742742491,
                    6.513283841208497
                  ],
                  "locationmode": "USA-states"
                },
                {
                  "autocolorscale": false,
                  "colorscale": [
                    [
                      0,
                      "rgb(84,39,143)"
                    ],
                    [
                      0.1,
                      "rgb(117,107,177)"
                    ],
                    [
                      0.2,
                      "rgb(158,154,200)"
                    ],
                    [
                      0.3,
                      "rgb(188,189,220)"
                    ],
                    [
                      0.4,
                      "218,218,235)"
                    ],
                    [
                      0.5,
                      "rgb(240,240,240)"
                    ],
                    [
                      0.6,
                      "rgb(255,214,151)"
                    ],
                    [
                      0.8,
                      "rgb(250,195,104)"
                    ],
                    [
                      0.9,
                      "rgb(250,177,58)"
                    ],
                    [
                      1,
                      "rgb(252,153,6)"
                    ]
                  ],
                  "type": "choropleth",
                  "locations": [
                    "AK",
                    "AL",
                    "AR",
                    "AZ",
                    "CA",
                    "CO",
                    "CT",
                    "DC",
                    "DE",
                    "FL",
                    "GA",
                    "HI",
                    "IA",
                    "ID",
                    "IL",
                    "IN",
                    "KS",
                    "KY",
                    "LA",
                    "MA",
                    "MD",
                    "ME",
                    "MI",
                    "MN",
                    "MO",
                    "MS",
                    "MT",
                    "NC",
                    "ND",
                    "NE",
                    "NH",
                    "NJ",
                    "NM",
                    "NV",
                    "NY",
                    "OH",
                    "OK",
                    "OR",
                    "PA",
                    "RI",
                    "SC",
                    "SD",
                    "TN",
                    "TX",
                    "UT",
                    "VA",
                    "VT",
                    "WA",
                    "WI",
                    "WV",
                    "WY"
                  ],
                  "colorbar": {
                    "title": "Billions USD"
                  },
                  "visible": false,
                  "text": [
                    "AK",
                    "AL",
                    "AR",
                    "AZ",
                    "CA",
                    "CO",
                    "CT",
                    "DC",
                    "DE",
                    "FL",
                    "GA",
                    "HI",
                    "IA",
                    "ID",
                    "IL",
                    "IN",
                    "KS",
                    "KY",
                    "LA",
                    "MA",
                    "MD",
                    "ME",
                    "MI",
                    "MN",
                    "MO",
                    "MS",
                    "MT",
                    "NC",
                    "ND",
                    "NE",
                    "NH",
                    "NJ",
                    "NM",
                    "NV",
                    "NY",
                    "OH",
                    "OK",
                    "OR",
                    "PA",
                    "RI",
                    "SC",
                    "SD",
                    "TN",
                    "TX",
                    "UT",
                    "VA",
                    "VT",
                    "WA",
                    "WI",
                    "WV",
                    "WY"
                  ],
                  "marker": {
                    "line": {
                      "color": "rgb(255,255,255)",
                      "width": 2
                    }
                  },
                  "z": [
                    138.61784270063998,
                    -32.49048399607808,
                    -38.68088565409931,
                    -38.99435450680845,
                    -2.256166531442199,
                    -5.836698139234563,
                    -54.79610821243352,
                    -27.513688855788203,
                    -8.134766583354343,
                    -83.68205545422796,
                    -96.77154342616896,
                    -18.20409357783929,
                    56.74860949510202,
                    2.392699574991813,
                    13.347808808018685,
                    0.512794630723889,
                    6.891914719783992,
                    -54.091499838223044,
                    98.76555097800097,
                    -33.85797013051424,
                    -101.98491027652868,
                    -16.87681929488812,
                    -274.10690048972447,
                    6.384539567045926,
                    -62.0866746616271,
                    5.355934063341061,
                    -23.67635824809861,
                    24.316071255213696,
                    39.360886207705235,
                    4.553744451839418,
                    -31.224566489382152,
                    -75.680359764267,
                    -6.494674036691285,
                    -31.51350996475971,
                    -168.42339290326612,
                    -84.901992515928,
                    -9.48621301790647,
                    -0.8944788674881274,
                    -81.78165409065132,
                    -7.5106236060785525,
                    -53.830006031877765,
                    8.201137077130202,
                    -54.6547644308781,
                    622.3954581499077,
                    24.493104526302805,
                    -69.02438763060258,
                    1.7020815297164518,
                    97.63154347218469,
                    15.359231325769448,
                    -47.333429262038464,
                    7.554283271184409
                  ],
                  "locationmode": "USA-states"
                },
                {
                  "autocolorscale": false,
                  "colorscale": [
                    [
                      0,
                      "rgb(84,39,143)"
                    ],
                    [
                      0.1,
                      "rgb(117,107,177)"
                    ],
                    [
                      0.2,
                      "rgb(158,154,200)"
                    ],
                    [
                      0.3,
                      "rgb(188,189,220)"
                    ],
                    [
                      0.4,
                      "218,218,235)"
                    ],
                    [
                      0.5,
                      "rgb(240,240,240)"
                    ],
                    [
                      0.6,
                      "rgb(255,214,151)"
                    ],
                    [
                      0.8,
                      "rgb(250,195,104)"
                    ],
                    [
                      0.9,
                      "rgb(250,177,58)"
                    ],
                    [
                      1,
                      "rgb(252,153,6)"
                    ]
                  ],
                  "type": "choropleth",
                  "locations": [
                    "AK",
                    "AL",
                    "AR",
                    "AZ",
                    "CA",
                    "CO",
                    "CT",
                    "DC",
                    "DE",
                    "FL",
                    "GA",
                    "HI",
                    "IA",
                    "ID",
                    "IL",
                    "IN",
                    "KS",
                    "KY",
                    "LA",
                    "MA",
                    "MD",
                    "ME",
                    "MI",
                    "MN",
                    "MO",
                    "MS",
                    "MT",
                    "NC",
                    "ND",
                    "NE",
                    "NH",
                    "NJ",
                    "NM",
                    "NV",
                    "NY",
                    "OH",
                    "OK",
                    "OR",
                    "PA",
                    "RI",
                    "SC",
                    "SD",
                    "TN",
                    "TX",
                    "UT",
                    "VA",
                    "VT",
                    "WA",
                    "WI",
                    "WV",
                    "WY"
                  ],
                  "colorbar": {
                    "title": "Billions USD"
                  },
                  "visible": false,
                  "text": [
                    "AK",
                    "AL",
                    "AR",
                    "AZ",
                    "CA",
                    "CO",
                    "CT",
                    "DC",
                    "DE",
                    "FL",
                    "GA",
                    "HI",
                    "IA",
                    "ID",
                    "IL",
                    "IN",
                    "KS",
                    "KY",
                    "LA",
                    "MA",
                    "MD",
                    "ME",
                    "MI",
                    "MN",
                    "MO",
                    "MS",
                    "MT",
                    "NC",
                    "ND",
                    "NE",
                    "NH",
                    "NJ",
                    "NM",
                    "NV",
                    "NY",
                    "OH",
                    "OK",
                    "OR",
                    "PA",
                    "RI",
                    "SC",
                    "SD",
                    "TN",
                    "TX",
                    "UT",
                    "VA",
                    "VT",
                    "WA",
                    "WI",
                    "WV",
                    "WY"
                  ],
                  "marker": {
                    "line": {
                      "color": "rgb(255,255,255)",
                      "width": 2
                    }
                  },
                  "z": [
                    156.9489290667955,
                    -32.96436727425776,
                    -43.44076116443082,
                    -24.853562603125873,
                    49.39797064831946,
                    -9.290893195433716,
                    -71.62251302269381,
                    -32.08370133625991,
                    -9.84417226692874,
                    -52.54548120140401,
                    -112.5500655218321,
                    -19.713690158056306,
                    71.84299162686914,
                    5.13663074172876,
                    -10.747136117925635,
                    7.856965695676277,
                    10.093270680730813,
                    -67.4497617514318,
                    108.54356962639535,
                    -21.29061360453692,
                    -116.3772614820624,
                    -18.785141533038914,
                    -349.0316356491068,
                    19.301342410983228,
                    -73.44979113256599,
                    4.489147522775573,
                    -25.676426689921232,
                    31.746002698061755,
                    21.586345760677023,
                    10.890039762881585,
                    -31.58400354815411,
                    -104.69976969796838,
                    -2.941547178036111,
                    -31.680301944416833,
                    -173.60714390375466,
                    -107.706539216161,
                    -7.56322774961224,
                    6.567311962045263,
                    -102.61791600656346,
                    -8.992858380713601,
                    -59.73154194681853,
                    10.618642576524827,
                    -73.0910275513354,
                    689.7577487705215,
                    41.19928313449249,
                    -71.86159071274783,
                    4.389857228429777,
                    120.20667602930625,
                    27.80872600477864,
                    -55.80419604667154,
                    8.574190105860238
                  ],
                  "locationmode": "USA-states"
                },
                {
                  "autocolorscale": false,
                  "colorscale": [
                    [
                      0,
                      "rgb(84,39,143)"
                    ],
                    [
                      0.1,
                      "rgb(117,107,177)"
                    ],
                    [
                      0.2,
                      "rgb(158,154,200)"
                    ],
                    [
                      0.3,
                      "rgb(188,189,220)"
                    ],
                    [
                      0.4,
                      "218,218,235)"
                    ],
                    [
                      0.5,
                      "rgb(240,240,240)"
                    ],
                    [
                      0.6,
                      "rgb(255,214,151)"
                    ],
                    [
                      0.8,
                      "rgb(250,195,104)"
                    ],
                    [
                      0.9,
                      "rgb(250,177,58)"
                    ],
                    [
                      1,
                      "rgb(252,153,6)"
                    ]
                  ],
                  "type": "choropleth",
                  "locations": [
                    "AK",
                    "AL",
                    "AR",
                    "AZ",
                    "CA",
                    "CO",
                    "CT",
                    "DC",
                    "DE",
                    "FL",
                    "GA",
                    "HI",
                    "IA",
                    "ID",
                    "IL",
                    "IN",
                    "KS",
                    "KY",
                    "LA",
                    "MA",
                    "MD",
                    "ME",
                    "MI",
                    "MN",
                    "MO",
                    "MS",
                    "MT",
                    "NC",
                    "ND",
                    "NE",
                    "NH",
                    "NJ",
                    "NM",
                    "NV",
                    "NY",
                    "OH",
                    "OK",
                    "OR",
                    "PA",
                    "RI",
                    "SC",
                    "SD",
                    "TN",
                    "TX",
                    "UT",
                    "VA",
                    "VT",
                    "WA",
                    "WI",
                    "WV",
                    "WY"
                  ],
                  "colorbar": {
                    "title": "Billions USD"
                  },
                  "visible": false,
                  "text": [
                    "AK",
                    "AL",
                    "AR",
                    "AZ",
                    "CA",
                    "CO",
                    "CT",
                    "DC",
                    "DE",
                    "FL",
                    "GA",
                    "HI",
                    "IA",
                    "ID",
                    "IL",
                    "IN",
                    "KS",
                    "KY",
                    "LA",
                    "MA",
                    "MD",
                    "ME",
                    "MI",
                    "MN",
                    "MO",
                    "MS",
                    "MT",
                    "NC",
                    "ND",
                    "NE",
                    "NH",
                    "NJ",
                    "NM",
                    "NV",
                    "NY",
                    "OH",
                    "OK",
                    "OR",
                    "PA",
                    "RI",
                    "SC",
                    "SD",
                    "TN",
                    "TX",
                    "UT",
                    "VA",
                    "VT",
                    "WA",
                    "WI",
                    "WV",
                    "WY"
                  ],
                  "marker": {
                    "line": {
                      "color": "rgb(255,255,255)",
                      "width": 2
                    }
                  },
                  "z": [
                    179.15585769680953,
                    -32.81248710175796,
                    -46.81432788770491,
                    -8.523530114108173,
                    9.889760351639707,
                    -11.3871786340893,
                    -93.12364071116066,
                    -39.97052472954372,
                    -10.819372411458243,
                    -41.824946995299776,
                    -135.97117762031465,
                    -22.20982658279511,
                    84.02910798683128,
                    6.956957536883972,
                    -37.18342911525373,
                    9.829703004533425,
                    13.472734171129064,
                    -84.85745773824276,
                    120.41794690916826,
                    -23.105848740960237,
                    -135.13086901897972,
                    -21.20317918678213,
                    -410.5851949346452,
                    26.848798771113156,
                    -83.90766921773034,
                    -2.763855864848825,
                    -28.055092973363323,
                    32.75206762851228,
                    11.879607703491594,
                    15.725567682982161,
                    -34.5351314701204,
                    -133.14580791223457,
                    2.091293775946775,
                    -34.69945563693391,
                    -201.9638536643621,
                    -118.57932435671589,
                    -6.7525752283904,
                    7.846986175348051,
                    -124.97003312195302,
                    -12.574719545267785,
                    -70.78629733018397,
                    12.603194049761063,
                    -94.33274605434842,
                    758.963752211858,
                    54.26335865127709,
                    -79.67308523825538,
                    6.9823158789900335,
                    145.3855148074202,
                    34.973158698203044,
                    -60.47820467220738,
                    7.434001308704363
                  ],
                  "locationmode": "USA-states"
                }
              ]
            }
          },
          "metadata": {
            "tags": []
          }
        }
      ]
    },
    {
      "metadata": {
        "id": "eryStRkk6Ldm",
        "colab_type": "code",
        "colab": {
          "base_uri": "https://localhost:8080/",
          "height": 70
        },
        "outputId": "da099341-2466-4751-81e7-55cda63677d7"
      },
      "cell_type": "code",
      "source": [
        "!ls -a ../.config"
      ],
      "execution_count": 25,
      "outputs": [
        {
          "output_type": "stream",
          "text": [
            ".   active_config    configurations  .last_update_check.json\n",
            "..  config_sentinel  gce\t     logs\n"
          ],
          "name": "stdout"
        }
      ]
    }
  ]
}