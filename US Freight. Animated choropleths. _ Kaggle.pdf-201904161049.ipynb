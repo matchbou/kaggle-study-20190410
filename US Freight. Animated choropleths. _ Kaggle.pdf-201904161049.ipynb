{
  "nbformat": 4,
  "nbformat_minor": 0,
  "metadata": {
    "colab": {
      "name": "Colaboratory へようこそ",
      "version": "0.3.2",
      "provenance": [],
      "collapsed_sections": [],
      "include_colab_link": true
    },
    "kernelspec": {
      "name": "python3",
      "display_name": "Python 3"
    },
    "accelerator": "GPU"
  },
  "cells": [
    {
      "cell_type": "markdown",
      "metadata": {
        "id": "view-in-github",
        "colab_type": "text"
      },
      "source": [
        "<a href=\"https://colab.research.google.com/github/matchbou/kaggle-study-20190410/blob/master/US%20Freight.%20Animated%20choropleths.%20_%20Kaggle.pdf-201904161049.ipynb\" target=\"_parent\"><img src=\"https://colab.research.google.com/assets/colab-badge.svg\" alt=\"Open In Colab\"/></a>"
      ]
    },
    {
      "metadata": {
        "id": "Z023-HUhB2cN",
        "colab_type": "code",
        "colab": {}
      },
      "cell_type": "code",
      "source": [
        "# https://www.kaggle.com/ievgenvp/us-freight-animated-choropleths\n",
        "\n",
        "# US Freight. Animated choropleths."
      ],
      "execution_count": 0,
      "outputs": []
    },
    {
      "metadata": {
        "id": "ZEwLQPLDBIEp",
        "colab_type": "code",
        "outputId": "5c338f5b-d298-4109-fd2a-ed37e05cc966",
        "colab": {
          "resources": {
            "http://localhost:8080/nbextensions/google.colab/files.js": {
              "data": "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",
              "ok": true,
              "headers": [
                [
                  "content-length",
                  "5492"
                ],
                [
                  "content-type",
                  "application/javascript"
                ]
              ],
              "status": 200,
              "status_text": "OK"
            }
          },
          "base_uri": "https://localhost:8080/",
          "height": 132
        }
      },
      "cell_type": "code",
      "source": [
        "from google.colab import files\n",
        "files.upload()"
      ],
      "execution_count": 3,
      "outputs": [
        {
          "output_type": "display_data",
          "data": {
            "text/html": [
              "\n",
              "     <input type=\"file\" id=\"files-ba50abd7-f111-4a29-b06e-10c8b37ff692\" name=\"files[]\" multiple disabled />\n",
              "     <output id=\"result-ba50abd7-f111-4a29-b06e-10c8b37ff692\">\n",
              "      Upload widget is only available when the cell has been executed in the\n",
              "      current browser session. Please rerun this cell to enable.\n",
              "      </output>\n",
              "      <script src=\"/nbextensions/google.colab/files.js\"></script> "
            ],
            "text/plain": [
              "<IPython.core.display.HTML object>"
            ]
          },
          "metadata": {
            "tags": []
          }
        },
        {
          "output_type": "stream",
          "text": [
            "Saving kaggle.json to kaggle.json\n"
          ],
          "name": "stdout"
        },
        {
          "output_type": "execute_result",
          "data": {
            "text/plain": [
              "{'kaggle.json': b'{\"username\":\"matchbou\",\"key\":\"fb2093338e9cd630d62e0949908398dc\"}'}"
            ]
          },
          "metadata": {
            "tags": []
          },
          "execution_count": 3
        }
      ]
    },
    {
      "metadata": {
        "id": "Yml_BXJWB40d",
        "colab_type": "code",
        "colab": {}
      },
      "cell_type": "code",
      "source": [
        "!mkdir -p ~/.kaggle\n",
        "!cp kaggle.json ~/.kaggle/"
      ],
      "execution_count": 0,
      "outputs": []
    },
    {
      "metadata": {
        "id": "ZZASHTT4CBEV",
        "colab_type": "code",
        "outputId": "e2890279-6293-4514-e374-d1b921abb506",
        "colab": {
          "base_uri": "https://localhost:8080/",
          "height": 304
        }
      },
      "cell_type": "code",
      "source": [
        "!pip install kaggle"
      ],
      "execution_count": 5,
      "outputs": [
        {
          "output_type": "stream",
          "text": [
            "Requirement already satisfied: kaggle in /usr/local/lib/python3.6/dist-packages (1.5.3)\n",
            "Requirement already satisfied: urllib3<1.25,>=1.21.1 in /usr/local/lib/python3.6/dist-packages (from kaggle) (1.22)\n",
            "Requirement already satisfied: six>=1.10 in /usr/local/lib/python3.6/dist-packages (from kaggle) (1.11.0)\n",
            "Requirement already satisfied: certifi in /usr/local/lib/python3.6/dist-packages (from kaggle) (2019.3.9)\n",
            "Requirement already satisfied: python-dateutil in /usr/local/lib/python3.6/dist-packages (from kaggle) (2.5.3)\n",
            "Requirement already satisfied: requests in /usr/local/lib/python3.6/dist-packages (from kaggle) (2.18.4)\n",
            "Requirement already satisfied: tqdm in /usr/local/lib/python3.6/dist-packages (from kaggle) (4.28.1)\n",
            "Requirement already satisfied: python-slugify in /usr/local/lib/python3.6/dist-packages (from kaggle) (3.0.2)\n",
            "Requirement already satisfied: chardet<3.1.0,>=3.0.2 in /usr/local/lib/python3.6/dist-packages (from requests->kaggle) (3.0.4)\n",
            "Requirement already satisfied: idna<2.7,>=2.5 in /usr/local/lib/python3.6/dist-packages (from requests->kaggle) (2.6)\n",
            "Requirement already satisfied: text-unidecode==1.2 in /usr/local/lib/python3.6/dist-packages (from python-slugify->kaggle) (1.2)\n"
          ],
          "name": "stdout"
        }
      ]
    },
    {
      "metadata": {
        "id": "L3206XInCDO1",
        "colab_type": "code",
        "colab": {}
      },
      "cell_type": "code",
      "source": [
        "!chmod 600 /root/.kaggle/kaggle.json"
      ],
      "execution_count": 0,
      "outputs": []
    },
    {
      "metadata": {
        "id": "5EGQWTZXqCI8",
        "colab_type": "code",
        "colab": {}
      },
      "cell_type": "code",
      "source": [
        "# kaggleデータ置き場とjupyernoteのカレントディレクトリフォルダを作成\n",
        "\n",
        "!mkdir ./input\n",
        "!mkdir ./notebook"
      ],
      "execution_count": 0,
      "outputs": []
    },
    {
      "metadata": {
        "id": "ZkpuriyVCYfV",
        "colab_type": "code",
        "colab": {}
      },
      "cell_type": "code",
      "source": [
        "#osライブラリ読込してinputに移動⇒kaggleデータもダウンロード　⇒ notebookフォルダに移動\n",
        "import os\n",
        "os.chdir('input')\n",
        "\n"
      ],
      "execution_count": 0,
      "outputs": []
    },
    {
      "metadata": {
        "id": "kST5vn2BPMpw",
        "colab_type": "code",
        "outputId": "09a8ed29-5163-4118-dd7a-82fb67ca3dea",
        "colab": {
          "base_uri": "https://localhost:8080/",
          "height": 96
        }
      },
      "cell_type": "code",
      "source": [
        "#https://www.kaggle.com/c/titanic/data\n",
        "!kaggle datasets download -d usdot/freight-analysis-framework"
      ],
      "execution_count": 9,
      "outputs": [
        {
          "output_type": "stream",
          "text": [
            "Downloading freight-analysis-framework.zip to /content/input\n",
            " 93% 212M/227M [00:02<00:00, 87.9MB/s]\n",
            "100% 227M/227M [00:02<00:00, 105MB/s] \n"
          ],
          "name": "stdout"
        }
      ]
    },
    {
      "metadata": {
        "id": "6DAckYaLvf38",
        "colab_type": "code",
        "colab": {
          "base_uri": "https://localhost:8080/",
          "height": 70
        },
        "outputId": "e8807414-8b61-47ea-81a6-f0d4f06a1977"
      },
      "cell_type": "code",
      "source": [
        "!pwd\n",
        "!ls -a"
      ],
      "execution_count": 10,
      "outputs": [
        {
          "output_type": "stream",
          "text": [
            "/content/input\n",
            ".  ..  freight-analysis-framework.zip\n"
          ],
          "name": "stdout"
        }
      ]
    },
    {
      "metadata": {
        "id": "xyoIl8RwPcTx",
        "colab_type": "code",
        "outputId": "e109e1a1-f62f-458c-bca9-9643907702e9",
        "colab": {
          "base_uri": "https://localhost:8080/",
          "height": 564
        }
      },
      "cell_type": "code",
      "source": [
        "!unzip freight-analysis-framework.zip -d ./"
      ],
      "execution_count": 11,
      "outputs": [
        {
          "output_type": "stream",
          "text": [
            "Archive:  freight-analysis-framework.zip\n",
            "  inflating: ./CFS_AREA_shapefile_010215/._CFS_AREA_shapefile_010215  \n",
            "  inflating: ./CFS_AREA_shapefile_010215/._CFS_AREA_shapefile_010215.cpg  \n",
            "  inflating: ./CFS_AREA_shapefile_010215/._CFS_AREA_shapefile_010215.dbf  \n",
            "  inflating: ./CFS_AREA_shapefile_010215/._CFS_AREA_shapefile_010215.prj  \n",
            "  inflating: ./CFS_AREA_shapefile_010215/._CFS_AREA_shapefile_010215.sbn  \n",
            "  inflating: ./CFS_AREA_shapefile_010215/._CFS_AREA_shapefile_010215.sbx  \n",
            "  inflating: ./CFS_AREA_shapefile_010215/._CFS_AREA_shapefile_010215.shp  \n",
            "  inflating: ./CFS_AREA_shapefile_010215/._CFS_AREA_shapefile_010215.shp.xml  \n",
            "  inflating: ./CFS_AREA_shapefile_010215/._CFS_AREA_shapefile_010215.shx  \n",
            "  inflating: ./CFS_AREA_shapefile_010215/CFS_AREA_shapefile_010215.cpg  \n",
            "  inflating: ./CFS_AREA_shapefile_010215/CFS_AREA_shapefile_010215.dbf  \n",
            "  inflating: ./CFS_AREA_shapefile_010215/CFS_AREA_shapefile_010215.prj  \n",
            "  inflating: ./CFS_AREA_shapefile_010215/CFS_AREA_shapefile_010215.sbn  \n",
            "  inflating: ./CFS_AREA_shapefile_010215/CFS_AREA_shapefile_010215.sbx  \n",
            "  inflating: ./CFS_AREA_shapefile_010215/CFS_AREA_shapefile_010215.shp  \n",
            "  inflating: ./CFS_AREA_shapefile_010215/CFS_AREA_shapefile_010215.shp.xml  \n",
            "  inflating: ./CFS_AREA_shapefile_010215/CFS_AREA_shapefile_010215.shx  \n",
            "  inflating: ./FAF4 User Guide.pdf   \n",
            "  inflating: ./FAF4.4_State.csv      \n",
            "  inflating: ./FAF4_Regional.csv     \n"
          ],
          "name": "stdout"
        }
      ]
    },
    {
      "metadata": {
        "id": "5ql7TrzFPWlQ",
        "colab_type": "code",
        "outputId": "321ae82e-4e56-49af-e915-aad62e93d685",
        "colab": {
          "base_uri": "https://localhost:8080/",
          "height": 148
        }
      },
      "cell_type": "code",
      "source": [
        "!pwd\n",
        "!ls -a"
      ],
      "execution_count": 12,
      "outputs": [
        {
          "output_type": "stream",
          "text": [
            "/content/input\n",
            " .\t\t\t     FAF4_Regional.csv\n",
            " ..\t\t\t    'FAF4 User Guide.pdf'\n",
            " CFS_AREA_shapefile_010215   freight-analysis-framework.zip\n",
            " FAF4.4_State.csv\n"
          ],
          "name": "stdout"
        }
      ]
    },
    {
      "metadata": {
        "id": "CUAxFiTPPRRI",
        "colab_type": "code",
        "colab": {}
      },
      "cell_type": "code",
      "source": [
        "os.chdir('../notebook')"
      ],
      "execution_count": 0,
      "outputs": []
    },
    {
      "metadata": {
        "id": "Z-QhitXHCQ-N",
        "colab_type": "code",
        "outputId": "cee5b392-8340-4213-94a2-623cb4ec829e",
        "colab": {
          "base_uri": "https://localhost:8080/",
          "height": 148
        }
      },
      "cell_type": "code",
      "source": [
        "#上記操作の結果以下のディレクトリ配置となる\n",
        "\n",
        "# /content/notebook このipynbのカレントディレクトリ\n",
        "# /content/input カグルからダウンロードしたcsvファイルの置き場所\n",
        "\n",
        "!pwd\n",
        "!ls -a ../input\n"
      ],
      "execution_count": 14,
      "outputs": [
        {
          "output_type": "stream",
          "text": [
            "/content/notebook\n",
            " .\t\t\t     FAF4_Regional.csv\n",
            " ..\t\t\t    'FAF4 User Guide.pdf'\n",
            " CFS_AREA_shapefile_010215   freight-analysis-framework.zip\n",
            " FAF4.4_State.csv\n"
          ],
          "name": "stdout"
        }
      ]
    },
    {
      "metadata": {
        "id": "3Iv2BEn4Dh_M",
        "colab_type": "code",
        "colab": {}
      },
      "cell_type": "code",
      "source": [
        "#ここからカーネルの内容に踏み込む"
      ],
      "execution_count": 0,
      "outputs": []
    },
    {
      "metadata": {
        "id": "ehMkwXlLwWx1",
        "colab_type": "code",
        "colab": {
          "base_uri": "https://localhost:8080/",
          "height": 226
        },
        "outputId": "20f63801-f0d9-4834-9431-1618050b7d83"
      },
      "cell_type": "code",
      "source": [
        "!pip install git+https://github.com/GeospatialPython/pyshp"
      ],
      "execution_count": 17,
      "outputs": [
        {
          "output_type": "stream",
          "text": [
            "Collecting git+https://github.com/GeospatialPython/pyshp\n",
            "  Cloning https://github.com/GeospatialPython/pyshp to /tmp/pip-req-build-c03w3zou\n",
            "Building wheels for collected packages: pyshp\n",
            "  Building wheel for pyshp (setup.py) ... \u001b[?25ldone\n",
            "\u001b[?25h  Stored in directory: /tmp/pip-ephem-wheel-cache-fdmmf3jm/wheels/fa/4d/ff/bd3ac60791f7688ec7308f0a61a9fbf94b9b9cf466ce3687fb\n",
            "Successfully built pyshp\n",
            "Installing collected packages: pyshp\n",
            "Successfully installed pyshp-2.1.0\n"
          ],
          "name": "stdout"
        }
      ]
    },
    {
      "metadata": {
        "id": "62lMFgk8whE0",
        "colab_type": "code",
        "colab": {
          "base_uri": "https://localhost:8080/",
          "height": 538
        },
        "outputId": "ce90dd86-f581-4c1c-e620-64228a14329d"
      },
      "cell_type": "code",
      "source": [
        "!pip install geos\n",
        "!pip install proj\n",
        "!pip install pillow\n",
        "!pip install pyproj"
      ],
      "execution_count": 27,
      "outputs": [
        {
          "output_type": "stream",
          "text": [
            "Requirement already satisfied: geos in /usr/local/lib/python3.6/dist-packages (0.2.1)\n",
            "Requirement already satisfied: lxml in /usr/local/lib/python3.6/dist-packages (from geos) (4.2.6)\n",
            "Requirement already satisfied: flask in /usr/local/lib/python3.6/dist-packages (from geos) (1.0.2)\n",
            "Requirement already satisfied: itsdangerous>=0.24 in /usr/local/lib/python3.6/dist-packages (from flask->geos) (1.1.0)\n",
            "Requirement already satisfied: Werkzeug>=0.14 in /usr/local/lib/python3.6/dist-packages (from flask->geos) (0.15.2)\n",
            "Requirement already satisfied: Jinja2>=2.10 in /usr/local/lib/python3.6/dist-packages (from flask->geos) (2.10.1)\n",
            "Requirement already satisfied: click>=5.1 in /usr/local/lib/python3.6/dist-packages (from flask->geos) (7.0)\n",
            "Requirement already satisfied: MarkupSafe>=0.23 in /usr/local/lib/python3.6/dist-packages (from Jinja2>=2.10->flask->geos) (1.1.1)\n",
            "Requirement already satisfied: proj in /usr/local/lib/python3.6/dist-packages (0.1.0)\n",
            "Requirement already satisfied: click>=3.3 in /usr/local/lib/python3.6/dist-packages (from proj) (7.0)\n",
            "Requirement already satisfied: arrow>=0.4.4 in /usr/local/lib/python3.6/dist-packages (from proj) (0.13.1)\n",
            "Requirement already satisfied: python-dateutil in /usr/local/lib/python3.6/dist-packages (from arrow>=0.4.4->proj) (2.5.3)\n",
            "Requirement already satisfied: six>=1.5 in /usr/local/lib/python3.6/dist-packages (from python-dateutil->arrow>=0.4.4->proj) (1.11.0)\n",
            "Requirement already satisfied: pillow in /usr/local/lib/python3.6/dist-packages (4.3.0)\n",
            "Requirement already satisfied: olefile in /usr/local/lib/python3.6/dist-packages (from pillow) (0.46)\n",
            "Collecting pyproj\n",
            "\u001b[?25l  Downloading https://files.pythonhosted.org/packages/ab/c8/090cd8eae755171959fac28d4bd537cc2caf168caadb92d8e505229c486b/pyproj-2.1.3-cp36-cp36m-manylinux1_x86_64.whl (10.8MB)\n",
            "\u001b[K    100% |████████████████████████████████| 10.8MB 4.8MB/s \n",
            "\u001b[?25hInstalling collected packages: pyproj\n",
            "Successfully installed pyproj-2.1.3\n"
          ],
          "name": "stdout"
        }
      ]
    },
    {
      "metadata": {
        "id": "3wt4f-CfzPOj",
        "colab_type": "code",
        "colab": {}
      },
      "cell_type": "code",
      "source": [
        "import geos"
      ],
      "execution_count": 0,
      "outputs": []
    },
    {
      "metadata": {
        "id": "o6IjNesbxVid",
        "colab_type": "code",
        "colab": {
          "base_uri": "https://localhost:8080/",
          "height": 2040
        },
        "outputId": "963de703-a343-40cf-d693-956ac5797ae4"
      },
      "cell_type": "code",
      "source": [
        "!pip install -Iv https://sourceforge.net/projects/matplotlib/files/matplotlib-toolkits/basemap-1.0.7/basemap-1.0.7.tar.gz"
      ],
      "execution_count": 30,
      "outputs": [
        {
          "output_type": "stream",
          "text": [
            "Created temporary directory: /tmp/pip-ephem-wheel-cache-g2fa1kug\n",
            "Created temporary directory: /tmp/pip-req-tracker-q16jg1z0\n",
            "Created requirements tracker '/tmp/pip-req-tracker-q16jg1z0'\n",
            "Created temporary directory: /tmp/pip-install-as3dma3n\n",
            "Collecting https://sourceforge.net/projects/matplotlib/files/matplotlib-toolkits/basemap-1.0.7/basemap-1.0.7.tar.gz\n",
            "  Created temporary directory: /tmp/pip-req-build-z3u5lmrr\n",
            "  Created temporary directory: /tmp/pip-unpack-gljs_qkg\n",
            "  Looking up \"https://sourceforge.net/projects/matplotlib/files/matplotlib-toolkits/basemap-1.0.7/basemap-1.0.7.tar.gz\" in the cache\n",
            "  Returning cached \"301 Moved Permanently\" response (ignoring date and etag information)\n",
            "  Looking up \"https://sourceforge.net/projects/matplotlib/files/matplotlib-toolkits/basemap-1.0.7/basemap-1.0.7.tar.gz/\" in the cache\n",
            "  No cache entry available\n",
            "  Starting new HTTPS connection (1): sourceforge.net:443\n",
            "  https://sourceforge.net:443 \"GET /projects/matplotlib/files/matplotlib-toolkits/basemap-1.0.7/basemap-1.0.7.tar.gz/ HTTP/1.1\" 302 16373\n",
            "  Status code 302 not in (200, 203, 300, 301)\n",
            "  Looking up \"https://sourceforge.net/projects/matplotlib/files/matplotlib-toolkits/basemap-1.0.7/basemap-1.0.7.tar.gz/download\" in the cache\n",
            "  No cache entry available\n",
            "  https://sourceforge.net:443 \"GET /projects/matplotlib/files/matplotlib-toolkits/basemap-1.0.7/basemap-1.0.7.tar.gz/download HTTP/1.1\" 302 16467\n",
            "  Status code 302 not in (200, 203, 300, 301)\n",
            "  Looking up \"https://downloads.sourceforge.net/project/matplotlib/matplotlib-toolkits/basemap-1.0.7/basemap-1.0.7.tar.gz?r=&ts=1555378806&use_mirror=astuteinternet\" in the cache\n",
            "  No cache entry available\n",
            "  Starting new HTTPS connection (1): downloads.sourceforge.net:443\n",
            "  https://downloads.sourceforge.net:443 \"GET /project/matplotlib/matplotlib-toolkits/basemap-1.0.7/basemap-1.0.7.tar.gz?r=&ts=1555378806&use_mirror=astuteinternet HTTP/1.1\" 302 413\n",
            "  Status code 302 not in (200, 203, 300, 301)\n",
            "  Looking up \"https://astuteinternet.dl.sourceforge.net/project/matplotlib/matplotlib-toolkits/basemap-1.0.7/basemap-1.0.7.tar.gz\" in the cache\n",
            "  No cache entry available\n",
            "  Starting new HTTPS connection (1): astuteinternet.dl.sourceforge.net:443\n",
            "  https://astuteinternet.dl.sourceforge.net:443 \"GET /project/matplotlib/matplotlib-toolkits/basemap-1.0.7/basemap-1.0.7.tar.gz HTTP/1.1\" 200 129694711\n",
            "\u001b[?25l  Downloading https://sourceforge.net/projects/matplotlib/files/matplotlib-toolkits/basemap-1.0.7/basemap-1.0.7.tar.gz (129.7MB)\n",
            "  Downloading from URL https://sourceforge.net/projects/matplotlib/files/matplotlib-toolkits/basemap-1.0.7/basemap-1.0.7.tar.gz\n",
            "\u001b[K    99% |████████████████████████████████| 129.7MB 55.4MB/s eta 0:00:01  Updating cache with response from \"https://astuteinternet.dl.sourceforge.net/project/matplotlib/matplotlib-toolkits/basemap-1.0.7/basemap-1.0.7.tar.gz\"\n",
            "  Caching due to etag\n",
            "\u001b[K    100% |████████████████████████████████| 129.7MB 271kB/s \n",
            "\u001b[?25h  Added https://sourceforge.net/projects/matplotlib/files/matplotlib-toolkits/basemap-1.0.7/basemap-1.0.7.tar.gz to build tracker '/tmp/pip-req-tracker-q16jg1z0'\n",
            "    Running setup.py (path:/tmp/pip-req-build-z3u5lmrr/setup.py) egg_info for package from https://sourceforge.net/projects/matplotlib/files/matplotlib-toolkits/basemap-1.0.7/basemap-1.0.7.tar.gz\n",
            "    Running command python setup.py egg_info\n",
            "\n",
            "    Can't find geos library . Please set the\n",
            "    environment variable GEOS_DIR to point to the location\n",
            "    where geos is installed (for example, if geos_c.h\n",
            "    is in /usr/local/include, and libgeos_c is in /usr/local/lib,\n",
            "    set GEOS_DIR to /usr/local), or edit the setup.py script\n",
            "    manually and set the variable GEOS_dir (right after the line\n",
            "    that says \"set GEOS_dir manually here\".\n",
            "    checking for GEOS lib in /root ....\n",
            "    checking for GEOS lib in /usr ....\n",
            "    checking for GEOS lib in /usr/local ....\n",
            "    checking for GEOS lib in /sw ....\n",
            "    checking for GEOS lib in /opt ....\n",
            "    checking for GEOS lib in /opt/local ....\n",
            "Cleaning up...\n",
            "  Removing source in /tmp/pip-req-build-z3u5lmrr\n",
            "Removed https://sourceforge.net/projects/matplotlib/files/matplotlib-toolkits/basemap-1.0.7/basemap-1.0.7.tar.gz from build tracker '/tmp/pip-req-tracker-q16jg1z0'\n",
            "Removed build tracker '/tmp/pip-req-tracker-q16jg1z0'\n",
            "\u001b[31mCommand \"python setup.py egg_info\" failed with error code 1 in /tmp/pip-req-build-z3u5lmrr/\u001b[0m\n",
            "Exception information:\n",
            "Traceback (most recent call last):\n",
            "  File \"/usr/local/lib/python3.6/dist-packages/pip/_internal/cli/base_command.py\", line 179, in main\n",
            "    status = self.run(options, args)\n",
            "  File \"/usr/local/lib/python3.6/dist-packages/pip/_internal/commands/install.py\", line 315, in run\n",
            "    resolver.resolve(requirement_set)\n",
            "  File \"/usr/local/lib/python3.6/dist-packages/pip/_internal/resolve.py\", line 131, in resolve\n",
            "    self._resolve_one(requirement_set, req)\n",
            "  File \"/usr/local/lib/python3.6/dist-packages/pip/_internal/resolve.py\", line 294, in _resolve_one\n",
            "    abstract_dist = self._get_abstract_dist_for(req_to_install)\n",
            "  File \"/usr/local/lib/python3.6/dist-packages/pip/_internal/resolve.py\", line 242, in _get_abstract_dist_for\n",
            "    self.require_hashes\n",
            "  File \"/usr/local/lib/python3.6/dist-packages/pip/_internal/operations/prepare.py\", line 349, in prepare_linked_requirement\n",
            "    abstract_dist.prep_for_dist(finder, self.build_isolation)\n",
            "  File \"/usr/local/lib/python3.6/dist-packages/pip/_internal/operations/prepare.py\", line 158, in prep_for_dist\n",
            "    self.req.prepare_metadata()\n",
            "  File \"/usr/local/lib/python3.6/dist-packages/pip/_internal/req/req_install.py\", line 530, in prepare_metadata\n",
            "    self.run_egg_info()\n",
            "  File \"/usr/local/lib/python3.6/dist-packages/pip/_internal/req/req_install.py\", line 609, in run_egg_info\n",
            "    command_desc='python setup.py egg_info')\n",
            "  File \"/usr/local/lib/python3.6/dist-packages/pip/_internal/utils/misc.py\", line 761, in call_subprocess\n",
            "    % (command_desc, proc.returncode, cwd))\n",
            "pip._internal.exceptions.InstallationError: Command \"python setup.py egg_info\" failed with error code 1 in /tmp/pip-req-build-z3u5lmrr/\n"
          ],
          "name": "stdout"
        }
      ]
    },
    {
      "metadata": {
        "id": "th4quq4LyWhD",
        "colab_type": "code",
        "colab": {
          "base_uri": "https://localhost:8080/",
          "height": 96
        },
        "outputId": "7767a2c5-fd52-4368-d5ca-ddd163cc6033"
      },
      "cell_type": "code",
      "source": [
        "!pip install git+https://github.com/matplotlib/basemap"
      ],
      "execution_count": 26,
      "outputs": [
        {
          "output_type": "stream",
          "text": [
            "Collecting git+https://github.com/matplotlib/basemap\n",
            "  Cloning https://github.com/matplotlib/basemap to /tmp/pip-req-build-dr1cgi8q\n",
            "\u001b[31mCommand \"python setup.py egg_info\" failed with error code 1 in /tmp/pip-req-build-dr1cgi8q/\u001b[0m\n"
          ],
          "name": "stdout"
        }
      ]
    },
    {
      "metadata": {
        "id": "pYP0JFCEzofr",
        "colab_type": "code",
        "colab": {
          "base_uri": "https://localhost:8080/",
          "height": 174
        },
        "outputId": "d300af67-7085-4cb0-abc5-729cf0422c21"
      },
      "cell_type": "code",
      "source": [
        "!git clone https://github.com/matplotlib/basemap.git"
      ],
      "execution_count": 31,
      "outputs": [
        {
          "output_type": "stream",
          "text": [
            "Cloning into 'basemap'...\n",
            "remote: Enumerating objects: 19595, done.\u001b[K\n",
            "remote: Total 19595 (delta 0), reused 0 (delta 0), pack-reused 19595\u001b[K\n",
            "Receiving objects: 100% (19595/19595), 788.19 MiB | 30.43 MiB/s, done.\n",
            "Resolving deltas: 100% (11526/11526), done.\n",
            "Checking out files: 100% (1394/1394), done.\n"
          ],
          "name": "stdout"
        }
      ]
    },
    {
      "metadata": {
        "id": "hQSkPzjg0ACk",
        "colab_type": "code",
        "colab": {}
      },
      "cell_type": "code",
      "source": [
        "os.chdir('../notebook/basemap')"
      ],
      "execution_count": 0,
      "outputs": []
    },
    {
      "metadata": {
        "id": "GDuJFob4z4Qc",
        "colab_type": "code",
        "colab": {
          "base_uri": "https://localhost:8080/",
          "height": 44
        },
        "outputId": "fedc7a09-277b-48e0-8c4c-b98fd6ac0ec6"
      },
      "cell_type": "code",
      "source": [
        "!pwd"
      ],
      "execution_count": 37,
      "outputs": [
        {
          "output_type": "stream",
          "text": [
            "/content/notebook/basemap\n"
          ],
          "name": "stdout"
        }
      ]
    },
    {
      "metadata": {
        "id": "yiIduT-s0RXz",
        "colab_type": "code",
        "colab": {
          "base_uri": "https://localhost:8080/",
          "height": 174
        },
        "outputId": "751ba4ea-8b79-46a5-97d9-106c122a702d"
      },
      "cell_type": "code",
      "source": [
        "!ls -a"
      ],
      "execution_count": 38,
      "outputs": [
        {
          "output_type": "stream",
          "text": [
            ".\t     examples\t lib\t       README.md\t      .travis.yml\n",
            "..\t     FAQ\t LICENSE_data  .requirements-2.6.txt  utils\n",
            "API_CHANGES  geos-3.3.3  LICENSE_geos  requirements-dev.txt\n",
            "Changelog    .git\t MANIFEST.in   requirements.txt\n",
            ".cvsignore   .gitignore  nad2bin.c     setup.py\n",
            "doc\t     KNOWN_BUGS  PKG-INFO      src\n"
          ],
          "name": "stdout"
        }
      ]
    },
    {
      "metadata": {
        "id": "H3XAaEwU0Xvj",
        "colab_type": "code",
        "colab": {}
      },
      "cell_type": "code",
      "source": [
        "os.chdir('./geos-3.3.3')"
      ],
      "execution_count": 0,
      "outputs": []
    },
    {
      "metadata": {
        "id": "3HYMVCkN0gjL",
        "colab_type": "code",
        "colab": {
          "base_uri": "https://localhost:8080/",
          "height": 6648
        },
        "outputId": "75c0417e-184d-47f6-ad63-fe08131f9138"
      },
      "cell_type": "code",
      "source": [
        "!./configure"
      ],
      "execution_count": 41,
      "outputs": [
        {
          "output_type": "stream",
          "text": [
            "checking build system type... x86_64-unknown-linux-gnu\n",
            "checking host system type... x86_64-unknown-linux-gnu\n",
            "checking target system type... x86_64-unknown-linux-gnu\n",
            "checking for a BSD-compatible install... /usr/bin/install -c\n",
            "checking whether build environment is sane... yes\n",
            "checking for a thread-safe mkdir -p... /bin/mkdir -p\n",
            "checking for gawk... no\n",
            "checking for mawk... mawk\n",
            "checking whether make sets $(MAKE)... yes\n",
            "checking whether to enable maintainer-specific portions of Makefiles... no\n",
            "checking for gcc... gcc\n",
            "checking whether the C compiler works... yes\n",
            "checking for C compiler default output file name... a.out\n",
            "checking for suffix of executables... \n",
            "checking whether we are cross compiling... no\n",
            "checking for suffix of object files... o\n",
            "checking whether we are using the GNU C compiler... yes\n",
            "checking whether gcc accepts -g... yes\n",
            "checking for gcc option to accept ISO C89... none needed\n",
            "checking for style of include used by make... GNU\n",
            "checking dependency style of gcc... gcc3\n",
            "checking how to print strings... printf\n",
            "checking for a sed that does not truncate output... /bin/sed\n",
            "checking for grep that handles long lines and -e... /bin/grep\n",
            "checking for egrep... /bin/grep -E\n",
            "checking for fgrep... /bin/grep -F\n",
            "checking for ld used by gcc... /usr/bin/ld\n",
            "checking if the linker (/usr/bin/ld) is GNU ld... yes\n",
            "checking for BSD- or MS-compatible name lister (nm)... /usr/bin/nm -B\n",
            "checking the name lister (/usr/bin/nm -B) interface... BSD nm\n",
            "checking whether ln -s works... yes\n",
            "checking the maximum length of command line arguments... 1572864\n",
            "checking whether the shell understands some XSI constructs... yes\n",
            "checking whether the shell understands \"+=\"... yes\n",
            "checking how to convert x86_64-unknown-linux-gnu file names to x86_64-unknown-linux-gnu format... func_convert_file_noop\n",
            "checking how to convert x86_64-unknown-linux-gnu file names to toolchain format... func_convert_file_noop\n",
            "checking for /usr/bin/ld option to reload object files... -r\n",
            "checking for objdump... objdump\n",
            "checking how to recognize dependent libraries... pass_all\n",
            "checking for dlltool... dlltool\n",
            "checking how to associate runtime and link libraries... printf %s\\n\n",
            "checking for ar... ar\n",
            "checking for archiver @FILE support... @\n",
            "checking for strip... strip\n",
            "checking for ranlib... ranlib\n",
            "checking command to parse /usr/bin/nm -B output from gcc object... ok\n",
            "checking for sysroot... no\n",
            "./configure: line 6726: /usr/bin/file: No such file or directory\n",
            "checking for mt... no\n",
            "checking if : is a manifest tool... no\n",
            "checking how to run the C preprocessor... gcc -E\n",
            "checking for ANSI C header files... yes\n",
            "checking for sys/types.h... yes\n",
            "checking for sys/stat.h... yes\n",
            "checking for stdlib.h... yes\n",
            "checking for string.h... yes\n",
            "checking for memory.h... yes\n",
            "checking for strings.h... yes\n",
            "checking for inttypes.h... yes\n",
            "checking for stdint.h... yes\n",
            "checking for unistd.h... yes\n",
            "checking for dlfcn.h... yes\n",
            "checking for objdir... .libs\n",
            "checking if gcc supports -fno-rtti -fno-exceptions... no\n",
            "checking for gcc option to produce PIC... -fPIC -DPIC\n",
            "checking if gcc PIC flag -fPIC -DPIC works... yes\n",
            "checking if gcc static flag -static works... yes\n",
            "checking if gcc supports -c -o file.o... yes\n",
            "checking if gcc supports -c -o file.o... (cached) yes\n",
            "checking whether the gcc linker (/usr/bin/ld) supports shared libraries... yes\n",
            "checking whether -lc should be explicitly linked in... no\n",
            "checking dynamic linker characteristics... GNU/Linux ld.so\n",
            "checking how to hardcode library paths into programs... immediate\n",
            "checking for shl_load... no\n",
            "checking for shl_load in -ldld... no\n",
            "checking for dlopen... no\n",
            "checking for dlopen in -ldl... yes\n",
            "checking whether a program can dlopen itself... yes\n",
            "checking whether a statically linked program can dlopen itself... no\n",
            "checking whether stripping libraries is possible... yes\n",
            "checking if libtool supports shared libraries... yes\n",
            "checking whether to build shared libraries... yes\n",
            "checking whether to build static libraries... yes\n",
            "checking for g++... g++\n",
            "checking whether we are using the GNU C++ compiler... yes\n",
            "checking whether g++ accepts -g... yes\n",
            "checking dependency style of g++... gcc3\n",
            "checking how to run the C++ preprocessor... g++ -E\n",
            "checking for ld used by g++... /usr/bin/ld\n",
            "checking if the linker (/usr/bin/ld) is GNU ld... yes\n",
            "checking whether the g++ linker (/usr/bin/ld) supports shared libraries... yes\n",
            "checking for g++ option to produce PIC... -fPIC -DPIC\n",
            "checking if g++ PIC flag -fPIC -DPIC works... yes\n",
            "checking if g++ static flag -static works... yes\n",
            "checking if g++ supports -c -o file.o... yes\n",
            "checking if g++ supports -c -o file.o... (cached) yes\n",
            "checking whether the g++ linker (/usr/bin/ld) supports shared libraries... yes\n",
            "checking dynamic linker characteristics... (cached) GNU/Linux ld.so\n",
            "checking how to hardcode library paths into programs... immediate\n",
            "checking for library containing strerror... none required\n",
            "checking whether make sets $(MAKE)... (cached) yes\n",
            "checking for dirent.h that defines DIR... yes\n",
            "checking for library containing opendir... none required\n",
            "checking whether closedir returns void... no\n",
            "checking for working memcmp... yes\n",
            "checking for strftime... yes\n",
            "checking for vprintf... yes\n",
            "checking for _doprnt... no\n",
            "checking for size_t... yes\n",
            "checking for working alloca.h... yes\n",
            "checking for alloca... yes\n",
            "checking for dirent.h that defines DIR... (cached) yes\n",
            "checking for library containing opendir... (cached) none required\n",
            "checking for ANSI C header files... (cached) yes\n",
            "checking for memory.h... (cached) yes\n",
            "checking for unistd.h... (cached) yes\n",
            "checking ieeefp.h usability... no\n",
            "checking ieeefp.h presence... no\n",
            "checking for ieeefp.h... no\n",
            "checking sys/file.h usability... yes\n",
            "checking sys/file.h presence... yes\n",
            "checking for sys/file.h... yes\n",
            "checking sys/time.h usability... yes\n",
            "checking sys/time.h presence... yes\n",
            "checking for sys/time.h... yes\n",
            "checking for strchr... yes\n",
            "checking for memcpy... yes\n",
            "checking for gettimeofday... yes\n",
            "checking whether stat file-mode macros are broken... no\n",
            "checking whether struct tm is in sys/time.h or time.h... time.h\n",
            "checking for size_t... (cached) yes\n",
            "checking for an ANSI C-conforming const... yes\n",
            "checking if requested to force inline functions... yes\n",
            "checking if requested to enable assert macros... yes\n",
            "checking if requested libstdc++ debug mode... no\n",
            "checking if g++ supports -pedantic... yes\n",
            "checking if g++ supports -Wall... yes\n",
            "checking if g++ supports -ansi... yes\n",
            "checking if g++ supports -Wno-long-long... yes\n",
            "checking if g++ supports -ffloat-store... yes\n",
            "checking for finite... yes\n",
            "checking for isfinite... yes\n",
            "checking for isnan... no\n",
            "checking whether int64_t is 64 bits... yes\n",
            "checking OS-specific settings... configure: creating ./config.status\n",
            "config.status: creating Makefile\n",
            "config.status: creating capi/Makefile\n",
            "config.status: creating capi/geos_c.h\n",
            "config.status: creating doc/Doxyfile\n",
            "config.status: creating doc/Makefile\n",
            "config.status: creating macros/Makefile\n",
            "config.status: creating src/Makefile\n",
            "config.status: creating src/algorithm/Makefile\n",
            "config.status: creating src/algorithm/locate/Makefile\n",
            "config.status: creating src/algorithm/distance/Makefile\n",
            "config.status: creating src/geom/Makefile\n",
            "config.status: creating src/geom/prep/Makefile\n",
            "config.status: creating src/geom/util/Makefile\n",
            "config.status: creating src/geomgraph/Makefile\n",
            "config.status: creating src/geomgraph/index/Makefile\n",
            "config.status: creating include/Makefile\n",
            "config.status: creating include/geos/Makefile\n",
            "config.status: creating include/geos/algorithm/Makefile\n",
            "config.status: creating include/geos/algorithm/locate/Makefile\n",
            "config.status: creating include/geos/algorithm/distance/Makefile\n",
            "config.status: creating include/geos/geom/Makefile\n",
            "config.status: creating include/geos/geom/prep/Makefile\n",
            "config.status: creating include/geos/geom/util/Makefile\n",
            "config.status: creating include/geos/geomgraph/Makefile\n",
            "config.status: creating include/geos/geomgraph/index/Makefile\n",
            "config.status: creating include/geos/index/Makefile\n",
            "config.status: creating include/geos/index/bintree/Makefile\n",
            "config.status: creating include/geos/index/chain/Makefile\n",
            "config.status: creating include/geos/index/intervalrtree/Makefile\n",
            "config.status: creating include/geos/index/quadtree/Makefile\n",
            "config.status: creating include/geos/index/strtree/Makefile\n",
            "config.status: creating include/geos/index/sweepline/Makefile\n",
            "config.status: creating include/geos/io/Makefile\n",
            "config.status: creating include/geos/linearref/Makefile\n",
            "config.status: creating include/geos/noding/Makefile\n",
            "config.status: creating include/geos/noding/snapround/Makefile\n",
            "config.status: creating include/geos/operation/Makefile\n",
            "config.status: creating include/geos/operation/buffer/Makefile\n",
            "config.status: creating include/geos/operation/distance/Makefile\n",
            "config.status: creating include/geos/operation/linemerge/Makefile\n",
            "config.status: creating include/geos/operation/overlay/Makefile\n",
            "config.status: creating include/geos/operation/overlay/snap/Makefile\n",
            "config.status: creating include/geos/operation/polygonize/Makefile\n",
            "config.status: creating include/geos/operation/predicate/Makefile\n",
            "config.status: creating include/geos/operation/relate/Makefile\n",
            "config.status: creating include/geos/operation/sharedpaths/Makefile\n",
            "config.status: creating include/geos/operation/union/Makefile\n",
            "config.status: creating include/geos/operation/valid/Makefile\n",
            "config.status: creating include/geos/planargraph/Makefile\n",
            "config.status: creating include/geos/planargraph/algorithm/Makefile\n",
            "config.status: creating include/geos/precision/Makefile\n",
            "config.status: creating include/geos/simplify/Makefile\n",
            "config.status: creating include/geos/util/Makefile\n",
            "config.status: creating include/geos/version.h\n",
            "config.status: creating src/index/Makefile\n",
            "config.status: creating src/index/bintree/Makefile\n",
            "config.status: creating src/index/chain/Makefile\n",
            "config.status: creating src/index/intervalrtree/Makefile\n",
            "config.status: creating src/index/quadtree/Makefile\n",
            "config.status: creating src/index/strtree/Makefile\n",
            "config.status: creating src/index/sweepline/Makefile\n",
            "config.status: creating src/io/Makefile\n",
            "config.status: creating src/linearref/Makefile\n",
            "config.status: creating src/noding/Makefile\n",
            "config.status: creating src/noding/snapround/Makefile\n",
            "config.status: creating src/operation/Makefile\n",
            "config.status: creating src/operation/buffer/Makefile\n",
            "config.status: creating src/operation/distance/Makefile\n",
            "config.status: creating src/operation/linemerge/Makefile\n",
            "config.status: creating src/operation/overlay/Makefile\n",
            "config.status: creating src/operation/polygonize/Makefile\n",
            "config.status: creating src/operation/predicate/Makefile\n",
            "config.status: creating src/operation/relate/Makefile\n",
            "config.status: creating src/operation/sharedpaths/Makefile\n",
            "config.status: creating src/operation/union/Makefile\n",
            "config.status: creating src/operation/valid/Makefile\n",
            "config.status: creating src/planargraph/Makefile\n",
            "config.status: creating src/precision/Makefile\n",
            "config.status: creating src/simplify/Makefile\n",
            "config.status: creating src/util/Makefile\n",
            "config.status: creating swig/geos.i\n",
            "config.status: creating swig/Makefile\n",
            "config.status: creating swig/python/Makefile\n",
            "config.status: creating swig/python/tests/Makefile\n",
            "config.status: creating swig/ruby/Makefile\n",
            "config.status: creating swig/ruby/test/Makefile\n",
            "config.status: creating php/Makefile\n",
            "config.status: creating php/test/Makefile\n",
            "config.status: creating tests/Makefile\n",
            "config.status: creating tests/bigtest/Makefile\n",
            "config.status: creating tests/unit/Makefile\n",
            "config.status: creating tests/perf/Makefile\n",
            "config.status: creating tests/perf/operation/Makefile\n",
            "config.status: creating tests/perf/operation/buffer/Makefile\n",
            "config.status: creating tests/perf/operation/predicate/Makefile\n",
            "config.status: creating tests/perf/capi/Makefile\n",
            "config.status: creating tests/xmltester/Makefile\n",
            "config.status: creating tests/geostest/Makefile\n",
            "config.status: creating tests/thread/Makefile\n",
            "config.status: creating tools/Makefile\n",
            "config.status: creating tools/geos-config\n",
            "config.status: creating include/config.h\n",
            "config.status: creating include/geos/platform.h\n",
            "config.status: include/geos/platform.h is unchanged\n",
            "config.status: executing depfiles commands\n",
            "config.status: executing libtool commands\n",
            "Swig: false\n",
            "Python bindings: false\n",
            "Ruby bindings: false\n",
            "PHP bindings: false\n"
          ],
          "name": "stdout"
        }
      ]
    },
    {
      "metadata": {
        "id": "ZF73I4Eb0nNj",
        "colab_type": "code",
        "colab": {
          "base_uri": "https://localhost:8080/",
          "height": 6382
        },
        "outputId": "0556a84f-6237-42eb-a484-4d1fde8e7d6a"
      },
      "cell_type": "code",
      "source": [
        "!make"
      ],
      "execution_count": 42,
      "outputs": [
        {
          "output_type": "stream",
          "text": [
            "Making all in include\n",
            "make[1]: Entering directory '/content/notebook/basemap/geos-3.3.3/include'\n",
            "make  all-recursive\n",
            "make[2]: Entering directory '/content/notebook/basemap/geos-3.3.3/include'\n",
            "Making all in geos\n",
            "make[3]: Entering directory '/content/notebook/basemap/geos-3.3.3/include/geos'\n",
            "make  all-recursive\n",
            "make[4]: Entering directory '/content/notebook/basemap/geos-3.3.3/include/geos'\n",
            "Making all in algorithm\n",
            "make[5]: Entering directory '/content/notebook/basemap/geos-3.3.3/include/geos/algorithm'\n",
            "Making all in locate\n",
            "make[6]: Entering directory '/content/notebook/basemap/geos-3.3.3/include/geos/algorithm/locate'\n",
            "make[7]: Entering directory '/content/notebook/basemap/geos-3.3.3/include/geos/algorithm/locate'\n",
            "make[7]: Nothing to be done for 'all-am'.\n",
            "make[7]: Leaving directory '/content/notebook/basemap/geos-3.3.3/include/geos/algorithm/locate'\n",
            "make[6]: Leaving directory '/content/notebook/basemap/geos-3.3.3/include/geos/algorithm/locate'\n",
            "Making all in distance\n",
            "make[6]: Entering directory '/content/notebook/basemap/geos-3.3.3/include/geos/algorithm/distance'\n",
            "make[7]: Entering directory '/content/notebook/basemap/geos-3.3.3/include/geos/algorithm/distance'\n",
            "make[7]: Nothing to be done for 'all-am'.\n",
            "make[7]: Leaving directory '/content/notebook/basemap/geos-3.3.3/include/geos/algorithm/distance'\n",
            "make[6]: Leaving directory '/content/notebook/basemap/geos-3.3.3/include/geos/algorithm/distance'\n",
            "make[6]: Entering directory '/content/notebook/basemap/geos-3.3.3/include/geos/algorithm'\n",
            "make[6]: Nothing to be done for 'all-am'.\n",
            "make[6]: Leaving directory '/content/notebook/basemap/geos-3.3.3/include/geos/algorithm'\n",
            "make[5]: Leaving directory '/content/notebook/basemap/geos-3.3.3/include/geos/algorithm'\n",
            "Making all in geom\n",
            "make[5]: Entering directory '/content/notebook/basemap/geos-3.3.3/include/geos/geom'\n",
            "Making all in util\n",
            "make[6]: Entering directory '/content/notebook/basemap/geos-3.3.3/include/geos/geom/util'\n",
            "make[6]: Nothing to be done for 'all'.\n",
            "make[6]: Leaving directory '/content/notebook/basemap/geos-3.3.3/include/geos/geom/util'\n",
            "Making all in prep\n",
            "make[6]: Entering directory '/content/notebook/basemap/geos-3.3.3/include/geos/geom/prep'\n",
            "make[6]: Nothing to be done for 'all'.\n",
            "make[6]: Leaving directory '/content/notebook/basemap/geos-3.3.3/include/geos/geom/prep'\n",
            "make[6]: Entering directory '/content/notebook/basemap/geos-3.3.3/include/geos/geom'\n",
            "make[6]: Nothing to be done for 'all-am'.\n",
            "make[6]: Leaving directory '/content/notebook/basemap/geos-3.3.3/include/geos/geom'\n",
            "make[5]: Leaving directory '/content/notebook/basemap/geos-3.3.3/include/geos/geom'\n",
            "Making all in geomgraph\n",
            "make[5]: Entering directory '/content/notebook/basemap/geos-3.3.3/include/geos/geomgraph'\n",
            "Making all in index\n",
            "make[6]: Entering directory '/content/notebook/basemap/geos-3.3.3/include/geos/geomgraph/index'\n",
            "make[6]: Nothing to be done for 'all'.\n",
            "make[6]: Leaving directory '/content/notebook/basemap/geos-3.3.3/include/geos/geomgraph/index'\n",
            "make[6]: Entering directory '/content/notebook/basemap/geos-3.3.3/include/geos/geomgraph'\n",
            "make[6]: Nothing to be done for 'all-am'.\n",
            "make[6]: Leaving directory '/content/notebook/basemap/geos-3.3.3/include/geos/geomgraph'\n",
            "make[5]: Leaving directory '/content/notebook/basemap/geos-3.3.3/include/geos/geomgraph'\n",
            "Making all in index\n",
            "make[5]: Entering directory '/content/notebook/basemap/geos-3.3.3/include/geos/index'\n",
            "Making all in intervalrtree\n",
            "make[6]: Entering directory '/content/notebook/basemap/geos-3.3.3/include/geos/index/intervalrtree'\n",
            "make[7]: Entering directory '/content/notebook/basemap/geos-3.3.3/include/geos/index/intervalrtree'\n",
            "make[7]: Nothing to be done for 'all-am'.\n",
            "make[7]: Leaving directory '/content/notebook/basemap/geos-3.3.3/include/geos/index/intervalrtree'\n",
            "make[6]: Leaving directory '/content/notebook/basemap/geos-3.3.3/include/geos/index/intervalrtree'\n",
            "Making all in sweepline\n",
            "make[6]: Entering directory '/content/notebook/basemap/geos-3.3.3/include/geos/index/sweepline'\n",
            "make[7]: Entering directory '/content/notebook/basemap/geos-3.3.3/include/geos/index/sweepline'\n",
            "make[7]: Nothing to be done for 'all-am'.\n",
            "make[7]: Leaving directory '/content/notebook/basemap/geos-3.3.3/include/geos/index/sweepline'\n",
            "make[6]: Leaving directory '/content/notebook/basemap/geos-3.3.3/include/geos/index/sweepline'\n",
            "Making all in strtree\n",
            "make[6]: Entering directory '/content/notebook/basemap/geos-3.3.3/include/geos/index/strtree'\n",
            "make[7]: Entering directory '/content/notebook/basemap/geos-3.3.3/include/geos/index/strtree'\n",
            "make[7]: Nothing to be done for 'all-am'.\n",
            "make[7]: Leaving directory '/content/notebook/basemap/geos-3.3.3/include/geos/index/strtree'\n",
            "make[6]: Leaving directory '/content/notebook/basemap/geos-3.3.3/include/geos/index/strtree'\n",
            "Making all in quadtree\n",
            "make[6]: Entering directory '/content/notebook/basemap/geos-3.3.3/include/geos/index/quadtree'\n",
            "make[7]: Entering directory '/content/notebook/basemap/geos-3.3.3/include/geos/index/quadtree'\n",
            "make[7]: Nothing to be done for 'all-am'.\n",
            "make[7]: Leaving directory '/content/notebook/basemap/geos-3.3.3/include/geos/index/quadtree'\n",
            "make[6]: Leaving directory '/content/notebook/basemap/geos-3.3.3/include/geos/index/quadtree'\n",
            "Making all in bintree\n",
            "make[6]: Entering directory '/content/notebook/basemap/geos-3.3.3/include/geos/index/bintree'\n",
            "make[7]: Entering directory '/content/notebook/basemap/geos-3.3.3/include/geos/index/bintree'\n",
            "make[7]: Nothing to be done for 'all-am'.\n",
            "make[7]: Leaving directory '/content/notebook/basemap/geos-3.3.3/include/geos/index/bintree'\n",
            "make[6]: Leaving directory '/content/notebook/basemap/geos-3.3.3/include/geos/index/bintree'\n",
            "Making all in chain\n",
            "make[6]: Entering directory '/content/notebook/basemap/geos-3.3.3/include/geos/index/chain'\n",
            "make[7]: Entering directory '/content/notebook/basemap/geos-3.3.3/include/geos/index/chain'\n",
            "make[7]: Nothing to be done for 'all-am'.\n",
            "make[7]: Leaving directory '/content/notebook/basemap/geos-3.3.3/include/geos/index/chain'\n",
            "make[6]: Leaving directory '/content/notebook/basemap/geos-3.3.3/include/geos/index/chain'\n",
            "make[6]: Entering directory '/content/notebook/basemap/geos-3.3.3/include/geos/index'\n",
            "make[6]: Nothing to be done for 'all-am'.\n",
            "make[6]: Leaving directory '/content/notebook/basemap/geos-3.3.3/include/geos/index'\n",
            "make[5]: Leaving directory '/content/notebook/basemap/geos-3.3.3/include/geos/index'\n",
            "Making all in io\n",
            "make[5]: Entering directory '/content/notebook/basemap/geos-3.3.3/include/geos/io'\n",
            "make[6]: Entering directory '/content/notebook/basemap/geos-3.3.3/include/geos/io'\n",
            "make[6]: Nothing to be done for 'all-am'.\n",
            "make[6]: Leaving directory '/content/notebook/basemap/geos-3.3.3/include/geos/io'\n",
            "make[5]: Leaving directory '/content/notebook/basemap/geos-3.3.3/include/geos/io'\n",
            "Making all in linearref\n",
            "make[5]: Entering directory '/content/notebook/basemap/geos-3.3.3/include/geos/linearref'\n",
            "make[5]: Nothing to be done for 'all'.\n",
            "make[5]: Leaving directory '/content/notebook/basemap/geos-3.3.3/include/geos/linearref'\n",
            "Making all in noding\n",
            "make[5]: Entering directory '/content/notebook/basemap/geos-3.3.3/include/geos/noding'\n",
            "Making all in snapround\n",
            "make[6]: Entering directory '/content/notebook/basemap/geos-3.3.3/include/geos/noding/snapround'\n",
            "make[6]: Nothing to be done for 'all'.\n",
            "make[6]: Leaving directory '/content/notebook/basemap/geos-3.3.3/include/geos/noding/snapround'\n",
            "make[6]: Entering directory '/content/notebook/basemap/geos-3.3.3/include/geos/noding'\n",
            "make[6]: Nothing to be done for 'all-am'.\n",
            "make[6]: Leaving directory '/content/notebook/basemap/geos-3.3.3/include/geos/noding'\n",
            "make[5]: Leaving directory '/content/notebook/basemap/geos-3.3.3/include/geos/noding'\n",
            "Making all in operation\n",
            "make[5]: Entering directory '/content/notebook/basemap/geos-3.3.3/include/geos/operation'\n",
            "Making all in buffer\n",
            "make[6]: Entering directory '/content/notebook/basemap/geos-3.3.3/include/geos/operation/buffer'\n",
            "make[6]: Nothing to be done for 'all'.\n",
            "make[6]: Leaving directory '/content/notebook/basemap/geos-3.3.3/include/geos/operation/buffer'\n",
            "Making all in distance\n",
            "make[6]: Entering directory '/content/notebook/basemap/geos-3.3.3/include/geos/operation/distance'\n",
            "make[6]: Nothing to be done for 'all'.\n",
            "make[6]: Leaving directory '/content/notebook/basemap/geos-3.3.3/include/geos/operation/distance'\n",
            "Making all in linemerge\n",
            "make[6]: Entering directory '/content/notebook/basemap/geos-3.3.3/include/geos/operation/linemerge'\n",
            "make[6]: Nothing to be done for 'all'.\n",
            "make[6]: Leaving directory '/content/notebook/basemap/geos-3.3.3/include/geos/operation/linemerge'\n",
            "Making all in overlay\n",
            "make[6]: Entering directory '/content/notebook/basemap/geos-3.3.3/include/geos/operation/overlay'\n",
            "Making all in snap\n",
            "make[7]: Entering directory '/content/notebook/basemap/geos-3.3.3/include/geos/operation/overlay/snap'\n",
            "make[7]: Nothing to be done for 'all'.\n",
            "make[7]: Leaving directory '/content/notebook/basemap/geos-3.3.3/include/geos/operation/overlay/snap'\n",
            "make[7]: Entering directory '/content/notebook/basemap/geos-3.3.3/include/geos/operation/overlay'\n",
            "make[7]: Nothing to be done for 'all-am'.\n",
            "make[7]: Leaving directory '/content/notebook/basemap/geos-3.3.3/include/geos/operation/overlay'\n",
            "make[6]: Leaving directory '/content/notebook/basemap/geos-3.3.3/include/geos/operation/overlay'\n",
            "Making all in polygonize\n",
            "make[6]: Entering directory '/content/notebook/basemap/geos-3.3.3/include/geos/operation/polygonize'\n",
            "make[6]: Nothing to be done for 'all'.\n",
            "make[6]: Leaving directory '/content/notebook/basemap/geos-3.3.3/include/geos/operation/polygonize'\n",
            "Making all in predicate\n",
            "make[6]: Entering directory '/content/notebook/basemap/geos-3.3.3/include/geos/operation/predicate'\n",
            "make[6]: Nothing to be done for 'all'.\n",
            "make[6]: Leaving directory '/content/notebook/basemap/geos-3.3.3/include/geos/operation/predicate'\n",
            "Making all in relate\n",
            "make[6]: Entering directory '/content/notebook/basemap/geos-3.3.3/include/geos/operation/relate'\n",
            "make[6]: Nothing to be done for 'all'.\n",
            "make[6]: Leaving directory '/content/notebook/basemap/geos-3.3.3/include/geos/operation/relate'\n",
            "Making all in union\n",
            "make[6]: Entering directory '/content/notebook/basemap/geos-3.3.3/include/geos/operation/union'\n",
            "make[6]: Nothing to be done for 'all'.\n",
            "make[6]: Leaving directory '/content/notebook/basemap/geos-3.3.3/include/geos/operation/union'\n",
            "Making all in sharedpaths\n",
            "make[6]: Entering directory '/content/notebook/basemap/geos-3.3.3/include/geos/operation/sharedpaths'\n",
            "make[6]: Nothing to be done for 'all'.\n",
            "make[6]: Leaving directory '/content/notebook/basemap/geos-3.3.3/include/geos/operation/sharedpaths'\n",
            "Making all in valid\n",
            "make[6]: Entering directory '/content/notebook/basemap/geos-3.3.3/include/geos/operation/valid'\n",
            "make[6]: Nothing to be done for 'all'.\n",
            "make[6]: Leaving directory '/content/notebook/basemap/geos-3.3.3/include/geos/operation/valid'\n",
            "make[6]: Entering directory '/content/notebook/basemap/geos-3.3.3/include/geos/operation'\n",
            "make[6]: Nothing to be done for 'all-am'.\n",
            "make[6]: Leaving directory '/content/notebook/basemap/geos-3.3.3/include/geos/operation'\n",
            "make[5]: Leaving directory '/content/notebook/basemap/geos-3.3.3/include/geos/operation'\n",
            "Making all in planargraph\n",
            "make[5]: Entering directory '/content/notebook/basemap/geos-3.3.3/include/geos/planargraph'\n",
            "Making all in algorithm\n",
            "make[6]: Entering directory '/content/notebook/basemap/geos-3.3.3/include/geos/planargraph/algorithm'\n",
            "make[6]: Nothing to be done for 'all'.\n",
            "make[6]: Leaving directory '/content/notebook/basemap/geos-3.3.3/include/geos/planargraph/algorithm'\n",
            "make[6]: Entering directory '/content/notebook/basemap/geos-3.3.3/include/geos/planargraph'\n",
            "make[6]: Nothing to be done for 'all-am'.\n",
            "make[6]: Leaving directory '/content/notebook/basemap/geos-3.3.3/include/geos/planargraph'\n",
            "make[5]: Leaving directory '/content/notebook/basemap/geos-3.3.3/include/geos/planargraph'\n",
            "Making all in precision\n",
            "make[5]: Entering directory '/content/notebook/basemap/geos-3.3.3/include/geos/precision'\n",
            "make[5]: Nothing to be done for 'all'.\n",
            "make[5]: Leaving directory '/content/notebook/basemap/geos-3.3.3/include/geos/precision'\n",
            "Making all in simplify\n",
            "make[5]: Entering directory '/content/notebook/basemap/geos-3.3.3/include/geos/simplify'\n",
            "make[6]: Entering directory '/content/notebook/basemap/geos-3.3.3/include/geos/simplify'\n",
            "make[6]: Nothing to be done for 'all-am'.\n",
            "make[6]: Leaving directory '/content/notebook/basemap/geos-3.3.3/include/geos/simplify'\n",
            "make[5]: Leaving directory '/content/notebook/basemap/geos-3.3.3/include/geos/simplify'\n",
            "Making all in util\n",
            "make[5]: Entering directory '/content/notebook/basemap/geos-3.3.3/include/geos/util'\n",
            "make[5]: Nothing to be done for 'all'.\n",
            "make[5]: Leaving directory '/content/notebook/basemap/geos-3.3.3/include/geos/util'\n",
            "make[5]: Entering directory '/content/notebook/basemap/geos-3.3.3/include/geos'\n",
            "make[5]: Leaving directory '/content/notebook/basemap/geos-3.3.3/include/geos'\n",
            "make[4]: Leaving directory '/content/notebook/basemap/geos-3.3.3/include/geos'\n",
            "make[3]: Leaving directory '/content/notebook/basemap/geos-3.3.3/include/geos'\n",
            "make[3]: Entering directory '/content/notebook/basemap/geos-3.3.3/include'\n",
            "make[3]: Leaving directory '/content/notebook/basemap/geos-3.3.3/include'\n",
            "make[2]: Leaving directory '/content/notebook/basemap/geos-3.3.3/include'\n",
            "make[1]: Leaving directory '/content/notebook/basemap/geos-3.3.3/include'\n",
            "Making all in src\n",
            "make[1]: Entering directory '/content/notebook/basemap/geos-3.3.3/src'\n",
            "Making all in algorithm\n",
            "make[2]: Entering directory '/content/notebook/basemap/geos-3.3.3/src/algorithm'\n",
            "Making all in locate\n",
            "make[3]: Entering directory '/content/notebook/basemap/geos-3.3.3/src/algorithm/locate'\n",
            "make[4]: Entering directory '/content/notebook/basemap/geos-3.3.3/src/algorithm/locate'\n",
            "/bin/bash ../../../libtool --tag=CXX   --mode=compile g++ -DHAVE_CONFIG_H -I. -I../../../include -I../../../include/geos -I../../../include    -DGEOS_INLINE  -pedantic -Wall -ansi -Wno-long-long  -ffloat-store -g -O2 -MT IndexedPointInAreaLocator.lo -MD -MP -MF .deps/IndexedPointInAreaLocator.Tpo -c -o IndexedPointInAreaLocator.lo IndexedPointInAreaLocator.cpp\n",
            "libtool: compile:  g++ -DHAVE_CONFIG_H -I. -I../../../include -I../../../include/geos -I../../../include -DGEOS_INLINE -pedantic -Wall -ansi -Wno-long-long -ffloat-store -g -O2 -MT IndexedPointInAreaLocator.lo -MD -MP -MF .deps/IndexedPointInAreaLocator.Tpo -c IndexedPointInAreaLocator.cpp  -fPIC -DPIC -o .libs/IndexedPointInAreaLocator.o\n",
            "In file included from \u001b[01m\u001b[K../../../include/geos/geom/Geometry.h:26:0\u001b[m\u001b[K,\n",
            "                 from \u001b[01m\u001b[KIndexedPointInAreaLocator.cpp:18\u001b[m\u001b[K:\n",
            "\u001b[01m\u001b[K../../../include/geos/platform.h:110:2:\u001b[m\u001b[K \u001b[01;31m\u001b[Kerror: \u001b[m\u001b[K#error \"Can not compile without isnan function or macro\"\n",
            " #\u001b[01;31m\u001b[Kerror\u001b[m\u001b[K \"Can not compile without isnan function or macro\"\n",
            "  \u001b[01;31m\u001b[K^~~~~\u001b[m\u001b[K\n",
            "In file included from \u001b[01m\u001b[K../../../include/geos/geom/Coordinate.h:161:0\u001b[m\u001b[K,\n",
            "                 from \u001b[01m\u001b[K../../../include/geos/geom/Envelope.h:26\u001b[m\u001b[K,\n",
            "                 from \u001b[01m\u001b[K../../../include/geos/geom/Geometry.h:28\u001b[m\u001b[K,\n",
            "                 from \u001b[01m\u001b[KIndexedPointInAreaLocator.cpp:18\u001b[m\u001b[K:\n",
            "\u001b[01m\u001b[K../../../include/geos/geom/Coordinate.inl:\u001b[m\u001b[K In member function '\u001b[01m\u001b[Kbool geos::geom::Coordinate::isNull() const\u001b[m\u001b[K':\n",
            "\u001b[01m\u001b[K../../../include/geos/geom/Coordinate.inl:39:10:\u001b[m\u001b[K \u001b[01;31m\u001b[Kerror: \u001b[m\u001b[K'\u001b[01m\u001b[KISNAN\u001b[m\u001b[K' was not declared in this scope\n",
            "  return (\u001b[01;31m\u001b[KISNAN\u001b[m\u001b[K(x) && ISNAN(y) && ISNAN(z));\n",
            "          \u001b[01;31m\u001b[K^~~~~\u001b[m\u001b[K\n",
            "\u001b[01m\u001b[K../../../include/geos/geom/Coordinate.inl:39:10:\u001b[m\u001b[K \u001b[01;36m\u001b[Knote: \u001b[m\u001b[Ksuggested alternative: '\u001b[01m\u001b[KSNAN\u001b[m\u001b[K'\n",
            "  return (\u001b[01;36m\u001b[KISNAN\u001b[m\u001b[K(x) && ISNAN(y) && ISNAN(z));\n",
            "          \u001b[01;36m\u001b[K^~~~~\u001b[m\u001b[K\n",
            "          \u001b[32m\u001b[KSNAN\u001b[m\u001b[K\n",
            "\u001b[01m\u001b[K../../../include/geos/geom/Coordinate.inl:\u001b[m\u001b[K In member function '\u001b[01m\u001b[Kbool geos::geom::Coordinate::equals3D(const geos::geom::Coordinate&) const\u001b[m\u001b[K':\n",
            "\u001b[01m\u001b[K../../../include/geos/geom/Coordinate.inl:83:21:\u001b[m\u001b[K \u001b[01;31m\u001b[Kerror: \u001b[m\u001b[K'\u001b[01m\u001b[KISNAN\u001b[m\u001b[K' was not declared in this scope\n",
            "   ((z == other.z)||(\u001b[01;31m\u001b[KISNAN\u001b[m\u001b[K(z) && ISNAN(other.z)));\n",
            "                     \u001b[01;31m\u001b[K^~~~~\u001b[m\u001b[K\n",
            "\u001b[01m\u001b[K../../../include/geos/geom/Coordinate.inl:83:21:\u001b[m\u001b[K \u001b[01;36m\u001b[Knote: \u001b[m\u001b[Ksuggested alternative: '\u001b[01m\u001b[KSNAN\u001b[m\u001b[K'\n",
            "   ((z == other.z)||(\u001b[01;36m\u001b[KISNAN\u001b[m\u001b[K(z) && ISNAN(other.z)));\n",
            "                     \u001b[01;36m\u001b[K^~~~~\u001b[m\u001b[K\n",
            "                     \u001b[32m\u001b[KSNAN\u001b[m\u001b[K\n",
            "Makefile:373: recipe for target 'IndexedPointInAreaLocator.lo' failed\n",
            "make[4]: *** [IndexedPointInAreaLocator.lo] Error 1\n",
            "make[4]: Leaving directory '/content/notebook/basemap/geos-3.3.3/src/algorithm/locate'\n",
            "Makefile:392: recipe for target 'all-recursive' failed\n",
            "make[3]: *** [all-recursive] Error 1\n",
            "make[3]: Leaving directory '/content/notebook/basemap/geos-3.3.3/src/algorithm/locate'\n",
            "Makefile:444: recipe for target 'all-recursive' failed\n",
            "make[2]: *** [all-recursive] Error 1\n",
            "make[2]: Leaving directory '/content/notebook/basemap/geos-3.3.3/src/algorithm'\n",
            "Makefile:476: recipe for target 'all-recursive' failed\n",
            "make[1]: *** [all-recursive] Error 1\n",
            "make[1]: Leaving directory '/content/notebook/basemap/geos-3.3.3/src'\n",
            "Makefile:368: recipe for target 'all-recursive' failed\n",
            "make: *** [all-recursive] Error 1\n"
          ],
          "name": "stdout"
        }
      ]
    },
    {
      "metadata": {
        "id": "-GIDNP-J0pe9",
        "colab_type": "code",
        "colab": {
          "base_uri": "https://localhost:8080/",
          "height": 10256
        },
        "outputId": "d8dce5ac-8c30-410b-8831-11d336ae43e2"
      },
      "cell_type": "code",
      "source": [
        "!make install"
      ],
      "execution_count": 43,
      "outputs": [
        {
          "output_type": "stream",
          "text": [
            "Making install in include\n",
            "make[1]: Entering directory '/content/notebook/basemap/geos-3.3.3/include'\n",
            "Making install in geos\n",
            "make[2]: Entering directory '/content/notebook/basemap/geos-3.3.3/include/geos'\n",
            "Making install in algorithm\n",
            "make[3]: Entering directory '/content/notebook/basemap/geos-3.3.3/include/geos/algorithm'\n",
            "Making install in locate\n",
            "make[4]: Entering directory '/content/notebook/basemap/geos-3.3.3/include/geos/algorithm/locate'\n",
            "make[5]: Entering directory '/content/notebook/basemap/geos-3.3.3/include/geos/algorithm/locate'\n",
            "make[6]: Entering directory '/content/notebook/basemap/geos-3.3.3/include/geos/algorithm/locate'\n",
            "make[6]: Nothing to be done for 'install-exec-am'.\n",
            "test -z \"/usr/local/include/geos/algorithm/locate\" || /bin/mkdir -p \"/usr/local/include/geos/algorithm/locate\"\n",
            " /usr/bin/install -c -m 644 IndexedPointInAreaLocator.h PointOnGeometryLocator.h SimplePointInAreaLocator.h '/usr/local/include/geos/algorithm/locate'\n",
            "make[6]: Leaving directory '/content/notebook/basemap/geos-3.3.3/include/geos/algorithm/locate'\n",
            "make[5]: Leaving directory '/content/notebook/basemap/geos-3.3.3/include/geos/algorithm/locate'\n",
            "make[4]: Leaving directory '/content/notebook/basemap/geos-3.3.3/include/geos/algorithm/locate'\n",
            "Making install in distance\n",
            "make[4]: Entering directory '/content/notebook/basemap/geos-3.3.3/include/geos/algorithm/distance'\n",
            "make[5]: Entering directory '/content/notebook/basemap/geos-3.3.3/include/geos/algorithm/distance'\n",
            "make[6]: Entering directory '/content/notebook/basemap/geos-3.3.3/include/geos/algorithm/distance'\n",
            "make[6]: Nothing to be done for 'install-exec-am'.\n",
            "test -z \"/usr/local/include/geos/algorithm/distance\" || /bin/mkdir -p \"/usr/local/include/geos/algorithm/distance\"\n",
            " /usr/bin/install -c -m 644 DiscreteHausdorffDistance.h DistanceToPoint.h PointPairDistance.h '/usr/local/include/geos/algorithm/distance'\n",
            "make[6]: Leaving directory '/content/notebook/basemap/geos-3.3.3/include/geos/algorithm/distance'\n",
            "make[5]: Leaving directory '/content/notebook/basemap/geos-3.3.3/include/geos/algorithm/distance'\n",
            "make[4]: Leaving directory '/content/notebook/basemap/geos-3.3.3/include/geos/algorithm/distance'\n",
            "make[4]: Entering directory '/content/notebook/basemap/geos-3.3.3/include/geos/algorithm'\n",
            "make[5]: Entering directory '/content/notebook/basemap/geos-3.3.3/include/geos/algorithm'\n",
            "make[5]: Nothing to be done for 'install-exec-am'.\n",
            "test -z \"/usr/local/include/geos/algorithm\" || /bin/mkdir -p \"/usr/local/include/geos/algorithm\"\n",
            " /usr/bin/install -c -m 644 Angle.h BoundaryNodeRule.h CentralEndpointIntersector.h CentroidArea.h CentroidLine.h CentroidPoint.h CGAlgorithms.h ConvexHull.h ConvexHull.inl HCoordinate.h InteriorPointArea.h InteriorPointLine.h InteriorPointPoint.h LineIntersector.h MCPointInRing.h MinimumDiameter.h NotRepresentableException.h PointInRing.h PointLocator.h RayCrossingCounter.h RobustDeterminant.h SimplePointInRing.h SIRtreePointInRing.h '/usr/local/include/geos/algorithm'\n",
            "make[5]: Leaving directory '/content/notebook/basemap/geos-3.3.3/include/geos/algorithm'\n",
            "make[4]: Leaving directory '/content/notebook/basemap/geos-3.3.3/include/geos/algorithm'\n",
            "make[3]: Leaving directory '/content/notebook/basemap/geos-3.3.3/include/geos/algorithm'\n",
            "Making install in geom\n",
            "make[3]: Entering directory '/content/notebook/basemap/geos-3.3.3/include/geos/geom'\n",
            "Making install in util\n",
            "make[4]: Entering directory '/content/notebook/basemap/geos-3.3.3/include/geos/geom/util'\n",
            "make[5]: Entering directory '/content/notebook/basemap/geos-3.3.3/include/geos/geom/util'\n",
            "make[5]: Nothing to be done for 'install-exec-am'.\n",
            "test -z \"/usr/local/include/geos/geom/util\" || /bin/mkdir -p \"/usr/local/include/geos/geom/util\"\n",
            " /usr/bin/install -c -m 644 ComponentCoordinateExtracter.h CoordinateOperation.h GeometryCombiner.h GeometryEditor.h GeometryEditorOperation.h GeometryExtracter.h GeometryTransformer.h LinearComponentExtracter.h PointExtracter.h PolygonExtracter.h ShortCircuitedGeometryVisitor.h SineStarFactory.h '/usr/local/include/geos/geom/util'\n",
            "make[5]: Leaving directory '/content/notebook/basemap/geos-3.3.3/include/geos/geom/util'\n",
            "make[4]: Leaving directory '/content/notebook/basemap/geos-3.3.3/include/geos/geom/util'\n",
            "Making install in prep\n",
            "make[4]: Entering directory '/content/notebook/basemap/geos-3.3.3/include/geos/geom/prep'\n",
            "make[5]: Entering directory '/content/notebook/basemap/geos-3.3.3/include/geos/geom/prep'\n",
            "make[5]: Nothing to be done for 'install-exec-am'.\n",
            "test -z \"/usr/local/include/geos/geom/prep\" || /bin/mkdir -p \"/usr/local/include/geos/geom/prep\"\n",
            " /usr/bin/install -c -m 644 AbstractPreparedPolygonContains.h BasicPreparedGeometry.h PreparedGeometryFactory.h PreparedGeometry.h PreparedLineString.h PreparedLineStringIntersects.h PreparedPoint.h PreparedPolygonContains.h PreparedPolygonContainsProperly.h PreparedPolygonCovers.h PreparedPolygon.h PreparedPolygonIntersects.h PreparedPolygonPredicate.h '/usr/local/include/geos/geom/prep'\n",
            "make[5]: Leaving directory '/content/notebook/basemap/geos-3.3.3/include/geos/geom/prep'\n",
            "make[4]: Leaving directory '/content/notebook/basemap/geos-3.3.3/include/geos/geom/prep'\n",
            "make[4]: Entering directory '/content/notebook/basemap/geos-3.3.3/include/geos/geom'\n",
            "make[5]: Entering directory '/content/notebook/basemap/geos-3.3.3/include/geos/geom'\n",
            "make[5]: Nothing to be done for 'install-exec-am'.\n",
            "test -z \"/usr/local/include/geos/geom\" || /bin/mkdir -p \"/usr/local/include/geos/geom\"\n",
            " /usr/bin/install -c -m 644 BinaryOp.h CoordinateArraySequenceFactory.h CoordinateArraySequenceFactory.inl CoordinateArraySequence.h CoordinateFilter.h Coordinate.h Coordinate.inl CoordinateList.h CoordinateSequenceFactory.h CoordinateSequenceFilter.h CoordinateSequence.h Dimension.h Envelope.h Envelope.inl GeometryCollection.h GeometryCollection.inl GeometryComponentFilter.h GeometryFactory.h GeometryFactory.inl GeometryFilter.h Geometry.h GeometryList.h IntersectionMatrix.h LinearRing.h LineSegment.h LineSegment.inl LineString.h Location.h MultiLineString.h MultiLineString.inl MultiPoint.h MultiPolygon.h MultiPolygon.inl Point.h Polygon.h PrecisionModel.h PrecisionModel.inl Triangle.h Puntal.h Lineal.h '/usr/local/include/geos/geom'\n",
            " /usr/bin/install -c -m 644 Polygonal.h '/usr/local/include/geos/geom'\n",
            "make[5]: Leaving directory '/content/notebook/basemap/geos-3.3.3/include/geos/geom'\n",
            "make[4]: Leaving directory '/content/notebook/basemap/geos-3.3.3/include/geos/geom'\n",
            "make[3]: Leaving directory '/content/notebook/basemap/geos-3.3.3/include/geos/geom'\n",
            "Making install in geomgraph\n",
            "make[3]: Entering directory '/content/notebook/basemap/geos-3.3.3/include/geos/geomgraph'\n",
            "Making install in index\n",
            "make[4]: Entering directory '/content/notebook/basemap/geos-3.3.3/include/geos/geomgraph/index'\n",
            "make[5]: Entering directory '/content/notebook/basemap/geos-3.3.3/include/geos/geomgraph/index'\n",
            "make[5]: Nothing to be done for 'install-exec-am'.\n",
            "test -z \"/usr/local/include/geos/geomgraph/index\" || /bin/mkdir -p \"/usr/local/include/geos/geomgraph/index\"\n",
            " /usr/bin/install -c -m 644 EdgeSetIntersector.h MonotoneChain.h MonotoneChainEdge.h MonotoneChainIndexer.h SegmentIntersector.h SimpleEdgeSetIntersector.h SimpleMCSweepLineIntersector.h SimpleSweepLineIntersector.h SweepLineEvent.h SweepLineEventObj.h SweepLineSegment.h '/usr/local/include/geos/geomgraph/index'\n",
            "make[5]: Leaving directory '/content/notebook/basemap/geos-3.3.3/include/geos/geomgraph/index'\n",
            "make[4]: Leaving directory '/content/notebook/basemap/geos-3.3.3/include/geos/geomgraph/index'\n",
            "make[4]: Entering directory '/content/notebook/basemap/geos-3.3.3/include/geos/geomgraph'\n",
            "make[5]: Entering directory '/content/notebook/basemap/geos-3.3.3/include/geos/geomgraph'\n",
            "make[5]: Nothing to be done for 'install-exec-am'.\n",
            "test -z \"/usr/local/include/geos/geomgraph\" || /bin/mkdir -p \"/usr/local/include/geos/geomgraph\"\n",
            " /usr/bin/install -c -m 644 Depth.h DirectedEdge.h DirectedEdge.inl DirectedEdgeStar.h EdgeEnd.h EdgeEndStar.h Edge.h EdgeIntersection.h EdgeIntersectionList.h EdgeList.h EdgeNodingValidator.h EdgeRing.h GeometryGraph.h GeometryGraph.inl GraphComponent.h Label.h NodeFactory.h Node.h NodeMap.h PlanarGraph.h Position.h Quadrant.h TopologyLocation.h '/usr/local/include/geos/geomgraph'\n",
            "make[5]: Leaving directory '/content/notebook/basemap/geos-3.3.3/include/geos/geomgraph'\n",
            "make[4]: Leaving directory '/content/notebook/basemap/geos-3.3.3/include/geos/geomgraph'\n",
            "make[3]: Leaving directory '/content/notebook/basemap/geos-3.3.3/include/geos/geomgraph'\n",
            "Making install in index\n",
            "make[3]: Entering directory '/content/notebook/basemap/geos-3.3.3/include/geos/index'\n",
            "Making install in intervalrtree\n",
            "make[4]: Entering directory '/content/notebook/basemap/geos-3.3.3/include/geos/index/intervalrtree'\n",
            "make[5]: Entering directory '/content/notebook/basemap/geos-3.3.3/include/geos/index/intervalrtree'\n",
            "make[6]: Entering directory '/content/notebook/basemap/geos-3.3.3/include/geos/index/intervalrtree'\n",
            "make[6]: Nothing to be done for 'install-exec-am'.\n",
            "test -z \"/usr/local/include/geos/index/intervalrtree\" || /bin/mkdir -p \"/usr/local/include/geos/index/intervalrtree\"\n",
            " /usr/bin/install -c -m 644 IntervalRTreeBranchNode.h IntervalRTreeLeafNode.h IntervalRTreeNode.h SortedPackedIntervalRTree.h '/usr/local/include/geos/index/intervalrtree'\n",
            "make[6]: Leaving directory '/content/notebook/basemap/geos-3.3.3/include/geos/index/intervalrtree'\n",
            "make[5]: Leaving directory '/content/notebook/basemap/geos-3.3.3/include/geos/index/intervalrtree'\n",
            "make[4]: Leaving directory '/content/notebook/basemap/geos-3.3.3/include/geos/index/intervalrtree'\n",
            "Making install in sweepline\n",
            "make[4]: Entering directory '/content/notebook/basemap/geos-3.3.3/include/geos/index/sweepline'\n",
            "make[5]: Entering directory '/content/notebook/basemap/geos-3.3.3/include/geos/index/sweepline'\n",
            "make[6]: Entering directory '/content/notebook/basemap/geos-3.3.3/include/geos/index/sweepline'\n",
            "make[6]: Nothing to be done for 'install-exec-am'.\n",
            "test -z \"/usr/local/include/geos/index/sweepline\" || /bin/mkdir -p \"/usr/local/include/geos/index/sweepline\"\n",
            " /usr/bin/install -c -m 644 SweepLineEvent.h SweepLineIndex.h SweepLineInterval.h SweepLineOverlapAction.h '/usr/local/include/geos/index/sweepline'\n",
            "make[6]: Leaving directory '/content/notebook/basemap/geos-3.3.3/include/geos/index/sweepline'\n",
            "make[5]: Leaving directory '/content/notebook/basemap/geos-3.3.3/include/geos/index/sweepline'\n",
            "make[4]: Leaving directory '/content/notebook/basemap/geos-3.3.3/include/geos/index/sweepline'\n",
            "Making install in strtree\n",
            "make[4]: Entering directory '/content/notebook/basemap/geos-3.3.3/include/geos/index/strtree'\n",
            "make[5]: Entering directory '/content/notebook/basemap/geos-3.3.3/include/geos/index/strtree'\n",
            "make[6]: Entering directory '/content/notebook/basemap/geos-3.3.3/include/geos/index/strtree'\n",
            "make[6]: Nothing to be done for 'install-exec-am'.\n",
            "test -z \"/usr/local/include/geos/index/strtree\" || /bin/mkdir -p \"/usr/local/include/geos/index/strtree\"\n",
            " /usr/bin/install -c -m 644 AbstractNode.h AbstractSTRtree.h Boundable.h Interval.h ItemBoundable.h SIRtree.h STRtree.h '/usr/local/include/geos/index/strtree'\n",
            "make[6]: Leaving directory '/content/notebook/basemap/geos-3.3.3/include/geos/index/strtree'\n",
            "make[5]: Leaving directory '/content/notebook/basemap/geos-3.3.3/include/geos/index/strtree'\n",
            "make[4]: Leaving directory '/content/notebook/basemap/geos-3.3.3/include/geos/index/strtree'\n",
            "Making install in quadtree\n",
            "make[4]: Entering directory '/content/notebook/basemap/geos-3.3.3/include/geos/index/quadtree'\n",
            "make[5]: Entering directory '/content/notebook/basemap/geos-3.3.3/include/geos/index/quadtree'\n",
            "make[6]: Entering directory '/content/notebook/basemap/geos-3.3.3/include/geos/index/quadtree'\n",
            "make[6]: Nothing to be done for 'install-exec-am'.\n",
            "test -z \"/usr/local/include/geos/index/quadtree\" || /bin/mkdir -p \"/usr/local/include/geos/index/quadtree\"\n",
            " /usr/bin/install -c -m 644 DoubleBits.h IntervalSize.h Key.h NodeBase.h Node.h Quadtree.h Root.h '/usr/local/include/geos/index/quadtree'\n",
            "make[6]: Leaving directory '/content/notebook/basemap/geos-3.3.3/include/geos/index/quadtree'\n",
            "make[5]: Leaving directory '/content/notebook/basemap/geos-3.3.3/include/geos/index/quadtree'\n",
            "make[4]: Leaving directory '/content/notebook/basemap/geos-3.3.3/include/geos/index/quadtree'\n",
            "Making install in bintree\n",
            "make[4]: Entering directory '/content/notebook/basemap/geos-3.3.3/include/geos/index/bintree'\n",
            "make[5]: Entering directory '/content/notebook/basemap/geos-3.3.3/include/geos/index/bintree'\n",
            "make[6]: Entering directory '/content/notebook/basemap/geos-3.3.3/include/geos/index/bintree'\n",
            "make[6]: Nothing to be done for 'install-exec-am'.\n",
            "test -z \"/usr/local/include/geos/index/bintree\" || /bin/mkdir -p \"/usr/local/include/geos/index/bintree\"\n",
            " /usr/bin/install -c -m 644 Bintree.h Interval.h Key.h NodeBase.h Node.h Root.h '/usr/local/include/geos/index/bintree'\n",
            "make[6]: Leaving directory '/content/notebook/basemap/geos-3.3.3/include/geos/index/bintree'\n",
            "make[5]: Leaving directory '/content/notebook/basemap/geos-3.3.3/include/geos/index/bintree'\n",
            "make[4]: Leaving directory '/content/notebook/basemap/geos-3.3.3/include/geos/index/bintree'\n",
            "Making install in chain\n",
            "make[4]: Entering directory '/content/notebook/basemap/geos-3.3.3/include/geos/index/chain'\n",
            "make[5]: Entering directory '/content/notebook/basemap/geos-3.3.3/include/geos/index/chain'\n",
            "make[6]: Entering directory '/content/notebook/basemap/geos-3.3.3/include/geos/index/chain'\n",
            "make[6]: Nothing to be done for 'install-exec-am'.\n",
            "test -z \"/usr/local/include/geos/index/chain\" || /bin/mkdir -p \"/usr/local/include/geos/index/chain\"\n",
            " /usr/bin/install -c -m 644 MonotoneChain.h MonotoneChainBuilder.h MonotoneChainOverlapAction.h MonotoneChainSelectAction.h '/usr/local/include/geos/index/chain'\n",
            "make[6]: Leaving directory '/content/notebook/basemap/geos-3.3.3/include/geos/index/chain'\n",
            "make[5]: Leaving directory '/content/notebook/basemap/geos-3.3.3/include/geos/index/chain'\n",
            "make[4]: Leaving directory '/content/notebook/basemap/geos-3.3.3/include/geos/index/chain'\n",
            "make[4]: Entering directory '/content/notebook/basemap/geos-3.3.3/include/geos/index'\n",
            "make[5]: Entering directory '/content/notebook/basemap/geos-3.3.3/include/geos/index'\n",
            "make[5]: Nothing to be done for 'install-exec-am'.\n",
            "test -z \"/usr/local/include/geos/index\" || /bin/mkdir -p \"/usr/local/include/geos/index\"\n",
            " /usr/bin/install -c -m 644 ItemVisitor.h SpatialIndex.h '/usr/local/include/geos/index'\n",
            "make[5]: Leaving directory '/content/notebook/basemap/geos-3.3.3/include/geos/index'\n",
            "make[4]: Leaving directory '/content/notebook/basemap/geos-3.3.3/include/geos/index'\n",
            "make[3]: Leaving directory '/content/notebook/basemap/geos-3.3.3/include/geos/index'\n",
            "Making install in io\n",
            "make[3]: Entering directory '/content/notebook/basemap/geos-3.3.3/include/geos/io'\n",
            "make[4]: Entering directory '/content/notebook/basemap/geos-3.3.3/include/geos/io'\n",
            "make[5]: Entering directory '/content/notebook/basemap/geos-3.3.3/include/geos/io'\n",
            "make[5]: Nothing to be done for 'install-exec-am'.\n",
            "test -z \"/usr/local/include/geos/io\" || /bin/mkdir -p \"/usr/local/include/geos/io\"\n",
            " /usr/bin/install -c -m 644 ByteOrderDataInStream.h ByteOrderDataInStream.inl ByteOrderValues.h CLocalizer.h ParseException.h StringTokenizer.h WKBConstants.h WKBReader.h WKBWriter.h WKTReader.h WKTReader.inl WKTWriter.h Writer.h '/usr/local/include/geos/io'\n",
            "make[5]: Leaving directory '/content/notebook/basemap/geos-3.3.3/include/geos/io'\n",
            "make[4]: Leaving directory '/content/notebook/basemap/geos-3.3.3/include/geos/io'\n",
            "make[3]: Leaving directory '/content/notebook/basemap/geos-3.3.3/include/geos/io'\n",
            "Making install in linearref\n",
            "make[3]: Entering directory '/content/notebook/basemap/geos-3.3.3/include/geos/linearref'\n",
            "make[4]: Entering directory '/content/notebook/basemap/geos-3.3.3/include/geos/linearref'\n",
            "make[4]: Nothing to be done for 'install-exec-am'.\n",
            "test -z \"/usr/local/include/geos/algorithm\" || /bin/mkdir -p \"/usr/local/include/geos/algorithm\"\n",
            " /usr/bin/install -c -m 644 ExtractLineByLocation.h LengthIndexedLine.h LengthIndexOfPoint.h LengthLocationMap.h LinearIterator.h LinearGeometryBuilder.h LinearLocation.h LocationIndexOfLine.h LocationIndexOfPoint.h '/usr/local/include/geos/algorithm'\n",
            "make[4]: Leaving directory '/content/notebook/basemap/geos-3.3.3/include/geos/linearref'\n",
            "make[3]: Leaving directory '/content/notebook/basemap/geos-3.3.3/include/geos/linearref'\n",
            "Making install in noding\n",
            "make[3]: Entering directory '/content/notebook/basemap/geos-3.3.3/include/geos/noding'\n",
            "Making install in snapround\n",
            "make[4]: Entering directory '/content/notebook/basemap/geos-3.3.3/include/geos/noding/snapround'\n",
            "make[5]: Entering directory '/content/notebook/basemap/geos-3.3.3/include/geos/noding/snapround'\n",
            "make[5]: Nothing to be done for 'install-exec-am'.\n",
            "test -z \"/usr/local/include/geos/noding/snapround\" || /bin/mkdir -p \"/usr/local/include/geos/noding/snapround\"\n",
            " /usr/bin/install -c -m 644 HotPixel.h HotPixel.inl MCIndexPointSnapper.h MCIndexSnapRounder.h SimpleSnapRounder.h '/usr/local/include/geos/noding/snapround'\n",
            "make[5]: Leaving directory '/content/notebook/basemap/geos-3.3.3/include/geos/noding/snapround'\n",
            "make[4]: Leaving directory '/content/notebook/basemap/geos-3.3.3/include/geos/noding/snapround'\n",
            "make[4]: Entering directory '/content/notebook/basemap/geos-3.3.3/include/geos/noding'\n",
            "make[5]: Entering directory '/content/notebook/basemap/geos-3.3.3/include/geos/noding'\n",
            "make[5]: Nothing to be done for 'install-exec-am'.\n",
            "test -z \"/usr/local/include/geos/noding\" || /bin/mkdir -p \"/usr/local/include/geos/noding\"\n",
            " /usr/bin/install -c -m 644 BasicSegmentString.h FastNodingValidator.h FastSegmentSetIntersectionFinder.h IntersectionAdder.h IntersectionFinderAdder.h IteratedNoder.h MCIndexNoder.h MCIndexNoder.inl MCIndexSegmentSetMutualIntersector.h NodableSegmentString.h NodedSegmentString.h Noder.h NodingValidator.h Octant.h OrientedCoordinateArray.h ScaledNoder.h SegmentIntersectionDetector.h SegmentIntersector.h SegmentNode.h SegmentNodeList.h SegmentPointComparator.h SegmentSetMutualIntersector.h SegmentString.h SegmentString.inl SegmentStringUtil.h SimpleNoder.h SingleInteriorIntersectionFinder.h SinglePassNoder.h '/usr/local/include/geos/noding'\n",
            "make[5]: Leaving directory '/content/notebook/basemap/geos-3.3.3/include/geos/noding'\n",
            "make[4]: Leaving directory '/content/notebook/basemap/geos-3.3.3/include/geos/noding'\n",
            "make[3]: Leaving directory '/content/notebook/basemap/geos-3.3.3/include/geos/noding'\n",
            "Making install in operation\n",
            "make[3]: Entering directory '/content/notebook/basemap/geos-3.3.3/include/geos/operation'\n",
            "Making install in buffer\n",
            "make[4]: Entering directory '/content/notebook/basemap/geos-3.3.3/include/geos/operation/buffer'\n",
            "make[5]: Entering directory '/content/notebook/basemap/geos-3.3.3/include/geos/operation/buffer'\n",
            "make[5]: Nothing to be done for 'install-exec-am'.\n",
            "test -z \"/usr/local/include/geos/operation/buffer\" || /bin/mkdir -p \"/usr/local/include/geos/operation/buffer\"\n",
            " /usr/bin/install -c -m 644 BufferBuilder.h BufferOp.h BufferParameters.h BufferSubgraph.h OffsetCurveBuilder.h OffsetCurveSetBuilder.h OffsetSegmentGenerator.h OffsetSegmentString.h RightmostEdgeFinder.h SubgraphDepthLocater.h '/usr/local/include/geos/operation/buffer'\n",
            "make[5]: Leaving directory '/content/notebook/basemap/geos-3.3.3/include/geos/operation/buffer'\n",
            "make[4]: Leaving directory '/content/notebook/basemap/geos-3.3.3/include/geos/operation/buffer'\n",
            "Making install in distance\n",
            "make[4]: Entering directory '/content/notebook/basemap/geos-3.3.3/include/geos/operation/distance'\n",
            "make[5]: Entering directory '/content/notebook/basemap/geos-3.3.3/include/geos/operation/distance'\n",
            "make[5]: Nothing to be done for 'install-exec-am'.\n",
            "test -z \"/usr/local/include/geos/operation/distance\" || /bin/mkdir -p \"/usr/local/include/geos/operation/distance\"\n",
            " /usr/bin/install -c -m 644 ConnectedElementLocationFilter.h ConnectedElementPointFilter.h DistanceOp.h GeometryLocation.h '/usr/local/include/geos/operation/distance'\n",
            "make[5]: Leaving directory '/content/notebook/basemap/geos-3.3.3/include/geos/operation/distance'\n",
            "make[4]: Leaving directory '/content/notebook/basemap/geos-3.3.3/include/geos/operation/distance'\n",
            "Making install in linemerge\n",
            "make[4]: Entering directory '/content/notebook/basemap/geos-3.3.3/include/geos/operation/linemerge'\n",
            "make[5]: Entering directory '/content/notebook/basemap/geos-3.3.3/include/geos/operation/linemerge'\n",
            "make[5]: Nothing to be done for 'install-exec-am'.\n",
            "test -z \"/usr/local/include/geos/operation/linemerge\" || /bin/mkdir -p \"/usr/local/include/geos/operation/linemerge\"\n",
            " /usr/bin/install -c -m 644 EdgeString.h LineMergeDirectedEdge.h LineMergeEdge.h LineMergeGraph.h LineMerger.h LineSequencer.h '/usr/local/include/geos/operation/linemerge'\n",
            "make[5]: Leaving directory '/content/notebook/basemap/geos-3.3.3/include/geos/operation/linemerge'\n",
            "make[4]: Leaving directory '/content/notebook/basemap/geos-3.3.3/include/geos/operation/linemerge'\n",
            "Making install in overlay\n",
            "make[4]: Entering directory '/content/notebook/basemap/geos-3.3.3/include/geos/operation/overlay'\n",
            "Making install in snap\n",
            "make[5]: Entering directory '/content/notebook/basemap/geos-3.3.3/include/geos/operation/overlay/snap'\n",
            "make[6]: Entering directory '/content/notebook/basemap/geos-3.3.3/include/geos/operation/overlay/snap'\n",
            "make[6]: Nothing to be done for 'install-exec-am'.\n",
            "test -z \"/usr/local/include/geos/operation/overlay/snap\" || /bin/mkdir -p \"/usr/local/include/geos/operation/overlay/snap\"\n",
            " /usr/bin/install -c -m 644 GeometrySnapper.h LineStringSnapper.h SnapIfNeededOverlayOp.h SnapOverlayOp.h '/usr/local/include/geos/operation/overlay/snap'\n",
            "make[6]: Leaving directory '/content/notebook/basemap/geos-3.3.3/include/geos/operation/overlay/snap'\n",
            "make[5]: Leaving directory '/content/notebook/basemap/geos-3.3.3/include/geos/operation/overlay/snap'\n",
            "make[5]: Entering directory '/content/notebook/basemap/geos-3.3.3/include/geos/operation/overlay'\n",
            "make[6]: Entering directory '/content/notebook/basemap/geos-3.3.3/include/geos/operation/overlay'\n",
            "make[6]: Nothing to be done for 'install-exec-am'.\n",
            "test -z \"/usr/local/include/geos/operation/overlay\" || /bin/mkdir -p \"/usr/local/include/geos/operation/overlay\"\n",
            " /usr/bin/install -c -m 644 EdgeSetNoder.h ElevationMatrixCell.h ElevationMatrix.h LineBuilder.h MaximalEdgeRing.h MinimalEdgeRing.h MinimalEdgeRing.inl OverlayNodeFactory.h OverlayOp.h PointBuilder.h PolygonBuilder.h validate/FuzzyPointLocator.h validate/OffsetPointGenerator.h validate/OverlayResultValidator.h '/usr/local/include/geos/operation/overlay'\n",
            "make[6]: Leaving directory '/content/notebook/basemap/geos-3.3.3/include/geos/operation/overlay'\n",
            "make[5]: Leaving directory '/content/notebook/basemap/geos-3.3.3/include/geos/operation/overlay'\n",
            "make[4]: Leaving directory '/content/notebook/basemap/geos-3.3.3/include/geos/operation/overlay'\n",
            "Making install in polygonize\n",
            "make[4]: Entering directory '/content/notebook/basemap/geos-3.3.3/include/geos/operation/polygonize'\n",
            "make[5]: Entering directory '/content/notebook/basemap/geos-3.3.3/include/geos/operation/polygonize'\n",
            "make[5]: Nothing to be done for 'install-exec-am'.\n",
            "test -z \"/usr/local/include/geos/operation/polygonize\" || /bin/mkdir -p \"/usr/local/include/geos/operation/polygonize\"\n",
            " /usr/bin/install -c -m 644 EdgeRing.h PolygonizeDirectedEdge.h PolygonizeEdge.h PolygonizeGraph.h Polygonizer.h '/usr/local/include/geos/operation/polygonize'\n",
            "make[5]: Leaving directory '/content/notebook/basemap/geos-3.3.3/include/geos/operation/polygonize'\n",
            "make[4]: Leaving directory '/content/notebook/basemap/geos-3.3.3/include/geos/operation/polygonize'\n",
            "Making install in predicate\n",
            "make[4]: Entering directory '/content/notebook/basemap/geos-3.3.3/include/geos/operation/predicate'\n",
            "make[5]: Entering directory '/content/notebook/basemap/geos-3.3.3/include/geos/operation/predicate'\n",
            "make[5]: Nothing to be done for 'install-exec-am'.\n",
            "test -z \"/usr/local/include/geos/operation/predicate\" || /bin/mkdir -p \"/usr/local/include/geos/operation/predicate\"\n",
            " /usr/bin/install -c -m 644 RectangleContains.h RectangleIntersects.h SegmentIntersectionTester.h '/usr/local/include/geos/operation/predicate'\n",
            "make[5]: Leaving directory '/content/notebook/basemap/geos-3.3.3/include/geos/operation/predicate'\n",
            "make[4]: Leaving directory '/content/notebook/basemap/geos-3.3.3/include/geos/operation/predicate'\n",
            "Making install in relate\n",
            "make[4]: Entering directory '/content/notebook/basemap/geos-3.3.3/include/geos/operation/relate'\n",
            "make[5]: Entering directory '/content/notebook/basemap/geos-3.3.3/include/geos/operation/relate'\n",
            "make[5]: Nothing to be done for 'install-exec-am'.\n",
            "test -z \"/usr/local/include/geos/operation/relate\" || /bin/mkdir -p \"/usr/local/include/geos/operation/relate\"\n",
            " /usr/bin/install -c -m 644 EdgeEndBuilder.h EdgeEndBundle.h EdgeEndBundleStar.h RelateComputer.h RelateNodeFactory.h RelateNodeGraph.h RelateNode.h RelateOp.h '/usr/local/include/geos/operation/relate'\n",
            "make[5]: Leaving directory '/content/notebook/basemap/geos-3.3.3/include/geos/operation/relate'\n",
            "make[4]: Leaving directory '/content/notebook/basemap/geos-3.3.3/include/geos/operation/relate'\n",
            "Making install in union\n",
            "make[4]: Entering directory '/content/notebook/basemap/geos-3.3.3/include/geos/operation/union'\n",
            "make[5]: Entering directory '/content/notebook/basemap/geos-3.3.3/include/geos/operation/union'\n",
            "make[5]: Nothing to be done for 'install-exec-am'.\n",
            "test -z \"/usr/local/include/geos/operation/union\" || /bin/mkdir -p \"/usr/local/include/geos/operation/union\"\n",
            " /usr/bin/install -c -m 644 CascadedPolygonUnion.h CascadedUnion.h GeometryListHolder.h PointGeometryUnion.h UnaryUnionOp.h '/usr/local/include/geos/operation/union'\n",
            "make[5]: Leaving directory '/content/notebook/basemap/geos-3.3.3/include/geos/operation/union'\n",
            "make[4]: Leaving directory '/content/notebook/basemap/geos-3.3.3/include/geos/operation/union'\n",
            "Making install in sharedpaths\n",
            "make[4]: Entering directory '/content/notebook/basemap/geos-3.3.3/include/geos/operation/sharedpaths'\n",
            "make[5]: Entering directory '/content/notebook/basemap/geos-3.3.3/include/geos/operation/sharedpaths'\n",
            "make[5]: Nothing to be done for 'install-exec-am'.\n",
            "test -z \"/usr/local/include/geos/operation/sharedpaths\" || /bin/mkdir -p \"/usr/local/include/geos/operation/sharedpaths\"\n",
            " /usr/bin/install -c -m 644 SharedPathsOp.h '/usr/local/include/geos/operation/sharedpaths'\n",
            "make[5]: Leaving directory '/content/notebook/basemap/geos-3.3.3/include/geos/operation/sharedpaths'\n",
            "make[4]: Leaving directory '/content/notebook/basemap/geos-3.3.3/include/geos/operation/sharedpaths'\n",
            "Making install in valid\n",
            "make[4]: Entering directory '/content/notebook/basemap/geos-3.3.3/include/geos/operation/valid'\n",
            "make[5]: Entering directory '/content/notebook/basemap/geos-3.3.3/include/geos/operation/valid'\n",
            "make[5]: Nothing to be done for 'install-exec-am'.\n",
            "test -z \"/usr/local/include/geos/operation/valid\" || /bin/mkdir -p \"/usr/local/include/geos/operation/valid\"\n",
            " /usr/bin/install -c -m 644 ConnectedInteriorTester.h ConsistentAreaTester.h IsValidOp.h QuadtreeNestedRingTester.h RepeatedPointTester.h SimpleNestedRingTester.h SweeplineNestedRingTester.h TopologyValidationError.h '/usr/local/include/geos/operation/valid'\n",
            "make[5]: Leaving directory '/content/notebook/basemap/geos-3.3.3/include/geos/operation/valid'\n",
            "make[4]: Leaving directory '/content/notebook/basemap/geos-3.3.3/include/geos/operation/valid'\n",
            "make[4]: Entering directory '/content/notebook/basemap/geos-3.3.3/include/geos/operation'\n",
            "make[5]: Entering directory '/content/notebook/basemap/geos-3.3.3/include/geos/operation'\n",
            "make[5]: Nothing to be done for 'install-exec-am'.\n",
            "test -z \"/usr/local/include/geos/operation\" || /bin/mkdir -p \"/usr/local/include/geos/operation\"\n",
            " /usr/bin/install -c -m 644 GeometryGraphOperation.h IsSimpleOp.h '/usr/local/include/geos/operation'\n",
            "make[5]: Leaving directory '/content/notebook/basemap/geos-3.3.3/include/geos/operation'\n",
            "make[4]: Leaving directory '/content/notebook/basemap/geos-3.3.3/include/geos/operation'\n",
            "make[3]: Leaving directory '/content/notebook/basemap/geos-3.3.3/include/geos/operation'\n",
            "Making install in planargraph\n",
            "make[3]: Entering directory '/content/notebook/basemap/geos-3.3.3/include/geos/planargraph'\n",
            "Making install in algorithm\n",
            "make[4]: Entering directory '/content/notebook/basemap/geos-3.3.3/include/geos/planargraph/algorithm'\n",
            "make[5]: Entering directory '/content/notebook/basemap/geos-3.3.3/include/geos/planargraph/algorithm'\n",
            "make[5]: Nothing to be done for 'install-exec-am'.\n",
            "test -z \"/usr/local/include/geos/planargraph/algorithm\" || /bin/mkdir -p \"/usr/local/include/geos/planargraph/algorithm\"\n",
            " /usr/bin/install -c -m 644 ConnectedSubgraphFinder.h '/usr/local/include/geos/planargraph/algorithm'\n",
            "make[5]: Leaving directory '/content/notebook/basemap/geos-3.3.3/include/geos/planargraph/algorithm'\n",
            "make[4]: Leaving directory '/content/notebook/basemap/geos-3.3.3/include/geos/planargraph/algorithm'\n",
            "make[4]: Entering directory '/content/notebook/basemap/geos-3.3.3/include/geos/planargraph'\n",
            "make[5]: Entering directory '/content/notebook/basemap/geos-3.3.3/include/geos/planargraph'\n",
            "make[5]: Nothing to be done for 'install-exec-am'.\n",
            "test -z \"/usr/local/include/geos/planargraph\" || /bin/mkdir -p \"/usr/local/include/geos/planargraph\"\n",
            " /usr/bin/install -c -m 644 DirectedEdge.h DirectedEdgeStar.h Edge.h GraphComponent.h Node.h NodeMap.h PlanarGraph.h Subgraph.h '/usr/local/include/geos/planargraph'\n",
            "make[5]: Leaving directory '/content/notebook/basemap/geos-3.3.3/include/geos/planargraph'\n",
            "make[4]: Leaving directory '/content/notebook/basemap/geos-3.3.3/include/geos/planargraph'\n",
            "make[3]: Leaving directory '/content/notebook/basemap/geos-3.3.3/include/geos/planargraph'\n",
            "Making install in precision\n",
            "make[3]: Entering directory '/content/notebook/basemap/geos-3.3.3/include/geos/precision'\n",
            "make[4]: Entering directory '/content/notebook/basemap/geos-3.3.3/include/geos/precision'\n",
            "make[4]: Nothing to be done for 'install-exec-am'.\n",
            "test -z \"/usr/local/include/geos/precision\" || /bin/mkdir -p \"/usr/local/include/geos/precision\"\n",
            " /usr/bin/install -c -m 644 CommonBits.h CommonBitsOp.h CommonBitsRemover.h EnhancedPrecisionOp.h SimpleGeometryPrecisionReducer.h '/usr/local/include/geos/precision'\n",
            "make[4]: Leaving directory '/content/notebook/basemap/geos-3.3.3/include/geos/precision'\n",
            "make[3]: Leaving directory '/content/notebook/basemap/geos-3.3.3/include/geos/precision'\n",
            "Making install in simplify\n",
            "make[3]: Entering directory '/content/notebook/basemap/geos-3.3.3/include/geos/simplify'\n",
            "make[4]: Entering directory '/content/notebook/basemap/geos-3.3.3/include/geos/simplify'\n",
            "make[5]: Entering directory '/content/notebook/basemap/geos-3.3.3/include/geos/simplify'\n",
            "make[5]: Nothing to be done for 'install-exec-am'.\n",
            "test -z \"/usr/local/include/geos/simplify\" || /bin/mkdir -p \"/usr/local/include/geos/simplify\"\n",
            " /usr/bin/install -c -m 644 DouglasPeuckerLineSimplifier.h DouglasPeuckerSimplifier.h LineSegmentIndex.h TaggedLineSegment.h TaggedLinesSimplifier.h TaggedLineString.h TaggedLineStringSimplifier.h TopologyPreservingSimplifier.h '/usr/local/include/geos/simplify'\n",
            "make[5]: Leaving directory '/content/notebook/basemap/geos-3.3.3/include/geos/simplify'\n",
            "make[4]: Leaving directory '/content/notebook/basemap/geos-3.3.3/include/geos/simplify'\n",
            "make[3]: Leaving directory '/content/notebook/basemap/geos-3.3.3/include/geos/simplify'\n",
            "Making install in util\n",
            "make[3]: Entering directory '/content/notebook/basemap/geos-3.3.3/include/geos/util'\n",
            "make[4]: Entering directory '/content/notebook/basemap/geos-3.3.3/include/geos/util'\n",
            "make[4]: Nothing to be done for 'install-exec-am'.\n",
            "test -z \"/usr/local/include/geos/util\" || /bin/mkdir -p \"/usr/local/include/geos/util\"\n",
            " /usr/bin/install -c -m 644 Assert.h AssertionFailedException.h CoordinateArrayFilter.h GeometricShapeFactory.h GEOSException.h IllegalArgumentException.h IllegalStateException.h math.h Machine.h TopologyException.h UniqueCoordinateArrayFilter.h UnsupportedOperationException.h '/usr/local/include/geos/util'\n",
            "make[4]: Leaving directory '/content/notebook/basemap/geos-3.3.3/include/geos/util'\n",
            "make[3]: Leaving directory '/content/notebook/basemap/geos-3.3.3/include/geos/util'\n",
            "make[3]: Entering directory '/content/notebook/basemap/geos-3.3.3/include/geos'\n",
            "make[4]: Entering directory '/content/notebook/basemap/geos-3.3.3/include/geos'\n",
            "make[4]: Nothing to be done for 'install-exec-am'.\n",
            "test -z \"/usr/local/include/geos\" || /bin/mkdir -p \"/usr/local/include/geos\"\n",
            " /usr/bin/install -c -m 644 export.h geomgraph.h geomgraphindex.h geom.h geomUtil.h geosAlgorithm.h indexBintree.h indexChain.h indexQuadtree.h indexStrtree.h indexSweepline.h inline.h io.h noding.h nodingSnapround.h opBuffer.h opDistance.h operation.h opLinemerge.h opOverlay.h opPolygonize.h opPredicate.h opRelate.h opValid.h planargraph.h platform.h precision.h profiler.h spatialIndex.h timeval.h unload.h util.h version.h '/usr/local/include/geos'\n",
            "make[4]: Leaving directory '/content/notebook/basemap/geos-3.3.3/include/geos'\n",
            "make[3]: Leaving directory '/content/notebook/basemap/geos-3.3.3/include/geos'\n",
            "make[2]: Leaving directory '/content/notebook/basemap/geos-3.3.3/include/geos'\n",
            "make[2]: Entering directory '/content/notebook/basemap/geos-3.3.3/include'\n",
            "make[3]: Entering directory '/content/notebook/basemap/geos-3.3.3/include'\n",
            "make[3]: Nothing to be done for 'install-exec-am'.\n",
            "test -z \"/usr/local/include\" || /bin/mkdir -p \"/usr/local/include\"\n",
            " /usr/bin/install -c -m 644 geos.h '/usr/local/include'\n",
            "make[3]: Leaving directory '/content/notebook/basemap/geos-3.3.3/include'\n",
            "make[2]: Leaving directory '/content/notebook/basemap/geos-3.3.3/include'\n",
            "make[1]: Leaving directory '/content/notebook/basemap/geos-3.3.3/include'\n",
            "Making install in src\n",
            "make[1]: Entering directory '/content/notebook/basemap/geos-3.3.3/src'\n",
            "Making install in algorithm\n",
            "make[2]: Entering directory '/content/notebook/basemap/geos-3.3.3/src/algorithm'\n",
            "Making install in locate\n",
            "make[3]: Entering directory '/content/notebook/basemap/geos-3.3.3/src/algorithm/locate'\n",
            "make[4]: Entering directory '/content/notebook/basemap/geos-3.3.3/src/algorithm/locate'\n",
            "/bin/bash ../../../libtool --tag=CXX   --mode=compile g++ -DHAVE_CONFIG_H -I. -I../../../include -I../../../include/geos -I../../../include    -DGEOS_INLINE  -pedantic -Wall -ansi -Wno-long-long  -ffloat-store -g -O2 -MT IndexedPointInAreaLocator.lo -MD -MP -MF .deps/IndexedPointInAreaLocator.Tpo -c -o IndexedPointInAreaLocator.lo IndexedPointInAreaLocator.cpp\n",
            "libtool: compile:  g++ -DHAVE_CONFIG_H -I. -I../../../include -I../../../include/geos -I../../../include -DGEOS_INLINE -pedantic -Wall -ansi -Wno-long-long -ffloat-store -g -O2 -MT IndexedPointInAreaLocator.lo -MD -MP -MF .deps/IndexedPointInAreaLocator.Tpo -c IndexedPointInAreaLocator.cpp  -fPIC -DPIC -o .libs/IndexedPointInAreaLocator.o\n",
            "In file included from \u001b[01m\u001b[K../../../include/geos/geom/Geometry.h:26:0\u001b[m\u001b[K,\n",
            "                 from \u001b[01m\u001b[KIndexedPointInAreaLocator.cpp:18\u001b[m\u001b[K:\n",
            "\u001b[01m\u001b[K../../../include/geos/platform.h:110:2:\u001b[m\u001b[K \u001b[01;31m\u001b[Kerror: \u001b[m\u001b[K#error \"Can not compile without isnan function or macro\"\n",
            " #\u001b[01;31m\u001b[Kerror\u001b[m\u001b[K \"Can not compile without isnan function or macro\"\n",
            "  \u001b[01;31m\u001b[K^~~~~\u001b[m\u001b[K\n",
            "In file included from \u001b[01m\u001b[K../../../include/geos/geom/Coordinate.h:161:0\u001b[m\u001b[K,\n",
            "                 from \u001b[01m\u001b[K../../../include/geos/geom/Envelope.h:26\u001b[m\u001b[K,\n",
            "                 from \u001b[01m\u001b[K../../../include/geos/geom/Geometry.h:28\u001b[m\u001b[K,\n",
            "                 from \u001b[01m\u001b[KIndexedPointInAreaLocator.cpp:18\u001b[m\u001b[K:\n",
            "\u001b[01m\u001b[K../../../include/geos/geom/Coordinate.inl:\u001b[m\u001b[K In member function '\u001b[01m\u001b[Kbool geos::geom::Coordinate::isNull() const\u001b[m\u001b[K':\n",
            "\u001b[01m\u001b[K../../../include/geos/geom/Coordinate.inl:39:10:\u001b[m\u001b[K \u001b[01;31m\u001b[Kerror: \u001b[m\u001b[K'\u001b[01m\u001b[KISNAN\u001b[m\u001b[K' was not declared in this scope\n",
            "  return (\u001b[01;31m\u001b[KISNAN\u001b[m\u001b[K(x) && ISNAN(y) && ISNAN(z));\n",
            "          \u001b[01;31m\u001b[K^~~~~\u001b[m\u001b[K\n",
            "\u001b[01m\u001b[K../../../include/geos/geom/Coordinate.inl:39:10:\u001b[m\u001b[K \u001b[01;36m\u001b[Knote: \u001b[m\u001b[Ksuggested alternative: '\u001b[01m\u001b[KSNAN\u001b[m\u001b[K'\n",
            "  return (\u001b[01;36m\u001b[KISNAN\u001b[m\u001b[K(x) && ISNAN(y) && ISNAN(z));\n",
            "          \u001b[01;36m\u001b[K^~~~~\u001b[m\u001b[K\n",
            "          \u001b[32m\u001b[KSNAN\u001b[m\u001b[K\n",
            "\u001b[01m\u001b[K../../../include/geos/geom/Coordinate.inl:\u001b[m\u001b[K In member function '\u001b[01m\u001b[Kbool geos::geom::Coordinate::equals3D(const geos::geom::Coordinate&) const\u001b[m\u001b[K':\n",
            "\u001b[01m\u001b[K../../../include/geos/geom/Coordinate.inl:83:21:\u001b[m\u001b[K \u001b[01;31m\u001b[Kerror: \u001b[m\u001b[K'\u001b[01m\u001b[KISNAN\u001b[m\u001b[K' was not declared in this scope\n",
            "   ((z == other.z)||(\u001b[01;31m\u001b[KISNAN\u001b[m\u001b[K(z) && ISNAN(other.z)));\n",
            "                     \u001b[01;31m\u001b[K^~~~~\u001b[m\u001b[K\n",
            "\u001b[01m\u001b[K../../../include/geos/geom/Coordinate.inl:83:21:\u001b[m\u001b[K \u001b[01;36m\u001b[Knote: \u001b[m\u001b[Ksuggested alternative: '\u001b[01m\u001b[KSNAN\u001b[m\u001b[K'\n",
            "   ((z == other.z)||(\u001b[01;36m\u001b[KISNAN\u001b[m\u001b[K(z) && ISNAN(other.z)));\n",
            "                     \u001b[01;36m\u001b[K^~~~~\u001b[m\u001b[K\n",
            "                     \u001b[32m\u001b[KSNAN\u001b[m\u001b[K\n",
            "Makefile:373: recipe for target 'IndexedPointInAreaLocator.lo' failed\n",
            "make[4]: *** [IndexedPointInAreaLocator.lo] Error 1\n",
            "make[4]: Leaving directory '/content/notebook/basemap/geos-3.3.3/src/algorithm/locate'\n",
            "Makefile:392: recipe for target 'install-recursive' failed\n",
            "make[3]: *** [install-recursive] Error 1\n",
            "make[3]: Leaving directory '/content/notebook/basemap/geos-3.3.3/src/algorithm/locate'\n",
            "Makefile:444: recipe for target 'install-recursive' failed\n",
            "make[2]: *** [install-recursive] Error 1\n",
            "make[2]: Leaving directory '/content/notebook/basemap/geos-3.3.3/src/algorithm'\n",
            "Makefile:476: recipe for target 'install-recursive' failed\n",
            "make[1]: *** [install-recursive] Error 1\n",
            "make[1]: Leaving directory '/content/notebook/basemap/geos-3.3.3/src'\n",
            "Makefile:368: recipe for target 'install-recursive' failed\n",
            "make: *** [install-recursive] Error 1\n"
          ],
          "name": "stdout"
        }
      ]
    },
    {
      "metadata": {
        "id": "31UPaWh_FtHf",
        "colab_type": "code",
        "colab": {
          "base_uri": "https://localhost:8080/",
          "height": 548
        },
        "outputId": "36c2eb07-fe90-4072-9deb-1c99bbb67d81"
      },
      "cell_type": "code",
      "source": [
        "# load libraries and set basic options\n",
        "import numpy as np\n",
        "import pandas as pd\n",
        "import matplotlib as mpl\n",
        "import matplotlib.pyplot as plt\n",
        "import seaborn as sns\n",
        "import shapefile as shp\n",
        "import plotly.graph_objs as go\n",
        "import random\n",
        "import io\n",
        "import base64\n",
        "\n",
        "from matplotlib.animation import FFMpegWriter\n",
        "from matplotlib import gridspec\n",
        "from matplotlib.patches import Polygon\n",
        "from matplotlib import animation, rc, rcParams\n",
        "from matplotlib.collections import PatchCollection\n",
        "from mpl_toolkits.basemap import Basemap\n",
        "\n",
        "from plotly import __version__\n",
        "from plotly.offline import download_plotlyjs, init_notebook_mode, plot, iplot\n",
        "from itertools import chain\n",
        "\n",
        "#%matplotlib inline\n",
        "from IPython.display import HTML, Image\n",
        "rc('animation', html='html5')\n",
        "\n",
        "init_notebook_mode(connected=True)\n",
        "np.set_printoptions(formatter={'int_kind': '{:,}'.format})"
      ],
      "execution_count": 25,
      "outputs": [
        {
          "output_type": "error",
          "ename": "ModuleNotFoundError",
          "evalue": "ignored",
          "traceback": [
            "\u001b[0;31m---------------------------------------------------------------------------\u001b[0m",
            "\u001b[0;31mModuleNotFoundError\u001b[0m                       Traceback (most recent call last)",
            "\u001b[0;32m<ipython-input-25-6c2b26731806>\u001b[0m in \u001b[0;36m<module>\u001b[0;34m()\u001b[0m\n\u001b[1;32m     15\u001b[0m \u001b[0;32mfrom\u001b[0m \u001b[0mmatplotlib\u001b[0m \u001b[0;32mimport\u001b[0m \u001b[0manimation\u001b[0m\u001b[0;34m,\u001b[0m \u001b[0mrc\u001b[0m\u001b[0;34m,\u001b[0m \u001b[0mrcParams\u001b[0m\u001b[0;34m\u001b[0m\u001b[0;34m\u001b[0m\u001b[0m\n\u001b[1;32m     16\u001b[0m \u001b[0;32mfrom\u001b[0m \u001b[0mmatplotlib\u001b[0m\u001b[0;34m.\u001b[0m\u001b[0mcollections\u001b[0m \u001b[0;32mimport\u001b[0m \u001b[0mPatchCollection\u001b[0m\u001b[0;34m\u001b[0m\u001b[0;34m\u001b[0m\u001b[0m\n\u001b[0;32m---> 17\u001b[0;31m \u001b[0;32mfrom\u001b[0m \u001b[0mmpl_toolkits\u001b[0m\u001b[0;34m.\u001b[0m\u001b[0mbasemap\u001b[0m \u001b[0;32mimport\u001b[0m \u001b[0mBasemap\u001b[0m\u001b[0;34m\u001b[0m\u001b[0;34m\u001b[0m\u001b[0m\n\u001b[0m\u001b[1;32m     18\u001b[0m \u001b[0;34m\u001b[0m\u001b[0m\n\u001b[1;32m     19\u001b[0m \u001b[0;32mfrom\u001b[0m \u001b[0mplotly\u001b[0m \u001b[0;32mimport\u001b[0m \u001b[0m__version__\u001b[0m\u001b[0;34m\u001b[0m\u001b[0;34m\u001b[0m\u001b[0m\n",
            "\u001b[0;31mModuleNotFoundError\u001b[0m: No module named 'mpl_toolkits.basemap'",
            "",
            "\u001b[0;31m---------------------------------------------------------------------------\u001b[0;32m\nNOTE: If your import is failing due to a missing package, you can\nmanually install dependencies using either !pip or !apt.\n\nTo view examples of installing some common dependencies, click the\n\"Open Examples\" button below.\n\u001b[0;31m---------------------------------------------------------------------------\u001b[0m\n"
          ]
        }
      ]
    }
  ]
}