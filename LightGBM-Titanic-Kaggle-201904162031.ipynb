{
  "nbformat": 4,
  "nbformat_minor": 0,
  "metadata": {
    "colab": {
      "name": "Colaboratory へようこそ",
      "version": "0.3.2",
      "provenance": [],
      "collapsed_sections": [],
      "include_colab_link": true
    },
    "kernelspec": {
      "name": "python3",
      "display_name": "Python 3"
    },
    "accelerator": "GPU"
  },
  "cells": [
    {
      "cell_type": "markdown",
      "metadata": {
        "id": "view-in-github",
        "colab_type": "text"
      },
      "source": [
        "<a href=\"https://colab.research.google.com/github/matchbou/kaggle-study-20190410/blob/master/LightGBM-Titanic-Kaggle-201904162031.ipynb\" target=\"_parent\"><img src=\"https://colab.research.google.com/assets/colab-badge.svg\" alt=\"Open In Colab\"/></a>"
      ]
    },
    {
      "metadata": {
        "id": "Z023-HUhB2cN",
        "colab_type": "code",
        "colab": {}
      },
      "cell_type": "code",
      "source": [
        "# https://www.kaggle.com/currypurin/lightgbm-titanic\n",
        "\n",
        "# LightGBM-Titanic"
      ],
      "execution_count": 0,
      "outputs": []
    },
    {
      "metadata": {
        "id": "ZEwLQPLDBIEp",
        "colab_type": "code",
        "outputId": "4f359fe8-749e-4a2e-b635-e8be484cfaa6",
        "colab": {
          "resources": {
            "http://localhost:8080/nbextensions/google.colab/files.js": {
              "data": "Ly8gQ29weXJpZ2h0IDIwMTcgR29vZ2xlIExMQwovLwovLyBMaWNlbnNlZCB1bmRlciB0aGUgQXBhY2hlIExpY2Vuc2UsIFZlcnNpb24gMi4wICh0aGUgIkxpY2Vuc2UiKTsKLy8geW91IG1heSBub3QgdXNlIHRoaXMgZmlsZSBleGNlcHQgaW4gY29tcGxpYW5jZSB3aXRoIHRoZSBMaWNlbnNlLgovLyBZb3UgbWF5IG9idGFpbiBhIGNvcHkgb2YgdGhlIExpY2Vuc2UgYXQKLy8KLy8gICAgICBodHRwOi8vd3d3LmFwYWNoZS5vcmcvbGljZW5zZXMvTElDRU5TRS0yLjAKLy8KLy8gVW5sZXNzIHJlcXVpcmVkIGJ5IGFwcGxpY2FibGUgbGF3IG9yIGFncmVlZCB0byBpbiB3cml0aW5nLCBzb2Z0d2FyZQovLyBkaXN0cmlidXRlZCB1bmRlciB0aGUgTGljZW5zZSBpcyBkaXN0cmlidXRlZCBvbiBhbiAiQVMgSVMiIEJBU0lTLAovLyBXSVRIT1VUIFdBUlJBTlRJRVMgT1IgQ09ORElUSU9OUyBPRiBBTlkgS0lORCwgZWl0aGVyIGV4cHJlc3Mgb3IgaW1wbGllZC4KLy8gU2VlIHRoZSBMaWNlbnNlIGZvciB0aGUgc3BlY2lmaWMgbGFuZ3VhZ2UgZ292ZXJuaW5nIHBlcm1pc3Npb25zIGFuZAovLyBsaW1pdGF0aW9ucyB1bmRlciB0aGUgTGljZW5zZS4KCi8qKgogKiBAZmlsZW92ZXJ2aWV3IEhlbHBlcnMgZm9yIGdvb2dsZS5jb2xhYiBQeXRob24gbW9kdWxlLgogKi8KKGZ1bmN0aW9uKHNjb3BlKSB7CmZ1bmN0aW9uIHNwYW4odGV4dCwgc3R5bGVBdHRyaWJ1dGVzID0ge30pIHsKICBjb25zdCBlbGVtZW50ID0gZG9jdW1lbnQuY3JlYXRlRWxlbWVudCgnc3BhbicpOwogIGVsZW1lbnQudGV4dENvbnRlbnQgPSB0ZXh0OwogIGZvciAoY29uc3Qga2V5IG9mIE9iamVjdC5rZXlzKHN0eWxlQXR0cmlidXRlcykpIHsKICAgIGVsZW1lbnQuc3R5bGVba2V5XSA9IHN0eWxlQXR0cmlidXRlc1trZXldOwogIH0KICByZXR1cm4gZWxlbWVudDsKfQoKLy8gTWF4IG51bWJlciBvZiBieXRlcyB3aGljaCB3aWxsIGJlIHVwbG9hZGVkIGF0IGEgdGltZS4KY29uc3QgTUFYX1BBWUxPQURfU0laRSA9IDEwMCAqIDEwMjQ7Ci8vIE1heCBhbW91bnQgb2YgdGltZSB0byBibG9jayB3YWl0aW5nIGZvciB0aGUgdXNlci4KY29uc3QgRklMRV9DSEFOR0VfVElNRU9VVF9NUyA9IDMwICogMTAwMDsKCmZ1bmN0aW9uIF91cGxvYWRGaWxlcyhpbnB1dElkLCBvdXRwdXRJZCkgewogIGNvbnN0IHN0ZXBzID0gdXBsb2FkRmlsZXNTdGVwKGlucHV0SWQsIG91dHB1dElkKTsKICBjb25zdCBvdXRwdXRFbGVtZW50ID0gZG9jdW1lbnQuZ2V0RWxlbWVudEJ5SWQob3V0cHV0SWQpOwogIC8vIENhY2hlIHN0ZXBzIG9uIHRoZSBvdXRwdXRFbGVtZW50IHRvIG1ha2UgaXQgYXZhaWxhYmxlIGZvciB0aGUgbmV4dCBjYWxsCiAgLy8gdG8gdXBsb2FkRmlsZXNDb250aW51ZSBmcm9tIFB5dGhvbi4KICBvdXRwdXRFbGVtZW50LnN0ZXBzID0gc3RlcHM7CgogIHJldHVybiBfdXBsb2FkRmlsZXNDb250aW51ZShvdXRwdXRJZCk7Cn0KCi8vIFRoaXMgaXMgcm91Z2hseSBhbiBhc3luYyBnZW5lcmF0b3IgKG5vdCBzdXBwb3J0ZWQgaW4gdGhlIGJyb3dzZXIgeWV0KSwKLy8gd2hlcmUgdGhlcmUgYXJlIG11bHRpcGxlIGFzeW5jaHJvbm91cyBzdGVwcyBhbmQgdGhlIFB5dGhvbiBzaWRlIGlzIGdvaW5nCi8vIHRvIHBvbGwgZm9yIGNvbXBsZXRpb24gb2YgZWFjaCBzdGVwLgovLyBUaGlzIHVzZXMgYSBQcm9taXNlIHRvIGJsb2NrIHRoZSBweXRob24gc2lkZSBvbiBjb21wbGV0aW9uIG9mIGVhY2ggc3RlcCwKLy8gdGhlbiBwYXNzZXMgdGhlIHJlc3VsdCBvZiB0aGUgcHJldmlvdXMgc3RlcCBhcyB0aGUgaW5wdXQgdG8gdGhlIG5leHQgc3RlcC4KZnVuY3Rpb24gX3VwbG9hZEZpbGVzQ29udGludWUob3V0cHV0SWQpIHsKICBjb25zdCBvdXRwdXRFbGVtZW50ID0gZG9jdW1lbnQuZ2V0RWxlbWVudEJ5SWQob3V0cHV0SWQpOwogIGNvbnN0IHN0ZXBzID0gb3V0cHV0RWxlbWVudC5zdGVwczsKCiAgY29uc3QgbmV4dCA9IHN0ZXBzLm5leHQob3V0cHV0RWxlbWVudC5sYXN0UHJvbWlzZVZhbHVlKTsKICByZXR1cm4gUHJvbWlzZS5yZXNvbHZlKG5leHQudmFsdWUucHJvbWlzZSkudGhlbigodmFsdWUpID0+IHsKICAgIC8vIENhY2hlIHRoZSBsYXN0IHByb21pc2UgdmFsdWUgdG8gbWFrZSBpdCBhdmFpbGFibGUgdG8gdGhlIG5leHQKICAgIC8vIHN0ZXAgb2YgdGhlIGdlbmVyYXRvci4KICAgIG91dHB1dEVsZW1lbnQubGFzdFByb21pc2VWYWx1ZSA9IHZhbHVlOwogICAgcmV0dXJuIG5leHQudmFsdWUucmVzcG9uc2U7CiAgfSk7Cn0KCi8qKgogKiBHZW5lcmF0b3IgZnVuY3Rpb24gd2hpY2ggaXMgY2FsbGVkIGJldHdlZW4gZWFjaCBhc3luYyBzdGVwIG9mIHRoZSB1cGxvYWQKICogcHJvY2Vzcy4KICogQHBhcmFtIHtzdHJpbmd9IGlucHV0SWQgRWxlbWVudCBJRCBvZiB0aGUgaW5wdXQgZmlsZSBwaWNrZXIgZWxlbWVudC4KICogQHBhcmFtIHtzdHJpbmd9IG91dHB1dElkIEVsZW1lbnQgSUQgb2YgdGhlIG91dHB1dCBkaXNwbGF5LgogKiBAcmV0dXJuIHshSXRlcmFibGU8IU9iamVjdD59IEl0ZXJhYmxlIG9mIG5leHQgc3RlcHMuCiAqLwpmdW5jdGlvbiogdXBsb2FkRmlsZXNTdGVwKGlucHV0SWQsIG91dHB1dElkKSB7CiAgY29uc3QgaW5wdXRFbGVtZW50ID0gZG9jdW1lbnQuZ2V0RWxlbWVudEJ5SWQoaW5wdXRJZCk7CiAgaW5wdXRFbGVtZW50LmRpc2FibGVkID0gZmFsc2U7CgogIGNvbnN0IG91dHB1dEVsZW1lbnQgPSBkb2N1bWVudC5nZXRFbGVtZW50QnlJZChvdXRwdXRJZCk7CiAgb3V0cHV0RWxlbWVudC5pbm5lckhUTUwgPSAnJzsKCiAgY29uc3QgcGlja2VkUHJvbWlzZSA9IG5ldyBQcm9taXNlKChyZXNvbHZlKSA9PiB7CiAgICBpbnB1dEVsZW1lbnQuYWRkRXZlbnRMaXN0ZW5lcignY2hhbmdlJywgKGUpID0+IHsKICAgICAgcmVzb2x2ZShlLnRhcmdldC5maWxlcyk7CiAgICB9KTsKICB9KTsKCiAgY29uc3QgY2FuY2VsID0gZG9jdW1lbnQuY3JlYXRlRWxlbWVudCgnYnV0dG9uJyk7CiAgaW5wdXRFbGVtZW50LnBhcmVudEVsZW1lbnQuYXBwZW5kQ2hpbGQoY2FuY2VsKTsKICBjYW5jZWwudGV4dENvbnRlbnQgPSAnQ2FuY2VsIHVwbG9hZCc7CiAgY29uc3QgY2FuY2VsUHJvbWlzZSA9IG5ldyBQcm9taXNlKChyZXNvbHZlKSA9PiB7CiAgICBjYW5jZWwub25jbGljayA9ICgpID0+IHsKICAgICAgcmVzb2x2ZShudWxsKTsKICAgIH07CiAgfSk7CgogIC8vIENhbmNlbCB1cGxvYWQgaWYgdXNlciBoYXNuJ3QgcGlja2VkIGFueXRoaW5nIGluIHRpbWVvdXQuCiAgY29uc3QgdGltZW91dFByb21pc2UgPSBuZXcgUHJvbWlzZSgocmVzb2x2ZSkgPT4gewogICAgc2V0VGltZW91dCgoKSA9PiB7CiAgICAgIHJlc29sdmUobnVsbCk7CiAgICB9LCBGSUxFX0NIQU5HRV9USU1FT1VUX01TKTsKICB9KTsKCiAgLy8gV2FpdCBmb3IgdGhlIHVzZXIgdG8gcGljayB0aGUgZmlsZXMuCiAgY29uc3QgZmlsZXMgPSB5aWVsZCB7CiAgICBwcm9taXNlOiBQcm9taXNlLnJhY2UoW3BpY2tlZFByb21pc2UsIHRpbWVvdXRQcm9taXNlLCBjYW5jZWxQcm9taXNlXSksCiAgICByZXNwb25zZTogewogICAgICBhY3Rpb246ICdzdGFydGluZycsCiAgICB9CiAgfTsKCiAgaWYgKCFmaWxlcykgewogICAgcmV0dXJuIHsKICAgICAgcmVzcG9uc2U6IHsKICAgICAgICBhY3Rpb246ICdjb21wbGV0ZScsCiAgICAgIH0KICAgIH07CiAgfQoKICBjYW5jZWwucmVtb3ZlKCk7CgogIC8vIERpc2FibGUgdGhlIGlucHV0IGVsZW1lbnQgc2luY2UgZnVydGhlciBwaWNrcyBhcmUgbm90IGFsbG93ZWQuCiAgaW5wdXRFbGVtZW50LmRpc2FibGVkID0gdHJ1ZTsKCiAgZm9yIChjb25zdCBmaWxlIG9mIGZpbGVzKSB7CiAgICBjb25zdCBsaSA9IGRvY3VtZW50LmNyZWF0ZUVsZW1lbnQoJ2xpJyk7CiAgICBsaS5hcHBlbmQoc3BhbihmaWxlLm5hbWUsIHtmb250V2VpZ2h0OiAnYm9sZCd9KSk7CiAgICBsaS5hcHBlbmQoc3BhbigKICAgICAgICBgKCR7ZmlsZS50eXBlIHx8ICduL2EnfSkgLSAke2ZpbGUuc2l6ZX0gYnl0ZXMsIGAgKwogICAgICAgIGBsYXN0IG1vZGlmaWVkOiAkewogICAgICAgICAgICBmaWxlLmxhc3RNb2RpZmllZERhdGUgPyBmaWxlLmxhc3RNb2RpZmllZERhdGUudG9Mb2NhbGVEYXRlU3RyaW5nKCkgOgogICAgICAgICAgICAgICAgICAgICAgICAgICAgICAgICAgICAnbi9hJ30gLSBgKSk7CiAgICBjb25zdCBwZXJjZW50ID0gc3BhbignMCUgZG9uZScpOwogICAgbGkuYXBwZW5kQ2hpbGQocGVyY2VudCk7CgogICAgb3V0cHV0RWxlbWVudC5hcHBlbmRDaGlsZChsaSk7CgogICAgY29uc3QgZmlsZURhdGFQcm9taXNlID0gbmV3IFByb21pc2UoKHJlc29sdmUpID0+IHsKICAgICAgY29uc3QgcmVhZGVyID0gbmV3IEZpbGVSZWFkZXIoKTsKICAgICAgcmVhZGVyLm9ubG9hZCA9IChlKSA9PiB7CiAgICAgICAgcmVzb2x2ZShlLnRhcmdldC5yZXN1bHQpOwogICAgICB9OwogICAgICByZWFkZXIucmVhZEFzQXJyYXlCdWZmZXIoZmlsZSk7CiAgICB9KTsKICAgIC8vIFdhaXQgZm9yIHRoZSBkYXRhIHRvIGJlIHJlYWR5LgogICAgbGV0IGZpbGVEYXRhID0geWllbGQgewogICAgICBwcm9taXNlOiBmaWxlRGF0YVByb21pc2UsCiAgICAgIHJlc3BvbnNlOiB7CiAgICAgICAgYWN0aW9uOiAnY29udGludWUnLAogICAgICB9CiAgICB9OwoKICAgIC8vIFVzZSBhIGNodW5rZWQgc2VuZGluZyB0byBhdm9pZCBtZXNzYWdlIHNpemUgbGltaXRzLiBTZWUgYi82MjExNTY2MC4KICAgIGxldCBwb3NpdGlvbiA9IDA7CiAgICB3aGlsZSAocG9zaXRpb24gPCBmaWxlRGF0YS5ieXRlTGVuZ3RoKSB7CiAgICAgIGNvbnN0IGxlbmd0aCA9IE1hdGgubWluKGZpbGVEYXRhLmJ5dGVMZW5ndGggLSBwb3NpdGlvbiwgTUFYX1BBWUxPQURfU0laRSk7CiAgICAgIGNvbnN0IGNodW5rID0gbmV3IFVpbnQ4QXJyYXkoZmlsZURhdGEsIHBvc2l0aW9uLCBsZW5ndGgpOwogICAgICBwb3NpdGlvbiArPSBsZW5ndGg7CgogICAgICBjb25zdCBiYXNlNjQgPSBidG9hKFN0cmluZy5mcm9tQ2hhckNvZGUuYXBwbHkobnVsbCwgY2h1bmspKTsKICAgICAgeWllbGQgewogICAgICAgIHJlc3BvbnNlOiB7CiAgICAgICAgICBhY3Rpb246ICdhcHBlbmQnLAogICAgICAgICAgZmlsZTogZmlsZS5uYW1lLAogICAgICAgICAgZGF0YTogYmFzZTY0LAogICAgICAgIH0sCiAgICAgIH07CiAgICAgIHBlcmNlbnQudGV4dENvbnRlbnQgPQogICAgICAgICAgYCR7TWF0aC5yb3VuZCgocG9zaXRpb24gLyBmaWxlRGF0YS5ieXRlTGVuZ3RoKSAqIDEwMCl9JSBkb25lYDsKICAgIH0KICB9CgogIC8vIEFsbCBkb25lLgogIHlpZWxkIHsKICAgIHJlc3BvbnNlOiB7CiAgICAgIGFjdGlvbjogJ2NvbXBsZXRlJywKICAgIH0KICB9Owp9CgpzY29wZS5nb29nbGUgPSBzY29wZS5nb29nbGUgfHwge307CnNjb3BlLmdvb2dsZS5jb2xhYiA9IHNjb3BlLmdvb2dsZS5jb2xhYiB8fCB7fTsKc2NvcGUuZ29vZ2xlLmNvbGFiLl9maWxlcyA9IHsKICBfdXBsb2FkRmlsZXMsCiAgX3VwbG9hZEZpbGVzQ29udGludWUsCn07Cn0pKHNlbGYpOwo=",
              "ok": true,
              "headers": [
                [
                  "content-type",
                  "application/javascript"
                ]
              ],
              "status": 200,
              "status_text": ""
            }
          },
          "base_uri": "https://localhost:8080/",
          "height": 115
        }
      },
      "cell_type": "code",
      "source": [
        "from google.colab import files\n",
        "files.upload()"
      ],
      "execution_count": 2,
      "outputs": [
        {
          "output_type": "display_data",
          "data": {
            "text/html": [
              "\n",
              "     <input type=\"file\" id=\"files-8784f63e-f537-4857-8910-d4e2ca70ed3a\" name=\"files[]\" multiple disabled />\n",
              "     <output id=\"result-8784f63e-f537-4857-8910-d4e2ca70ed3a\">\n",
              "      Upload widget is only available when the cell has been executed in the\n",
              "      current browser session. Please rerun this cell to enable.\n",
              "      </output>\n",
              "      <script src=\"/nbextensions/google.colab/files.js\"></script> "
            ],
            "text/plain": [
              "<IPython.core.display.HTML object>"
            ]
          },
          "metadata": {
            "tags": []
          }
        },
        {
          "output_type": "stream",
          "text": [
            "Saving kaggle.json to kaggle.json\n"
          ],
          "name": "stdout"
        },
        {
          "output_type": "execute_result",
          "data": {
            "text/plain": [
              "{'kaggle.json': b'{\"username\":\"matchbou\",\"key\":\"1d8d5134664762f7504a621f52d4e0cb\"}'}"
            ]
          },
          "metadata": {
            "tags": []
          },
          "execution_count": 2
        }
      ]
    },
    {
      "metadata": {
        "id": "Yml_BXJWB40d",
        "colab_type": "code",
        "colab": {}
      },
      "cell_type": "code",
      "source": [
        "!mkdir -p ~/.kaggle\n",
        "!cp kaggle.json ~/.kaggle/"
      ],
      "execution_count": 0,
      "outputs": []
    },
    {
      "metadata": {
        "id": "ZZASHTT4CBEV",
        "colab_type": "code",
        "outputId": "280c9bec-6b35-4c57-c708-a2f64343bbe0",
        "colab": {
          "base_uri": "https://localhost:8080/",
          "height": 225
        }
      },
      "cell_type": "code",
      "source": [
        "!pip install kaggle"
      ],
      "execution_count": 4,
      "outputs": [
        {
          "output_type": "stream",
          "text": [
            "Requirement already satisfied: kaggle in /usr/local/lib/python3.6/dist-packages (1.5.3)\n",
            "Requirement already satisfied: urllib3<1.25,>=1.21.1 in /usr/local/lib/python3.6/dist-packages (from kaggle) (1.22)\n",
            "Requirement already satisfied: six>=1.10 in /usr/local/lib/python3.6/dist-packages (from kaggle) (1.11.0)\n",
            "Requirement already satisfied: certifi in /usr/local/lib/python3.6/dist-packages (from kaggle) (2019.3.9)\n",
            "Requirement already satisfied: python-dateutil in /usr/local/lib/python3.6/dist-packages (from kaggle) (2.5.3)\n",
            "Requirement already satisfied: requests in /usr/local/lib/python3.6/dist-packages (from kaggle) (2.18.4)\n",
            "Requirement already satisfied: tqdm in /usr/local/lib/python3.6/dist-packages (from kaggle) (4.28.1)\n",
            "Requirement already satisfied: python-slugify in /usr/local/lib/python3.6/dist-packages (from kaggle) (3.0.2)\n",
            "Requirement already satisfied: idna<2.7,>=2.5 in /usr/local/lib/python3.6/dist-packages (from requests->kaggle) (2.6)\n",
            "Requirement already satisfied: chardet<3.1.0,>=3.0.2 in /usr/local/lib/python3.6/dist-packages (from requests->kaggle) (3.0.4)\n",
            "Requirement already satisfied: text-unidecode==1.2 in /usr/local/lib/python3.6/dist-packages (from python-slugify->kaggle) (1.2)\n"
          ],
          "name": "stdout"
        }
      ]
    },
    {
      "metadata": {
        "id": "L3206XInCDO1",
        "colab_type": "code",
        "colab": {}
      },
      "cell_type": "code",
      "source": [
        "!chmod 600 /root/.kaggle/kaggle.json"
      ],
      "execution_count": 0,
      "outputs": []
    },
    {
      "metadata": {
        "id": "5EGQWTZXqCI8",
        "colab_type": "code",
        "colab": {}
      },
      "cell_type": "code",
      "source": [
        "# kaggleデータ置き場とjupyernoteのカレントディレクトリフォルダを作成\n",
        "\n",
        "!mkdir ./input\n",
        "!mkdir ./notebook"
      ],
      "execution_count": 0,
      "outputs": []
    },
    {
      "metadata": {
        "id": "ZkpuriyVCYfV",
        "colab_type": "code",
        "outputId": "b8f4b990-08f0-454e-ec8a-6efde0143d81",
        "colab": {
          "base_uri": "https://localhost:8080/",
          "height": 170
        }
      },
      "cell_type": "code",
      "source": [
        "#osライブラリ読込してinputに移動⇒kaggleデータもダウンロード　⇒ notebookフォルダに移動\n",
        "import os\n",
        "os.chdir('input')\n",
        "\n",
        "#https://www.kaggle.com/c/titanic/data\n",
        "!kaggle competitions download -c titanic\n",
        "\n",
        "os.chdir('../notebook')\n"
      ],
      "execution_count": 8,
      "outputs": [
        {
          "output_type": "stream",
          "text": [
            "Downloading train.csv to /content/input\n",
            "\r  0% 0.00/59.8k [00:00<?, ?B/s]\n",
            "100% 59.8k/59.8k [00:00<00:00, 52.0MB/s]\n",
            "Downloading test.csv to /content/input\n",
            "  0% 0.00/28.0k [00:00<?, ?B/s]\n",
            "100% 28.0k/28.0k [00:00<00:00, 27.6MB/s]\n",
            "Downloading gender_submission.csv to /content/input\n",
            "  0% 0.00/3.18k [00:00<?, ?B/s]\n",
            "100% 3.18k/3.18k [00:00<00:00, 2.91MB/s]\n"
          ],
          "name": "stdout"
        }
      ]
    },
    {
      "metadata": {
        "id": "Z-QhitXHCQ-N",
        "colab_type": "code",
        "outputId": "5e371e5d-8b3d-40c0-c007-2a00dd9cbae8",
        "colab": {
          "base_uri": "https://localhost:8080/",
          "height": 51
        }
      },
      "cell_type": "code",
      "source": [
        "#上記操作の結果以下のディレクトリ配置となる\n",
        "\n",
        "# /content/notebook このipynbのカレントディレクトリ\n",
        "# /content/input カグルからダウンロードしたcsvファイルの置き場所\n",
        "\n",
        "!pwd\n",
        "!ls -a ../input\n"
      ],
      "execution_count": 9,
      "outputs": [
        {
          "output_type": "stream",
          "text": [
            "/content/notebook\n",
            ".  ..  gender_submission.csv  test.csv\ttrain.csv\n"
          ],
          "name": "stdout"
        }
      ]
    },
    {
      "metadata": {
        "id": "3Iv2BEn4Dh_M",
        "colab_type": "code",
        "colab": {}
      },
      "cell_type": "code",
      "source": [
        "#ここからカーネルの内容に踏み込む"
      ],
      "execution_count": 0,
      "outputs": []
    },
    {
      "metadata": {
        "id": "6_AKC3FJ2r6Q",
        "colab_type": "code",
        "colab": {}
      },
      "cell_type": "code",
      "source": [
        "import pandas as pd\n",
        "import numpy as np\n",
        "import lightgbm as lgb\n",
        "from sklearn.model_selection import KFold\n",
        "from sklearn.metrics import accuracy_score\n",
        "import warnings\n",
        "warnings.filterwarnings('ignore')\n",
        "import matplotlib as mpl\n",
        "import matplotlib.pyplot as plt\n"
      ],
      "execution_count": 0,
      "outputs": []
    },
    {
      "metadata": {
        "id": "bYe_G2tm2qnb",
        "colab_type": "text"
      },
      "cell_type": "markdown",
      "source": [
        ""
      ]
    },
    {
      "metadata": {
        "id": "31UPaWh_FtHf",
        "colab_type": "code",
        "colab": {
          "base_uri": "https://localhost:8080/",
          "height": 34
        },
        "outputId": "a89ccdfc-d77e-4cc4-a1d3-cae8e98cfe2c"
      },
      "cell_type": "code",
      "source": [
        "ls ../input"
      ],
      "execution_count": 12,
      "outputs": [
        {
          "output_type": "stream",
          "text": [
            "gender_submission.csv  test.csv  train.csv\n"
          ],
          "name": "stdout"
        }
      ]
    },
    {
      "metadata": {
        "id": "7V8FiI-_3W4o",
        "colab_type": "code",
        "colab": {}
      },
      "cell_type": "code",
      "source": [
        "df_train = pd.read_csv('../input/train.csv')\n",
        "df_test = pd.read_csv('../input/test.csv')\n",
        "df_gender_submission = pd.read_csv('../input/gender_submission.csv')"
      ],
      "execution_count": 0,
      "outputs": []
    },
    {
      "metadata": {
        "id": "ZgS4ZfFr3evw",
        "colab_type": "code",
        "colab": {}
      },
      "cell_type": "code",
      "source": [
        "genders = {'male': 0, 'female': 1} # 辞書を作成\n",
        "# Sexをgendersを用いて変換\n",
        "df_train['Sex'] = df_train['Sex'].map(genders)\n",
        "df_test['Sex'] = df_test['Sex'].map(genders)\n",
        "\n",
        "# ダミー変数化\n",
        "df_train = pd.get_dummies(df_train, columns=['Embarked'])\n",
        "df_test = pd.get_dummies(df_test, columns = ['Embarked'])\n",
        "\n",
        "# 不要な列の削除\n",
        "df_train.drop(['PassengerId', 'Name', 'Cabin', 'Ticket'], axis=1, inplace=True)\n",
        "df_test.drop(['PassengerId', 'Name', 'Cabin', 'Ticket'], axis=1, inplace=True)"
      ],
      "execution_count": 0,
      "outputs": []
    },
    {
      "metadata": {
        "id": "t3L8HXQ_3v-y",
        "colab_type": "code",
        "colab": {
          "base_uri": "https://localhost:8080/",
          "height": 247
        },
        "outputId": "1bc7a1b4-63f7-4395-e428-e0dc14220858"
      },
      "cell_type": "code",
      "source": [
        "df_train.head(6)"
      ],
      "execution_count": 15,
      "outputs": [
        {
          "output_type": "execute_result",
          "data": {
            "text/html": [
              "<div>\n",
              "<style scoped>\n",
              "    .dataframe tbody tr th:only-of-type {\n",
              "        vertical-align: middle;\n",
              "    }\n",
              "\n",
              "    .dataframe tbody tr th {\n",
              "        vertical-align: top;\n",
              "    }\n",
              "\n",
              "    .dataframe thead th {\n",
              "        text-align: right;\n",
              "    }\n",
              "</style>\n",
              "<table border=\"1\" class=\"dataframe\">\n",
              "  <thead>\n",
              "    <tr style=\"text-align: right;\">\n",
              "      <th></th>\n",
              "      <th>Survived</th>\n",
              "      <th>Pclass</th>\n",
              "      <th>Sex</th>\n",
              "      <th>Age</th>\n",
              "      <th>SibSp</th>\n",
              "      <th>Parch</th>\n",
              "      <th>Fare</th>\n",
              "      <th>Embarked_C</th>\n",
              "      <th>Embarked_Q</th>\n",
              "      <th>Embarked_S</th>\n",
              "    </tr>\n",
              "  </thead>\n",
              "  <tbody>\n",
              "    <tr>\n",
              "      <th>0</th>\n",
              "      <td>0</td>\n",
              "      <td>3</td>\n",
              "      <td>0</td>\n",
              "      <td>22.0</td>\n",
              "      <td>1</td>\n",
              "      <td>0</td>\n",
              "      <td>7.2500</td>\n",
              "      <td>0</td>\n",
              "      <td>0</td>\n",
              "      <td>1</td>\n",
              "    </tr>\n",
              "    <tr>\n",
              "      <th>1</th>\n",
              "      <td>1</td>\n",
              "      <td>1</td>\n",
              "      <td>1</td>\n",
              "      <td>38.0</td>\n",
              "      <td>1</td>\n",
              "      <td>0</td>\n",
              "      <td>71.2833</td>\n",
              "      <td>1</td>\n",
              "      <td>0</td>\n",
              "      <td>0</td>\n",
              "    </tr>\n",
              "    <tr>\n",
              "      <th>2</th>\n",
              "      <td>1</td>\n",
              "      <td>3</td>\n",
              "      <td>1</td>\n",
              "      <td>26.0</td>\n",
              "      <td>0</td>\n",
              "      <td>0</td>\n",
              "      <td>7.9250</td>\n",
              "      <td>0</td>\n",
              "      <td>0</td>\n",
              "      <td>1</td>\n",
              "    </tr>\n",
              "    <tr>\n",
              "      <th>3</th>\n",
              "      <td>1</td>\n",
              "      <td>1</td>\n",
              "      <td>1</td>\n",
              "      <td>35.0</td>\n",
              "      <td>1</td>\n",
              "      <td>0</td>\n",
              "      <td>53.1000</td>\n",
              "      <td>0</td>\n",
              "      <td>0</td>\n",
              "      <td>1</td>\n",
              "    </tr>\n",
              "    <tr>\n",
              "      <th>4</th>\n",
              "      <td>0</td>\n",
              "      <td>3</td>\n",
              "      <td>0</td>\n",
              "      <td>35.0</td>\n",
              "      <td>0</td>\n",
              "      <td>0</td>\n",
              "      <td>8.0500</td>\n",
              "      <td>0</td>\n",
              "      <td>0</td>\n",
              "      <td>1</td>\n",
              "    </tr>\n",
              "    <tr>\n",
              "      <th>5</th>\n",
              "      <td>0</td>\n",
              "      <td>3</td>\n",
              "      <td>0</td>\n",
              "      <td>NaN</td>\n",
              "      <td>0</td>\n",
              "      <td>0</td>\n",
              "      <td>8.4583</td>\n",
              "      <td>0</td>\n",
              "      <td>1</td>\n",
              "      <td>0</td>\n",
              "    </tr>\n",
              "  </tbody>\n",
              "</table>\n",
              "</div>"
            ],
            "text/plain": [
              "   Survived  Pclass  Sex   Age  SibSp  Parch     Fare  Embarked_C  Embarked_Q  \\\n",
              "0         0       3    0  22.0      1      0   7.2500           0           0   \n",
              "1         1       1    1  38.0      1      0  71.2833           1           0   \n",
              "2         1       3    1  26.0      0      0   7.9250           0           0   \n",
              "3         1       1    1  35.0      1      0  53.1000           0           0   \n",
              "4         0       3    0  35.0      0      0   8.0500           0           0   \n",
              "5         0       3    0   NaN      0      0   8.4583           0           1   \n",
              "\n",
              "   Embarked_S  \n",
              "0           1  \n",
              "1           0  \n",
              "2           1  \n",
              "3           1  \n",
              "4           1  \n",
              "5           0  "
            ]
          },
          "metadata": {
            "tags": []
          },
          "execution_count": 15
        }
      ]
    },
    {
      "metadata": {
        "id": "WWdh2lM132jx",
        "colab_type": "code",
        "colab": {}
      },
      "cell_type": "code",
      "source": [
        "X_train = df_train.iloc[:, 1:]\n",
        "Y_train = df_train['Survived']"
      ],
      "execution_count": 0,
      "outputs": []
    },
    {
      "metadata": {
        "id": "hJvJYA3f4ESC",
        "colab_type": "code",
        "colab": {
          "base_uri": "https://localhost:8080/",
          "height": 1006
        },
        "outputId": "efb3e95f-e022-4d8d-f076-22549acb1143"
      },
      "cell_type": "code",
      "source": [
        "# 3分割交差検証を指定し、インスタンス化\n",
        "kf = KFold(n_splits=3)\n",
        "\n",
        "score_list = []\n",
        "\n",
        "\n",
        "pred = np.zeros(len(df_test))\n",
        "\n",
        "for train_index, test_index in kf.split(X_train, Y_train):\n",
        "    X_cv_train = X_train.iloc[train_index]\n",
        "    X_cv_test = X_train.iloc[test_index]\n",
        "    y_cv_train = Y_train[train_index]\n",
        "    y_cv_test = Y_train[test_index]\n",
        "\n",
        "    gbm = lgb.LGBMClassifier(objective='binary',\n",
        "                             num_leaves=300,\n",
        "                             learning_rate=0.1,\n",
        "                             random_seed=1,\n",
        "                             max_depth=2\n",
        "                            )\n",
        "    gbm.fit(X_cv_train, y_cv_train,\n",
        "            eval_set = [(X_cv_test, y_cv_test)],\n",
        "            early_stopping_rounds=20,\n",
        "            verbose=5)\n",
        "    \n",
        "    y_pred = gbm.predict(X_cv_test, num_iteration=gbm.best_iteration_)\n",
        "    score_list.append(round(accuracy_score(y_cv_test,y_pred)*100,2))\n",
        "    print(round(accuracy_score(y_cv_test,y_pred)*100,2))\n",
        "    pred += gbm.predict(df_test, num_iteration=gbm.best_iteration_)/3\n",
        "pred = (pred > 0.5).astype(np.int)"
      ],
      "execution_count": 17,
      "outputs": [
        {
          "output_type": "stream",
          "text": [
            "Training until validation scores don't improve for 20 rounds.\n",
            "[5]\tvalid_0's binary_logloss: 0.548388\n",
            "[10]\tvalid_0's binary_logloss: 0.502754\n",
            "[15]\tvalid_0's binary_logloss: 0.485102\n",
            "[20]\tvalid_0's binary_logloss: 0.473019\n",
            "[25]\tvalid_0's binary_logloss: 0.468372\n",
            "[30]\tvalid_0's binary_logloss: 0.460954\n",
            "[35]\tvalid_0's binary_logloss: 0.459044\n",
            "[40]\tvalid_0's binary_logloss: 0.45735\n",
            "[45]\tvalid_0's binary_logloss: 0.456929\n",
            "[50]\tvalid_0's binary_logloss: 0.456482\n",
            "[55]\tvalid_0's binary_logloss: 0.455615\n",
            "[60]\tvalid_0's binary_logloss: 0.455277\n",
            "[65]\tvalid_0's binary_logloss: 0.455769\n",
            "[70]\tvalid_0's binary_logloss: 0.45557\n",
            "[75]\tvalid_0's binary_logloss: 0.458139\n",
            "[80]\tvalid_0's binary_logloss: 0.457811\n",
            "Early stopping, best iteration is:\n",
            "[63]\tvalid_0's binary_logloss: 0.454254\n",
            "82.15\n",
            "Training until validation scores don't improve for 20 rounds.\n",
            "[5]\tvalid_0's binary_logloss: 0.542088\n",
            "[10]\tvalid_0's binary_logloss: 0.481404\n",
            "[15]\tvalid_0's binary_logloss: 0.45383\n",
            "[20]\tvalid_0's binary_logloss: 0.439588\n",
            "[25]\tvalid_0's binary_logloss: 0.427288\n",
            "[30]\tvalid_0's binary_logloss: 0.421264\n",
            "[35]\tvalid_0's binary_logloss: 0.417957\n",
            "[40]\tvalid_0's binary_logloss: 0.41596\n",
            "[45]\tvalid_0's binary_logloss: 0.414716\n",
            "[50]\tvalid_0's binary_logloss: 0.414636\n",
            "[55]\tvalid_0's binary_logloss: 0.414424\n",
            "[60]\tvalid_0's binary_logloss: 0.416926\n",
            "Early stopping, best iteration is:\n",
            "[44]\tvalid_0's binary_logloss: 0.413851\n",
            "83.5\n",
            "Training until validation scores don't improve for 20 rounds.\n",
            "[5]\tvalid_0's binary_logloss: 0.536724\n",
            "[10]\tvalid_0's binary_logloss: 0.482767\n",
            "[15]\tvalid_0's binary_logloss: 0.459277\n",
            "[20]\tvalid_0's binary_logloss: 0.444017\n",
            "[25]\tvalid_0's binary_logloss: 0.430916\n",
            "[30]\tvalid_0's binary_logloss: 0.419599\n",
            "[35]\tvalid_0's binary_logloss: 0.412051\n",
            "[40]\tvalid_0's binary_logloss: 0.407478\n",
            "[45]\tvalid_0's binary_logloss: 0.402139\n",
            "[50]\tvalid_0's binary_logloss: 0.399172\n",
            "[55]\tvalid_0's binary_logloss: 0.396216\n",
            "[60]\tvalid_0's binary_logloss: 0.395041\n",
            "[65]\tvalid_0's binary_logloss: 0.393451\n",
            "[70]\tvalid_0's binary_logloss: 0.393401\n",
            "[75]\tvalid_0's binary_logloss: 0.393923\n",
            "[80]\tvalid_0's binary_logloss: 0.393836\n",
            "[85]\tvalid_0's binary_logloss: 0.393445\n",
            "[90]\tvalid_0's binary_logloss: 0.393548\n",
            "Early stopping, best iteration is:\n",
            "[72]\tvalid_0's binary_logloss: 0.393095\n",
            "83.16\n"
          ],
          "name": "stdout"
        }
      ]
    },
    {
      "metadata": {
        "id": "2CSHmxH24KHq",
        "colab_type": "code",
        "colab": {
          "base_uri": "https://localhost:8080/",
          "height": 5083
        },
        "outputId": "787765a3-39c5-4c07-e575-0abd2f3ffed5"
      },
      "cell_type": "code",
      "source": [
        "gbm.predict_proba(X_cv_test, num_iteration=gbm.best_iteration_)"
      ],
      "execution_count": 18,
      "outputs": [
        {
          "output_type": "execute_result",
          "data": {
            "text/plain": [
              "array([[0.84191284, 0.15808716],\n",
              "       [0.79006203, 0.20993797],\n",
              "       [0.12974725, 0.87025275],\n",
              "       [0.94351862, 0.05648138],\n",
              "       [0.87784124, 0.12215876],\n",
              "       [0.78294935, 0.21705065],\n",
              "       [0.15597666, 0.84402334],\n",
              "       [0.8684135 , 0.1315865 ],\n",
              "       [0.74468497, 0.25531503],\n",
              "       [0.8661755 , 0.1338245 ],\n",
              "       [0.58236522, 0.41763478],\n",
              "       [0.76813227, 0.23186773],\n",
              "       [0.84053105, 0.15946895],\n",
              "       [0.66091444, 0.33908556],\n",
              "       [0.09138137, 0.90861863],\n",
              "       [0.11698828, 0.88301172],\n",
              "       [0.54883394, 0.45116606],\n",
              "       [0.93333773, 0.06666227],\n",
              "       [0.26581796, 0.73418204],\n",
              "       [0.87784124, 0.12215876],\n",
              "       [0.80898979, 0.19101021],\n",
              "       [0.11496274, 0.88503726],\n",
              "       [0.82747377, 0.17252623],\n",
              "       [0.47812504, 0.52187496],\n",
              "       [0.05311793, 0.94688207],\n",
              "       [0.83680952, 0.16319048],\n",
              "       [0.84715709, 0.15284291],\n",
              "       [0.74233081, 0.25766919],\n",
              "       [0.79289128, 0.20710872],\n",
              "       [0.83650124, 0.16349876],\n",
              "       [0.81243067, 0.18756933],\n",
              "       [0.82966409, 0.17033591],\n",
              "       [0.88277485, 0.11722515],\n",
              "       [0.07074802, 0.92925198],\n",
              "       [0.84053105, 0.15946895],\n",
              "       [0.87784124, 0.12215876],\n",
              "       [0.82966409, 0.17033591],\n",
              "       [0.94351862, 0.05648138],\n",
              "       [0.59851579, 0.40148421],\n",
              "       [0.86754685, 0.13245315],\n",
              "       [0.77923221, 0.22076779],\n",
              "       [0.14368249, 0.85631751],\n",
              "       [0.80124558, 0.19875442],\n",
              "       [0.82002521, 0.17997479],\n",
              "       [0.54883394, 0.45116606],\n",
              "       [0.84431632, 0.15568368],\n",
              "       [0.83650124, 0.16349876],\n",
              "       [0.05192884, 0.94807116],\n",
              "       [0.7235322 , 0.2764678 ],\n",
              "       [0.84295472, 0.15704528],\n",
              "       [0.20354375, 0.79645625],\n",
              "       [0.73868953, 0.26131047],\n",
              "       [0.84053105, 0.15946895],\n",
              "       [0.82966409, 0.17033591],\n",
              "       [0.89047323, 0.10952677],\n",
              "       [0.49084572, 0.50915428],\n",
              "       [0.8684135 , 0.1315865 ],\n",
              "       [0.12974725, 0.87025275],\n",
              "       [0.84703678, 0.15296322],\n",
              "       [0.27587608, 0.72412392],\n",
              "       [0.3961658 , 0.6038342 ],\n",
              "       [0.85450944, 0.14549056],\n",
              "       [0.8684135 , 0.1315865 ],\n",
              "       [0.21686459, 0.78313541],\n",
              "       [0.83680952, 0.16319048],\n",
              "       [0.66254553, 0.33745447],\n",
              "       [0.73076939, 0.26923061],\n",
              "       [0.87026875, 0.12973125],\n",
              "       [0.809783  , 0.190217  ],\n",
              "       [0.83239234, 0.16760766],\n",
              "       [0.84053105, 0.15946895],\n",
              "       [0.8179216 , 0.1820784 ],\n",
              "       [0.83680952, 0.16319048],\n",
              "       [0.86497509, 0.13502491],\n",
              "       [0.8661755 , 0.1338245 ],\n",
              "       [0.09456254, 0.90543746],\n",
              "       [0.14840277, 0.85159723],\n",
              "       [0.66091444, 0.33908556],\n",
              "       [0.88927553, 0.11072447],\n",
              "       [0.83680952, 0.16319048],\n",
              "       [0.92995895, 0.07004105],\n",
              "       [0.83650124, 0.16349876],\n",
              "       [0.84703678, 0.15296322],\n",
              "       [0.53944507, 0.46055493],\n",
              "       [0.54883394, 0.45116606],\n",
              "       [0.73063324, 0.26936676],\n",
              "       [0.31641839, 0.68358161],\n",
              "       [0.62937711, 0.37062289],\n",
              "       [0.84703678, 0.15296322],\n",
              "       [0.82556996, 0.17443004],\n",
              "       [0.87709485, 0.12290515],\n",
              "       [0.81032598, 0.18967402],\n",
              "       [0.82556996, 0.17443004],\n",
              "       [0.84703678, 0.15296322],\n",
              "       [0.83650124, 0.16349876],\n",
              "       [0.12363541, 0.87636459],\n",
              "       [0.62937711, 0.37062289],\n",
              "       [0.20568146, 0.79431854],\n",
              "       [0.84295472, 0.15704528],\n",
              "       [0.85161513, 0.14838487],\n",
              "       [0.82001575, 0.17998425],\n",
              "       [0.89471908, 0.10528092],\n",
              "       [0.8661755 , 0.1338245 ],\n",
              "       [0.27587608, 0.72412392],\n",
              "       [0.6472117 , 0.3527883 ],\n",
              "       [0.88357994, 0.11642006],\n",
              "       [0.10264492, 0.89735508],\n",
              "       [0.58236522, 0.41763478],\n",
              "       [0.45753697, 0.54246303],\n",
              "       [0.85161513, 0.14838487],\n",
              "       [0.83650124, 0.16349876],\n",
              "       [0.84191284, 0.15808716],\n",
              "       [0.18173228, 0.81826772],\n",
              "       [0.77272841, 0.22727159],\n",
              "       [0.13718427, 0.86281573],\n",
              "       [0.8273928 , 0.1726072 ],\n",
              "       [0.05914879, 0.94085121],\n",
              "       [0.7317793 , 0.2682207 ],\n",
              "       [0.81985938, 0.18014062],\n",
              "       [0.84703678, 0.15296322],\n",
              "       [0.88241582, 0.11758418],\n",
              "       [0.86654679, 0.13345321],\n",
              "       [0.08702091, 0.91297909],\n",
              "       [0.14368249, 0.85631751],\n",
              "       [0.8273928 , 0.1726072 ],\n",
              "       [0.79646341, 0.20353659],\n",
              "       [0.03902829, 0.96097171],\n",
              "       [0.91791196, 0.08208804],\n",
              "       [0.79682885, 0.20317115],\n",
              "       [0.88241582, 0.11758418],\n",
              "       [0.62937711, 0.37062289],\n",
              "       [0.84703678, 0.15296322],\n",
              "       [0.33582701, 0.66417299],\n",
              "       [0.27587608, 0.72412392],\n",
              "       [0.82002521, 0.17997479],\n",
              "       [0.49828523, 0.50171477],\n",
              "       [0.13718427, 0.86281573],\n",
              "       [0.50045221, 0.49954779],\n",
              "       [0.92995895, 0.07004105],\n",
              "       [0.83680952, 0.16319048],\n",
              "       [0.83680952, 0.16319048],\n",
              "       [0.81243067, 0.18756933],\n",
              "       [0.54883394, 0.45116606],\n",
              "       [0.73063324, 0.26936676],\n",
              "       [0.8684135 , 0.1315865 ],\n",
              "       [0.8684135 , 0.1315865 ],\n",
              "       [0.74468497, 0.25531503],\n",
              "       [0.56499476, 0.43500524],\n",
              "       [0.13114193, 0.86885807],\n",
              "       [0.81243067, 0.18756933],\n",
              "       [0.84053105, 0.15946895],\n",
              "       [0.75157348, 0.24842652],\n",
              "       [0.82668839, 0.17331161],\n",
              "       [0.14368249, 0.85631751],\n",
              "       [0.62937711, 0.37062289],\n",
              "       [0.85161513, 0.14838487],\n",
              "       [0.03902829, 0.96097171],\n",
              "       [0.2877299 , 0.7122701 ],\n",
              "       [0.80898979, 0.19101021],\n",
              "       [0.84053105, 0.15946895],\n",
              "       [0.12135706, 0.87864294],\n",
              "       [0.27318877, 0.72681123],\n",
              "       [0.83650124, 0.16349876],\n",
              "       [0.83680952, 0.16319048],\n",
              "       [0.80898979, 0.19101021],\n",
              "       [0.03641409, 0.96358591],\n",
              "       [0.88702776, 0.11297224],\n",
              "       [0.93027273, 0.06972727],\n",
              "       [0.85161513, 0.14838487],\n",
              "       [0.03641409, 0.96358591],\n",
              "       [0.83650124, 0.16349876],\n",
              "       [0.09191687, 0.90808313],\n",
              "       [0.74468497, 0.25531503],\n",
              "       [0.27587608, 0.72412392],\n",
              "       [0.84484985, 0.15515015],\n",
              "       [0.80898979, 0.19101021],\n",
              "       [0.84703678, 0.15296322],\n",
              "       [0.88218156, 0.11781844],\n",
              "       [0.16396416, 0.83603584],\n",
              "       [0.87784124, 0.12215876],\n",
              "       [0.14840277, 0.85159723],\n",
              "       [0.86654679, 0.13345321],\n",
              "       [0.87784124, 0.12215876],\n",
              "       [0.2644853 , 0.7355147 ],\n",
              "       [0.87784124, 0.12215876],\n",
              "       [0.17449892, 0.82550108],\n",
              "       [0.38004413, 0.61995587],\n",
              "       [0.06327944, 0.93672056],\n",
              "       [0.66091444, 0.33908556],\n",
              "       [0.86035065, 0.13964935],\n",
              "       [0.91791196, 0.08208804],\n",
              "       [0.86654679, 0.13345321],\n",
              "       [0.49084572, 0.50915428],\n",
              "       [0.7971467 , 0.2028533 ],\n",
              "       [0.2641333 , 0.7358667 ],\n",
              "       [0.73868953, 0.26131047],\n",
              "       [0.87784124, 0.12215876],\n",
              "       [0.80169932, 0.19830068],\n",
              "       [0.75512964, 0.24487036],\n",
              "       [0.74468497, 0.25531503],\n",
              "       [0.84053105, 0.15946895],\n",
              "       [0.85701185, 0.14298815],\n",
              "       [0.13227187, 0.86772813],\n",
              "       [0.53944507, 0.46055493],\n",
              "       [0.85161513, 0.14838487],\n",
              "       [0.50998586, 0.49001414],\n",
              "       [0.79682885, 0.20317115],\n",
              "       [0.12974725, 0.87025275],\n",
              "       [0.18854768, 0.81145232],\n",
              "       [0.26310837, 0.73689163],\n",
              "       [0.91791196, 0.08208804],\n",
              "       [0.83650124, 0.16349876],\n",
              "       [0.83928619, 0.16071381],\n",
              "       [0.49084572, 0.50915428],\n",
              "       [0.85701185, 0.14298815],\n",
              "       [0.05502647, 0.94497353],\n",
              "       [0.83650124, 0.16349876],\n",
              "       [0.85187688, 0.14812312],\n",
              "       [0.79682885, 0.20317115],\n",
              "       [0.7235322 , 0.2764678 ],\n",
              "       [0.84703678, 0.15296322],\n",
              "       [0.86754685, 0.13245315],\n",
              "       [0.49828523, 0.50171477],\n",
              "       [0.81032598, 0.18967402],\n",
              "       [0.93027273, 0.06972727],\n",
              "       [0.8163776 , 0.1836224 ],\n",
              "       [0.06164047, 0.93835953],\n",
              "       [0.84703678, 0.15296322],\n",
              "       [0.83928619, 0.16071381],\n",
              "       [0.53944507, 0.46055493],\n",
              "       [0.7782338 , 0.2217662 ],\n",
              "       [0.92523432, 0.07476568],\n",
              "       [0.84295472, 0.15704528],\n",
              "       [0.21662885, 0.78337115],\n",
              "       [0.87784124, 0.12215876],\n",
              "       [0.06787803, 0.93212197],\n",
              "       [0.45753697, 0.54246303],\n",
              "       [0.22233988, 0.77766012],\n",
              "       [0.87784124, 0.12215876],\n",
              "       [0.83650124, 0.16349876],\n",
              "       [0.84703678, 0.15296322],\n",
              "       [0.04364903, 0.95635097],\n",
              "       [0.84703678, 0.15296322],\n",
              "       [0.87395231, 0.12604769],\n",
              "       [0.76628881, 0.23371119],\n",
              "       [0.74468497, 0.25531503],\n",
              "       [0.84053105, 0.15946895],\n",
              "       [0.81981716, 0.18018284],\n",
              "       [0.05914879, 0.94085121],\n",
              "       [0.8852737 , 0.1147263 ],\n",
              "       [0.84703678, 0.15296322],\n",
              "       [0.88357994, 0.11642006],\n",
              "       [0.95341915, 0.04658085],\n",
              "       [0.7808553 , 0.2191447 ],\n",
              "       [0.82002521, 0.17997479],\n",
              "       [0.04075194, 0.95924806],\n",
              "       [0.76725014, 0.23274986],\n",
              "       [0.88905323, 0.11094677],\n",
              "       [0.23987135, 0.76012865],\n",
              "       [0.07195774, 0.92804226],\n",
              "       [0.14840277, 0.85159723],\n",
              "       [0.53944507, 0.46055493],\n",
              "       [0.17449892, 0.82550108],\n",
              "       [0.809783  , 0.190217  ],\n",
              "       [0.39082615, 0.60917385],\n",
              "       [0.87784124, 0.12215876],\n",
              "       [0.90741653, 0.09258347],\n",
              "       [0.83680952, 0.16319048],\n",
              "       [0.13227187, 0.86772813],\n",
              "       [0.75512964, 0.24487036],\n",
              "       [0.83680952, 0.16319048],\n",
              "       [0.16396416, 0.83603584],\n",
              "       [0.11361306, 0.88638694],\n",
              "       [0.66091444, 0.33908556],\n",
              "       [0.87395231, 0.12604769],\n",
              "       [0.2877299 , 0.7122701 ],\n",
              "       [0.84053105, 0.15946895],\n",
              "       [0.11438802, 0.88561198],\n",
              "       [0.77361333, 0.22638667],\n",
              "       [0.89016007, 0.10983993],\n",
              "       [0.09138137, 0.90861863],\n",
              "       [0.38004413, 0.61995587],\n",
              "       [0.84703678, 0.15296322],\n",
              "       [0.84053105, 0.15946895],\n",
              "       [0.8684135 , 0.1315865 ],\n",
              "       [0.06787803, 0.93212197],\n",
              "       [0.12974725, 0.87025275],\n",
              "       [0.80124558, 0.19875442],\n",
              "       [0.53944507, 0.46055493],\n",
              "       [0.83680952, 0.16319048],\n",
              "       [0.91791196, 0.08208804],\n",
              "       [0.3246619 , 0.6753381 ],\n",
              "       [0.83680952, 0.16319048],\n",
              "       [0.08036271, 0.91963729],\n",
              "       [0.50998586, 0.49001414],\n",
              "       [0.66091444, 0.33908556],\n",
              "       [0.81445748, 0.18554252]])"
            ]
          },
          "metadata": {
            "tags": []
          },
          "execution_count": 18
        }
      ]
    },
    {
      "metadata": {
        "id": "RgcmYWPK4XRB",
        "colab_type": "code",
        "colab": {
          "base_uri": "https://localhost:8080/",
          "height": 156
        },
        "outputId": "da9b8c3d-b9c1-4212-ad45-a831b81c87da"
      },
      "cell_type": "code",
      "source": [
        "gbm.get_params"
      ],
      "execution_count": 20,
      "outputs": [
        {
          "output_type": "execute_result",
          "data": {
            "text/plain": [
              "<bound method LGBMModel.get_params of LGBMClassifier(boosting_type='gbdt', class_weight=None, colsample_bytree=1.0,\n",
              "        importance_type='split', learning_rate=0.1, max_depth=2,\n",
              "        min_child_samples=20, min_child_weight=0.001, min_split_gain=0.0,\n",
              "        n_estimators=100, n_jobs=-1, num_leaves=300, objective='binary',\n",
              "        random_seed=1, random_state=None, reg_alpha=0.0, reg_lambda=0.0,\n",
              "        silent=True, subsample=1.0, subsample_for_bin=200000,\n",
              "        subsample_freq=0)>"
            ]
          },
          "metadata": {
            "tags": []
          },
          "execution_count": 20
        }
      ]
    },
    {
      "metadata": {
        "id": "ed4ExFUb44FC",
        "colab_type": "code",
        "colab": {
          "base_uri": "https://localhost:8080/",
          "height": 34
        },
        "outputId": "7e085fa6-b037-4082-ef7d-f7a1c7d354fb"
      },
      "cell_type": "code",
      "source": [
        "score_list"
      ],
      "execution_count": 21,
      "outputs": [
        {
          "output_type": "execute_result",
          "data": {
            "text/plain": [
              "[82.15, 83.5, 83.16]"
            ]
          },
          "metadata": {
            "tags": []
          },
          "execution_count": 21
        }
      ]
    },
    {
      "metadata": {
        "id": "AgQe53Mh4-JJ",
        "colab_type": "code",
        "colab": {}
      },
      "cell_type": "code",
      "source": [
        "df_gender_submission['Survived'] = pred"
      ],
      "execution_count": 0,
      "outputs": []
    },
    {
      "metadata": {
        "id": "fuPTJsvL5EKp",
        "colab_type": "code",
        "colab": {}
      },
      "cell_type": "code",
      "source": [
        "df_gender_submission.to_csv('lightgbm.csv',index = False)"
      ],
      "execution_count": 0,
      "outputs": []
    },
    {
      "metadata": {
        "id": "HhzLlw3b5Qxy",
        "colab_type": "code",
        "colab": {
          "base_uri": "https://localhost:8080/",
          "height": 665
        },
        "outputId": "21670b0f-2d18-4c08-b0da-07776875d436"
      },
      "cell_type": "code",
      "source": [
        "X_train = df_train.iloc[:,1:]\n",
        "Y_train = df_train['Survived']\n",
        "\n",
        "# 3分割交差検証を指定し、インスタンス化\n",
        "skf = KFold(n_splits=3)\n",
        "\n",
        "# skf.split(X_train.Ytrain)で、X_trainとY_trainを3分割し、交差検証をする\n",
        "for train_index, test_index in skf.split(X_train, Y_train):\n",
        "    X_cv_train = X_train.iloc[train_index]\n",
        "    X_cv_test = X_train.iloc[test_index]\n",
        "    y_cv_train = Y_train[train_index]\n",
        "    y_cv_test = Y_train[test_index]\n",
        "    \n",
        "    lgb_train = lgb.Dataset(X_cv_train,y_cv_train)\n",
        "    lgb_eval = lgb.Dataset(X_cv_test,y_cv_test)\n",
        "    \n",
        "    lgbm_params = {\n",
        "        # 多値分類問題\n",
        "        'objective': 'binary',\n",
        "    }\n",
        "    \n",
        "    gbm = lgb.train(params = lgbm_params,\n",
        "            train_set = lgb_train,\n",
        "            num_boost_round=50,\n",
        "            valid_sets=lgb_eval,\n",
        "            early_stopping_rounds=20,\n",
        "            verbose_eval = 5)\n",
        "    \n",
        "    y_pred = gbm.predict(X_cv_test,num_iteration=gbm.best_iteration)\n",
        "\n",
        "    # acuuracyを表示\n",
        "    preds = np.round(gbm.predict(X_cv_test))\n",
        "    print(round(accuracy_score(y_cv_test,preds)*100,2))"
      ],
      "execution_count": 24,
      "outputs": [
        {
          "output_type": "stream",
          "text": [
            "Training until validation scores don't improve for 20 rounds.\n",
            "[5]\tvalid_0's binary_logloss: 0.539266\n",
            "[10]\tvalid_0's binary_logloss: 0.498639\n",
            "[15]\tvalid_0's binary_logloss: 0.482375\n",
            "[20]\tvalid_0's binary_logloss: 0.469822\n",
            "[25]\tvalid_0's binary_logloss: 0.470981\n",
            "[30]\tvalid_0's binary_logloss: 0.476095\n",
            "[35]\tvalid_0's binary_logloss: 0.484826\n",
            "[40]\tvalid_0's binary_logloss: 0.491263\n",
            "Early stopping, best iteration is:\n",
            "[21]\tvalid_0's binary_logloss: 0.468911\n",
            "81.48\n",
            "Training until validation scores don't improve for 20 rounds.\n",
            "[5]\tvalid_0's binary_logloss: 0.52619\n",
            "[10]\tvalid_0's binary_logloss: 0.462726\n",
            "[15]\tvalid_0's binary_logloss: 0.436404\n",
            "[20]\tvalid_0's binary_logloss: 0.428472\n",
            "[25]\tvalid_0's binary_logloss: 0.429528\n",
            "[30]\tvalid_0's binary_logloss: 0.438034\n",
            "[35]\tvalid_0's binary_logloss: 0.450534\n",
            "[40]\tvalid_0's binary_logloss: 0.461006\n",
            "Early stopping, best iteration is:\n",
            "[21]\tvalid_0's binary_logloss: 0.427376\n",
            "82.49\n",
            "Training until validation scores don't improve for 20 rounds.\n",
            "[5]\tvalid_0's binary_logloss: 0.514153\n",
            "[10]\tvalid_0's binary_logloss: 0.454335\n",
            "[15]\tvalid_0's binary_logloss: 0.421002\n",
            "[20]\tvalid_0's binary_logloss: 0.404886\n",
            "[25]\tvalid_0's binary_logloss: 0.396608\n",
            "[30]\tvalid_0's binary_logloss: 0.389254\n",
            "[35]\tvalid_0's binary_logloss: 0.386427\n",
            "[40]\tvalid_0's binary_logloss: 0.382065\n",
            "[45]\tvalid_0's binary_logloss: 0.384832\n",
            "[50]\tvalid_0's binary_logloss: 0.385134\n",
            "Did not meet early stopping. Best iteration is:\n",
            "[40]\tvalid_0's binary_logloss: 0.382065\n",
            "84.18\n"
          ],
          "name": "stdout"
        }
      ]
    },
    {
      "metadata": {
        "id": "Qo01nPmm5a7b",
        "colab_type": "code",
        "colab": {}
      },
      "cell_type": "code",
      "source": [
        "lgb_train = lgb.Dataset(X_train, Y_train)\n",
        "\n",
        "# LightGBM のハイパーパラメータ\n",
        "lgbm_params = {\n",
        "    # ２値分類問題\n",
        "    'objective': 'binary',\n",
        "}"
      ],
      "execution_count": 0,
      "outputs": []
    },
    {
      "metadata": {
        "id": "-GEbiqXd5kos",
        "colab_type": "code",
        "colab": {
          "base_uri": "https://localhost:8080/",
          "height": 34
        },
        "outputId": "766f2609-ec87-4e0e-f755-ebdd81ac7d70"
      },
      "cell_type": "code",
      "source": [
        "lgb.cv"
      ],
      "execution_count": 26,
      "outputs": [
        {
          "output_type": "execute_result",
          "data": {
            "text/plain": [
              "<function lightgbm.engine.cv>"
            ]
          },
          "metadata": {
            "tags": []
          },
          "execution_count": 26
        }
      ]
    },
    {
      "metadata": {
        "id": "8ci7BGWS5sKS",
        "colab_type": "code",
        "colab": {
          "base_uri": "https://localhost:8080/",
          "height": 187
        },
        "outputId": "63a3700c-506a-4ec1-d6d0-b63248c4658b"
      },
      "cell_type": "code",
      "source": [
        "gbm = lgb.cv(lgbm_params,\n",
        "             train_set = lgb_train,\n",
        "             nfold=3,\n",
        "             verbose_eval=10)"
      ],
      "execution_count": 27,
      "outputs": [
        {
          "output_type": "stream",
          "text": [
            "[10]\tcv_agg's binary_logloss: 0.470409 + 0.00885763\n",
            "[20]\tcv_agg's binary_logloss: 0.433319 + 0.0114559\n",
            "[30]\tcv_agg's binary_logloss: 0.43004 + 0.00799587\n",
            "[40]\tcv_agg's binary_logloss: 0.441298 + 0.0126265\n",
            "[50]\tcv_agg's binary_logloss: 0.450295 + 0.0150997\n",
            "[60]\tcv_agg's binary_logloss: 0.458109 + 0.0198328\n",
            "[70]\tcv_agg's binary_logloss: 0.465633 + 0.0230839\n",
            "[80]\tcv_agg's binary_logloss: 0.469289 + 0.0243248\n",
            "[90]\tcv_agg's binary_logloss: 0.473361 + 0.0242195\n",
            "[100]\tcv_agg's binary_logloss: 0.482202 + 0.0235787\n"
          ],
          "name": "stdout"
        }
      ]
    },
    {
      "metadata": {
        "id": "nWfpAdph5y5e",
        "colab_type": "code",
        "colab": {
          "base_uri": "https://localhost:8080/",
          "height": 3429
        },
        "outputId": "db88d697-055a-4566-fd24-d8471b003288"
      },
      "cell_type": "code",
      "source": [
        "gbm # 辞書にlossとlossの標準偏差がはいります。"
      ],
      "execution_count": 28,
      "outputs": [
        {
          "output_type": "execute_result",
          "data": {
            "text/plain": [
              "{'binary_logloss-mean': [0.6244676530699209,\n",
              "  0.591378708000547,\n",
              "  0.5646871408403941,\n",
              "  0.5430794364047018,\n",
              "  0.5255972052117025,\n",
              "  0.5105782240063957,\n",
              "  0.498630252640163,\n",
              "  0.48766260104521236,\n",
              "  0.4794180403512449,\n",
              "  0.47040882129283723,\n",
              "  0.4645830108398152,\n",
              "  0.45906423658181694,\n",
              "  0.45353088053802476,\n",
              "  0.4490502510197449,\n",
              "  0.4460574841508103,\n",
              "  0.44209051881915645,\n",
              "  0.4384397631075197,\n",
              "  0.43686488624925984,\n",
              "  0.4345050298548725,\n",
              "  0.43331935391745785,\n",
              "  0.4323438948902269,\n",
              "  0.4315994772300991,\n",
              "  0.42987718410776093,\n",
              "  0.42864341582084536,\n",
              "  0.4287193410247751,\n",
              "  0.4283668337394433,\n",
              "  0.4283807327118648,\n",
              "  0.42867040293706965,\n",
              "  0.42881029405371596,\n",
              "  0.43003966045540604,\n",
              "  0.4309637813099401,\n",
              "  0.432513032322477,\n",
              "  0.43345132486387533,\n",
              "  0.4346830139000119,\n",
              "  0.43671569283960493,\n",
              "  0.43759335812175104,\n",
              "  0.4382512358333317,\n",
              "  0.4388984076590239,\n",
              "  0.4402321532509546,\n",
              "  0.4412980187877033,\n",
              "  0.44330882957048967,\n",
              "  0.4439840105630075,\n",
              "  0.4448680686218101,\n",
              "  0.4452274786120494,\n",
              "  0.4453894803042089,\n",
              "  0.44633520219522205,\n",
              "  0.44695433754243913,\n",
              "  0.4492215639920942,\n",
              "  0.4505462539197984,\n",
              "  0.4502945634715882,\n",
              "  0.4512614478869565,\n",
              "  0.4525909702553741,\n",
              "  0.452454750875575,\n",
              "  0.454328471357677,\n",
              "  0.45600946117549457,\n",
              "  0.45727507639851184,\n",
              "  0.457614942604826,\n",
              "  0.4582541222130276,\n",
              "  0.45871913812448134,\n",
              "  0.4581086545850644,\n",
              "  0.4575769514645423,\n",
              "  0.45894192858050453,\n",
              "  0.46011069548520567,\n",
              "  0.46133324214282645,\n",
              "  0.4610175236881806,\n",
              "  0.46309707225350616,\n",
              "  0.4634508978507484,\n",
              "  0.4639189565956113,\n",
              "  0.4648143523376905,\n",
              "  0.46563345945547807,\n",
              "  0.46603216204607834,\n",
              "  0.46565066070036853,\n",
              "  0.46631167831480896,\n",
              "  0.46671861176736157,\n",
              "  0.46664576323428814,\n",
              "  0.46703282625520653,\n",
              "  0.4680412433058235,\n",
              "  0.46824061544078194,\n",
              "  0.46878501886206503,\n",
              "  0.4692894553802864,\n",
              "  0.4693549592403466,\n",
              "  0.47031850494447974,\n",
              "  0.4708343920911518,\n",
              "  0.47130392981323405,\n",
              "  0.47034885143358923,\n",
              "  0.4712515007723786,\n",
              "  0.4717452728189671,\n",
              "  0.4711821514673737,\n",
              "  0.47231171516145326,\n",
              "  0.47336075415700574,\n",
              "  0.4748737190406019,\n",
              "  0.47637489666331984,\n",
              "  0.4774599011132609,\n",
              "  0.4778704319164633,\n",
              "  0.478540017065154,\n",
              "  0.4792811898511855,\n",
              "  0.4804229024321347,\n",
              "  0.4811660870998118,\n",
              "  0.4821858977165319,\n",
              "  0.48220180080445435],\n",
              " 'binary_logloss-stdv': [0.0015057693665602647,\n",
              "  0.003367665534500459,\n",
              "  0.003992362158506566,\n",
              "  0.005091384085118166,\n",
              "  0.0047675339770595375,\n",
              "  0.005761432743641306,\n",
              "  0.006792536795415198,\n",
              "  0.008063014520000062,\n",
              "  0.008991483604342385,\n",
              "  0.008857632672466765,\n",
              "  0.010152183350371016,\n",
              "  0.011092162490484246,\n",
              "  0.011452950892244068,\n",
              "  0.011598492186007607,\n",
              "  0.01296553864409668,\n",
              "  0.012152051342493739,\n",
              "  0.011224722027660417,\n",
              "  0.011260527095941124,\n",
              "  0.011209335028886153,\n",
              "  0.01145587557334005,\n",
              "  0.010867220468824311,\n",
              "  0.012055801829923524,\n",
              "  0.012243272555515662,\n",
              "  0.011593291138079937,\n",
              "  0.011241094851971348,\n",
              "  0.011071759028776149,\n",
              "  0.00997731732312661,\n",
              "  0.00996286988600257,\n",
              "  0.009116563554120702,\n",
              "  0.007995865280547115,\n",
              "  0.0071421623593490476,\n",
              "  0.006578887896479005,\n",
              "  0.00671013251962437,\n",
              "  0.007706533570479599,\n",
              "  0.008868787494531565,\n",
              "  0.009306295093636115,\n",
              "  0.010655454616457885,\n",
              "  0.011873573125423085,\n",
              "  0.012316297020162648,\n",
              "  0.01262646943232678,\n",
              "  0.012054213174197683,\n",
              "  0.013004856293278935,\n",
              "  0.013520054855954595,\n",
              "  0.01362353421239567,\n",
              "  0.013921942278860748,\n",
              "  0.012458296544260004,\n",
              "  0.01289162877775162,\n",
              "  0.012956453346277626,\n",
              "  0.014013787144831893,\n",
              "  0.015099738045620266,\n",
              "  0.016566421845535903,\n",
              "  0.017175875798247517,\n",
              "  0.017219577820936284,\n",
              "  0.018819815513446782,\n",
              "  0.018698876182089874,\n",
              "  0.018968980770166753,\n",
              "  0.0200502523696702,\n",
              "  0.01909080011206034,\n",
              "  0.019472309623607846,\n",
              "  0.019832824569069686,\n",
              "  0.018738900947391557,\n",
              "  0.020002288954770603,\n",
              "  0.020107446463047976,\n",
              "  0.021089813028722083,\n",
              "  0.02121757352993,\n",
              "  0.02136813869452122,\n",
              "  0.022136635668641682,\n",
              "  0.022910227133250128,\n",
              "  0.022799412632985426,\n",
              "  0.023083929529260184,\n",
              "  0.022111163947268413,\n",
              "  0.02213724048907601,\n",
              "  0.022036048891584396,\n",
              "  0.02227776251704823,\n",
              "  0.022418195456215026,\n",
              "  0.02237015974384175,\n",
              "  0.02264885311918873,\n",
              "  0.022628294869864944,\n",
              "  0.023667869468102017,\n",
              "  0.024324760702671432,\n",
              "  0.02447321503384079,\n",
              "  0.024145045973596572,\n",
              "  0.024372468117076117,\n",
              "  0.024746857322289026,\n",
              "  0.025239807167831356,\n",
              "  0.025491073375610258,\n",
              "  0.025121326814420517,\n",
              "  0.02584797582084391,\n",
              "  0.02574477874019365,\n",
              "  0.02421951111820459,\n",
              "  0.0235027537939791,\n",
              "  0.02341099969084693,\n",
              "  0.02380719549824635,\n",
              "  0.024134186972470106,\n",
              "  0.024633599886829213,\n",
              "  0.02529084094635947,\n",
              "  0.024466372297037235,\n",
              "  0.02555330644666188,\n",
              "  0.024726919490712422,\n",
              "  0.02357871857146152]}"
            ]
          },
          "metadata": {
            "tags": []
          },
          "execution_count": 28
        }
      ]
    },
    {
      "metadata": {
        "id": "e59amUdO59_G",
        "colab_type": "code",
        "colab": {
          "base_uri": "https://localhost:8080/",
          "height": 283
        },
        "outputId": "9ef97f56-00f5-4b84-f72c-da4c9b76ca7b"
      },
      "cell_type": "code",
      "source": [
        "cv_logloss = gbm['binary_logloss-mean']\n",
        "round_n = np.arange(len(cv_logloss))\n",
        "\n",
        "plt.xlabel('round')\n",
        "plt.ylabel('logloss')\n",
        "plt.plot(round_n, cv_logloss)\n",
        "plt.show()"
      ],
      "execution_count": 29,
      "outputs": [
        {
          "output_type": "display_data",
          "data": {
            "image/png": "[encoded data removed]",
            "text/plain": [
              "<Figure size 432x288 with 1 Axes>"
            ]
          },
          "metadata": {
            "tags": []
          }
        }
      ]
    },
    {
      "metadata": {
        "id": "3RNhvN3t6DCO",
        "colab_type": "code",
        "colab": {
          "base_uri": "https://localhost:8080/",
          "height": 283
        },
        "outputId": "34fdce90-44f1-4954-c5e9-00eaaa46734d"
      },
      "cell_type": "code",
      "source": [
        "plt.xlabel('round')\n",
        "plt.ylabel('logloss-stdv')\n",
        "plt.plot(round_n, gbm['binary_logloss-stdv']);\n",
        "plt.show()"
      ],
      "execution_count": 30,
      "outputs": [
        {
          "output_type": "display_data",
          "data": {
            "image/png": "[encoded data removed]",
            "text/plain": [
              "<Figure size 432x288 with 1 Axes>"
            ]
          },
          "metadata": {
            "tags": []
          }
        }
      ]
    },
    {
      "metadata": {
        "id": "WfxKzlfn55JU",
        "colab_type": "code",
        "colab": {}
      },
      "cell_type": "code",
      "source": [
        ""
      ],
      "execution_count": 0,
      "outputs": []
    }
  ]
}