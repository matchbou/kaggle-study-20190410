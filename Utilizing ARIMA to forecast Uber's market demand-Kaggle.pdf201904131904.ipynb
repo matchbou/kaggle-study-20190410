{
  "nbformat": 4,
  "nbformat_minor": 0,
  "metadata": {
    "colab": {
      "name": "Colaboratory へようこそ",
      "version": "0.3.2",
      "provenance": [],
      "collapsed_sections": [],
      "include_colab_link": true
    },
    "kernelspec": {
      "name": "python3",
      "display_name": "Python 3"
    },
    "accelerator": "GPU"
  },
  "cells": [
    {
      "cell_type": "markdown",
      "metadata": {
        "id": "view-in-github",
        "colab_type": "text"
      },
      "source": [
        "<a href=\"https://colab.research.google.com/github/matchbou/kaggle-study-20190410/blob/master/Utilizing%20ARIMA%20to%20forecast%20Uber's%20market%20demand-Kaggle.pdf201904131904.ipynb\" target=\"_parent\"><img src=\"https://colab.research.google.com/assets/colab-badge.svg\" alt=\"Open In Colab\"/></a>"
      ]
    },
    {
      "metadata": {
        "id": "Z023-HUhB2cN",
        "colab_type": "code",
        "colab": {}
      },
      "cell_type": "code",
      "source": [
        "# https://www.kaggle.com/kruthik93/utilizing-arima-to-forecast-uber-s-market-demand\n",
        "\n",
        "# Utilizing ARIMA to forecast Uber's market demand"
      ],
      "execution_count": 0,
      "outputs": []
    },
    {
      "metadata": {
        "id": "0_DaZW8GGKlh",
        "colab_type": "code",
        "colab": {
          "base_uri": "https://localhost:8080/",
          "height": 118
        },
        "outputId": "2e3c8d40-2a9e-4e99-b58f-22265b28b4f2"
      },
      "cell_type": "code",
      "source": [
        "from google.colab import drive\n",
        "drive.mount('/content/drive')"
      ],
      "execution_count": 2,
      "outputs": [
        {
          "output_type": "stream",
          "text": [
            "Go to this URL in a browser: https://accounts.google.com/o/oauth2/auth?client_id=947318989803-6bn6qk8qdgf4n4g3pfee6491hc0brc4i.apps.googleusercontent.com&redirect_uri=urn%3Aietf%3Awg%3Aoauth%3A2.0%3Aoob&scope=email%20https%3A%2F%2Fwww.googleapis.com%2Fauth%2Fdocs.test%20https%3A%2F%2Fwww.googleapis.com%2Fauth%2Fdrive%20https%3A%2F%2Fwww.googleapis.com%2Fauth%2Fdrive.photos.readonly%20https%3A%2F%2Fwww.googleapis.com%2Fauth%2Fpeopleapi.readonly&response_type=code\n",
            "\n",
            "Enter your authorization code:\n",
            "··········\n",
            "Mounted at /content/drive\n"
          ],
          "name": "stdout"
        }
      ]
    },
    {
      "metadata": {
        "id": "0ZNy16jgGgWA",
        "colab_type": "code",
        "colab": {
          "base_uri": "https://localhost:8080/",
          "height": 33
        },
        "outputId": "bed73c1a-9c67-4daa-9267-e4e196702e8f"
      },
      "cell_type": "code",
      "source": [
        "!ls -a ./drive/'My Drive'/kaggle/data"
      ],
      "execution_count": 7,
      "outputs": [
        {
          "output_type": "stream",
          "text": [
            "uber-pickups-in-new-york-city.zip\n"
          ],
          "name": "stdout"
        }
      ]
    },
    {
      "metadata": {
        "id": "Dpp1pRIeG_Y2",
        "colab_type": "code",
        "colab": {
          "base_uri": "https://localhost:8080/",
          "height": 33
        },
        "outputId": "e4aba331-f4a1-477b-e6f0-edcfbdc10f66"
      },
      "cell_type": "code",
      "source": [
        "!pwd"
      ],
      "execution_count": 8,
      "outputs": [
        {
          "output_type": "stream",
          "text": [
            "/content\n"
          ],
          "name": "stdout"
        }
      ]
    },
    {
      "metadata": {
        "id": "5EGQWTZXqCI8",
        "colab_type": "code",
        "colab": {}
      },
      "cell_type": "code",
      "source": [
        "# kaggleデータ置き場とjupyernoteのカレントディレクトリフォルダを作成\n",
        "\n",
        "!mkdir ./input\n",
        "!mkdir ./notebook"
      ],
      "execution_count": 0,
      "outputs": []
    },
    {
      "metadata": {
        "id": "ZkpuriyVCYfV",
        "colab_type": "code",
        "colab": {}
      },
      "cell_type": "code",
      "source": [
        "#osライブラリ読込してinputに移動⇒kaggleデータもダウンロード　⇒ notebookフォルダに移動\n",
        "import os\n",
        "os.chdir('input')"
      ],
      "execution_count": 0,
      "outputs": []
    },
    {
      "metadata": {
        "id": "2lektmM_HiNe",
        "colab_type": "code",
        "colab": {
          "base_uri": "https://localhost:8080/",
          "height": 33
        },
        "outputId": "22813057-bdab-4c97-b362-7cd61d1bb231"
      },
      "cell_type": "code",
      "source": [
        "!pwd"
      ],
      "execution_count": 11,
      "outputs": [
        {
          "output_type": "stream",
          "text": [
            "/content/input\n"
          ],
          "name": "stdout"
        }
      ]
    },
    {
      "metadata": {
        "id": "l0bzPj-oHZYC",
        "colab_type": "code",
        "colab": {
          "base_uri": "https://localhost:8080/",
          "height": 342
        },
        "outputId": "364927b3-1d2d-4348-888e-54404ea2b4ff"
      },
      "cell_type": "code",
      "source": [
        "!unzip ../drive/'My Drive'/kaggle/data/uber-pickups-in-new-york-city.zip -d ./"
      ],
      "execution_count": 12,
      "outputs": [
        {
          "output_type": "stream",
          "text": [
            "Archive:  ../drive/My Drive/kaggle/data/uber-pickups-in-new-york-city.zip\n",
            "  inflating: ./Uber-Jan-Feb-FOIL.csv  \n",
            "  inflating: ./other-American_B01362.csv  \n",
            "  inflating: ./other-Carmel_B00256.csv  \n",
            "  inflating: ./other-Dial7_B00887.csv  \n",
            "  inflating: ./other-Diplo_B01196.csv  \n",
            "  inflating: ./other-FHV-services_jan-aug-2015.csv  \n",
            "  inflating: ./other-Federal_02216.csv  \n",
            "  inflating: ./other-Firstclass_B01536.csv  \n",
            "  inflating: ./other-Highclass_B01717.csv  \n",
            "  inflating: ./other-Lyft_B02510.csv  \n",
            "  inflating: ./other-Prestige_B01338.csv  \n",
            "  inflating: ./other-Skyline_B00111.csv  \n",
            "  inflating: ./uber-raw-data-apr14.csv  \n",
            "  inflating: ./uber-raw-data-aug14.csv  \n",
            "  inflating: ./uber-raw-data-janjune-15.csv  \n",
            "  inflating: ./uber-raw-data-jul14.csv  \n",
            "  inflating: ./uber-raw-data-jun14.csv  \n",
            "  inflating: ./uber-raw-data-may14.csv  \n",
            "  inflating: ./uber-raw-data-sep14.csv  \n"
          ],
          "name": "stdout"
        }
      ]
    },
    {
      "metadata": {
        "id": "hETQYmZzH-kv",
        "colab_type": "code",
        "colab": {
          "base_uri": "https://localhost:8080/",
          "height": 196
        },
        "outputId": "d3d9eded-af27-4407-f666-decbc7f27761"
      },
      "cell_type": "code",
      "source": [
        "!ls -a"
      ],
      "execution_count": 13,
      "outputs": [
        {
          "output_type": "stream",
          "text": [
            ".\t\t\t\t     other-Prestige_B01338.csv\n",
            "..\t\t\t\t     other-Skyline_B00111.csv\n",
            "other-American_B01362.csv\t     Uber-Jan-Feb-FOIL.csv\n",
            "other-Carmel_B00256.csv\t\t     uber-raw-data-apr14.csv\n",
            "other-Dial7_B00887.csv\t\t     uber-raw-data-aug14.csv\n",
            "other-Diplo_B01196.csv\t\t     uber-raw-data-janjune-15.csv\n",
            "other-Federal_02216.csv\t\t     uber-raw-data-jul14.csv\n",
            "other-FHV-services_jan-aug-2015.csv  uber-raw-data-jun14.csv\n",
            "other-Firstclass_B01536.csv\t     uber-raw-data-may14.csv\n",
            "other-Highclass_B01717.csv\t     uber-raw-data-sep14.csv\n",
            "other-Lyft_B02510.csv\n"
          ],
          "name": "stdout"
        }
      ]
    },
    {
      "metadata": {
        "id": "kST5vn2BPMpw",
        "colab_type": "code",
        "colab": {}
      },
      "cell_type": "code",
      "source": [
        "#https://www.kaggle.com/c/titanic/data\n",
        "#!kaggle datasets download -d divyeshardeshana/supply-chain-shipment-pricing-data"
      ],
      "execution_count": 0,
      "outputs": []
    },
    {
      "metadata": {
        "id": "5ql7TrzFPWlQ",
        "colab_type": "code",
        "outputId": "4b8aaffa-ce53-4cc0-e513-5e2124ab0d8c",
        "colab": {
          "base_uri": "https://localhost:8080/",
          "height": 212
        }
      },
      "cell_type": "code",
      "source": [
        "!pwd\n",
        "!ls -a"
      ],
      "execution_count": 15,
      "outputs": [
        {
          "output_type": "stream",
          "text": [
            "/content/input\n",
            ".\t\t\t\t     other-Prestige_B01338.csv\n",
            "..\t\t\t\t     other-Skyline_B00111.csv\n",
            "other-American_B01362.csv\t     Uber-Jan-Feb-FOIL.csv\n",
            "other-Carmel_B00256.csv\t\t     uber-raw-data-apr14.csv\n",
            "other-Dial7_B00887.csv\t\t     uber-raw-data-aug14.csv\n",
            "other-Diplo_B01196.csv\t\t     uber-raw-data-janjune-15.csv\n",
            "other-Federal_02216.csv\t\t     uber-raw-data-jul14.csv\n",
            "other-FHV-services_jan-aug-2015.csv  uber-raw-data-jun14.csv\n",
            "other-Firstclass_B01536.csv\t     uber-raw-data-may14.csv\n",
            "other-Highclass_B01717.csv\t     uber-raw-data-sep14.csv\n",
            "other-Lyft_B02510.csv\n"
          ],
          "name": "stdout"
        }
      ]
    },
    {
      "metadata": {
        "id": "CUAxFiTPPRRI",
        "colab_type": "code",
        "colab": {}
      },
      "cell_type": "code",
      "source": [
        "os.chdir('../notebook')"
      ],
      "execution_count": 0,
      "outputs": []
    },
    {
      "metadata": {
        "id": "Z-QhitXHCQ-N",
        "colab_type": "code",
        "outputId": "e26f48fc-9a83-4585-c468-06fd43c70d46",
        "colab": {
          "base_uri": "https://localhost:8080/",
          "height": 212
        }
      },
      "cell_type": "code",
      "source": [
        "#上記操作の結果以下のディレクトリ配置となる\n",
        "\n",
        "# /content/notebook このipynbのカレントディレクトリ\n",
        "# /content/input カグルからダウンロードしたcsvファイルの置き場所\n",
        "\n",
        "!pwd\n",
        "!ls -a ../input\n"
      ],
      "execution_count": 17,
      "outputs": [
        {
          "output_type": "stream",
          "text": [
            "/content/notebook\n",
            ".\t\t\t\t     other-Prestige_B01338.csv\n",
            "..\t\t\t\t     other-Skyline_B00111.csv\n",
            "other-American_B01362.csv\t     Uber-Jan-Feb-FOIL.csv\n",
            "other-Carmel_B00256.csv\t\t     uber-raw-data-apr14.csv\n",
            "other-Dial7_B00887.csv\t\t     uber-raw-data-aug14.csv\n",
            "other-Diplo_B01196.csv\t\t     uber-raw-data-janjune-15.csv\n",
            "other-Federal_02216.csv\t\t     uber-raw-data-jul14.csv\n",
            "other-FHV-services_jan-aug-2015.csv  uber-raw-data-jun14.csv\n",
            "other-Firstclass_B01536.csv\t     uber-raw-data-may14.csv\n",
            "other-Highclass_B01717.csv\t     uber-raw-data-sep14.csv\n",
            "other-Lyft_B02510.csv\n"
          ],
          "name": "stdout"
        }
      ]
    },
    {
      "metadata": {
        "id": "3Iv2BEn4Dh_M",
        "colab_type": "code",
        "colab": {}
      },
      "cell_type": "code",
      "source": [
        "#ここからカーネルの内容に踏み込む"
      ],
      "execution_count": 0,
      "outputs": []
    },
    {
      "metadata": {
        "id": "31UPaWh_FtHf",
        "colab_type": "code",
        "colab": {
          "base_uri": "https://localhost:8080/",
          "height": 70
        },
        "outputId": "3901e463-b2f8-4e7d-fa7c-584283fe7c16"
      },
      "cell_type": "code",
      "source": [
        "#Importing necessary libraries\n",
        "import pandas as pd\n"
      ],
      "execution_count": 19,
      "outputs": [
        {
          "output_type": "stream",
          "text": [
            "/usr/local/lib/python3.6/dist-packages/statsmodels/compat/pandas.py:56: FutureWarning: The pandas.core.datetools module is deprecated and will be removed in a future version. Please use the pandas.tseries module instead.\n",
            "  from pandas.core import datetools\n"
          ],
          "name": "stderr"
        }
      ]
    },
    {
      "metadata": {
        "id": "Z6eczb3NIpEj",
        "colab_type": "code",
        "colab": {}
      },
      "cell_type": "code",
      "source": [
        "import numpy as np\n",
        "import matplotlib.pyplot as plt\n",
        "from statsmodels.tsa.statespace.sarimax import SARIMAX\n",
        "from statsmodels.graphics.tsaplots import plot_acf\n",
        "from statsmodels.graphics.tsaplots import plot_pacf\n",
        "from statsmodels.tsa.stattools import adfuller\n",
        "from sklearn.metrics import mean_squared_error\n",
        "from math import sqrt"
      ],
      "execution_count": 0,
      "outputs": []
    },
    {
      "metadata": {
        "id": "shGOVFjSIrCI",
        "colab_type": "code",
        "colab": {
          "base_uri": "https://localhost:8080/",
          "height": 191
        },
        "outputId": "212144a4-af79-4ca9-dd0b-f7ac4c787932"
      },
      "cell_type": "code",
      "source": [
        "#Preparing the uber 2014 main dataset\n",
        "def prepare_2014_df():\n",
        "    \n",
        "    #Loading datasets\n",
        "    uber_2014_apr=pd.read_csv('../input/uber-raw-data-apr14.csv',header=0)\n",
        "    uber_2014_may=pd.read_csv('../input/uber-raw-data-may14.csv',header=0)\n",
        "    uber_2014_jun=pd.read_csv('../input/uber-raw-data-jun14.csv',header=0)\n",
        "    uber_2014_jul=pd.read_csv('../input/uber-raw-data-jul14.csv',header=0)\n",
        "    uber_2014_aug=pd.read_csv('../input/uber-raw-data-aug14.csv',header=0)\n",
        "    uber_2014_sep=pd.read_csv('../input/uber-raw-data-sep14.csv',header=0)\n",
        "\n",
        "    \n",
        "    #Merging\n",
        "    df = uber_2014_apr.append([uber_2014_may,uber_2014_jun,uber_2014_jul,uber_2014_aug,uber_2014_sep], ignore_index=True)\n",
        "    \n",
        "    #returning merged dataframe\n",
        "    return df\n",
        "\n",
        "#Uber 2014 dataset\n",
        "uber_2014_master = prepare_2014_df()\n",
        "uber_2014_master.head()"
      ],
      "execution_count": 21,
      "outputs": [
        {
          "output_type": "execute_result",
          "data": {
            "text/html": [
              "<div>\n",
              "<style scoped>\n",
              "    .dataframe tbody tr th:only-of-type {\n",
              "        vertical-align: middle;\n",
              "    }\n",
              "\n",
              "    .dataframe tbody tr th {\n",
              "        vertical-align: top;\n",
              "    }\n",
              "\n",
              "    .dataframe thead th {\n",
              "        text-align: right;\n",
              "    }\n",
              "</style>\n",
              "<table border=\"1\" class=\"dataframe\">\n",
              "  <thead>\n",
              "    <tr style=\"text-align: right;\">\n",
              "      <th></th>\n",
              "      <th>Date/Time</th>\n",
              "      <th>Lat</th>\n",
              "      <th>Lon</th>\n",
              "      <th>Base</th>\n",
              "    </tr>\n",
              "  </thead>\n",
              "  <tbody>\n",
              "    <tr>\n",
              "      <th>0</th>\n",
              "      <td>4/1/2014 0:11:00</td>\n",
              "      <td>40.7690</td>\n",
              "      <td>-73.9549</td>\n",
              "      <td>B02512</td>\n",
              "    </tr>\n",
              "    <tr>\n",
              "      <th>1</th>\n",
              "      <td>4/1/2014 0:17:00</td>\n",
              "      <td>40.7267</td>\n",
              "      <td>-74.0345</td>\n",
              "      <td>B02512</td>\n",
              "    </tr>\n",
              "    <tr>\n",
              "      <th>2</th>\n",
              "      <td>4/1/2014 0:21:00</td>\n",
              "      <td>40.7316</td>\n",
              "      <td>-73.9873</td>\n",
              "      <td>B02512</td>\n",
              "    </tr>\n",
              "    <tr>\n",
              "      <th>3</th>\n",
              "      <td>4/1/2014 0:28:00</td>\n",
              "      <td>40.7588</td>\n",
              "      <td>-73.9776</td>\n",
              "      <td>B02512</td>\n",
              "    </tr>\n",
              "    <tr>\n",
              "      <th>4</th>\n",
              "      <td>4/1/2014 0:33:00</td>\n",
              "      <td>40.7594</td>\n",
              "      <td>-73.9722</td>\n",
              "      <td>B02512</td>\n",
              "    </tr>\n",
              "  </tbody>\n",
              "</table>\n",
              "</div>"
            ],
            "text/plain": [
              "          Date/Time      Lat      Lon    Base\n",
              "0  4/1/2014 0:11:00  40.7690 -73.9549  B02512\n",
              "1  4/1/2014 0:17:00  40.7267 -74.0345  B02512\n",
              "2  4/1/2014 0:21:00  40.7316 -73.9873  B02512\n",
              "3  4/1/2014 0:28:00  40.7588 -73.9776  B02512\n",
              "4  4/1/2014 0:33:00  40.7594 -73.9722  B02512"
            ]
          },
          "metadata": {
            "tags": []
          },
          "execution_count": 21
        }
      ]
    },
    {
      "metadata": {
        "id": "HnL0h-5mIzun",
        "colab_type": "code",
        "colab": {
          "base_uri": "https://localhost:8080/",
          "height": 131
        },
        "outputId": "c7a7d5b9-3f7c-432b-f95d-1be5463bc8c7"
      },
      "cell_type": "code",
      "source": [
        "# Feature Engineering\n",
        "def create_day_series(df):\n",
        "    \n",
        "    # Grouping by Date/Time to calculate number of trips\n",
        "    day_df = pd.Series(df.groupby(['Date/Time']).size())\n",
        "    # setting Date/Time as index\n",
        "    day_df.index = pd.DatetimeIndex(day_df.index)\n",
        "    # Resampling to daily trips\n",
        "    day_df = day_df.resample('1D').apply(np.sum)\n",
        "    \n",
        "    return day_df\n",
        "\n",
        "day_df_2014 = create_day_series(uber_2014_master)\n",
        "day_df_2014.head()"
      ],
      "execution_count": 22,
      "outputs": [
        {
          "output_type": "execute_result",
          "data": {
            "text/plain": [
              "Date/Time\n",
              "2014-04-01    14546\n",
              "2014-04-02    17474\n",
              "2014-04-03    20701\n",
              "2014-04-04    26714\n",
              "2014-04-05    19521\n",
              "Freq: D, dtype: int64"
            ]
          },
          "metadata": {
            "tags": []
          },
          "execution_count": 22
        }
      ]
    },
    {
      "metadata": {
        "id": "jBVVC64uI95H",
        "colab_type": "code",
        "colab": {
          "base_uri": "https://localhost:8080/",
          "height": 841
        },
        "outputId": "5dc50dc3-4980-4e2e-a75f-48e72187db13"
      },
      "cell_type": "code",
      "source": [
        "#Checking trend and autocorrelation\n",
        "def initial_plots(time_series, num_lag):\n",
        "\n",
        "    #Original timeseries plot\n",
        "    plt.figure(1)\n",
        "    plt.plot(time_series)\n",
        "    plt.title('Original data across time')\n",
        "    plt.figure(2)\n",
        "    plot_acf(time_series, lags = num_lag)\n",
        "    plt.title('Autocorrelation plot')\n",
        "    plot_pacf(time_series, lags = num_lag)\n",
        "    plt.title('Partial autocorrelation plot')\n",
        "    \n",
        "    plt.show()\n",
        "\n",
        "    \n",
        "#Augmented Dickey-Fuller test for stationarity\n",
        "#checking p-value\n",
        "print('p-value: {}'.format(adfuller(day_df_2014)[1]))\n",
        "\n",
        "#plotting\n",
        "initial_plots(day_df_2014, 45)"
      ],
      "execution_count": 23,
      "outputs": [
        {
          "output_type": "stream",
          "text": [
            "p-value: 0.8458980824898366\n"
          ],
          "name": "stdout"
        },
        {
          "output_type": "display_data",
          "data": {
            "image/png": "[encoded data removed]",
            "text/plain": [
              "<Figure size 432x288 with 1 Axes>"
            ]
          },
          "metadata": {
            "tags": []
          }
        },
        {
          "output_type": "display_data",
          "data": {
            "text/plain": [
              "<Figure size 432x288 with 0 Axes>"
            ]
          },
          "metadata": {
            "tags": []
          }
        },
        {
          "output_type": "display_data",
          "data": {
            "image/png": "[encoded data removed]",
            "text/plain": [
              "<Figure size 432x288 with 1 Axes>"
            ]
          },
          "metadata": {
            "tags": []
          }
        },
        {
          "output_type": "display_data",
          "data": {
            "image/png": "[encoded data removed]",
            "text/plain": [
              "<Figure size 432x288 with 1 Axes>"
            ]
          },
          "metadata": {
            "tags": []
          }
        }
      ]
    },
    {
      "metadata": {
        "id": "PVcg9SG4JDF7",
        "colab_type": "code",
        "colab": {
          "base_uri": "https://localhost:8080/",
          "height": 33
        },
        "outputId": "8d51fea9-96ed-435b-c187-ddec7c0ea233"
      },
      "cell_type": "code",
      "source": [
        "#storing differenced series\n",
        "diff_series = day_df_2014.diff(periods=1)\n",
        "\n",
        "#Augmented Dickey-Fuller test for stationarity\n",
        "#checking p-value\n",
        "print('p-value: {}'.format(adfuller(diff_series.dropna())[1]))"
      ],
      "execution_count": 24,
      "outputs": [
        {
          "output_type": "stream",
          "text": [
            "p-value: 1.5163641177435116e-08\n"
          ],
          "name": "stdout"
        }
      ]
    },
    {
      "metadata": {
        "id": "_Prbwvi-JNSO",
        "colab_type": "code",
        "colab": {
          "base_uri": "https://localhost:8080/",
          "height": 825
        },
        "outputId": "98321682-601e-484f-b013-084dd853f9aa"
      },
      "cell_type": "code",
      "source": [
        "initial_plots(diff_series.dropna(), 30)"
      ],
      "execution_count": 25,
      "outputs": [
        {
          "output_type": "display_data",
          "data": {
            "image/png": "[encoded data removed]",
            "text/plain": [
              "<Figure size 432x288 with 1 Axes>"
            ]
          },
          "metadata": {
            "tags": []
          }
        },
        {
          "output_type": "display_data",
          "data": {
            "text/plain": [
              "<Figure size 432x288 with 0 Axes>"
            ]
          },
          "metadata": {
            "tags": []
          }
        },
        {
          "output_type": "display_data",
          "data": {
            "image/png": "[encoded data removed]",
            "text/plain": [
              "<Figure size 432x288 with 1 Axes>"
            ]
          },
          "metadata": {
            "tags": []
          }
        },
        {
          "output_type": "display_data",
          "data": {
            "image/png": "[encoded data removed]",
            "text/plain": [
              "<Figure size 432x288 with 1 Axes>"
            ]
          },
          "metadata": {
            "tags": []
          }
        }
      ]
    },
    {
      "metadata": {
        "id": "VW5SS-TvJRIm",
        "colab_type": "code",
        "colab": {
          "base_uri": "https://localhost:8080/",
          "height": 427
        },
        "outputId": "f796137c-6d04-420c-8b0d-a162620f3cfd"
      },
      "cell_type": "code",
      "source": [
        "#Fitting SARIMAX models\n",
        "\n",
        "#Defining RMSE\n",
        "def rmse(x,y):\n",
        "    return sqrt(mean_squared_error(x,y))\n",
        "\n",
        "#fitting ARIMA model on dataset\n",
        "def SARIMAX_call(time_series,p_list,d_list,q_list,P_list,D_list,Q_list,s_list,test_period):    \n",
        "    \n",
        "    #Splitting into training and testing\n",
        "    training_ts = time_series[:-test_period]\n",
        "    \n",
        "    testing_ts = time_series[len(time_series)-test_period:]\n",
        "    \n",
        "    error_table = pd.DataFrame(columns = ['p','d','q','P','D','Q','s','AIC','BIC','RMSE'],\\\n",
        "                                                           index = range(len(ns_ar)*len(ns_diff)*len(ns_ma)*len(s_ar)\\\n",
        "                                                                         *len(s_diff)*len(s_ma)*len(s_list)))\n",
        "    count = 0\n",
        "    \n",
        "    for p in p_list:\n",
        "        for d in d_list:\n",
        "            for q in q_list:\n",
        "                for P in P_list:\n",
        "                    for D in D_list:\n",
        "                        for Q in Q_list:\n",
        "                            for s in s_list:\n",
        "                                #fitting the model\n",
        "                                SARIMAX_model = SARIMAX(training_ts.astype(float),\\\n",
        "                                                        order=(p,d,q),\\\n",
        "                                                        seasonal_order=(P,D,Q,s),\\\n",
        "                                                        enforce_invertibility=False)\n",
        "                                SARIMAX_model_fit = SARIMAX_model.fit(disp=0)\n",
        "                                AIC = np.round(SARIMAX_model_fit.aic,2)\n",
        "                                BIC = np.round(SARIMAX_model_fit.bic,2)\n",
        "                                predictions = SARIMAX_model_fit.forecast(steps=test_period,typ='levels')\n",
        "                                RMSE = rmse(testing_ts.values,predictions.values)                                \n",
        "\n",
        "                                #populating error table\n",
        "                                error_table['p'][count] = p\n",
        "                                error_table['d'][count] = d\n",
        "                                error_table['q'][count] = q\n",
        "                                error_table['P'][count] = P\n",
        "                                error_table['D'][count] = D\n",
        "                                error_table['Q'][count] = Q\n",
        "                                error_table['s'][count] = s\n",
        "                                error_table['AIC'][count] = AIC\n",
        "                                error_table['BIC'][count] = BIC\n",
        "                                error_table['RMSE'][count] = RMSE\n",
        "                                \n",
        "                                count+=1 #incrementing count        \n",
        "    \n",
        "    #returning the fitted model and values\n",
        "    return error_table\n",
        "\n",
        "ns_ar = [0,1,2]\n",
        "ns_diff = [1]\n",
        "ns_ma = [0,1,2]\n",
        "s_ar = [0,1]\n",
        "s_diff = [0,1] \n",
        "s_ma = [1,2]\n",
        "s_list = [7]\n",
        "\n",
        "error_table = SARIMAX_call(day_df_2014,ns_ar,ns_diff,ns_ma,s_ar,s_diff,s_ma,s_list,30)"
      ],
      "execution_count": 26,
      "outputs": [
        {
          "output_type": "stream",
          "text": [
            "/usr/local/lib/python3.6/dist-packages/statsmodels/base/model.py:496: ConvergenceWarning: Maximum Likelihood optimization failed to converge. Check mle_retvals\n",
            "  \"Check mle_retvals\", ConvergenceWarning)\n",
            "/usr/local/lib/python3.6/dist-packages/statsmodels/base/model.py:496: ConvergenceWarning: Maximum Likelihood optimization failed to converge. Check mle_retvals\n",
            "  \"Check mle_retvals\", ConvergenceWarning)\n",
            "/usr/local/lib/python3.6/dist-packages/statsmodels/base/model.py:496: ConvergenceWarning: Maximum Likelihood optimization failed to converge. Check mle_retvals\n",
            "  \"Check mle_retvals\", ConvergenceWarning)\n",
            "/usr/local/lib/python3.6/dist-packages/statsmodels/base/model.py:496: ConvergenceWarning: Maximum Likelihood optimization failed to converge. Check mle_retvals\n",
            "  \"Check mle_retvals\", ConvergenceWarning)\n",
            "/usr/local/lib/python3.6/dist-packages/statsmodels/base/model.py:496: ConvergenceWarning: Maximum Likelihood optimization failed to converge. Check mle_retvals\n",
            "  \"Check mle_retvals\", ConvergenceWarning)\n",
            "/usr/local/lib/python3.6/dist-packages/statsmodels/base/model.py:496: ConvergenceWarning: Maximum Likelihood optimization failed to converge. Check mle_retvals\n",
            "  \"Check mle_retvals\", ConvergenceWarning)\n",
            "/usr/local/lib/python3.6/dist-packages/statsmodels/base/model.py:496: ConvergenceWarning: Maximum Likelihood optimization failed to converge. Check mle_retvals\n",
            "  \"Check mle_retvals\", ConvergenceWarning)\n",
            "/usr/local/lib/python3.6/dist-packages/statsmodels/base/model.py:496: ConvergenceWarning: Maximum Likelihood optimization failed to converge. Check mle_retvals\n",
            "  \"Check mle_retvals\", ConvergenceWarning)\n",
            "/usr/local/lib/python3.6/dist-packages/statsmodels/base/model.py:496: ConvergenceWarning: Maximum Likelihood optimization failed to converge. Check mle_retvals\n",
            "  \"Check mle_retvals\", ConvergenceWarning)\n",
            "/usr/local/lib/python3.6/dist-packages/statsmodels/base/model.py:496: ConvergenceWarning: Maximum Likelihood optimization failed to converge. Check mle_retvals\n",
            "  \"Check mle_retvals\", ConvergenceWarning)\n",
            "/usr/local/lib/python3.6/dist-packages/statsmodels/base/model.py:496: ConvergenceWarning: Maximum Likelihood optimization failed to converge. Check mle_retvals\n",
            "  \"Check mle_retvals\", ConvergenceWarning)\n",
            "/usr/local/lib/python3.6/dist-packages/statsmodels/base/model.py:496: ConvergenceWarning: Maximum Likelihood optimization failed to converge. Check mle_retvals\n",
            "  \"Check mle_retvals\", ConvergenceWarning)\n"
          ],
          "name": "stderr"
        }
      ]
    },
    {
      "metadata": {
        "id": "rr7ieT2JJaYL",
        "colab_type": "code",
        "colab": {
          "base_uri": "https://localhost:8080/",
          "height": 191
        },
        "outputId": "03bc495a-24bf-4cdd-f400-4a1c45901f60"
      },
      "cell_type": "code",
      "source": [
        "# printing top 5 lowest RMSE from error table\n",
        "error_table.sort_values(by='RMSE').head(5)"
      ],
      "execution_count": 27,
      "outputs": [
        {
          "output_type": "execute_result",
          "data": {
            "text/html": [
              "<div>\n",
              "<style scoped>\n",
              "    .dataframe tbody tr th:only-of-type {\n",
              "        vertical-align: middle;\n",
              "    }\n",
              "\n",
              "    .dataframe tbody tr th {\n",
              "        vertical-align: top;\n",
              "    }\n",
              "\n",
              "    .dataframe thead th {\n",
              "        text-align: right;\n",
              "    }\n",
              "</style>\n",
              "<table border=\"1\" class=\"dataframe\">\n",
              "  <thead>\n",
              "    <tr style=\"text-align: right;\">\n",
              "      <th></th>\n",
              "      <th>p</th>\n",
              "      <th>d</th>\n",
              "      <th>q</th>\n",
              "      <th>P</th>\n",
              "      <th>D</th>\n",
              "      <th>Q</th>\n",
              "      <th>s</th>\n",
              "      <th>AIC</th>\n",
              "      <th>BIC</th>\n",
              "      <th>RMSE</th>\n",
              "    </tr>\n",
              "  </thead>\n",
              "  <tbody>\n",
              "    <tr>\n",
              "      <th>5</th>\n",
              "      <td>0</td>\n",
              "      <td>1</td>\n",
              "      <td>0</td>\n",
              "      <td>1</td>\n",
              "      <td>0</td>\n",
              "      <td>2</td>\n",
              "      <td>7</td>\n",
              "      <td>2903.31</td>\n",
              "      <td>2915.43</td>\n",
              "      <td>5053.93</td>\n",
              "    </tr>\n",
              "    <tr>\n",
              "      <th>3</th>\n",
              "      <td>0</td>\n",
              "      <td>1</td>\n",
              "      <td>0</td>\n",
              "      <td>0</td>\n",
              "      <td>1</td>\n",
              "      <td>2</td>\n",
              "      <td>7</td>\n",
              "      <td>2752.78</td>\n",
              "      <td>2761.87</td>\n",
              "      <td>5105.3</td>\n",
              "    </tr>\n",
              "    <tr>\n",
              "      <th>7</th>\n",
              "      <td>0</td>\n",
              "      <td>1</td>\n",
              "      <td>0</td>\n",
              "      <td>1</td>\n",
              "      <td>1</td>\n",
              "      <td>2</td>\n",
              "      <td>7</td>\n",
              "      <td>2754.8</td>\n",
              "      <td>2766.92</td>\n",
              "      <td>5136.57</td>\n",
              "    </tr>\n",
              "    <tr>\n",
              "      <th>6</th>\n",
              "      <td>0</td>\n",
              "      <td>1</td>\n",
              "      <td>0</td>\n",
              "      <td>1</td>\n",
              "      <td>1</td>\n",
              "      <td>1</td>\n",
              "      <td>7</td>\n",
              "      <td>2754.5</td>\n",
              "      <td>2763.6</td>\n",
              "      <td>5278.11</td>\n",
              "    </tr>\n",
              "    <tr>\n",
              "      <th>2</th>\n",
              "      <td>0</td>\n",
              "      <td>1</td>\n",
              "      <td>0</td>\n",
              "      <td>0</td>\n",
              "      <td>1</td>\n",
              "      <td>1</td>\n",
              "      <td>7</td>\n",
              "      <td>2752.71</td>\n",
              "      <td>2758.77</td>\n",
              "      <td>5336.34</td>\n",
              "    </tr>\n",
              "  </tbody>\n",
              "</table>\n",
              "</div>"
            ],
            "text/plain": [
              "   p  d  q  P  D  Q  s      AIC      BIC     RMSE\n",
              "5  0  1  0  1  0  2  7  2903.31  2915.43  5053.93\n",
              "3  0  1  0  0  1  2  7  2752.78  2761.87   5105.3\n",
              "7  0  1  0  1  1  2  7   2754.8  2766.92  5136.57\n",
              "6  0  1  0  1  1  1  7   2754.5   2763.6  5278.11\n",
              "2  0  1  0  0  1  1  7  2752.71  2758.77  5336.34"
            ]
          },
          "metadata": {
            "tags": []
          },
          "execution_count": 27
        }
      ]
    },
    {
      "metadata": {
        "id": "-JqECY9cJcDr",
        "colab_type": "code",
        "colab": {
          "base_uri": "https://localhost:8080/",
          "height": 295
        },
        "outputId": "c745c4ed-813e-45bb-a13c-93b93f68155d"
      },
      "cell_type": "code",
      "source": [
        "#Predicting values using the fitted model\n",
        "def predict(time_series,p,d,q,P,D,Q,s,n_days,conf):\n",
        "    \n",
        "    #Splitting into training and testing\n",
        "    training_ts = time_series[:-n_days]\n",
        "    \n",
        "    testing_ts = time_series[len(time_series)-n_days:]\n",
        "    \n",
        "    #fitting the model\n",
        "    SARIMAX_model = SARIMAX(training_ts.astype(float),\\\n",
        "                            order=(p,d,q),\\\n",
        "                            seasonal_order=(P,D,Q,s),\\\n",
        "                            enforce_invertibility=False)\n",
        "    SARIMAX_model_fit = SARIMAX_model.fit(disp=0)\n",
        "    \n",
        "    #Predicting\n",
        "    SARIMAX_prediction = pd.DataFrame(SARIMAX_model_fit.forecast(steps=n_days,alpha=(1-conf)).values,\\\n",
        "                          columns=['Prediction'])\n",
        "    SARIMAX_prediction.index = pd.date_range(training_ts.index.max()+1,periods=n_days)\n",
        "    \n",
        "    #Plotting\n",
        "    plt.figure(4)\n",
        "    plt.title('Plot of original data and predicted values using the ARIMA model')\n",
        "    plt.xlabel('Time')\n",
        "    plt.ylabel('Number of Trips')\n",
        "    plt.plot(time_series[1:],'k-', label='Original data')\n",
        "    plt.plot(SARIMAX_prediction,'b--', label='Next {}days predicted values'.format(n_days))\n",
        "    plt.legend()\n",
        "    plt.show()\n",
        "    \n",
        "    #Returning predicitons\n",
        "    return SARIMAX_prediction\n",
        "\n",
        "#Predicting the values and builing an 80% confidence interval\n",
        "prediction = predict(day_df_2014,0,1,0,0,1,2,7,7,0.80)"
      ],
      "execution_count": 28,
      "outputs": [
        {
          "output_type": "display_data",
          "data": {
            "image/png": "[encoded data removed]",
            "text/plain": [
              "<Figure size 432x288 with 1 Axes>"
            ]
          },
          "metadata": {
            "tags": []
          }
        }
      ]
    }
  ]
}